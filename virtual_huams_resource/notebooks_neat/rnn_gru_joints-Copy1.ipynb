{
 "cells": [
  {
   "cell_type": "code",
   "execution_count": 1,
   "id": "f8ffc853-9406-4311-9df0-76fdd397156e",
   "metadata": {},
   "outputs": [
    {
     "name": "stdout",
     "output_type": "stream",
     "text": [
      "numpy: 1.22.3\n"
     ]
    },
    {
     "name": "stderr",
     "output_type": "stream",
     "text": [
      "Failed to detect the name of this notebook, you can set it manually with the WANDB_NOTEBOOK_NAME environment variable to enable code saving.\n",
      "\u001b[34m\u001b[1mwandb\u001b[0m: Currently logged in as: \u001b[33mbenjidayan\u001b[0m. Use \u001b[1m`wandb login --relogin`\u001b[0m to force relogin\n",
      "2022-05-23 14:19:27.020726: W tensorflow/stream_executor/platform/default/dso_loader.cc:60] Could not load dynamic library 'libcudart.so.11.0'; dlerror: libcudart.so.11.0: cannot open shared object file: No such file or directory; LD_LIBRARY_PATH: /cluster/home/bdayan/prox/venv38_open3d/lib/python3.8/site-packages/cv2/../../lib64:/cluster/apps/gcc-6.3.0/libjpeg-9c-4aiio5l332v77wv7oslxtfnob3wjq7ip/lib:/cluster/apps/gcc-6.3.0/libpng-1.6.27-wcfhqzwgadfvi7aptpo5xruy7swfhwq3/lib:/cluster/apps/gcc-6.3.0/zlib-1.2.11-bu2rglshnlxrwc24334r76jr34jm2fxy/lib:/cluster/apps/gcc-6.3.0/openblas-0.2.20-cot3cawsqf4pkxjwzjexaykbwn2ch3ii/lib:/cluster/apps/nss/gcc-6.3.0/python/3.8.5/x86_64/lib64:/cluster/apps/gcc-6.3.0/jsoncpp-1.7.3-mpykssajldkvtj54op7qc75j2l6sk2yp/lib:/cluster/apps/gcc-6.3.0/mesa-glu-9.0.0-hfksvw6gn2e2fs3z6f2nre3ipuwvq6mv/lib:/cluster/apps/gcc-6.3.0/glew-2.0.0-skq7iaarqrjmgwq3dqy2y6ltketprxmc/lib64:/cluster/apps/gcc-6.3.0/libxkbcommon-0.8.0-ls5vabsidkkjahglla34hhe7re4iphxo/lib:/cluster/apps/gcc-6.3.0/xcb-util-0.4.0-3wco53nbgjf2sp5x5jmgpdxsxafghq6d/lib:/cluster/apps/gcc-6.3.0/xcb-util-wm-0.4.1-fj5wadocjysobdomgrfy2jhvs5wzjyn3/lib:/cluster/apps/gcc-6.3.0/xcb-util-renderutil-0.3.9-x5gx6lrowntfoe5gs3hkdpzj4cs76n36/lib:/cluster/apps/gcc-6.3.0/xcb-util-keysyms-0.4.0-u5ru5doufq3usgqcnp7i6d44ye2dd27d/lib:/cluster/apps/gcc-6.3.0/xcb-util-image-0.4.0-cqti4epjmvujn54nm6p7p6sq5yid3twq/lib:/cluster/apps/gcc-6.3.0/xcb-util-errors-1.0-hnhgzwvjgbjl7x7fd7cg2b6yfctmenld/lib:/cluster/apps/gcc-6.3.0/xcb-util-cursor-0.1.3-dmijmy5p5hqr7qtgqccrwgooi5roachc/lib:/cluster/apps/gcc-6.3.0/libxres-1.0.7-vk5gzp3ned36oyojuymmx7lqe75kyaxo/lib:/cluster/apps/gcc-6.3.0/libxpm-3.5.12-axtfa6xod6a52skir5cbv5pt4thoz2si/lib:/cluster/apps/gcc-6.3.0/libxext-1.3.3-j4luvnlrg2e4j546q6kh6yxg5fxqpdcb/lib:/cluster/apps/gcc-6.3.0/libxcb-1.12-4p7wudvbtczmj5bxafzkapieflivtwkq/lib:/cluster/apps/gcc-6.3.0/libxaw-1.0.13-qdwdaww3dycrama3igmt4j2rzzl3u7l7/lib:/cluster/apps/gcc-6.3.0/libxv-1.0.10-flqnxvckvjueospglyy35grecmc6e6rl/lib:/cluster/apps/gcc-6.3.0/libxtst-1.2.2-nnxk6nswqojys2v7nfojd6lnubrmdx2o/lib:/cluster/apps/gcc-6.3.0/libxt-1.1.5-erwfigyp3hlkecauimbfaecvu2bqt4u6/lib:/cluster/apps/gcc-6.3.0/libxrender-0.9.9-pdkob3tobhpuaozy5cgs3gqs5ivv6ehy/lib:/cluster/apps/gcc-6.3.0/libxmu-1.1.2-5dxujrfd42fp6biontswzv6qfnpoyo62/lib:/cluster/apps/gcc-6.3.0/libxkbfile-1.0.9-pfguh4umekrcfziwgorb5qh6nmyjhyhu/lib:/cluster/apps/gcc-6.3.0/libxinerama-1.1.3-jodev7vumlehjwjgwifyrqmbfmre6p5z/lib:/cluster/apps/gcc-6.3.0/libxi-1.7.6-smgw4s36kwt7x2ot6bvwwp4x4nmfmdnr/lib:/cluster/apps/gcc-6.3.0/libxft-2.3.2-z2nvbf3ygiyrsc4bfcfmfllvujifx2u6/lib:/cluster/apps/gcc-6.3.0/libxfixes-5.0.2-o75adnklphsqwjbo5kpxjmkck6gop5uq/lib:/cluster/apps/gcc-6.3.0/libxdmcp-1.1.2-7mojvhgyaqkwrnbrrcbthcjy7gt54raw/lib:/cluster/apps/gcc-6.3.0/libxdamage-1.1.4-2dy3iacagfstkbiob5n3vg7esdel5qbd/lib:/cluster/apps/gcc-6.3.0/libxcursor-1.1.14-xdmb3kzlii6ta6gvke26bu42ud5sx2tg/lib:/cluster/apps/gcc-6.3.0/libxcomposite-0.4.4-eeouaq6yplzqpolzz6n3yjg5faddnlx4/lib:/cluster/apps/gcc-6.3.0/libxau-1.0.8-43tfor3suzfun3wbw7qbw5zlcl4bqw72/lib:/cluster/apps/gcc-6.3.0/libx11-1.6.5-2e5qpy7qp4cj72wt2bj7zlpuxzg7schw/lib:/cluster/apps/gcc-6.3.0/libsm-1.2.2-7cbqzstyopocgl33r24i2kumozuwm5ug/lib:/cluster/apps/gcc-6.3.0/libice-1.0.9-o7re6uv3k7p2tzuu4sxme37ejd33siin/lib:/cluster/apps/gcc-6.3.0/mesa-18.3.6-ina7g6bq6xqucdxo765xxpnlufequkcu/lib:/cluster/apps/nss/gcc-6.3.0/glfw/3.3.4/x86_64/lib64:/cluster/apps/nss/gcc-6.3.0/open3d/0.9.0/x86_64/lib:/cluster/apps/gcc-6.3.0/cuda-10.2.89-joegbvurrapd7dahyrvvxdjop5pdqwml/lib64:/cluster/apps/gcc-6.3.0/nccl-2.7.8-1-fyh5jnhi5a2g362ez65bl3lxr3fzsx6g/lib:/cluster/apps/gcc-6.3.0/cudnn-8.0.5-dgehjjr7e56oni2klhkrb7xuixyecbo5/lib64:/cluster/spack/apps/linux-centos7-x86_64/gcc-4.8.5/gcc-6.3.0-sqhtfh32p5gerbkvi5hih7cfvcpmewvj/lib64:/cluster/spack/apps/linux-centos7-x86_64/gcc-4.8.5/gcc-6.3.0-sqhtfh32p5gerbkvi5hih7cfvcpmewvj/lib:/cluster/apps/lsf/10.1/linux2.6-glibc2.3-x86_64/lib\n",
      "2022-05-23 14:19:27.020762: I tensorflow/stream_executor/cuda/cudart_stub.cc:29] Ignore above cudart dlerror if you do not have a GPU set up on your machine.\n"
     ]
    },
    {
     "data": {
      "text/html": [
       "Tracking run with wandb version 0.12.16"
      ],
      "text/plain": [
       "<IPython.core.display.HTML object>"
      ]
     },
     "metadata": {},
     "output_type": "display_data"
    },
    {
     "data": {
      "text/html": [
       "Run data is saved locally in <code>/cluster/home/bdayan/prox/prox/virtual_huams_resource/notebooks_neat/wandb/run-20220523_141924-17mf3rfz</code>"
      ],
      "text/plain": [
       "<IPython.core.display.HTML object>"
      ]
     },
     "metadata": {},
     "output_type": "display_data"
    },
    {
     "data": {
      "text/html": [
       "Syncing run <strong><a href=\"https://wandb.ai/benjidayan/vh-human-motion-pred/runs/17mf3rfz\" target=\"_blank\">GRU_joints_15_30_3fps_22_05_1718</a></strong> to <a href=\"https://wandb.ai/benjidayan/vh-human-motion-pred\" target=\"_blank\">Weights & Biases</a> (<a href=\"https://wandb.me/run\" target=\"_blank\">docs</a>)<br/>"
      ],
      "text/plain": [
       "<IPython.core.display.HTML object>"
      ]
     },
     "metadata": {},
     "output_type": "display_data"
    }
   ],
   "source": [
    "import numpy as np # for data manipulation\n",
    "print('numpy: %s' % np.__version__) # print version\n",
    "np.random.seed(0)\n",
    "import math # to help with data reshaping of the data\n",
    "\n",
    "import numpy as np\n",
    "import torch\n",
    "torch.manual_seed(0)\n",
    "\n",
    "import torch.nn as nn\n",
    "import torch.nn.functional as F\n",
    "from torch.autograd import Variable\n",
    "from torch.utils.tensorboard import SummaryWriter\n",
    "\n",
    "\n",
    "import tqdm\n",
    "import matplotlib.pyplot as plt\n",
    "import logging\n",
    "\n",
    "from IPython.core.interactiveshell import InteractiveShell\n",
    "InteractiveShell.ast_node_interactivity = \"all\"\n",
    "\n",
    "\n",
    "import sys\n",
    "sys.path.append('../')\n",
    "sys.path.append('../../src')\n",
    "\n",
    "from pose_gru import PoseGRU_inputFC2\n",
    "from benji_prox_dataloader import *\n",
    "\n",
    "name = \"GRU_joints_15_30_3fps_22_05_1718\"\n",
    "\n",
    "import wandb\n",
    "_ = wandb.init(project=\"vh-human-motion-pred\", entity=\"benjidayan\", name=name)\n"
   ]
  },
  {
   "cell_type": "code",
   "execution_count": 2,
   "id": "a4f4f699-32e6-4cc3-bd00-28bc2834b2c6",
   "metadata": {},
   "outputs": [
    {
     "data": {
      "text/plain": [
       "'saves/GRU_joints_15_30_3fps_22_05_1718_epoch3_bn5.pt'"
      ]
     },
     "execution_count": 2,
     "metadata": {},
     "output_type": "execute_result"
    }
   ],
   "source": [
    "root_dir = \"/cluster/scratch/bdayan/prox_data\"\n",
    "smplx_model_path='/cluster/home/bdayan/prox/prox/models_smplx_v1_1/models/'\n",
    "\n",
    "batch_size = 15\n",
    "in_frames=15\n",
    "pred_frames=30\n",
    "frame_jump=5\n",
    "window_overlap_factor=5\n",
    "lr=0.0001\n",
    "n_iter = 10\n",
    "save_every=40\n",
    "max_loss = 5. # This is dangerous but stops ridiculous updates? \n",
    "\n",
    "save_folder = 'saves'\n",
    "os.makedirs(save_folder, exist_ok=True)\n",
    "\n",
    "save_path=os.path.join(save_folder, name + '_epoch{epoch}_bn{batchnum}.pt')\n",
    "save_path.format(epoch=3, batchnum=5)\n",
    "\n",
    "pd = proxDatasetJoints(root_dir=root_dir + '/PROXD', in_frames=in_frames, pred_frames=pred_frames, \\\n",
    "                       output_type='joint_locations', smplx_model_path=smplx_model_path, frame_jump=frame_jump, window_overlap_factor=window_overlap_factor)\n",
    "\n",
    "dataloader = DataLoader(pd, batch_size=batch_size,\n",
    "                        shuffle=True, num_workers=0, collate_fn=my_collate)"
   ]
  },
  {
   "cell_type": "code",
   "execution_count": null,
   "id": "68ba992e-2ce8-4944-b4c5-9ffe4a94dbcc",
   "metadata": {
    "tags": []
   },
   "outputs": [
    {
     "name": "stderr",
     "output_type": "stream",
     "text": [
      "2022-05-23 14:19:35.388880: I tensorflow/stream_executor/platform/default/dso_loader.cc:49] Successfully opened dynamic library libcudart.so.11.0\n",
      "  0%|          | 0/116 [00:00<?, ?it/s]/cluster/home/bdayan/prox/venv38_open3d/lib64/python3.8/site-packages/numpy/core/fromnumeric.py:3474: RuntimeWarning: Mean of empty slice.\n",
      "  return _methods._mean(a, axis=axis, dtype=dtype,\n",
      "/cluster/home/bdayan/prox/venv38_open3d/lib64/python3.8/site-packages/numpy/core/_methods.py:189: RuntimeWarning: invalid value encountered in double_scalars\n",
      "  ret = ret.dtype.type(ret / rcount)\n",
      "avg last 20 loss: 15679.3657 avg last 200-100: nan:  34%|███▎      | 39/116 [15:49<32:17, 25.16s/it]"
     ]
    },
    {
     "data": {
      "text/plain": [
       "['/cluster/home/bdayan/prox/prox/virtual_huams_resource/notebooks_neat/wandb/run-20220523_141924-17mf3rfz/files/saves/GRU_joints_15_30_3fps_22_05_1718_epoch0_bn39.pt']"
      ]
     },
     "execution_count": 3,
     "metadata": {},
     "output_type": "execute_result"
    },
    {
     "name": "stderr",
     "output_type": "stream",
     "text": [
      "avg last 20 loss: 28360.2222 avg last 200-100: nan:  62%|██████▏   | 72/116 [28:15<16:46, 22.88s/it]"
     ]
    }
   ],
   "source": [
    "criterion = nn.MSELoss()\n",
    "losses = []\n",
    "losses_rep = []\n",
    "\n",
    "# rnn = MockupModel(input_size=21*3, hidden_size=50, num_layers=2, output_size=(pred_frames, 21, 3), seq_len=in_frames)\n",
    "gru = PoseGRU_inputFC2(input_size=(25,3))\n",
    "\n",
    "optimizer = torch.optim.Adam(gru.parameters(), lr=lr)\n",
    "\n",
    "\n",
    "writer = SummaryWriter()\n",
    "\n",
    "wandb.config = {\n",
    "    \"learning_rate\": lr,\n",
    "    \"epochs\": n_iter,\n",
    "    \"batch_size\": batch_size,\n",
    "    \"in_frames\": in_frames,\n",
    "    \"pred_frames\": pred_frames,\n",
    "    \"frame_jump\": frame_jump,\n",
    "    \"window_overlap_factor\": window_overlap_factor,\n",
    "    \"max_loss\": max_loss\n",
    "}\n",
    "\n",
    "idx_counter = 0\n",
    "last_fn = None\n",
    "for epoch in range(n_iter):\n",
    "    for i, (indices, in_skels, fut_skels) in (pbar := tqdm.tqdm(enumerate(dataloader), total=len(dataloader))):\n",
    "        optimizer.zero_grad()\n",
    "        \n",
    "        pred_frames = fut_skels.shape[1]\n",
    "        \n",
    "        cur_state, pred_skels = gru.forward_prediction(in_skels, pred_len=pred_frames)\n",
    "        loss = criterion(pred_skels, fut_skels)\n",
    "        loss.backward()\n",
    "        if loss.item() < max_loss:\n",
    "            optimizer.step() \n",
    "\n",
    "        rep_pred = in_skels[:, -1, :, :]\n",
    "        a = rep_pred.detach().numpy()\n",
    "        \n",
    "        a = np.tile(a, (fut_skels.shape[1], 1, 1, 1))\n",
    "        rep_pred = torch.Tensor(a).transpose(0, 1)\n",
    "\n",
    "        loss_rep = criterion(rep_pred, fut_skels)\n",
    "        losses_rep.append(loss_rep.item())\n",
    "        \n",
    "        losses.append(loss.item())\n",
    "        \n",
    "        wandb.log({'MSEloss': loss, 'rep_pred_MSEloss': loss_rep})\n",
    "        \n",
    "        pbar.set_description(f\"avg last 20 loss: {np.mean(losses[-20:]):.4f} avg last 200-100: {np.mean(losses[-200:-100]):.4f}\")\n",
    "\n",
    "        writer.add_scalar('Loss', losses[-1], idx_counter)\n",
    "        writer.add_scalar('Loss_rep', losses_rep[-1], idx_counter)\n",
    "        if i % save_every == (save_every-1):\n",
    "            fn = save_path.format(epoch=epoch, batchnum=i)\n",
    "            torch.save({\n",
    "            'epoch': epoch,\n",
    "            'batch_num': i,\n",
    "            'model_state_dict': gru.state_dict(),\n",
    "            'optimizer_state_dict': optimizer.state_dict(),\n",
    "            'loss': loss,\n",
    "            }, fn)\n",
    "            wandb.save(fn)       \n",
    "            if last_fn:\n",
    "                os.remove(last_fn)\n",
    "            last_fn = fn\n",
    "            \n",
    "        idx_counter += 1\n",
    "    print(f'end epoch {epoch}: total mean loss: {np.mean(losses)}')\n",
    "\n",
    "plt.plot(losses)\n",
    "print(losses[-4:])"
   ]
  },
  {
   "cell_type": "code",
   "execution_count": null,
   "id": "3dda6142-07bf-4c12-8b9c-03f58df625b2",
   "metadata": {},
   "outputs": [],
   "source": []
  },
  {
   "cell_type": "code",
   "execution_count": null,
   "id": "39c1e9b1-859f-4a40-87ad-e3eb5d9b904a",
   "metadata": {},
   "outputs": [],
   "source": []
  },
  {
   "cell_type": "code",
   "execution_count": null,
   "id": "c6c7f7b6-955c-4b4e-b664-fab6d4c9a01a",
   "metadata": {},
   "outputs": [],
   "source": []
  },
  {
   "cell_type": "code",
   "execution_count": null,
   "id": "18c67a48-7432-481b-9fc4-f5001ea32800",
   "metadata": {},
   "outputs": [],
   "source": []
  }
 ],
 "metadata": {
  "kernelspec": {
   "display_name": "Python 3 (ipykernel)",
   "language": "python",
   "name": "python3"
  },
  "language_info": {
   "codemirror_mode": {
    "name": "ipython",
    "version": 3
   },
   "file_extension": ".py",
   "mimetype": "text/x-python",
   "name": "python",
   "nbconvert_exporter": "python",
   "pygments_lexer": "ipython3",
   "version": "3.8.5"
  }
 },
 "nbformat": 4,
 "nbformat_minor": 5
}
