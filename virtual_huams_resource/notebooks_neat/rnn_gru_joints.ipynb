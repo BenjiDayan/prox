{
 "cells": [
  {
   "cell_type": "code",
   "execution_count": 3,
   "id": "f8ffc853-9406-4311-9df0-76fdd397156e",
   "metadata": {},
   "outputs": [
    {
     "name": "stdout",
     "output_type": "stream",
     "text": [
      "numpy: 1.22.3\n"
     ]
    },
    {
     "data": {
      "text/plain": [
       "<torch._C.Generator at 0x2b65cf828110>"
      ]
     },
     "execution_count": 3,
     "metadata": {},
     "output_type": "execute_result"
    }
   ],
   "source": [
    "import numpy as np # for data manipulation\n",
    "print('numpy: %s' % np.__version__) # print version\n",
    "np.random.seed(0)\n",
    "import math # to help with data reshaping of the data\n",
    "\n",
    "import numpy as np\n",
    "import torch\n",
    "torch.manual_seed(0)\n",
    "\n",
    "import torch.nn as nn\n",
    "import torch.nn.functional as F\n",
    "from torch.autograd import Variable\n",
    "from torch.utils.tensorboard import SummaryWriter\n",
    "\n",
    "\n",
    "import tqdm\n",
    "import matplotlib.pyplot as plt\n",
    "import logging\n",
    "\n",
    "from IPython.core.interactiveshell import InteractiveShell\n",
    "InteractiveShell.ast_node_interactivity = \"all\"\n",
    "\n",
    "\n",
    "import sys\n",
    "sys.path.append('../')\n",
    "sys.path.append('../../src')\n",
    "\n",
    "from pose_gru import PoseGRU_inputFC2\n",
    "from benji_prox_dataloader import *\n",
    "\n",
    "import wandb\n",
    "# _ = wandb.init(project=\"vh-human-motion-pred\", entity=\"benjidayan\", name=\"GRU_joints_21_05\")\n"
   ]
  },
  {
   "cell_type": "code",
   "execution_count": 4,
   "id": "a4f4f699-32e6-4cc3-bd00-28bc2834b2c6",
   "metadata": {},
   "outputs": [
    {
     "data": {
      "text/plain": [
       "'saves/PoseGRU_inputFC2_21_05_epoch3_bn5.pt'"
      ]
     },
     "execution_count": 4,
     "metadata": {},
     "output_type": "execute_result"
    }
   ],
   "source": [
    "root_dir = \"/cluster/scratch/bdayan/prox_data/PROXD/\"\n",
    "smplx_model_path='/cluster/home/bdayan/prox/prox/models_smplx_v1_1/models/'\n",
    "\n",
    "batch_size = 15\n",
    "in_frames=10\n",
    "pred_frames=5\n",
    "lr=0.0001\n",
    "n_iter = 10\n",
    "save_every=20\n",
    "\n",
    "save_folder = 'saves'\n",
    "os.makedirs(save_folder, exist_ok=True)\n",
    "\n",
    "save_path=os.path.join(save_folder, 'PoseGRU_inputFC2_21_05_epoch{epoch}_bn{batchnum}.pt')\n",
    "save_path.format(epoch=3, batchnum=5)\n",
    "\n",
    "pd = proxDatasetSkeleton(root_dir=root_dir, in_frames=in_frames, pred_frames=pred_frames, output_type='joint_locations', smplx_model_path=smplx_model_path)\n",
    "\n",
    "dataloader = DataLoader(pd, batch_size=batch_size,\n",
    "                        shuffle=True, num_workers=0, collate_fn=my_collate)"
   ]
  },
  {
   "cell_type": "code",
   "execution_count": 6,
   "id": "31ca1b26-3c23-4f34-b51b-257d02488a77",
   "metadata": {},
   "outputs": [],
   "source": [
    "from utils import *\n",
    "pd.output_type='raw_pkls'\n",
    "(idx, (in_frames_fns, in_data), (pred_frames_fns, pred_data)) = pd.__getitem__(500)\n",
    "_betas, _body_pose, base_euler_angles, base_transl = extract_data(in_data[-1])"
   ]
  },
  {
   "cell_type": "code",
   "execution_count": 7,
   "id": "8456de79-99e7-43d1-9f80-42cd6e22dd46",
   "metadata": {},
   "outputs": [
    {
     "data": {
      "text/plain": [
       "tensor([[3.7251, 0.1746, 1.2804]])"
      ]
     },
     "execution_count": 7,
     "metadata": {},
     "output_type": "execute_result"
    }
   ],
   "source": [
    "base_euler_angles"
   ]
  },
  {
   "cell_type": "code",
   "execution_count": null,
   "id": "68ba992e-2ce8-4944-b4c5-9ffe4a94dbcc",
   "metadata": {},
   "outputs": [],
   "source": [
    "criterion = nn.MSELoss()\n",
    "losses = []\n",
    "losses_rep = []\n",
    "\n",
    "# rnn = MockupModel(input_size=21*3, hidden_size=50, num_layers=2, output_size=(pred_frames, 21, 3), seq_len=in_frames)\n",
    "gru = PoseGRU_inputFC2(input_size=(25,3))\n",
    "\n",
    "optimizer = torch.optim.Adam(gru.parameters(), lr=lr)\n",
    "\n",
    "\n",
    "save_path='model_epoch{epoch}_bn{batchnum}.pt'\n",
    "writer = SummaryWriter()\n",
    "\n",
    "wandb.config = {\n",
    "    \"learning_rate\": lr,\n",
    "    \"epochs\": n_iter,\n",
    "    \"batch_size\": batch_size,\n",
    "    \"in_frames\": in_frames,\n",
    "    \"pred_frames\": pred_frames\n",
    "}\n",
    "\n",
    "idx_counter = 0\n",
    "for epoch in range(n_iter):\n",
    "    for i, (indices, in_skels, fut_skels) in (pbar := tqdm.tqdm(enumerate(dataloader))):\n",
    "        optimizer.zero_grad()\n",
    "        \n",
    "        pred_frames = fut_skels.shape[1]\n",
    "        \n",
    "        cur_state, pred_skels = gru.forward_prediction(in_skels, pred_len=pred_frames)\n",
    "        loss = criterion(pred_skels, fut_skels)\n",
    "        loss.backward()\n",
    "        optimizer.step() \n",
    "\n",
    "        rep_pred = in_skels[:, -1, :, :]\n",
    "        a = rep_pred.detach().numpy()\n",
    "        \n",
    "        a = np.tile(a, (fut_skels.shape[1], 1, 1, 1))\n",
    "        rep_pred = torch.Tensor(a).transpose(0, 1)\n",
    "\n",
    "        loss_rep = criterion(rep_pred, fut_skels)\n",
    "        losses_rep.append(loss_rep.item())\n",
    "        \n",
    "        losses.append(loss.item())\n",
    "        \n",
    "        wandb.log({'MSEloss': loss, 'rep_pred_MSEloss': loss_rep})\n",
    "        \n",
    "        pbar.set_description(f\"avg last 20 loss: {np.mean(losses[-20:]):.4f} avg last 200-100: {np.mean(losses[-200:-100]):.4f}\")\n",
    "\n",
    "        writer.add_scalar('Loss', losses[-1], idx_counter)\n",
    "        writer.add_scalar('Loss_rep', losses_rep[-1], idx_counter)\n",
    "        if i % save_every == (save_every-1):\n",
    "            torch.save({\n",
    "            'epoch': epoch,\n",
    "            'batch_num': i,\n",
    "            'model_state_dict': gru.state_dict(),\n",
    "            'optimizer_state_dict': optimizer.state_dict(),\n",
    "            'loss': loss,\n",
    "            }, save_path.format(epoch=epoch, batchnum=i))\n",
    "            \n",
    "        idx_counter += 1\n",
    "    print(f'end epoch {epoch}: total mean loss: {np.mean(losses)}')\n",
    "\n",
    "plt.plot(losses)\n",
    "print(losses[-4:])"
   ]
  }
 ],
 "metadata": {
  "kernelspec": {
   "display_name": "Python 3 (ipykernel)",
   "language": "python",
   "name": "python3"
  },
  "language_info": {
   "codemirror_mode": {
    "name": "ipython",
    "version": 3
   },
   "file_extension": ".py",
   "mimetype": "text/x-python",
   "name": "python",
   "nbconvert_exporter": "python",
   "pygments_lexer": "ipython3",
   "version": "3.8.5"
  }
 },
 "nbformat": 4,
 "nbformat_minor": 5
}
