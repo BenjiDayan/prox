{
 "cells": [
  {
   "cell_type": "code",
   "execution_count": 1,
   "metadata": {},
   "outputs": [
    {
     "name": "stdout",
     "output_type": "stream",
     "text": [
      "Jupyter environment detected. Enabling Open3D WebVisualizer.\n",
      "[Open3D INFO] WebRTC GUI backend enabled.\n",
      "[Open3D INFO] WebRTCWindowSystem: HTTP handshake server disabled.\n"
     ]
    },
    {
     "name": "stderr",
     "output_type": "stream",
     "text": [
      "C:\\Users\\benja\\Anaconda3\\envs\\torch3d\\lib\\site-packages\\tqdm-4.64.0-py3.9.egg\\tqdm\\auto.py:22: TqdmWarning: IProgress not found. Please update jupyter and ipywidgets. See https://ipywidgets.readthedocs.io/en/stable/user_install.html\n",
      "  from .autonotebook import tqdm as notebook_tqdm\n"
     ]
    },
    {
     "name": "stdout",
     "output_type": "stream",
     "text": [
      "numpy: 1.21.5\n"
     ]
    }
   ],
   "source": [
    "import os\n",
    "\n",
    "import sys\n",
    "import glob\n",
    "import numpy as np\n",
    "import pickle\n",
    "import cv2\n",
    "import open3d as o3d\n",
    "import matplotlib.pyplot as plt\n",
    "\n",
    "import time\n",
    "import torch\n",
    "import wandb\n",
    "\n",
    "from IPython.core.interactiveshell import InteractiveShell\n",
    "InteractiveShell.ast_node_interactivity = \"all\"\n",
    "\n",
    "device = torch.device('cpu')\n",
    "\n",
    "sys.path.insert(1, '../')\n",
    "sys.path.append('../../src')\n",
    "\n",
    "from utils import get_smplx_body_model\n",
    "\n",
    "from benji_prox_dataloader import *\n",
    "from utils import *\n",
    "from visualisation import *\n",
    "from simple_transformer import PoseTransformer\n",
    "import torch\n",
    "\n",
    "\n",
    "from benji_prox_dataloader import DatasetBase, proxDatasetSkeleton, get_start_idx\n",
    "from pose_gru import PoseGRU_inputFC2"
   ]
  },
  {
   "cell_type": "code",
   "execution_count": 2,
   "metadata": {},
   "outputs": [
    {
     "data": {
      "text/plain": [
       "<All keys matched successfully>"
      ]
     },
     "execution_count": 2,
     "metadata": {},
     "output_type": "execute_result"
    }
   ],
   "source": [
    "import wandb\n",
    "run_path = \"vh-motion-pred/rnn/19ugvg0b\"  # grossly overfit training\n",
    "api = wandb.Api()\n",
    "run = api.run(run_path)\n",
    "\n",
    "\n",
    "save_path = 'GRU_joints_15_30_3fps_3layers512_big_29_05_1151_epoch64_bn499.pt'  # grossly overfit training\n",
    "wandb.restore(save_path, run_path=run_path)\n",
    "\n",
    "gru = PoseGRU_inputFC2(input_size=(25,3), n_layers=3)\n",
    "restore_dict = torch.load(save_path, map_location=device)\n",
    "gru.load_state_dict(restore_dict['model_state_dict'])"
   ]
  },
  {
   "cell_type": "code",
   "execution_count": 72,
   "metadata": {},
   "outputs": [
    {
     "data": {
      "text/plain": [
       "<_io.TextIOWrapper name='C:\\\\Users\\\\benja\\\\coding\\\\eth\\\\prox\\\\virtual_huams_resource\\\\notebooks_neat\\\\saves/GRU_joints_15_30_3fps_3layers512_28_05_1945_epoch140_bn39.pt' mode='r' encoding='cp1252'>"
      ]
     },
     "execution_count": 72,
     "metadata": {},
     "output_type": "execute_result"
    },
    {
     "data": {
      "text/plain": [
       "<All keys matched successfully>"
      ]
     },
     "execution_count": 72,
     "metadata": {},
     "output_type": "execute_result"
    }
   ],
   "source": [
    "import wandb\n",
    "run_path = \"vh-motion-pred/rnn/3injxdum\"   # best (but not great) validation score\n",
    "api = wandb.Api()\n",
    "run = api.run(run_path)\n",
    "\n",
    "save_path = 'saves/GRU_joints_15_30_3fps_3layers512_28_05_1945_epoch140_bn39.pt'  # best (but not great) validation score\n",
    "wandb.restore(save_path, run_path=run_path)\n",
    "\n",
    "gru = PoseGRU_inputFC2(input_size=(25,3), n_layers=3)\n",
    "restore_dict = torch.load(save_path, map_location=device)\n",
    "gru.load_state_dict(restore_dict['model_state_dict'])"
   ]
  },
  {
   "cell_type": "code",
   "execution_count": 2,
   "metadata": {},
   "outputs": [
    {
     "data": {
      "text/plain": [
       "<_io.TextIOWrapper name='C:\\\\Users\\\\benja\\\\coding\\\\eth\\\\prox\\\\virtual_huams_resource\\\\notebooks_neat\\\\GRU_joints_15_30_3fps_3layers512_short_30_05_2210_epoch77_bn499.pt' mode='r' encoding='cp1252'>"
      ]
     },
     "execution_count": 2,
     "metadata": {},
     "output_type": "execute_result"
    },
    {
     "data": {
      "text/plain": [
       "<All keys matched successfully>"
      ]
     },
     "execution_count": 2,
     "metadata": {},
     "output_type": "execute_result"
    }
   ],
   "source": [
    "run_path = \"vh-motion-pred/rnn/12f8x1vr\"   # short sequence RNN\n",
    "api = wandb.Api()\n",
    "run = api.run(run_path)\n",
    "\n",
    "save_path = 'GRU_joints_15_30_3fps_3layers512_short_30_05_2210_epoch77_bn499.pt'\n",
    "wandb.restore(save_path, run_path=run_path)\n",
    "\n",
    "gru = PoseGRU_inputFC2(input_size=(25,3), n_layers=2)\n",
    "restore_dict = torch.load(save_path, map_location=device)\n",
    "gru.load_state_dict(restore_dict['model_state_dict'])\n"
   ]
  },
  {
   "cell_type": "code",
   "execution_count": 3,
   "metadata": {},
   "outputs": [
    {
     "data": {
      "text/plain": [
       "<_io.TextIOWrapper name='C:\\\\Users\\\\benja\\\\coding\\\\eth\\\\prox\\\\virtual_huams_resource\\\\notebooks_neat\\\\GRU_joints_15_30_guided_3fps_2layers512_short_01_06_1139_epoch44_bn406.pt' mode='r' encoding='cp1252'>"
      ]
     },
     "execution_count": 3,
     "metadata": {},
     "output_type": "execute_result"
    },
    {
     "data": {
      "text/plain": [
       "<All keys matched successfully>"
      ]
     },
     "execution_count": 3,
     "metadata": {},
     "output_type": "execute_result"
    }
   ],
   "source": [
    "run_path = \"vh-motion-pred/rnn/1s3wl3lw\"  \n",
    "api = wandb.Api()\n",
    "run = api.run(run_path)\n",
    "\n",
    "save_path = 'GRU_joints_15_30_guided_3fps_2layers512_short_01_06_1139_epoch44_bn406.pt'\n",
    "wandb.restore(save_path, run_path=run_path)\n",
    "\n",
    "gru = PoseGRU_inputFC2(input_size=(25,3), n_layers=2)\n",
    "restore_dict = torch.load(save_path, map_location=device)\n",
    "gru.load_state_dict(restore_dict['model_state_dict'])\n"
   ]
  },
  {
   "cell_type": "code",
   "execution_count": 5,
   "metadata": {},
   "outputs": [
    {
     "data": {
      "text/plain": [
       "<All keys matched successfully>"
      ]
     },
     "execution_count": 5,
     "metadata": {},
     "output_type": "execute_result"
    }
   ],
   "source": [
    "trans_save_path = 'transformer_best_model_30_05_1139.pt'\n",
    "trans_run_path=\"vh-motion-pred/transformer_viz/3m5f6cyd\"\n",
    "model = PoseTransformer(num_tokens=25*3).to(device)\n",
    "restore_dict = torch.load(trans_save_path, map_location=device)\n",
    "model.load_state_dict(restore_dict['model_state_dict'])"
   ]
  },
  {
   "cell_type": "code",
   "execution_count": 4,
   "metadata": {},
   "outputs": [
    {
     "name": "stdout",
     "output_type": "stream",
     "text": [
      "length pd_train: 979; length pd_val: 171\n"
     ]
    }
   ],
   "source": [
    "\n",
    "root_dir = \"D:/prox_data\"\n",
    "# root_dir = \"/cluster/scratch/bdayan/prox_data\"\n",
    "\n",
    "smplx_model_path='../models_smplx_v1_1/models/'\n",
    "in_frames=15\n",
    "pred_frames=30\n",
    "frame_jump=10\n",
    "window_overlap_factor=8\n",
    "lr = 0.0001\n",
    "n_iter = 100\n",
    "\n",
    "\n",
    "\n",
    "val_areas =['BasementSittingBooth', 'N3OpenArea']\n",
    "\n",
    "pd_train = proxDatasetSkeleton(root_dir=root_dir + '/PROXD_attempt2/PROXD', in_frames=in_frames, pred_frames=pred_frames, \\\n",
    "                       output_type='raw_pkls', smplx_model_path=smplx_model_path, frame_jump=frame_jump, window_overlap_factor=window_overlap_factor, extra_prefix='joints_worldnorm.pkl')\n",
    "\n",
    "# pdc_train = DatasetBase(root_dir=root_dir + '/recordings', in_frames=in_frames, pred_frames=pred_frames,\n",
    "#                                              search_prefix='Color', extra_prefix='', frame_jump=frame_jump,\n",
    "#                   window_overlap_factor=window_overlap_factor)\n",
    "\n",
    "\n",
    "pd_val = proxDatasetSkeleton(root_dir=root_dir + '/PROXD_attempt2/PROXD', in_frames=in_frames, pred_frames=pred_frames, \\\n",
    "                       output_type='raw_pkls', smplx_model_path=smplx_model_path, frame_jump=frame_jump, window_overlap_factor=window_overlap_factor, extra_prefix='joints_worldnorm.pkl')\n",
    "\n",
    "pd_train.sequences = [seq for seq in pd_train.sequences if not any([area in seq[0] for area in val_areas])]\n",
    "pd_val.sequences = [seq for seq in pd_val.sequences if any([area in seq[0] for area in val_areas])]\n",
    "\n",
    "# pdc_val = DatasetBase(root_dir=root_dir + '/recordings', in_frames=in_frames, pred_frames=pred_frames,\n",
    "#                                              search_prefix='Color', extra_prefix='', frame_jump=frame_jump,\n",
    "#                   window_overlap_factor=window_overlap~_factor)\n",
    "\n",
    "print(f'length pd_train: {len(pd_train)}; length pd_val: {len(pd_val)}')\n",
    "\n",
    "# print(f'length pdc_train, pd_train: {len(pdc_train)}, {len(pd_train)}')\n",
    "# pdc_train.align(pd_train)\n",
    "# pd_train.align(pdc_train)\n",
    "# print(f'length pdc_train, pd_train: {len(pdc_train)}, {len(pd_train)}')\n",
    "\n",
    "# print(f'length pdc_val, pd_val: {len(pdc_val)}, {len(pd_val)}')\n",
    "# pdc_val.align(pd_val)\n",
    "# pd_val.align(pdc_val)\n",
    "# print(f'length pdc, pd_val: {len(pdc_val)}, {len(pd_val)}')\n",
    "\n",
    "\n",
    "# dataloader = DataLoader(pd, batch_size=batch_size,\n",
    "#                         shuffle=True, num_workers=0, collate_fn=my_collate)"
   ]
  },
  {
   "cell_type": "code",
   "execution_count": 5,
   "metadata": {},
   "outputs": [],
   "source": [
    "LIMBS = [(23, 15),\n",
    "         (24, 15),\n",
    "         (15, 22),\n",
    "         (22, 12),\n",
    "         # left arm\n",
    "         (12, 13),\n",
    "         (13, 16),\n",
    "         (16, 18),\n",
    "         (18, 20),\n",
    "         # right arm\n",
    "         (12, 14),\n",
    "         (14, 17),\n",
    "         (17, 19),\n",
    "         (19, 21),\n",
    "         # spline\n",
    "         (12, 9),\n",
    "         (9, 6),\n",
    "         (6, 3),\n",
    "         (3, 0),\n",
    "         # left leg\n",
    "         (0, 1),\n",
    "         (1, 4),\n",
    "         (4, 7),\n",
    "         (7, 10),\n",
    "         # right leg\n",
    "         (0, 2),\n",
    "         (2, 5),\n",
    "         (5, 8),\n",
    "         (8, 11)]"
   ]
  },
  {
   "cell_type": "code",
   "execution_count": 6,
   "metadata": {},
   "outputs": [
    {
     "data": {
      "text/plain": [
       "'BasementSittingBooth_00145_01'"
      ]
     },
     "execution_count": 6,
     "metadata": {},
     "output_type": "execute_result"
    }
   ],
   "source": [
    "pd_val.sequences[1][0]"
   ]
  },
  {
   "cell_type": "code",
   "execution_count": 7,
   "metadata": {},
   "outputs": [
    {
     "name": "stdout",
     "output_type": "stream",
     "text": [
      "N3OpenArea\n"
     ]
    }
   ],
   "source": [
    "\n",
    "idx = 145\n",
    "# idx = 120\n",
    "pd = pd_val\n",
    "\n",
    "_, (a, in_skels_list), (b, fut_skels_list) = pd.__getitem__(idx)\n",
    "gt_skels_list = [skel.squeeze() for skel in in_skels_list + fut_skels_list]  # 45 elements of 25 x 3\n",
    "\n",
    "in_skels = torch.cat(in_skels_list).unsqueeze(0).to(device)\n",
    "fut_skels = torch.cat(fut_skels_list).unsqueeze(0).to(device)\n",
    "\n",
    "start, seq_idx = get_start_idx(idx, pd.bounds, pd.start_jump)\n",
    "scene_name = pd.sequences[seq_idx][0]\n",
    "scene_name = scene_name[:scene_name.index('_')]\n",
    "print(scene_name)\n",
    "# ______________ read point cloud ______________\n",
    "scene_point_cloud = o3d.io.read_point_cloud(os.path.join(root_dir, \"scenes\", scene_name + \".ply\"))"
   ]
  },
  {
   "cell_type": "code",
   "execution_count": 110,
   "metadata": {},
   "outputs": [],
   "source": [
    "pelvis = in_skels[:, 0, 0, :].unsqueeze(1).unsqueeze(1)\n",
    "in_skels = in_skels - pelvis\n",
    "in_skels_cpy = in_skels.clone()\n",
    "in_skels = torch.flatten(in_skels, start_dim=2)\n",
    "\n",
    "fut_skels = fut_skels - pelvis\n",
    "fut_skels = torch.flatten(fut_skels, start_dim=2)\n",
    "tgt = torch.cat((in_skels[:, -1, :].unsqueeze(1), fut_skels[:, :-1, :]), dim=1)\n",
    "\n",
    "tgt_mask = model.get_tgt_mask(fut_skels.shape[1]).to(device)\n",
    "\n",
    "# pred_skels = model(in_skels, fut_skels, tgt_mask=tgt_mask)\n",
    "pred_skels = model.forward_predict(in_skels, pred_frames = fut_skels.shape[1])\n",
    "\n",
    "pred_skels = pred_skels.reshape((pred_skels.shape[:-1]) + (25, 3))\n",
    "pred_skels = pred_skels + pelvis  # 1 x 30 x 25 x 3\n"
   ]
  },
  {
   "cell_type": "code",
   "execution_count": null,
   "metadata": {},
   "outputs": [],
   "source": []
  },
  {
   "cell_type": "code",
   "execution_count": 8,
   "metadata": {},
   "outputs": [],
   "source": [
    "pelvis = in_skels[:, 0, 0, :].unsqueeze(1).unsqueeze(1)\n",
    "in_skels = in_skels - pelvis\n",
    "fut_skels = fut_skels - pelvis\n",
    "\n",
    "cur_state, pred_skels = gru.forward_prediction(in_skels, out_seq_len=fut_skels.shape[1], all=True)"
   ]
  },
  {
   "cell_type": "code",
   "execution_count": 9,
   "metadata": {},
   "outputs": [
    {
     "data": {
      "text/plain": [
       "torch.Size([1, 44, 25, 3])"
      ]
     },
     "execution_count": 9,
     "metadata": {},
     "output_type": "execute_result"
    }
   ],
   "source": [
    "pred_skels.shape"
   ]
  },
  {
   "cell_type": "code",
   "execution_count": null,
   "metadata": {},
   "outputs": [],
   "source": []
  },
  {
   "cell_type": "code",
   "execution_count": 104,
   "metadata": {},
   "outputs": [],
   "source": [
    "pelvis = in_skels[:, 0, 0, :].unsqueeze(1).unsqueeze(1)\n",
    "in_skels = in_skels - pelvis\n",
    "fut_skels = fut_skels - pelvis\n",
    "\n",
    "cur_state, pred_skels = gru.forward_prediction(in_skels, out_seq_len=fut_skels.shape[1])\n",
    "# cur_state, pred_skels = gru.forward_prediction_guided(in_skels, out_seq=fut_skels)\n",
    "pred_skels = pred_skels + pelvis  # 1 x 30 x 25 x 3\n",
    "\n"
   ]
  },
  {
   "cell_type": "code",
   "execution_count": 111,
   "metadata": {},
   "outputs": [
    {
     "data": {
      "text/plain": [
       "45"
      ]
     },
     "execution_count": 111,
     "metadata": {},
     "output_type": "execute_result"
    },
    {
     "data": {
      "text/plain": [
       "torch.Size([25, 3])"
      ]
     },
     "execution_count": 111,
     "metadata": {},
     "output_type": "execute_result"
    },
    {
     "data": {
      "text/plain": [
       "45"
      ]
     },
     "execution_count": 111,
     "metadata": {},
     "output_type": "execute_result"
    },
    {
     "data": {
      "text/plain": [
       "torch.Size([25, 3])"
      ]
     },
     "execution_count": 111,
     "metadata": {},
     "output_type": "execute_result"
    },
    {
     "data": {
      "text/plain": [
       "True"
      ]
     },
     "execution_count": 111,
     "metadata": {},
     "output_type": "execute_result"
    },
    {
     "data": {
      "text/plain": [
       "True"
      ]
     },
     "execution_count": 111,
     "metadata": {},
     "output_type": "execute_result"
    }
   ],
   "source": [
    "pred_skels_list = [None] * len(in_skels_list) + [pred_skel for pred_skel in pred_skels[0, :]]  #\n",
    "len(gt_skels_list)\n",
    "gt_skels_list[0].shape\n",
    "len(pred_skels_list)\n",
    "pred_skels_list[30].shape\n",
    "\n",
    "i = -1\n",
    "green = np.array([0.3, 1.0, 0.3])\n",
    "red = np.array([1.0, 0.3, 0.3])\n",
    "\n",
    "# If no pred skels set pred_skels to [None]\n",
    "\n",
    "def forward(vis):\n",
    "    # skeleton = next(skeleton_iter)          # render first frame\n",
    "    global i\n",
    "    i += 1\n",
    "    if i == len(gt_skels_list):\n",
    "        i = 0\n",
    "    skeleton_gt = gt_skels_list[i]\n",
    "    skeleton_pred = pred_skels_list[i]\n",
    "    vis.clear_geometries()\n",
    "    update(vis, skeleton_gt, color=green)\n",
    "    if skeleton_pred is not None:\n",
    "        update(vis, skeleton_pred, color=red)\n",
    "\n",
    "    vis.poll_events()\n",
    "    vis.update_renderer()\n",
    "    vis.run()\n",
    "\n",
    "def backward(vis):\n",
    "    # skeleton = next(skeleton_iter)          # render first frame\n",
    "    global i\n",
    "    i -= 1\n",
    "    if i == -1:\n",
    "        i = len(gt_skels_list)-1\n",
    "    skeleton_gt = gt_skels_list[i]\n",
    "    skeleton_pred = pred_skels_list[i]\n",
    "    vis.clear_geometries()\n",
    "    update(vis, skeleton_gt, color=green)\n",
    "    if skeleton_pred is not None:\n",
    "        update(vis, skeleton_pred, color=red)\n",
    "\n",
    "    vis.poll_events()\n",
    "    vis.update_renderer()\n",
    "    vis.run()\n",
    "\n",
    "def update(vis, skeleton, color=None):\n",
    "    skeleton = skeleton.detach().numpy()\n",
    "    skeleton = skeleton.astype(np.float64)\n",
    "    skeleton = skeleton.squeeze()\n",
    "    # print(skeleton)\n",
    "    skeleton_input = o3d.geometry.LineSet(\n",
    "            o3d.utility.Vector3dVector(skeleton),\n",
    "            o3d.utility.Vector2iVector(LIMBS))\n",
    "    if color is not None:\n",
    "        skeleton_input.paint_uniform_color(color)\n",
    "    ctrl = vis.get_view_control()\n",
    "    cam_param = ctrl.convert_to_pinhole_camera_parameters()\n",
    "\n",
    "    vis.add_geometry(scene_point_cloud)\n",
    "    vis.add_geometry(skeleton_input)\n",
    "    ctrl.convert_from_pinhole_camera_parameters(cam_param)\n",
    "\n",
    "    \n",
    "# ______________ animate skeleton in point cloud ______________\n",
    "vis = o3d.visualization.VisualizerWithKeyCallback()\n",
    "vis.create_window()\n",
    "vis.register_key_callback(65, forward)       # press A\n",
    "vis.register_key_callback(66, backward)       # press B?\n",
    "\n",
    "# Don't press C! instead close window with mouse to avoid kernel die.\n",
    "vis.register_key_callback(67, lambda vis: vis.destroy_window())\n",
    "vis.add_geometry(scene_point_cloud)\n",
    "\n",
    "# render first frame\n",
    "forward(vis)\n",
    "\n",
    "# skeleton = in_skels[0].detach().numpy()          # render first frame\n",
    "# skeleton = skeleton.astype(np.float64)\n",
    "# skeleton = skeleton.squeeze()\n",
    "# skeleton_input = o3d.geometry.LineSet(\n",
    "#             o3d.utility.Vector3dVector(skeleton),\n",
    "#             o3d.utility.Vector2iVector(LIMBS))\n",
    "# vis.add_geometry(skeleton_input)\n",
    "# vis.run()\n",
    "vis.destroy_window()"
   ]
  },
  {
   "cell_type": "code",
   "execution_count": null,
   "metadata": {},
   "outputs": [],
   "source": []
  }
 ],
 "metadata": {
  "interpreter": {
   "hash": "88c31a842fa80a77ccc81ce265e01cfd5a4d78cf9fcb2f7dda6ceaee78083af1"
  },
  "kernelspec": {
   "display_name": "PyCharm (prox)",
   "language": "python",
   "name": "pycharm-c015e8a4"
  },
  "language_info": {
   "codemirror_mode": {
    "name": "ipython",
    "version": 3
   },
   "file_extension": ".py",
   "mimetype": "text/x-python",
   "name": "python",
   "nbconvert_exporter": "python",
   "pygments_lexer": "ipython3",
   "version": "3.9.12"
  }
 },
 "nbformat": 4,
 "nbformat_minor": 2
}
