{
 "cells": [
  {
   "cell_type": "code",
   "execution_count": 149,
   "metadata": {},
   "outputs": [],
   "source": [
    "import json\n",
    "from IPython.core.interactiveshell import InteractiveShell\n",
    "InteractiveShell.ast_node_interactivity = \"all\""
   ]
  },
  {
   "cell_type": "code",
   "execution_count": 53,
   "metadata": {},
   "outputs": [],
   "source": [
    "skel_path = '../quantitative_prox/recordings/vicon_03301_01/Skeleton/'\n",
    "import glob\n",
    "files = glob.glob(skel_path + '*')"
   ]
  },
  {
   "cell_type": "code",
   "execution_count": 54,
   "metadata": {},
   "outputs": [
    {
     "data": {
      "text/plain": [
       "['../quantitative_prox/recordings/vicon_03301_01/Skeleton\\\\s001_frame_00001__00.00.00.023.json',\n",
       " '../quantitative_prox/recordings/vicon_03301_01/Skeleton\\\\s002_frame_00001__00.00.00.013.json',\n",
       " '../quantitative_prox/recordings/vicon_03301_01/Skeleton\\\\s003_frame_00001__00.00.00.009.json',\n",
       " '../quantitative_prox/recordings/vicon_03301_01/Skeleton\\\\s004_frame_00001__00.00.00.009.json',\n",
       " '../quantitative_prox/recordings/vicon_03301_01/Skeleton\\\\s005_frame_00001__00.00.00.012.json',\n",
       " '../quantitative_prox/recordings/vicon_03301_01/Skeleton\\\\s006_frame_00001__00.00.00.009.json',\n",
       " '../quantitative_prox/recordings/vicon_03301_01/Skeleton\\\\s007_frame_00001__00.00.00.009.json',\n",
       " '../quantitative_prox/recordings/vicon_03301_01/Skeleton\\\\s008_frame_00001__00.00.00.009.json',\n",
       " '../quantitative_prox/recordings/vicon_03301_01/Skeleton\\\\s009_frame_00001__00.00.00.009.json',\n",
       " '../quantitative_prox/recordings/vicon_03301_01/Skeleton\\\\s010_frame_00001__00.00.00.009.json']"
      ]
     },
     "execution_count": 54,
     "metadata": {},
     "output_type": "execute_result"
    }
   ],
   "source": [
    "files"
   ]
  },
  {
   "cell_type": "code",
   "execution_count": 57,
   "metadata": {},
   "outputs": [],
   "source": [
    "with open(files[1]) as fn:\n",
    "    stuff = json.load(fn)"
   ]
  },
  {
   "cell_type": "code",
   "execution_count": 58,
   "metadata": {},
   "outputs": [
    {
     "data": {
      "text/plain": [
       "{'FloorClipPlane': [-0.0214117952, 0.9990976, 0.036681477, 0.9368897],\n",
       " 'Bodies': [{'First': True,\n",
       "   'Lean': [-0.050362464, 0.115295641],\n",
       "   'ClippedEdges': {'Bottom': False,\n",
       "    'Left': False,\n",
       "    'Top': False,\n",
       "    'Right': False},\n",
       "   'Joints': {'SpineBase': {'Position': [0.165960461,\n",
       "      -0.156394392,\n",
       "      3.11151671],\n",
       "     'State': 'Tracked',\n",
       "     'Rotation': [0.0178251043, 0.9272303, -0.022719251, -0.3733767]},\n",
       "    'SpineMid': {'Position': [0.170960292, 0.153823689, 3.09428859],\n",
       "     'State': 'Tracked',\n",
       "     'Rotation': [0.01839411, 0.9174886, -0.0222610738, -0.396712661]},\n",
       "    'Neck': {'Position': [0.174204171, 0.456588238, 3.06594872],\n",
       "     'State': 'Tracked',\n",
       "     'Rotation': [0.0314215273, 0.905296743, -0.0532051139, -0.4202614]},\n",
       "    'Head': {'Position': [0.1367045, 0.5942464, 3.0950532],\n",
       "     'State': 'Tracked',\n",
       "     'Rotation': [0.0, 0.0, 0.0, 0.0]},\n",
       "    'ShoulderLeft': {'Position': [0.0654687062, 0.3303389, 3.24483919],\n",
       "     'State': 'Tracked',\n",
       "     'Rotation': [0.7108467, -0.521669745, -0.3446686, 0.322119951]},\n",
       "    'ElbowLeft': {'Position': [0.02216293, 0.032100305, 3.310583],\n",
       "     'State': 'Tracked',\n",
       "     'Rotation': [0.004427789, 0.10714639, 0.991676033, 0.07126574]},\n",
       "    'WristLeft': {'Position': [-0.08312829, -0.184044227, 3.36004972],\n",
       "     'State': 'Tracked',\n",
       "     'Rotation': [0.9467569, -0.2384138, -0.209599987, 0.0536470152]},\n",
       "    'HandLeft': {'Position': [-0.117490858, -0.247761369, 3.36213946],\n",
       "     'State': 'Tracked',\n",
       "     'Rotation': [0.9508916, -0.242911831, -0.1889537, -0.03309702]},\n",
       "    'ShoulderRight': {'Position': [0.276854217, 0.3182625, 2.97183561],\n",
       "     'State': 'Tracked',\n",
       "     'Rotation': [0.763380766, 0.51248163, -0.341336817, -0.195196345]},\n",
       "    'ElbowRight': {'Position': [0.364066064, 0.07617348, 2.84564161],\n",
       "     'State': 'Tracked',\n",
       "     'Rotation': [0.9421635, 0.110968962, 0.186221749, -0.255607456]},\n",
       "    'WristRight': {'Position': [0.342690378, -0.165718153, 2.67964578],\n",
       "     'State': 'Tracked',\n",
       "     'Rotation': [-0.479119658, -0.23655872, 0.8256013, 0.181291923]},\n",
       "    'HandRight': {'Position': [0.3211658, -0.224540263, 2.64829755],\n",
       "     'State': 'Tracked',\n",
       "     'Rotation': [-0.458460659, -0.128358454, 0.842444241, 0.2522414]},\n",
       "    'HipLeft': {'Position': [0.118856885, -0.162679777, 3.120019],\n",
       "     'State': 'Tracked',\n",
       "     'Rotation': [0.7502524, -0.655049264, -0.04711846, 0.07623353]},\n",
       "    'KneeLeft': {'Position': [0.100280277, -0.4535289, 3.17036676],\n",
       "     'State': 'Tracked',\n",
       "     'Rotation': [0.4485762, 0.06210395, 0.889089167, 0.06665626]},\n",
       "    'AnkleLeft': {'Position': [0.278203458, -0.884466767, 2.96425438],\n",
       "     'State': 'Tracked',\n",
       "     'Rotation': [-0.30771, -0.2575778, 0.909949839, -0.104687415]},\n",
       "    'FootLeft': {'Position': [0.182928488, -0.9306714, 2.85679317],\n",
       "     'State': 'Inferred',\n",
       "     'Rotation': [0.0, 0.0, 0.0, 0.0]},\n",
       "    'HipRight': {'Position': [0.20900324, -0.146005586, 3.03140354],\n",
       "     'State': 'Tracked',\n",
       "     'Rotation': [0.56783, 0.644362748, -0.347593933, -0.376223564]},\n",
       "    'KneeRight': {'Position': [0.285745174, -0.543559253, 2.956197],\n",
       "     'State': 'Tracked',\n",
       "     'Rotation': [0.9118082, 0.0503129549, 0.38895607, -0.121604361]},\n",
       "    'AnkleRight': {'Position': [0.372130424, -0.9054141, 2.95188451],\n",
       "     'State': 'Inferred',\n",
       "     'Rotation': [0.9696458, 0.112872213, 0.214681119, -0.0309671573]},\n",
       "    'FootRight': {'Position': [0.275607139, -1.00003064, 2.896936],\n",
       "     'State': 'Tracked',\n",
       "     'Rotation': [0.0, 0.0, 0.0, 0.0]},\n",
       "    'SpineShoulder': {'Position': [0.173287377, 0.381840438, 3.07519412],\n",
       "     'State': 'Tracked',\n",
       "     'Rotation': [0.0222085062, 0.906123161, -0.03572872, -0.420916975]},\n",
       "    'HandTipLeft': {'Position': [-0.145939261, -0.320317626, 3.36195135],\n",
       "     'State': 'Tracked',\n",
       "     'Rotation': [0.0, 0.0, 0.0, 0.0]},\n",
       "    'ThumbLeft': {'Position': [-0.141391814, -0.241900682, 3.28307366],\n",
       "     'State': 'Tracked',\n",
       "     'Rotation': [0.0, 0.0, 0.0, 0.0]},\n",
       "    'HandTipRight': {'Position': [0.298608154, -0.292247921, 2.60849714],\n",
       "     'State': 'Tracked',\n",
       "     'Rotation': [0.0, 0.0, 0.0, 0.0]},\n",
       "    'ThumbRight': {'Position': [0.257525444, -0.232212365, 2.6765],\n",
       "     'State': 'Tracked',\n",
       "     'Rotation': [0.0, 0.0, 0.0, 0.0]}}}]}"
      ]
     },
     "execution_count": 58,
     "metadata": {},
     "output_type": "execute_result"
    }
   ],
   "source": [
    "stuff"
   ]
  },
  {
   "cell_type": "code",
   "execution_count": 120,
   "metadata": {},
   "outputs": [
    {
     "data": {
      "text/plain": [
       "25"
      ]
     },
     "execution_count": 120,
     "metadata": {},
     "output_type": "execute_result"
    }
   ],
   "source": [
    "len(joints)"
   ]
  },
  {
   "cell_type": "code",
   "execution_count": 119,
   "metadata": {},
   "outputs": [
    {
     "data": {
      "text/plain": [
       "['SpineBase',\n",
       " 'SpineMid',\n",
       " 'Neck',\n",
       " 'Head',\n",
       " 'ShoulderLeft',\n",
       " 'ElbowLeft',\n",
       " 'WristLeft',\n",
       " 'HandLeft',\n",
       " 'ShoulderRight',\n",
       " 'ElbowRight',\n",
       " 'WristRight',\n",
       " 'HandRight',\n",
       " 'HipLeft',\n",
       " 'KneeLeft',\n",
       " 'AnkleLeft',\n",
       " 'FootLeft',\n",
       " 'HipRight',\n",
       " 'KneeRight',\n",
       " 'AnkleRight',\n",
       " 'FootRight',\n",
       " 'SpineShoulder',\n",
       " 'HandTipLeft',\n",
       " 'ThumbLeft',\n",
       " 'HandTipRight',\n",
       " 'ThumbRight']"
      ]
     },
     "execution_count": 119,
     "metadata": {},
     "output_type": "execute_result"
    }
   ],
   "source": [
    "list(joints.keys())"
   ]
  },
  {
   "cell_type": "code",
   "execution_count": 71,
   "metadata": {},
   "outputs": [],
   "source": [
    "joints = stuff['Bodies'][0]['Joints']\n",
    "pos_rots = [(x['Position'], x['Rotation']) for x in joints.values()]"
   ]
  },
  {
   "cell_type": "code",
   "execution_count": 72,
   "metadata": {},
   "outputs": [
    {
     "data": {
      "text/plain": [
       "([0.165960461, -0.156394392, 3.11151671],\n",
       " [0.0178251043, 0.9272303, -0.022719251, -0.3733767])"
      ]
     },
     "execution_count": 72,
     "metadata": {},
     "output_type": "execute_result"
    }
   ],
   "source": [
    "pos_rots[0]"
   ]
  },
  {
   "cell_type": "code",
   "execution_count": 76,
   "metadata": {},
   "outputs": [],
   "source": [
    "import open3d as o3d"
   ]
  },
  {
   "cell_type": "code",
   "execution_count": 75,
   "metadata": {},
   "outputs": [
    {
     "data": {
      "text/plain": [
       "open3d.cpu.pybind.geometry.PointCloud"
      ]
     },
     "execution_count": 75,
     "metadata": {},
     "output_type": "execute_result"
    }
   ],
   "source": [
    "open3d.geometry.PointCloud"
   ]
  },
  {
   "cell_type": "code",
   "execution_count": 78,
   "metadata": {},
   "outputs": [
    {
     "name": "stdout",
     "output_type": "stream",
     "text": [
      "Help on built-in function read_point_cloud in module open3d.cpu.pybind.io:\n",
      "\n",
      "read_point_cloud(...) method of builtins.PyCapsule instance\n",
      "    read_point_cloud(filename, format='auto', remove_nan_points=False, remove_infinite_points=False, print_progress=False)\n",
      "    Function to read PointCloud from file\n",
      "    \n",
      "    Args:\n",
      "        filename (str): Path to file.\n",
      "        format (str, optional, default='auto'): The format of the input file. When not specified or set as ``auto``, the format is inferred from file extension name.\n",
      "        remove_nan_points (bool, optional, default=False): If true, all points that include a NaN are removed from the PointCloud.\n",
      "        remove_infinite_points (bool, optional, default=False): If true, all points that include an infinite value are removed from the PointCloud.\n",
      "        print_progress (bool, optional, default=False): If set to true a progress bar is visualized in the console\n",
      "    \n",
      "    Returns:\n",
      "        open3d.geometry.PointCloud\n",
      "\n"
     ]
    }
   ],
   "source": [
    "help(o3d.io.read_point_cloud)"
   ]
  },
  {
   "cell_type": "code",
   "execution_count": 105,
   "metadata": {},
   "outputs": [],
   "source": [
    "pcd = o3d.geometry.PointCloud()\n",
    "xyz = np.array([[x[0] for x in pos_rots]]).reshape(-1, 3)\n",
    "quats = np.array([[x[1] for x in pos_rots]]).reshape(-1, 4)\n",
    "pcd.points = o3d.utility.Vector3dVector(xyz)"
   ]
  },
  {
   "cell_type": "code",
   "execution_count": 82,
   "metadata": {},
   "outputs": [],
   "source": [
    "o3d.visualization.draw_geometries([pcd])"
   ]
  },
  {
   "cell_type": "code",
   "execution_count": 83,
   "metadata": {},
   "outputs": [
    {
     "name": "stdout",
     "output_type": "stream",
     "text": [
      "-- pytorch version=1.10.0\n",
      "-- device=cpu\n"
     ]
    }
   ],
   "source": [
    "import numpy as np\n",
    "import open3d as o3d\n",
    "import torch\n",
    "\n",
    "\n",
    "# test whether GPU works\n",
    "try:\n",
    "  aa = torch.cuda.FloatTensor(3,3).normal_()\n",
    "except:\n",
    "  # raise OSError('-- cuda is not supported')\n",
    "  pass\n",
    "\n",
    "# specify device\n",
    "device = torch.device('cuda') if torch.cuda.is_available() else torch.device('cpu')\n",
    "\n",
    "\n",
    "print('-- pytorch version={}'.format(torch.__version__))\n",
    "print('-- device={}'.format(device))\n",
    "\n",
    "smplx_model_path='../models_smplx_v1_1/models/'\n",
    "\n",
    "import smplx  # SMPL-X; pip install smplx\n",
    "from human_body_prior.tools.model_loader import load_model\n",
    "\n",
    "\n",
    "def get_smplx_model(gender, device):\n",
    "    body_model_path = smplx_model_path\n",
    "    body_model = smplx.create(body_model_path, \n",
    "                          model_type='smplx',        ## smpl, smpl+h, or smplx?\n",
    "                          gender=gender, ext='npz',  ## file format \n",
    "                          num_pca_comps=12,          ## MANO hand pose pca component\n",
    "                          create_global_orient=True, \n",
    "                          create_body_pose=True,\n",
    "                          create_betas=True,\n",
    "                          create_left_hand_pose=True,\n",
    "                          create_right_hand_pose=True,\n",
    "                          create_expression=True, \n",
    "                          create_jaw_pose=True,\n",
    "                          create_leye_pose=True,\n",
    "                          create_reye_pose=True,\n",
    "                          create_transl=True,\n",
    "                          batch_size=1               ## how many bodies in a batch?\n",
    "                          )\n",
    "    body_model.eval()\n",
    "    return body_model\n",
    "\n",
    "smplx_neutral = get_smplx_model(gender='neutral', device=device)\n",
    "\n",
    "\n",
    "def draw_bodies(gender, betas, thetas):\n",
    "    bm = smplx_neutral\n",
    "\n",
    "\n",
    "    ## read verts and face from smplx model\n",
    "    params = {'betas': betas,\n",
    "              'body_pose': thetas\n",
    "              }\n",
    "\n",
    "\n",
    "    verts = bm(return_verts=True, **params).vertices.detach().cpu().numpy()[0]\n",
    "    faces = bm.faces\n",
    "\n",
    "    ## put verts and face into open3d, and compute surface normal\n",
    "    coord = o3d.geometry.TriangleMesh.create_coordinate_frame(size=0.5)\n",
    "    body = o3d.geometry.TriangleMesh()\n",
    "    body.vertices = o3d.utility.Vector3dVector(verts)\n",
    "    body.triangles = o3d.utility.Vector3iVector(faces)\n",
    "    body.vertex_normals = o3d.utility.Vector3dVector([])\n",
    "    body.triangle_normals = o3d.utility.Vector3dVector([])\n",
    "    body.compute_vertex_normals()\n",
    "    o3d.visualization.draw_geometries([body, coord])\n",
    "    \n",
    "    return None\n"
   ]
  },
  {
   "cell_type": "code",
   "execution_count": 84,
   "metadata": {},
   "outputs": [],
   "source": [
    "gender = 'neutral'\n",
    "betas = torch.FloatTensor(1,10).zero_()\n",
    "# thetas = vposer.decode(torch.FloatTensor(1,32).normal_(), output_type='aa')\n",
    "thetas = torch.FloatTensor(1, 21, 3).zero_()\n",
    "\n",
    "draw_bodies(gender, betas, thetas)"
   ]
  },
  {
   "cell_type": "code",
   "execution_count": 88,
   "metadata": {},
   "outputs": [
    {
     "data": {
      "text/plain": [
       "['__annotations__',\n",
       " '__class__',\n",
       " '__dataclass_fields__',\n",
       " '__dataclass_params__',\n",
       " '__delattr__',\n",
       " '__dict__',\n",
       " '__dir__',\n",
       " '__doc__',\n",
       " '__eq__',\n",
       " '__format__',\n",
       " '__ge__',\n",
       " '__getattribute__',\n",
       " '__getitem__',\n",
       " '__gt__',\n",
       " '__hash__',\n",
       " '__init__',\n",
       " '__init_subclass__',\n",
       " '__iter__',\n",
       " '__le__',\n",
       " '__lt__',\n",
       " '__module__',\n",
       " '__ne__',\n",
       " '__new__',\n",
       " '__reduce__',\n",
       " '__reduce_ex__',\n",
       " '__repr__',\n",
       " '__setattr__',\n",
       " '__sizeof__',\n",
       " '__str__',\n",
       " '__subclasshook__',\n",
       " '__weakref__',\n",
       " 'betas',\n",
       " 'body_pose',\n",
       " 'expression',\n",
       " 'full_pose',\n",
       " 'get',\n",
       " 'global_orient',\n",
       " 'items',\n",
       " 'jaw_pose',\n",
       " 'joints',\n",
       " 'keys',\n",
       " 'left_hand_pose',\n",
       " 'right_hand_pose',\n",
       " 'transl',\n",
       " 'v_shaped',\n",
       " 'values',\n",
       " 'vertices']"
      ]
     },
     "execution_count": 88,
     "metadata": {},
     "output_type": "execute_result"
    }
   ],
   "source": [
    "dir(smplx_neutral(return_full_pose=True))"
   ]
  },
  {
   "cell_type": "code",
   "execution_count": 97,
   "metadata": {},
   "outputs": [],
   "source": [
    "pose = smplx_neutral(return_full_pose=True).body_pose.detach().numpy()"
   ]
  },
  {
   "cell_type": "code",
   "execution_count": 98,
   "metadata": {},
   "outputs": [],
   "source": [
    "pose = pose.reshape(21, 3)"
   ]
  },
  {
   "cell_type": "code",
   "execution_count": 100,
   "metadata": {},
   "outputs": [
    {
     "data": {
      "text/plain": [
       "array([[0., 0., 0.],\n",
       "       [0., 0., 0.],\n",
       "       [0., 0., 0.],\n",
       "       [0., 0., 0.],\n",
       "       [0., 0., 0.],\n",
       "       [0., 0., 0.],\n",
       "       [0., 0., 0.],\n",
       "       [0., 0., 0.],\n",
       "       [0., 0., 0.],\n",
       "       [0., 0., 0.],\n",
       "       [0., 0., 0.],\n",
       "       [0., 0., 0.],\n",
       "       [0., 0., 0.],\n",
       "       [0., 0., 0.],\n",
       "       [0., 0., 0.],\n",
       "       [0., 0., 0.],\n",
       "       [0., 0., 0.],\n",
       "       [0., 0., 0.],\n",
       "       [0., 0., 0.],\n",
       "       [0., 0., 0.],\n",
       "       [0., 0., 0.]], dtype=float32)"
      ]
     },
     "execution_count": 100,
     "metadata": {},
     "output_type": "execute_result"
    }
   ],
   "source": [
    "pose"
   ]
  },
  {
   "cell_type": "code",
   "execution_count": 106,
   "metadata": {},
   "outputs": [
    {
     "data": {
      "text/plain": [
       "array([[ 0.0178251 ,  0.9272303 , -0.02271925, -0.3733767 ],\n",
       "       [ 0.01839411,  0.9174886 , -0.02226107, -0.39671266],\n",
       "       [ 0.03142153,  0.90529674, -0.05320511, -0.4202614 ],\n",
       "       [ 0.        ,  0.        ,  0.        ,  0.        ],\n",
       "       [ 0.7108467 , -0.52166974, -0.3446686 ,  0.32211995],\n",
       "       [ 0.00442779,  0.10714639,  0.99167603,  0.07126574],\n",
       "       [ 0.9467569 , -0.2384138 , -0.20959999,  0.05364702],\n",
       "       [ 0.9508916 , -0.24291183, -0.1889537 , -0.03309702],\n",
       "       [ 0.76338077,  0.51248163, -0.34133682, -0.19519634],\n",
       "       [ 0.9421635 ,  0.11096896,  0.18622175, -0.25560746],\n",
       "       [-0.47911966, -0.23655872,  0.8256013 ,  0.18129192],\n",
       "       [-0.45846066, -0.12835845,  0.84244424,  0.2522414 ],\n",
       "       [ 0.7502524 , -0.65504926, -0.04711846,  0.07623353],\n",
       "       [ 0.4485762 ,  0.06210395,  0.88908917,  0.06665626],\n",
       "       [-0.30771   , -0.2575778 ,  0.90994984, -0.10468742],\n",
       "       [ 0.        ,  0.        ,  0.        ,  0.        ],\n",
       "       [ 0.56783   ,  0.64436275, -0.34759393, -0.37622356],\n",
       "       [ 0.9118082 ,  0.05031295,  0.38895607, -0.12160436],\n",
       "       [ 0.9696458 ,  0.11287221,  0.21468112, -0.03096716],\n",
       "       [ 0.        ,  0.        ,  0.        ,  0.        ],\n",
       "       [ 0.02220851,  0.90612316, -0.03572872, -0.42091698],\n",
       "       [ 0.        ,  0.        ,  0.        ,  0.        ],\n",
       "       [ 0.        ,  0.        ,  0.        ,  0.        ],\n",
       "       [ 0.        ,  0.        ,  0.        ,  0.        ],\n",
       "       [ 0.        ,  0.        ,  0.        ,  0.        ]])"
      ]
     },
     "execution_count": 106,
     "metadata": {},
     "output_type": "execute_result"
    }
   ],
   "source": [
    "quats"
   ]
  },
  {
   "cell_type": "code",
   "execution_count": 121,
   "metadata": {},
   "outputs": [],
   "source": [
    "from pytorch3d import transforms\n",
    "aa = transforms.quaternion_to_axis_angle(torch.tensor(quats))\n",
    "\n",
    "gender = 'neutral'\n",
    "betas = torch.FloatTensor(1,10).zero_()\n",
    "# thetas = vposer.decode(torch.FloatTensor(1,32).normal_(), output_type='aa')\n",
    "# thetas = torch.FloatTensor(1, 21, 3).zero_()\n",
    "\n",
    "draw_bodies(gender, betas, aa[:21].reshape(1, 21, 3).float())"
   ]
  },
  {
   "cell_type": "code",
   "execution_count": 116,
   "metadata": {},
   "outputs": [
    {
     "data": {
      "text/plain": [
       "torch.float32"
      ]
     },
     "execution_count": 116,
     "metadata": {},
     "output_type": "execute_result"
    }
   ],
   "source": [
    "aa.float().dtype"
   ]
  },
  {
   "cell_type": "code",
   "execution_count": 114,
   "metadata": {},
   "outputs": [
    {
     "data": {
      "text/plain": [
       "torch.float32"
      ]
     },
     "execution_count": 114,
     "metadata": {},
     "output_type": "execute_result"
    }
   ],
   "source": [
    "betas.dtype"
   ]
  },
  {
   "cell_type": "code",
   "execution_count": 115,
   "metadata": {},
   "outputs": [
    {
     "ename": "AttributeError",
     "evalue": "'Tensor' object has no attribute 'astype'",
     "output_type": "error",
     "traceback": [
      "\u001b[1;31m---------------------------------------------------------------------------\u001b[0m",
      "\u001b[1;31mAttributeError\u001b[0m                            Traceback (most recent call last)",
      "\u001b[1;32m<ipython-input-115-67458e2505ec>\u001b[0m in \u001b[0;36m<module>\u001b[1;34m\u001b[0m\n\u001b[1;32m----> 1\u001b[1;33m \u001b[0maa\u001b[0m\u001b[1;33m.\u001b[0m\u001b[0mastype\u001b[0m\u001b[1;33m(\u001b[0m\u001b[0mtorch\u001b[0m\u001b[1;33m.\u001b[0m\u001b[0mfloat32\u001b[0m\u001b[1;33m)\u001b[0m\u001b[1;33m\u001b[0m\u001b[1;33m\u001b[0m\u001b[0m\n\u001b[0m",
      "\u001b[1;31mAttributeError\u001b[0m: 'Tensor' object has no attribute 'astype'"
     ]
    }
   ],
   "source": [
    "aa.astype(torch.float32)"
   ]
  },
  {
   "cell_type": "code",
   "execution_count": 138,
   "metadata": {},
   "outputs": [],
   "source": [
    "pkl_path = '../quantitative_prox/fittings/mosh/vicon_03301_01/results/'\n",
    "import glob\n",
    "folders = glob.glob(pkl_path + '*')"
   ]
  },
  {
   "cell_type": "code",
   "execution_count": 143,
   "metadata": {},
   "outputs": [],
   "source": [
    "import pickle\n",
    "files = glob.glob(folders[6] + '/*')\n",
    "with open(files[0], 'rb') as fn:\n",
    "    out = pickle.load(fn, encoding='latin1')"
   ]
  },
  {
   "cell_type": "code",
   "execution_count": 156,
   "metadata": {},
   "outputs": [
    {
     "data": {
      "text/plain": [
       "'../quantitative_prox/fittings/mosh/vicon_03301_01/results\\\\s007_frame_00001__00.00.00.009'"
      ]
     },
     "execution_count": 156,
     "metadata": {},
     "output_type": "execute_result"
    }
   ],
   "source": [
    "folders[6]"
   ]
  },
  {
   "cell_type": "code",
   "execution_count": 150,
   "metadata": {},
   "outputs": [
    {
     "data": {
      "text/plain": [
       "(10,)"
      ]
     },
     "execution_count": 150,
     "metadata": {},
     "output_type": "execute_result"
    }
   ],
   "source": [
    "out['beta'].shape"
   ]
  },
  {
   "cell_type": "code",
   "execution_count": 151,
   "metadata": {},
   "outputs": [],
   "source": [
    "gender = 'neutral'\n",
    "betas = torch.FloatTensor(1,10).zero_()\n",
    "# thetas = vposer.decode(torch.FloatTensor(1,32).normal_(), output_type='aa')\n",
    "# thetas = torch.FloatTensor(1, 21, 3).zero_()\n",
    "\n",
    "draw_bodies(gender, torch.tensor(out['beta']).reshape(1, 10).float(), torch.tensor(out['body_pose']).reshape(1, 21, 3).float())"
   ]
  },
  {
   "cell_type": "code",
   "execution_count": null,
   "metadata": {},
   "outputs": [],
   "source": []
  }
 ],
 "metadata": {
  "kernelspec": {
   "display_name": "Python 3",
   "language": "python",
   "name": "python3"
  },
  "language_info": {
   "codemirror_mode": {
    "name": "ipython",
    "version": 3
   },
   "file_extension": ".py",
   "mimetype": "text/x-python",
   "name": "python",
   "nbconvert_exporter": "python",
   "pygments_lexer": "ipython3",
   "version": "3.9.12"
  },
  "orig_nbformat": 4
 },
 "nbformat": 4,
 "nbformat_minor": 2
}
