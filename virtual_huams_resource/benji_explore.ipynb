{
 "cells": [
  {
   "cell_type": "code",
   "execution_count": 2,
   "metadata": {},
   "outputs": [],
   "source": [
    "import argparse\n",
    "import os\n",
    "import pickle\n",
    "import sys\n",
    "import cv2\n",
    "import numpy as np\n",
    "import open3d as o3d\n",
    "import matplotlib.pyplot as plt\n",
    "# from gta_utils import LIMBS, read_depthmap\n",
    "# from sklearn.neighbors import NearestNeighbors\n",
    "from tqdm import tqdm\n",
    "import glob\n",
    "# from utils import *\n",
    "import copy\n",
    "import argparse"
   ]
  },
  {
   "cell_type": "code",
   "execution_count": 10,
   "metadata": {},
   "outputs": [],
   "source": [
    "from IPython.core.interactiveshell import InteractiveShell\n",
    "InteractiveShell.ast_node_interactivity = \"all\"\n",
    "from unittest.mock import Mock\n",
    "args = Mock()\n",
    "args.data_root = '../GTA-1M/FPS-30'\n",
    "args.sequence_id = '2020-05-20-21-13-13'"
   ]
  },
  {
   "cell_type": "code",
   "execution_count": 6,
   "metadata": {},
   "outputs": [],
   "source": [
    "info = pickle.load(open(os.path.join(args.data_root, args.sequence_id, 'info_frames.pickle'), 'rb'))\n",
    "info_npz = np.load(os.path.join(args.data_root, args.sequence_id, 'info_frames.npz'))"
   ]
  },
  {
   "cell_type": "code",
   "execution_count": 26,
   "metadata": {},
   "outputs": [
    {
     "data": {
      "text/plain": [
       "list"
      ]
     },
     "execution_count": 26,
     "metadata": {},
     "output_type": "execute_result"
    },
    {
     "data": {
      "text/plain": [
       "7174"
      ]
     },
     "execution_count": 26,
     "metadata": {},
     "output_type": "execute_result"
    }
   ],
   "source": [
    "type(info)\n",
    "len(info)  # 7174 frames\n",
    "frame = info[1]"
   ]
  },
  {
   "cell_type": "code",
   "execution_count": 27,
   "metadata": {},
   "outputs": [
    {
     "data": {
      "text/plain": [
       "38"
      ]
     },
     "execution_count": 27,
     "metadata": {},
     "output_type": "execute_result"
    },
    {
     "data": {
      "text/plain": [
       "['time_since_player_hit_vehicle',\n",
       " 'time_since_player_hit_ped',\n",
       " 'time_since_player_drove_on_pavement',\n",
       " 'time_since_player_drove_against_traffic',\n",
       " 'position',\n",
       " 'forward_vector',\n",
       " 'heading']"
      ]
     },
     "execution_count": 27,
     "metadata": {},
     "output_type": "execute_result"
    },
    {
     "ename": "KeyError",
     "evalue": "'cam_far_clip'",
     "output_type": "error",
     "traceback": [
      "\u001b[1;31m---------------------------------------------------------------------------\u001b[0m",
      "\u001b[1;31mKeyError\u001b[0m                                  Traceback (most recent call last)",
      "\u001b[1;32m~\\AppData\\Local\\Temp\\ipykernel_13220\\183805048.py\u001b[0m in \u001b[0;36m<module>\u001b[1;34m\u001b[0m\n\u001b[0;32m      5\u001b[0m \u001b[1;31m# only ever use cam_near_clip, cam_far_clip (if it's in the keys)\u001b[0m\u001b[1;33m\u001b[0m\u001b[1;33m\u001b[0m\u001b[1;33m\u001b[0m\u001b[0m\n\u001b[0;32m      6\u001b[0m \u001b[1;31m# frame['cam_near_clip']\u001b[0m\u001b[1;33m\u001b[0m\u001b[1;33m\u001b[0m\u001b[1;33m\u001b[0m\u001b[0m\n\u001b[1;32m----> 7\u001b[1;33m \u001b[0mframe\u001b[0m\u001b[1;33m[\u001b[0m\u001b[1;34m'cam_far_clip'\u001b[0m\u001b[1;33m]\u001b[0m\u001b[1;33m\u001b[0m\u001b[1;33m\u001b[0m\u001b[0m\n\u001b[0m",
      "\u001b[1;31mKeyError\u001b[0m: 'cam_far_clip'"
     ]
    }
   ],
   "source": [
    "keys = list(frame.keys())\n",
    "len(keys)\n",
    "keys[:7]\n",
    "\n",
    "# only ever use cam_near_clip, cam_far_clip (if it's in the keys)\n",
    "# frame['cam_near_clip']\n",
    "frame['cam_far_clip']"
   ]
  },
  {
   "cell_type": "code",
   "execution_count": 20,
   "metadata": {},
   "outputs": [
    {
     "data": {
      "text/plain": [
       "['joints_2d',\n",
       " 'joints_3d_cam',\n",
       " 'joints_3d_world',\n",
       " 'world2cam_trans',\n",
       " 'intrinsics']"
      ]
     },
     "execution_count": 20,
     "metadata": {},
     "output_type": "execute_result"
    }
   ],
   "source": [
    "info_npz.files"
   ]
  },
  {
   "cell_type": "code",
   "execution_count": 24,
   "metadata": {},
   "outputs": [
    {
     "data": {
      "text/plain": [
       "(7174, 21, 2)"
      ]
     },
     "execution_count": 24,
     "metadata": {},
     "output_type": "execute_result"
    },
    {
     "data": {
      "text/plain": [
       "(7174, 21, 3)"
      ]
     },
     "execution_count": 24,
     "metadata": {},
     "output_type": "execute_result"
    },
    {
     "data": {
      "text/plain": [
       "(7174, 21, 3)"
      ]
     },
     "execution_count": 24,
     "metadata": {},
     "output_type": "execute_result"
    },
    {
     "data": {
      "text/plain": [
       "(7174, 4, 4)"
      ]
     },
     "execution_count": 24,
     "metadata": {},
     "output_type": "execute_result"
    },
    {
     "data": {
      "text/plain": [
       "(7174, 3, 3)"
      ]
     },
     "execution_count": 24,
     "metadata": {},
     "output_type": "execute_result"
    }
   ],
   "source": [
    "info_npz['joints_2d'].shape\n",
    "info_npz['joints_3d_cam'].shape\n",
    "info_npz['joints_3d_world'].shape\n",
    "info_npz['world2cam_trans'].shape\n",
    "info_npz['intrinsics'].shape"
   ]
  },
  {
   "cell_type": "code",
   "execution_count": 28,
   "metadata": {},
   "outputs": [
    {
     "data": {
      "text/plain": [
       "array([[-3.99268043e-01, -5.57384163e-01,  2.37011002e+00],\n",
       "       [-3.87507203e-01, -4.78958571e-01,  2.45071970e+00],\n",
       "       [-4.12958797e-01, -4.31811765e-01,  2.43071643e+00],\n",
       "       [-5.71415609e-01, -3.88806623e-01,  2.50903313e+00],\n",
       "       [-6.33770874e-01, -1.50383676e-01,  2.62917514e+00],\n",
       "       [-6.48610792e-01,  1.05727569e-01,  2.66611964e+00],\n",
       "       [-3.49800067e-01, -4.40915596e-01,  2.43062093e+00],\n",
       "       [-1.86794363e-01, -4.51703470e-01,  2.51068334e+00],\n",
       "       [-9.13740933e-02, -2.26623621e-01,  2.63480977e+00],\n",
       "       [-2.79279064e-02,  2.43037938e-02,  2.64878672e+00],\n",
       "       [-3.55254396e-01, -2.56343840e-01,  2.55627753e+00],\n",
       "       [-3.44239252e-01, -1.53658090e-01,  2.60189830e+00],\n",
       "       [-3.38668394e-01, -7.87498362e-02,  2.64362259e+00],\n",
       "       [-3.33603703e-01, -2.66577578e-03,  2.68083765e+00],\n",
       "       [-3.32513670e-01,  1.85229615e-02,  2.67929909e+00],\n",
       "       [-4.24634727e-01,  9.04778474e-02,  2.71054059e+00],\n",
       "       [-4.09039024e-01,  4.55251196e-01,  2.88929397e+00],\n",
       "       [-3.64558106e-01,  7.53340715e-01,  3.17161190e+00],\n",
       "       [-2.32684884e-01,  8.01966427e-02,  2.70885069e+00],\n",
       "       [-1.15422940e-01,  4.42327001e-01,  2.85155844e+00],\n",
       "       [-6.31273662e-02,  7.64924211e-01,  3.10404760e+00]])"
      ]
     },
     "execution_count": 28,
     "metadata": {},
     "output_type": "execute_result"
    }
   ],
   "source": [
    "info_npz['joints_3d_cam'][0]"
   ]
  },
  {
   "cell_type": "code",
   "execution_count": null,
   "metadata": {},
   "outputs": [],
   "source": []
  }
 ],
 "metadata": {
  "interpreter": {
   "hash": "34763ccac23d8dfc8fdcddd5a9d5e6124e526227b9ab61d21d7596358b3ca4af"
  },
  "kernelspec": {
   "display_name": "Python 3.7.13 ('prox')",
   "language": "python",
   "name": "python3"
  },
  "language_info": {
   "codemirror_mode": {
    "name": "ipython",
    "version": 3
   },
   "file_extension": ".py",
   "mimetype": "text/x-python",
   "name": "python",
   "nbconvert_exporter": "python",
   "pygments_lexer": "ipython3",
   "version": "3.7.13"
  },
  "orig_nbformat": 4
 },
 "nbformat": 4,
 "nbformat_minor": 2
}
