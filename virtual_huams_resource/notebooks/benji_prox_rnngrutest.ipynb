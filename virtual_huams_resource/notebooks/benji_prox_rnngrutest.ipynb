{
 "cells": [
  {
   "cell_type": "code",
   "execution_count": 1,
   "metadata": {},
   "outputs": [
    {
     "name": "stdout",
     "output_type": "stream",
     "text": [
      "numpy: 1.21.5\n"
     ]
    }
   ],
   "source": [
    "\n",
    "import numpy as np # for data manipulation\n",
    "print('numpy: %s' % np.__version__) # print version\n",
    "import math # to help with data reshaping of the data\n",
    "\n",
    "import numpy as np\n",
    "import torch\n",
    "#import torchvision\n",
    "import torch.nn as nn\n",
    "import torch.nn.functional as F\n",
    "from torch.autograd import Variable\n",
    "\n",
    "# from sklearn.model_selection import train_test_split\n",
    "import tqdm\n",
    "import matplotlib.pyplot as plt\n",
    "import logging\n",
    "\n",
    "from IPython.core.interactiveshell import InteractiveShell\n",
    "InteractiveShell.ast_node_interactivity = \"all\""
   ]
  },
  {
   "cell_type": "code",
   "execution_count": 2,
   "metadata": {},
   "outputs": [],
   "source": [
    "from pose_gru import PoseGRU_inputFC2\n",
    "\n",
    "# def __init__(self, batch_size=10, input_size=3 * 21, hidden_size=512, n_layers=2, n_joint=21):\n",
    "     \n",
    "gru = PoseGRU_inputFC2()"
   ]
  },
  {
   "cell_type": "code",
   "execution_count": 3,
   "metadata": {},
   "outputs": [
    {
     "data": {
      "text/plain": [
       "'1.10.0'"
      ]
     },
     "execution_count": 3,
     "metadata": {},
     "output_type": "execute_result"
    }
   ],
   "source": [
    "torch.__version__"
   ]
  },
  {
   "cell_type": "code",
   "execution_count": 4,
   "metadata": {},
   "outputs": [],
   "source": [
    "import os\n",
    "os.chdir('../')"
   ]
  },
  {
   "cell_type": "code",
   "execution_count": 5,
   "metadata": {},
   "outputs": [],
   "source": [
    "from benji_prox_dataloader import *\n",
    "root_dir = 'D:/prox_data/PROXD_attempt2/PROXD'\n",
    "in_frames = 10\n",
    "pred_frames = 5\n",
    "pd = proxDataset(root_dir, in_frames=in_frames, pred_frames=pred_frames, verbose=False)\n",
    "\n",
    "dataloader = DataLoader(pd, batch_size=4,\n",
    "                        shuffle=True, num_workers=0, collate_fn=my_collate)"
   ]
  },
  {
   "cell_type": "code",
   "execution_count": 6,
   "metadata": {},
   "outputs": [
    {
     "data": {
      "text/plain": [
       "torch.Size([4, 10, 21, 3])"
      ]
     },
     "execution_count": 6,
     "metadata": {},
     "output_type": "execute_result"
    },
    {
     "data": {
      "text/plain": [
       "torch.Size([4, 5, 21, 3])"
      ]
     },
     "execution_count": 6,
     "metadata": {},
     "output_type": "execute_result"
    }
   ],
   "source": [
    "i, in_skels, pred_skels = next(iter(dataloader))\n",
    "in_skels.shape\n",
    "pred_skels.shape"
   ]
  },
  {
   "cell_type": "code",
   "execution_count": 7,
   "metadata": {},
   "outputs": [
    {
     "data": {
      "text/plain": [
       "torch.Size([4, 21, 3])"
      ]
     },
     "execution_count": 7,
     "metadata": {},
     "output_type": "execute_result"
    }
   ],
   "source": [
    "in_skels[:, 2].shape"
   ]
  },
  {
   "cell_type": "code",
   "execution_count": 8,
   "metadata": {},
   "outputs": [],
   "source": [
    "from pose_gru import PoseGRU_inputFC2\n",
    "\n",
    "# def __init__(self, batch_size=10, input_size=3 * 21, hidden_size=512, n_layers=2, n_joint=21):\n",
    "     \n",
    "gru = PoseGRU_inputFC2()\n"
   ]
  },
  {
   "cell_type": "code",
   "execution_count": 9,
   "metadata": {},
   "outputs": [],
   "source": [
    "cur_state, output = gru.forward_prediction(in_skels, pred_len=3)"
   ]
  },
  {
   "cell_type": "code",
   "execution_count": 11,
   "metadata": {},
   "outputs": [
    {
     "data": {
      "text/plain": [
       "torch.Size([4, 512])"
      ]
     },
     "execution_count": 11,
     "metadata": {},
     "output_type": "execute_result"
    },
    {
     "data": {
      "text/plain": [
       "3"
      ]
     },
     "execution_count": 11,
     "metadata": {},
     "output_type": "execute_result"
    }
   ],
   "source": [
    "cur_state.shape\n",
    "len(output)"
   ]
  },
  {
   "cell_type": "code",
   "execution_count": 12,
   "metadata": {},
   "outputs": [
    {
     "data": {
      "text/plain": [
       "torch.Size([4, 21, 3])"
      ]
     },
     "execution_count": 12,
     "metadata": {},
     "output_type": "execute_result"
    }
   ],
   "source": [
    "output[0].shape"
   ]
  },
  {
   "cell_type": "code",
   "execution_count": 15,
   "metadata": {},
   "outputs": [
    {
     "data": {
      "text/plain": [
       "[tensor([[[ 0.0087, -0.0082, -0.0593],\n",
       "          [-0.0623, -0.0513, -0.0104],\n",
       "          [ 0.0266, -0.0343, -0.0195],\n",
       "          [ 0.0887,  0.0540, -0.0569],\n",
       "          [-0.1908, -0.0859,  0.0843],\n",
       "          [-0.0181,  0.0034,  0.0855],\n",
       "          [-0.0409, -0.0163, -0.0291],\n",
       "          [ 0.0094, -0.0172, -0.0315],\n",
       "          [ 0.0770, -0.0324, -0.0348],\n",
       "          [ 0.0672,  0.0181, -0.0040],\n",
       "          [ 0.0361,  0.1464, -0.0757],\n",
       "          [ 0.0150,  0.0303, -0.0079],\n",
       "          [-0.0503, -0.0265,  0.0523],\n",
       "          [-0.0401,  0.0083, -0.0403],\n",
       "          [ 0.1029,  0.1092, -0.0280],\n",
       "          [-0.0430, -0.0362,  0.0468],\n",
       "          [-0.0310, -0.0292,  0.1688],\n",
       "          [-0.1236,  0.0144, -0.0191],\n",
       "          [ 0.0540, -0.0295, -0.0946],\n",
       "          [ 0.0573, -0.0199,  0.0477],\n",
       "          [ 0.0282, -0.0270,  0.0450]],\n",
       " \n",
       "         [[ 0.0072,  0.0280, -0.0718],\n",
       "          [-0.0943, -0.0598,  0.0586],\n",
       "          [-0.0179, -0.0915,  0.0364],\n",
       "          [ 0.1414,  0.1104, -0.0350],\n",
       "          [-0.2241, -0.1059,  0.1276],\n",
       "          [-0.0724,  0.0006,  0.0763],\n",
       "          [-0.0687, -0.0503, -0.0356],\n",
       "          [ 0.0274,  0.0339, -0.0107],\n",
       "          [ 0.0069, -0.0235, -0.0657],\n",
       "          [ 0.1111,  0.0981, -0.0333],\n",
       "          [-0.0022,  0.1502, -0.0791],\n",
       "          [-0.0191,  0.0252, -0.0463],\n",
       "          [-0.0698, -0.0678, -0.0059],\n",
       "          [-0.0273,  0.0332, -0.0611],\n",
       "          [ 0.0954,  0.1961, -0.0580],\n",
       "          [-0.0754, -0.0126,  0.0900],\n",
       "          [-0.0267, -0.0064,  0.1669],\n",
       "          [-0.1590,  0.1110, -0.0898],\n",
       "          [ 0.1137, -0.0315, -0.0583],\n",
       "          [ 0.0672, -0.0612,  0.0393],\n",
       "          [ 0.0251, -0.0081,  0.0188]],\n",
       " \n",
       "         [[-0.0457,  0.0236, -0.0126],\n",
       "          [-0.0530, -0.0717, -0.0353],\n",
       "          [ 0.0235, -0.0415, -0.0099],\n",
       "          [ 0.1026, -0.0281, -0.0597],\n",
       "          [-0.1207, -0.0842,  0.0594],\n",
       "          [-0.0389,  0.0224,  0.1136],\n",
       "          [ 0.0520,  0.0135, -0.0165],\n",
       "          [ 0.0200, -0.0598,  0.0288],\n",
       "          [ 0.0293, -0.0275, -0.0406],\n",
       "          [ 0.0113,  0.0321, -0.0265],\n",
       "          [ 0.0133,  0.0503, -0.0554],\n",
       "          [-0.0197,  0.0354,  0.0032],\n",
       "          [-0.0071, -0.0366,  0.0500],\n",
       "          [-0.0493,  0.0085,  0.0023],\n",
       "          [ 0.0901,  0.0530, -0.0369],\n",
       "          [-0.0638, -0.0031,  0.0517],\n",
       "          [-0.0031, -0.0164,  0.0762],\n",
       "          [-0.0854,  0.0014, -0.0039],\n",
       "          [ 0.0407,  0.0373, -0.0448],\n",
       "          [ 0.1006, -0.0044,  0.0459],\n",
       "          [-0.0097,  0.0032, -0.0049]],\n",
       " \n",
       "         [[ 0.0237, -0.0128, -0.0824],\n",
       "          [-0.0706, -0.0394,  0.0231],\n",
       "          [-0.0054, -0.0181, -0.0018],\n",
       "          [ 0.0936,  0.1246, -0.0422],\n",
       "          [-0.2106, -0.0934,  0.1121],\n",
       "          [-0.0186, -0.0049,  0.0612],\n",
       "          [-0.0556, -0.0164, -0.0470],\n",
       "          [ 0.0090, -0.0029, -0.0329],\n",
       "          [ 0.0712, -0.0320, -0.0283],\n",
       "          [ 0.0862,  0.0538, -0.0297],\n",
       "          [ 0.0719,  0.1419, -0.0694],\n",
       "          [ 0.0003,  0.0308, -0.0251],\n",
       "          [-0.0713, -0.0521,  0.0409],\n",
       "          [-0.0435,  0.0421, -0.0548],\n",
       "          [ 0.1052,  0.1420, -0.0559],\n",
       "          [-0.0731, -0.0289,  0.0877],\n",
       "          [-0.0288, -0.0270,  0.2295],\n",
       "          [-0.1382,  0.0773, -0.0655],\n",
       "          [ 0.1187, -0.0549, -0.0885],\n",
       "          [ 0.0800, -0.0649,  0.0360],\n",
       "          [ 0.0483,  0.0060,  0.0210]]], grad_fn=<ViewBackward0>),\n",
       " tensor([[[ 0.0114, -0.0079, -0.0377],\n",
       "          [-0.0469, -0.0478, -0.0102],\n",
       "          [ 0.0156, -0.0384, -0.0152],\n",
       "          [ 0.0831,  0.0455, -0.0571],\n",
       "          [-0.1638, -0.0710,  0.0783],\n",
       "          [-0.0322,  0.0025,  0.0717],\n",
       "          [-0.0369, -0.0078, -0.0150],\n",
       "          [ 0.0095, -0.0227, -0.0247],\n",
       "          [ 0.0637, -0.0415, -0.0402],\n",
       "          [ 0.0491,  0.0227, -0.0073],\n",
       "          [ 0.0351,  0.1125, -0.0618],\n",
       "          [ 0.0011,  0.0324, -0.0015],\n",
       "          [-0.0565, -0.0071,  0.0536],\n",
       "          [-0.0375,  0.0091, -0.0351],\n",
       "          [ 0.1050,  0.0830, -0.0223],\n",
       "          [-0.0432, -0.0291,  0.0452],\n",
       "          [-0.0216, -0.0210,  0.1407],\n",
       "          [-0.1010,  0.0260, -0.0196],\n",
       "          [ 0.0551, -0.0104, -0.0808],\n",
       "          [ 0.0573, -0.0101,  0.0513],\n",
       "          [ 0.0218, -0.0204,  0.0331]],\n",
       " \n",
       "         [[ 0.0099,  0.0214, -0.0493],\n",
       "          [-0.0730, -0.0487,  0.0510],\n",
       "          [-0.0257, -0.0827,  0.0322],\n",
       "          [ 0.1232,  0.0902, -0.0426],\n",
       "          [-0.1947, -0.0914,  0.1079],\n",
       "          [-0.0817, -0.0018,  0.0623],\n",
       "          [-0.0548, -0.0363, -0.0186],\n",
       "          [ 0.0221,  0.0199, -0.0151],\n",
       "          [ 0.0075, -0.0446, -0.0669],\n",
       "          [ 0.0839,  0.0854, -0.0256],\n",
       "          [ 0.0024,  0.1170, -0.0636],\n",
       "          [-0.0224,  0.0293, -0.0343],\n",
       "          [-0.0745, -0.0337,  0.0035],\n",
       "          [-0.0328,  0.0332, -0.0592],\n",
       "          [ 0.0961,  0.1510, -0.0467],\n",
       "          [-0.0661, -0.0147,  0.0823],\n",
       "          [-0.0158, -0.0041,  0.1415],\n",
       "          [-0.1349,  0.1019, -0.0716],\n",
       "          [ 0.1020, -0.0116, -0.0503],\n",
       "          [ 0.0611, -0.0391,  0.0477],\n",
       "          [ 0.0286, -0.0061,  0.0089]],\n",
       " \n",
       "         [[-0.0387,  0.0232, -0.0046],\n",
       "          [-0.0422, -0.0567, -0.0301],\n",
       "          [ 0.0172, -0.0443, -0.0057],\n",
       "          [ 0.0934, -0.0165, -0.0582],\n",
       "          [-0.1117, -0.0710,  0.0583],\n",
       "          [-0.0454,  0.0145,  0.0981],\n",
       "          [ 0.0450,  0.0134, -0.0122],\n",
       "          [ 0.0183, -0.0626,  0.0177],\n",
       "          [ 0.0181, -0.0405, -0.0376],\n",
       "          [ 0.0078,  0.0358, -0.0219],\n",
       "          [ 0.0152,  0.0405, -0.0514],\n",
       "          [-0.0236,  0.0380,  0.0041],\n",
       "          [-0.0171, -0.0187,  0.0437],\n",
       "          [-0.0470,  0.0085, -0.0034],\n",
       "          [ 0.0875,  0.0439, -0.0327],\n",
       "          [-0.0568, -0.0039,  0.0465],\n",
       "          [ 0.0044, -0.0113,  0.0617],\n",
       "          [-0.0748,  0.0098, -0.0116],\n",
       "          [ 0.0428,  0.0349, -0.0375],\n",
       "          [ 0.0929,  0.0010,  0.0416],\n",
       "          [-0.0050, -0.0026, -0.0098]],\n",
       " \n",
       "         [[ 0.0274, -0.0138, -0.0577],\n",
       "          [-0.0545, -0.0352,  0.0170],\n",
       "          [-0.0094, -0.0287, -0.0041],\n",
       "          [ 0.0862,  0.1004, -0.0460],\n",
       "          [-0.1837, -0.0763,  0.0964],\n",
       "          [-0.0383, -0.0051,  0.0522],\n",
       "          [-0.0500, -0.0074, -0.0302],\n",
       "          [ 0.0093, -0.0089, -0.0253],\n",
       "          [ 0.0604, -0.0475, -0.0382],\n",
       "          [ 0.0674,  0.0489, -0.0278],\n",
       "          [ 0.0637,  0.1114, -0.0545],\n",
       "          [-0.0121,  0.0350, -0.0171],\n",
       "          [-0.0739, -0.0246,  0.0456],\n",
       "          [-0.0405,  0.0367, -0.0484],\n",
       "          [ 0.1070,  0.1045, -0.0429],\n",
       "          [-0.0667, -0.0261,  0.0819],\n",
       "          [-0.0235, -0.0229,  0.1912],\n",
       "          [-0.1131,  0.0746, -0.0537],\n",
       "          [ 0.0990, -0.0287, -0.0769],\n",
       "          [ 0.0710, -0.0418,  0.0464],\n",
       "          [ 0.0412,  0.0074,  0.0112]]], grad_fn=<ViewBackward0>),\n",
       " tensor([[[ 1.4728e-02, -5.8059e-03, -1.9676e-02],\n",
       "          [-3.0818e-02, -3.9782e-02, -1.1941e-02],\n",
       "          [ 5.0656e-03, -4.1061e-02, -1.1148e-02],\n",
       "          [ 7.5157e-02,  3.3045e-02, -5.9132e-02],\n",
       "          [-1.3655e-01, -5.5662e-02,  7.0433e-02],\n",
       "          [-4.1170e-02,  1.4983e-03,  5.8029e-02],\n",
       "          [-2.8900e-02,  3.4402e-03, -1.0109e-03],\n",
       "          [ 6.7553e-03, -2.9292e-02, -2.1461e-02],\n",
       "          [ 4.7808e-02, -5.0697e-02, -4.2901e-02],\n",
       "          [ 3.1015e-02,  2.6963e-02, -7.5918e-03],\n",
       "          [ 3.2844e-02,  7.9172e-02, -5.0017e-02],\n",
       "          [-1.2815e-02,  3.5510e-02,  4.1916e-03],\n",
       "          [-5.6158e-02,  1.3462e-02,  5.0338e-02],\n",
       "          [-3.9779e-02,  9.1751e-03, -2.5549e-02],\n",
       "          [ 1.0301e-01,  5.8686e-02, -1.6472e-02],\n",
       "          [-4.5154e-02, -2.0523e-02,  4.1291e-02],\n",
       "          [-1.0563e-02, -1.4007e-02,  1.0748e-01],\n",
       "          [-8.1428e-02,  3.1882e-02, -1.7657e-02],\n",
       "          [ 4.4599e-02,  3.6270e-03, -6.4124e-02],\n",
       "          [ 5.9620e-02,  1.9336e-03,  5.1760e-02],\n",
       "          [ 1.8393e-02, -1.3389e-02,  1.7421e-02]],\n",
       " \n",
       "         [[ 1.3196e-02,  1.6412e-02, -2.9117e-02],\n",
       "          [-5.0499e-02, -3.4750e-02,  3.7616e-02],\n",
       "          [-3.0473e-02, -7.1932e-02,  2.6435e-02],\n",
       "          [ 1.0199e-01,  6.5244e-02, -5.0540e-02],\n",
       "          [-1.6268e-01, -7.4241e-02,  8.9102e-02],\n",
       "          [-8.1375e-02, -4.1869e-03,  4.9259e-02],\n",
       "          [-4.0050e-02, -1.7649e-02, -2.1064e-03],\n",
       "          [ 1.4856e-02,  4.0739e-03, -1.9084e-02],\n",
       "          [ 7.2470e-03, -6.0559e-02, -6.2973e-02],\n",
       "          [ 5.6336e-02,  7.1364e-02, -1.5822e-02],\n",
       "          [ 8.3985e-03,  8.4806e-02, -4.8641e-02],\n",
       "          [-2.5755e-02,  3.4138e-02, -2.1903e-02],\n",
       "          [-7.2183e-02,  5.8327e-05,  1.1725e-02],\n",
       "          [-4.0892e-02,  2.9738e-02, -4.8144e-02],\n",
       "          [ 9.5586e-02,  1.0680e-01, -3.5061e-02],\n",
       "          [-5.9403e-02, -1.4383e-02,  6.9842e-02],\n",
       "          [-3.1132e-03, -3.1527e-03,  1.0848e-01],\n",
       "          [-1.0991e-01,  8.6447e-02, -5.1444e-02],\n",
       "          [ 7.8317e-02,  2.7990e-03, -4.2011e-02],\n",
       "          [ 5.8637e-02, -1.5287e-02,  5.1575e-02],\n",
       "          [ 3.1127e-02, -4.3706e-03, -1.9570e-03]],\n",
       " \n",
       "         [[-2.7417e-02,  2.1251e-02, -9.4373e-04],\n",
       "          [-2.9611e-02, -3.9898e-02, -2.6675e-02],\n",
       "          [ 1.0193e-02, -4.4812e-02, -2.0100e-03],\n",
       "          [ 8.1028e-02, -6.4548e-03, -5.8194e-02],\n",
       "          [-1.0264e-01, -5.6300e-02,  5.6438e-02],\n",
       "          [-4.8498e-02,  8.5776e-03,  8.0397e-02],\n",
       "          [ 3.5729e-02,  1.5491e-02, -5.0674e-03],\n",
       "          [ 1.2892e-02, -6.2139e-02,  5.0672e-03],\n",
       "          [ 9.5297e-03, -5.1535e-02, -3.3913e-02],\n",
       "          [ 4.0410e-03,  3.7842e-02, -1.6820e-02],\n",
       "          [ 1.7116e-02,  3.1737e-02, -4.6740e-02],\n",
       "          [-2.8407e-02,  4.1543e-02,  5.7993e-03],\n",
       "          [-2.3266e-02,  2.0669e-03,  3.5942e-02],\n",
       "          [-4.7721e-02,  7.8390e-03, -5.5191e-03],\n",
       "          [ 8.3214e-02,  3.5176e-02, -2.6595e-02],\n",
       "          [-5.1730e-02, -4.2634e-03,  3.9907e-02],\n",
       "          [ 1.2134e-02, -6.5523e-03,  4.6469e-02],\n",
       "          [-6.6591e-02,  1.7873e-02, -1.6577e-02],\n",
       "          [ 3.4521e-02,  2.8840e-02, -3.1558e-02],\n",
       "          [ 8.4978e-02,  8.1059e-03,  3.8071e-02],\n",
       "          [ 1.0656e-03, -6.6136e-03, -1.6011e-02]],\n",
       " \n",
       "         [[ 2.9759e-02, -1.2661e-02, -3.4705e-02],\n",
       "          [-3.7008e-02, -2.7876e-02,  8.0293e-03],\n",
       "          [-1.2608e-02, -3.6684e-02, -5.1323e-03],\n",
       "          [ 7.6466e-02,  7.1862e-02, -5.1688e-02],\n",
       "          [-1.5367e-01, -5.9287e-02,  8.1154e-02],\n",
       "          [-5.0366e-02, -4.4809e-03,  4.3405e-02],\n",
       "          [-4.0355e-02,  4.2831e-03, -1.2054e-02],\n",
       "          [ 6.9947e-03, -1.7580e-02, -2.0940e-02],\n",
       "          [ 4.7125e-02, -6.0208e-02, -4.3561e-02],\n",
       "          [ 4.6702e-02,  4.4126e-02, -2.1127e-02],\n",
       "          [ 5.3861e-02,  8.0441e-02, -4.1889e-02],\n",
       "          [-2.3708e-02,  3.9262e-02, -8.7765e-03],\n",
       "          [-6.9921e-02,  2.9760e-03,  4.5940e-02],\n",
       "          [-4.2735e-02,  3.0058e-02, -3.5503e-02],\n",
       "          [ 1.0594e-01,  6.9977e-02, -3.0473e-02],\n",
       "          [-6.1695e-02, -2.1224e-02,  7.1292e-02],\n",
       "          [-1.4455e-02, -1.9086e-02,  1.4498e-01],\n",
       "          [-9.0245e-02,  6.5306e-02, -3.9694e-02],\n",
       "          [ 6.9985e-02, -8.0697e-03, -6.2772e-02],\n",
       "          [ 6.6307e-02, -1.8017e-02,  5.2549e-02],\n",
       "          [ 3.5607e-02,  7.5051e-03, -1.2619e-03]]], grad_fn=<ViewBackward0>)]"
      ]
     },
     "execution_count": 15,
     "metadata": {},
     "output_type": "execute_result"
    }
   ],
   "source": [
    "output"
   ]
  },
  {
   "cell_type": "code",
   "execution_count": 22,
   "metadata": {},
   "outputs": [
    {
     "data": {
      "text/plain": [
       "torch.Size([1, 4, 21, 3])"
      ]
     },
     "execution_count": 22,
     "metadata": {},
     "output_type": "execute_result"
    }
   ],
   "source": [
    "output[0].view((1,) + output[0].shape).shape"
   ]
  },
  {
   "cell_type": "code",
   "execution_count": 23,
   "metadata": {},
   "outputs": [
    {
     "data": {
      "text/plain": [
       "torch.Size([3, 4, 21, 3])"
      ]
     },
     "execution_count": 23,
     "metadata": {},
     "output_type": "execute_result"
    }
   ],
   "source": [
    "pred_skels = torch.cat([tens.view((1,) + tens.shape) for tens in output])\n",
    "pred_skels = pred_skels.transpose(0, 1)"
   ]
  },
  {
   "cell_type": "code",
   "execution_count": 13,
   "metadata": {},
   "outputs": [
    {
     "ename": "ValueError",
     "evalue": "only one element tensors can be converted to Python scalars",
     "output_type": "error",
     "traceback": [
      "\u001b[1;31m---------------------------------------------------------------------------\u001b[0m",
      "\u001b[1;31mValueError\u001b[0m                                Traceback (most recent call last)",
      "\u001b[1;32m<ipython-input-13-fd2a718710c4>\u001b[0m in \u001b[0;36m<module>\u001b[1;34m\u001b[0m\n\u001b[1;32m----> 1\u001b[1;33m \u001b[0mtemp\u001b[0m \u001b[1;33m=\u001b[0m \u001b[0mtorch\u001b[0m\u001b[1;33m.\u001b[0m\u001b[0mtensor\u001b[0m\u001b[1;33m(\u001b[0m\u001b[0moutput\u001b[0m\u001b[1;33m)\u001b[0m\u001b[1;33m.\u001b[0m\u001b[0mtranspose\u001b[0m\u001b[1;33m(\u001b[0m\u001b[1;36m0\u001b[0m\u001b[1;33m,\u001b[0m \u001b[1;36m1\u001b[0m\u001b[1;33m)\u001b[0m\u001b[1;33m\u001b[0m\u001b[1;33m\u001b[0m\u001b[0m\n\u001b[0m",
      "\u001b[1;31mValueError\u001b[0m: only one element tensors can be converted to Python scalars"
     ]
    }
   ],
   "source": [
    "temp = torch.tensor(output).transpose(0, 1)"
   ]
  },
  {
   "cell_type": "code",
   "execution_count": null,
   "metadata": {},
   "outputs": [],
   "source": []
  },
  {
   "cell_type": "code",
   "execution_count": 5,
   "metadata": {},
   "outputs": [],
   "source": [
    "class MockupModel(nn.Module):\n",
    "    def __init__(self, input_size: int, hidden_size: int, num_layers: int, output_size: np.ndarray, seq_len):\n",
    "        super().__init__()\n",
    "\n",
    "        self.hidden_size = hidden_size\n",
    "        self.seq_len = seq_len\n",
    "        self.input_size = input_size\n",
    "        self.output_size=output_size\n",
    "\n",
    "        self.model = nn.ModuleDict({\n",
    "            'lstm': nn.LSTM(input_size=np.product(input_size), hidden_size=hidden_size, num_layers=num_layers, batch_first=True),\n",
    "            'linear': nn.Linear(in_features=hidden_size*seq_len, out_features=np.product(output_size))})  # is this correct?l\n",
    "    def forward(self, input):\n",
    "        # From [batches, seqs, seq len, features]\n",
    "        # to [seq len, batch data, features]\n",
    "        logging.debug(f'input: {input.shape}')\n",
    "        input = input.reshape(-1, self.seq_len, self.input_size)\n",
    "        logging.debug(f'input trans: {input.shape}')\n",
    "\n",
    "       \n",
    "        # Data is fed to the LSTM\n",
    "        out, (h_n, c_n) = self.model['lstm'](input)\n",
    "        logging.debug(f'h_n: {h_n.shape}; c_n: {c_n.shape}')\n",
    "        logging.debug(f'lstm out: {out.shape}')\n",
    "\n",
    "\n",
    "        # in_bs = input.shape[1]\n",
    "        out = out.reshape(-1, self.seq_len*self.hidden_size)\n",
    "        logging.debug(f'linear in: {out.shape}')\n",
    "        out = self.model['linear'](out)\n",
    "        logging.debug(f'linear out: {out.shape}')\n",
    "        return out.reshape((-1,) + self.output_size)\n"
   ]
  },
  {
   "cell_type": "code",
   "execution_count": 9,
   "metadata": {},
   "outputs": [
    {
     "name": "stderr",
     "output_type": "stream",
     "text": [
      "11it [00:09,  1.13it/s]\n"
     ]
    },
    {
     "ename": "KeyboardInterrupt",
     "evalue": "",
     "output_type": "error",
     "traceback": [
      "\u001b[1;31m---------------------------------------------------------------------------\u001b[0m",
      "\u001b[1;31mKeyboardInterrupt\u001b[0m                         Traceback (most recent call last)",
      "\u001b[1;32m<ipython-input-9-0ec0b3f0a8e0>\u001b[0m in \u001b[0;36m<module>\u001b[1;34m\u001b[0m\n\u001b[0;32m     15\u001b[0m     \u001b[0mcur_state\u001b[0m\u001b[1;33m,\u001b[0m \u001b[0mpred_skels\u001b[0m \u001b[1;33m=\u001b[0m \u001b[0mgru\u001b[0m\u001b[1;33m.\u001b[0m\u001b[0mforward_prediction\u001b[0m\u001b[1;33m(\u001b[0m\u001b[0min_skels\u001b[0m\u001b[1;33m,\u001b[0m \u001b[0mpred_len\u001b[0m\u001b[1;33m=\u001b[0m\u001b[0mpred_frames\u001b[0m\u001b[1;33m)\u001b[0m\u001b[1;33m\u001b[0m\u001b[1;33m\u001b[0m\u001b[0m\n\u001b[0;32m     16\u001b[0m     \u001b[0mloss\u001b[0m \u001b[1;33m=\u001b[0m \u001b[0mcriterion\u001b[0m\u001b[1;33m(\u001b[0m\u001b[0mpred_skels\u001b[0m\u001b[1;33m,\u001b[0m \u001b[0mfut_skels\u001b[0m\u001b[1;33m)\u001b[0m\u001b[1;33m\u001b[0m\u001b[1;33m\u001b[0m\u001b[0m\n\u001b[1;32m---> 17\u001b[1;33m     \u001b[0mloss\u001b[0m\u001b[1;33m.\u001b[0m\u001b[0mbackward\u001b[0m\u001b[1;33m(\u001b[0m\u001b[1;33m)\u001b[0m\u001b[1;33m\u001b[0m\u001b[1;33m\u001b[0m\u001b[0m\n\u001b[0m\u001b[0;32m     18\u001b[0m     \u001b[1;31m#repeat_pred =\u001b[0m\u001b[1;33m\u001b[0m\u001b[1;33m\u001b[0m\u001b[0m\n\u001b[0;32m     19\u001b[0m \u001b[1;33m\u001b[0m\u001b[0m\n",
      "\u001b[1;32m~\\Anaconda3\\envs\\torch3d\\lib\\site-packages\\torch\\_tensor.py\u001b[0m in \u001b[0;36mbackward\u001b[1;34m(self, gradient, retain_graph, create_graph, inputs)\u001b[0m\n\u001b[0;32m    305\u001b[0m                 \u001b[0mcreate_graph\u001b[0m\u001b[1;33m=\u001b[0m\u001b[0mcreate_graph\u001b[0m\u001b[1;33m,\u001b[0m\u001b[1;33m\u001b[0m\u001b[1;33m\u001b[0m\u001b[0m\n\u001b[0;32m    306\u001b[0m                 inputs=inputs)\n\u001b[1;32m--> 307\u001b[1;33m         \u001b[0mtorch\u001b[0m\u001b[1;33m.\u001b[0m\u001b[0mautograd\u001b[0m\u001b[1;33m.\u001b[0m\u001b[0mbackward\u001b[0m\u001b[1;33m(\u001b[0m\u001b[0mself\u001b[0m\u001b[1;33m,\u001b[0m \u001b[0mgradient\u001b[0m\u001b[1;33m,\u001b[0m \u001b[0mretain_graph\u001b[0m\u001b[1;33m,\u001b[0m \u001b[0mcreate_graph\u001b[0m\u001b[1;33m,\u001b[0m \u001b[0minputs\u001b[0m\u001b[1;33m=\u001b[0m\u001b[0minputs\u001b[0m\u001b[1;33m)\u001b[0m\u001b[1;33m\u001b[0m\u001b[1;33m\u001b[0m\u001b[0m\n\u001b[0m\u001b[0;32m    308\u001b[0m \u001b[1;33m\u001b[0m\u001b[0m\n\u001b[0;32m    309\u001b[0m     \u001b[1;32mdef\u001b[0m \u001b[0mregister_hook\u001b[0m\u001b[1;33m(\u001b[0m\u001b[0mself\u001b[0m\u001b[1;33m,\u001b[0m \u001b[0mhook\u001b[0m\u001b[1;33m)\u001b[0m\u001b[1;33m:\u001b[0m\u001b[1;33m\u001b[0m\u001b[1;33m\u001b[0m\u001b[0m\n",
      "\u001b[1;32m~\\Anaconda3\\envs\\torch3d\\lib\\site-packages\\torch\\autograd\\__init__.py\u001b[0m in \u001b[0;36mbackward\u001b[1;34m(tensors, grad_tensors, retain_graph, create_graph, grad_variables, inputs)\u001b[0m\n\u001b[0;32m    152\u001b[0m         \u001b[0mretain_graph\u001b[0m \u001b[1;33m=\u001b[0m \u001b[0mcreate_graph\u001b[0m\u001b[1;33m\u001b[0m\u001b[1;33m\u001b[0m\u001b[0m\n\u001b[0;32m    153\u001b[0m \u001b[1;33m\u001b[0m\u001b[0m\n\u001b[1;32m--> 154\u001b[1;33m     Variable._execution_engine.run_backward(\n\u001b[0m\u001b[0;32m    155\u001b[0m         \u001b[0mtensors\u001b[0m\u001b[1;33m,\u001b[0m \u001b[0mgrad_tensors_\u001b[0m\u001b[1;33m,\u001b[0m \u001b[0mretain_graph\u001b[0m\u001b[1;33m,\u001b[0m \u001b[0mcreate_graph\u001b[0m\u001b[1;33m,\u001b[0m \u001b[0minputs\u001b[0m\u001b[1;33m,\u001b[0m\u001b[1;33m\u001b[0m\u001b[1;33m\u001b[0m\u001b[0m\n\u001b[0;32m    156\u001b[0m         allow_unreachable=True, accumulate_grad=True)  # allow_unreachable flag\n",
      "\u001b[1;31mKeyboardInterrupt\u001b[0m: "
     ]
    }
   ],
   "source": [
    "criterion = nn.MSELoss()\n",
    "learning_rate=0.00001\n",
    "losses = []\n",
    "losses_rep = []\n",
    "\n",
    "# rnn = MockupModel(input_size=21*3, hidden_size=50, num_layers=2, output_size=(pred_frames, 21, 3), seq_len=in_frames)\n",
    "gru = PoseGRU_inputFC2()\n",
    "\n",
    "\n",
    "n_iter = 1\n",
    "bs = 30\n",
    "i = 0\n",
    "\n",
    "for i, (indices, in_skels, fut_skels) in tqdm.tqdm(enumerate(dataloader)):\n",
    "    cur_state, pred_skels = gru.forward_prediction(in_skels, pred_len=pred_frames)\n",
    "    loss = criterion(pred_skels, fut_skels)\n",
    "    loss.backward()\n",
    "    #repeat_pred = \n",
    "\n",
    "    rep_pred = in_skels[:, -1, :, :]\n",
    "    rep_pred = rep_pred.tile(pred_frames, 1, 1, 1).transpose(0, 1)\n",
    "    loss_rep = criterion(rep_pred, fut_skels)\n",
    "    losses_rep.append(loss_rep)\n",
    "\n",
    "    for p in gru.parameters():\n",
    "        _ = p.data.add_(p.grad.data, alpha=-learning_rate)\n",
    "    losses.append(loss.item())\n",
    "    # print(i, loss)\n",
    "\n",
    "\n",
    "plt.plot(losses)\n",
    "print(losses[-4:])"
   ]
  },
  {
   "cell_type": "code",
   "execution_count": 74,
   "metadata": {},
   "outputs": [
    {
     "data": {
      "text/plain": [
       "torch.Size([4, 10, 21, 3])"
      ]
     },
     "execution_count": 74,
     "metadata": {},
     "output_type": "execute_result"
    }
   ],
   "source": [
    "in_skels.shape"
   ]
  },
  {
   "cell_type": "code",
   "execution_count": 10,
   "metadata": {},
   "outputs": [
    {
     "data": {
      "text/plain": [
       "[tensor(0.0025),\n",
       " tensor(0.0084),\n",
       " tensor(0.0049),\n",
       " tensor(0.0159),\n",
       " tensor(0.0022),\n",
       " tensor(0.0269),\n",
       " tensor(0.0107),\n",
       " tensor(0.0064),\n",
       " tensor(0.0034),\n",
       " tensor(0.0014)]"
      ]
     },
     "execution_count": 10,
     "metadata": {},
     "output_type": "execute_result"
    }
   ],
   "source": [
    "losses_rep[-10:]"
   ]
  },
  {
   "cell_type": "code",
   "execution_count": 8,
   "metadata": {},
   "outputs": [
    {
     "data": {
      "text/plain": [
       "0.008450109"
      ]
     },
     "execution_count": 8,
     "metadata": {},
     "output_type": "execute_result"
    }
   ],
   "source": [
    "np.mean(losses_rep)"
   ]
  },
  {
   "cell_type": "code",
   "execution_count": 11,
   "metadata": {},
   "outputs": [],
   "source": [
    "from scipy.ndimage import gaussian_filter"
   ]
  },
  {
   "cell_type": "code",
   "execution_count": 12,
   "metadata": {},
   "outputs": [
    {
     "data": {
      "text/plain": [
       "[<matplotlib.lines.Line2D at 0x20784713880>]"
      ]
     },
     "execution_count": 12,
     "metadata": {},
     "output_type": "execute_result"
    },
    {
     "data": {
      "image/png": "[encoded data removed]",
      "text/plain": [
       "<Figure size 432x288 with 1 Axes>"
      ]
     },
     "metadata": {
      "needs_background": "light"
     },
     "output_type": "display_data"
    }
   ],
   "source": [
    "plt.plot(gaussian_filter(losses, sigma=20))"
   ]
  },
  {
   "cell_type": "code",
   "execution_count": 13,
   "metadata": {},
   "outputs": [
    {
     "data": {
      "text/plain": [
       "[<matplotlib.lines.Line2D at 0x20784775d30>]"
      ]
     },
     "execution_count": 13,
     "metadata": {},
     "output_type": "execute_result"
    },
    {
     "data": {
      "text/plain": [
       "[<matplotlib.lines.Line2D at 0x207847a1100>]"
      ]
     },
     "execution_count": 13,
     "metadata": {},
     "output_type": "execute_result"
    },
    {
     "data": {
      "image/png": "[encoded data removed]",
      "text/plain": [
       "<Figure size 432x288 with 1 Axes>"
      ]
     },
     "metadata": {
      "needs_background": "light"
     },
     "output_type": "display_data"
    }
   ],
   "source": [
    "plt.plot(np.log(gaussian_filter(losses, sigma=20)))\n",
    "plt.plot(np.log(gaussian_filter(losses_rep, sigma=20)), color='red')"
   ]
  },
  {
   "cell_type": "code",
   "execution_count": 55,
   "metadata": {},
   "outputs": [
    {
     "data": {
      "text/plain": [
       "tensor(-1.0774)"
      ]
     },
     "execution_count": 55,
     "metadata": {},
     "output_type": "execute_result"
    },
    {
     "data": {
      "text/plain": [
       "tensor(1.2864)"
      ]
     },
     "execution_count": 55,
     "metadata": {},
     "output_type": "execute_result"
    },
    {
     "data": {
      "text/plain": [
       "tensor(-1.2333)"
      ]
     },
     "execution_count": 55,
     "metadata": {},
     "output_type": "execute_result"
    },
    {
     "data": {
      "text/plain": [
       "tensor(1.4083)"
      ]
     },
     "execution_count": 55,
     "metadata": {},
     "output_type": "execute_result"
    }
   ],
   "source": [
    "torch.min(in_skels)\n",
    "torch.max(in_skels)\n",
    "torch.min(pred_skels)\n",
    "torch.max(pred_skels)"
   ]
  },
  {
   "cell_type": "code",
   "execution_count": 14,
   "metadata": {},
   "outputs": [
    {
     "data": {
      "text/plain": [
       "torch.Size([4, 10, 21, 3])"
      ]
     },
     "execution_count": 14,
     "metadata": {},
     "output_type": "execute_result"
    },
    {
     "data": {
      "text/plain": [
       "tensor([[-0.3179, -0.1304, -0.0090],\n",
       "        [-0.3812,  0.0191, -0.0526],\n",
       "        [ 0.2820, -0.0099,  0.0138],\n",
       "        [ 0.1667, -0.0873,  0.0161],\n",
       "        [ 1.2000, -0.1086,  0.0210],\n",
       "        [-0.1702, -0.0049,  0.0140]])"
      ]
     },
     "execution_count": 14,
     "metadata": {},
     "output_type": "execute_result"
    },
    {
     "data": {
      "text/plain": [
       "tensor([[-0.3633, -0.1326,  0.0189],\n",
       "        [-0.4161,  0.0095, -0.0526],\n",
       "        [ 0.2898, -0.0135,  0.0326],\n",
       "        [ 0.3231, -0.0691, -0.0657],\n",
       "        [ 1.2414, -0.0815,  0.1173],\n",
       "        [-0.2037, -0.0064,  0.0075]])"
      ]
     },
     "execution_count": 14,
     "metadata": {},
     "output_type": "execute_result"
    },
    {
     "data": {
      "text/plain": [
       "tensor([[-0.2784,  0.0358,  0.0542],\n",
       "        [-0.3149, -0.0151, -0.0153],\n",
       "        [ 0.2918,  0.1655,  0.1089],\n",
       "        [ 0.3239,  0.0657, -0.0652],\n",
       "        [ 0.4129, -0.0502,  0.0414],\n",
       "        [-0.0822, -0.1353, -0.0549]], grad_fn=<SliceBackward0>)"
      ]
     },
     "execution_count": 14,
     "metadata": {},
     "output_type": "execute_result"
    }
   ],
   "source": [
    "in_skels.shape\n",
    "in_skels[0, -2, :6]\n",
    "in_skels[0, -1, :6]\n",
    "pred_skels[0, 0, :6]"
   ]
  },
  {
   "cell_type": "code",
   "execution_count": 60,
   "metadata": {},
   "outputs": [
    {
     "data": {
      "text/plain": [
       "torch.Size([4, 10, 21, 3])"
      ]
     },
     "execution_count": 60,
     "metadata": {},
     "output_type": "execute_result"
    },
    {
     "data": {
      "text/plain": [
       "tensor([[ 0.3130,  0.0455, -0.0652],\n",
       "        [-0.5712,  0.0728,  0.0162],\n",
       "        [ 0.2158, -0.1059, -0.0386],\n",
       "        [-0.0323, -0.1706,  0.0347],\n",
       "        [ 0.4868, -0.0944, -0.0178],\n",
       "        [-0.0655, -0.0543,  0.0548]])"
      ]
     },
     "execution_count": 60,
     "metadata": {},
     "output_type": "execute_result"
    },
    {
     "data": {
      "text/plain": [
       "tensor([[ 0.3192,  0.0343, -0.0728],\n",
       "        [-0.5910,  0.0802,  0.0175],\n",
       "        [ 0.2021, -0.1082, -0.0371],\n",
       "        [ 0.0180, -0.1868,  0.0386],\n",
       "        [ 0.5461, -0.0984, -0.0153],\n",
       "        [-0.0772, -0.0501,  0.0588]])"
      ]
     },
     "execution_count": 60,
     "metadata": {},
     "output_type": "execute_result"
    },
    {
     "data": {
      "text/plain": [
       "tensor([[ 0.3029,  0.0263, -0.0564],\n",
       "        [-0.6359,  0.0879,  0.0205],\n",
       "        [ 0.2078, -0.1110, -0.0400],\n",
       "        [ 0.0894, -0.1865,  0.0362],\n",
       "        [ 0.6398, -0.0971, -0.0101],\n",
       "        [-0.0926, -0.0507,  0.0598]])"
      ]
     },
     "execution_count": 60,
     "metadata": {},
     "output_type": "execute_result"
    }
   ],
   "source": [
    "in_skels.shape\n",
    "in_skels[0, -2, :6]\n",
    "in_skels[0, -1, :6]\n",
    "pred_skels[0, 0, :6]"
   ]
  },
  {
   "cell_type": "code",
   "execution_count": 50,
   "metadata": {},
   "outputs": [],
   "source": [
    "xin = df2.MedTemp[:7].array\n",
    "def predict(xin):\n",
    "    # hidden = rnn.initHidden()\n",
    "    out = rnn(torch.tensor(xin).float().reshape(1, -1))\n",
    "    yout = out.detach().numpy()\n",
    "    return yout\n",
    "\n",
    "\n"
   ]
  },
  {
   "cell_type": "code",
   "execution_count": 51,
   "metadata": {},
   "outputs": [
    {
     "data": {
      "text/plain": [
       "<Figure size 432x288 with 0 Axes>"
      ]
     },
     "execution_count": 51,
     "metadata": {},
     "output_type": "execute_result"
    },
    {
     "data": {
      "text/plain": [
       "<Figure size 432x288 with 0 Axes>"
      ]
     },
     "execution_count": 51,
     "metadata": {},
     "output_type": "execute_result"
    },
    {
     "data": {
      "text/plain": [
       "<Figure size 432x288 with 0 Axes>"
      ]
     },
     "execution_count": 51,
     "metadata": {},
     "output_type": "execute_result"
    },
    {
     "data": {
      "text/plain": [
       "<Figure size 432x288 with 0 Axes>"
      ]
     },
     "execution_count": 51,
     "metadata": {},
     "output_type": "execute_result"
    },
    {
     "data": {
      "text/plain": [
       "<Figure size 432x288 with 0 Axes>"
      ]
     },
     "execution_count": 51,
     "metadata": {},
     "output_type": "execute_result"
    },
    {
     "data": {
      "image/png": "[encoded data removed]",
      "text/plain": [
       "<Figure size 432x288 with 1 Axes>"
      ]
     },
     "metadata": {
      "needs_background": "light"
     },
     "output_type": "display_data"
    },
    {
     "data": {
      "image/png": "[encoded data removed]",
      "text/plain": [
       "<Figure size 432x288 with 1 Axes>"
      ]
     },
     "metadata": {
      "needs_background": "light"
     },
     "output_type": "display_data"
    },
    {
     "data": {
      "image/png": "[encoded data removed]",
      "text/plain": [
       "<Figure size 432x288 with 1 Axes>"
      ]
     },
     "metadata": {
      "needs_background": "light"
     },
     "output_type": "display_data"
    },
    {
     "data": {
      "image/png": "[encoded data removed]",
      "text/plain": [
       "<Figure size 432x288 with 1 Axes>"
      ]
     },
     "metadata": {
      "needs_background": "light"
     },
     "output_type": "display_data"
    },
    {
     "data": {
      "image/png": "[encoded data removed]",
      "text/plain": [
       "<Figure size 432x288 with 1 Axes>"
      ]
     },
     "metadata": {
      "needs_background": "light"
     },
     "output_type": "display_data"
    }
   ],
   "source": [
    "def plot(xin, ypred, ytrue):\n",
    "    plt.plot(xin)\n",
    "    plt.scatter(len(xin), ypred, color='r', marker='x')\n",
    "    plt.scatter(len(xin), ytrue, color='g', marker='x')\n",
    "\n",
    "\n",
    "for i in range(10, 15):\n",
    "    xin = X_test[i]\n",
    "    ypred = predict(xin)\n",
    "    ytrue = Y_test[i]\n",
    "    plt.figure()\n",
    "    plot(xin, ypred, ytrue)\n"
   ]
  },
  {
   "cell_type": "code",
   "execution_count": 50,
   "metadata": {},
   "outputs": [
    {
     "data": {
      "text/plain": [
       "<PandasArray>\n",
       "[             16.15,              20.45, 18.549999999999997,\n",
       "               14.4, 11.850000000000001, 11.549999999999999,\n",
       " 12.149999999999999]\n",
       "Length: 7, dtype: float64"
      ]
     },
     "execution_count": 50,
     "metadata": {},
     "output_type": "execute_result"
    }
   ],
   "source": [
    "xin"
   ]
  },
  {
   "cell_type": "code",
   "execution_count": null,
   "metadata": {},
   "outputs": [],
   "source": [
    "3"
   ]
  }
 ],
 "metadata": {
  "interpreter": {
   "hash": "34763ccac23d8dfc8fdcddd5a9d5e6124e526227b9ab61d21d7596358b3ca4af"
  },
  "kernelspec": {
   "display_name": "Python 3",
   "language": "python",
   "name": "python3"
  },
  "language_info": {
   "codemirror_mode": {
    "name": "ipython",
    "version": 3
   },
   "file_extension": ".py",
   "mimetype": "text/x-python",
   "name": "python",
   "nbconvert_exporter": "python",
   "pygments_lexer": "ipython3",
   "version": "3.9.12"
  }
 },
 "nbformat": 4,
 "nbformat_minor": 2
}
