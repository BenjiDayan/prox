{
 "cells": [
  {
   "cell_type": "code",
   "execution_count": 37,
   "metadata": {},
   "outputs": [
    {
     "name": "stdout",
     "output_type": "stream",
     "text": [
      "pandas: 1.4.1\n",
      "numpy: 1.21.5\n"
     ]
    }
   ],
   "source": [
    "import pandas as pd # for data manipulation\n",
    "print('pandas: %s' % pd.__version__) # print version\n",
    "import numpy as np # for data manipulation\n",
    "print('numpy: %s' % np.__version__) # print version\n",
    "import math # to help with data reshaping of the data\n",
    "\n",
    "import numpy as np\n",
    "import torch\n",
    "#import torchvision\n",
    "import torch.nn as nn\n",
    "import torch.nn.functional as F\n",
    "from torch.autograd import Variable\n",
    "\n",
    "from sklearn.model_selection import train_test_split\n",
    "import tqdm\n",
    "import matplotlib.pyplot as plt\n",
    "import logging\n",
    "\n",
    "from IPython.core.interactiveshell import InteractiveShell\n",
    "InteractiveShell.ast_node_interactivity = \"all\""
   ]
  },
  {
   "cell_type": "code",
   "execution_count": 2,
   "metadata": {},
   "outputs": [
    {
     "data": {
      "text/html": [
       "<div>\n",
       "<style scoped>\n",
       "    .dataframe tbody tr th:only-of-type {\n",
       "        vertical-align: middle;\n",
       "    }\n",
       "\n",
       "    .dataframe tbody tr th {\n",
       "        vertical-align: top;\n",
       "    }\n",
       "\n",
       "    .dataframe thead th {\n",
       "        text-align: right;\n",
       "    }\n",
       "</style>\n",
       "<table border=\"1\" class=\"dataframe\">\n",
       "  <thead>\n",
       "    <tr style=\"text-align: right;\">\n",
       "      <th></th>\n",
       "      <th>Date</th>\n",
       "      <th>MedTemp</th>\n",
       "    </tr>\n",
       "  </thead>\n",
       "  <tbody>\n",
       "    <tr>\n",
       "      <th>45587</th>\n",
       "      <td>2007-11-01</td>\n",
       "      <td>16.15</td>\n",
       "    </tr>\n",
       "    <tr>\n",
       "      <th>45588</th>\n",
       "      <td>2007-11-02</td>\n",
       "      <td>20.45</td>\n",
       "    </tr>\n",
       "    <tr>\n",
       "      <th>45589</th>\n",
       "      <td>2007-11-03</td>\n",
       "      <td>18.55</td>\n",
       "    </tr>\n",
       "    <tr>\n",
       "      <th>45590</th>\n",
       "      <td>2007-11-04</td>\n",
       "      <td>14.40</td>\n",
       "    </tr>\n",
       "    <tr>\n",
       "      <th>45591</th>\n",
       "      <td>2007-11-05</td>\n",
       "      <td>11.85</td>\n",
       "    </tr>\n",
       "  </tbody>\n",
       "</table>\n",
       "</div>"
      ],
      "text/plain": [
       "             Date  MedTemp\n",
       "45587  2007-11-01    16.15\n",
       "45588  2007-11-02    20.45\n",
       "45589  2007-11-03    18.55\n",
       "45590  2007-11-04    14.40\n",
       "45591  2007-11-05    11.85"
      ]
     },
     "execution_count": 2,
     "metadata": {},
     "output_type": "execute_result"
    }
   ],
   "source": [
    "df=pd.read_csv('weatherAUS.csv', encoding='utf-8')\n",
    "\n",
    "# Drop records where target MinTemp=NaN or MaxTemp=NaN\n",
    "df=df[pd.isnull(df['MinTemp'])==False]\n",
    "df=df[pd.isnull(df['MaxTemp'])==False]\n",
    "\n",
    "df['MedTemp']=df[['MinTemp', 'MaxTemp']].median(axis=1)\n",
    "\n",
    "df2 = df.loc[df.Location=='Canberra'].loc[:, ['Date', 'MedTemp']]\n",
    "df2.head()"
   ]
  },
  {
   "cell_type": "code",
   "execution_count": 3,
   "metadata": {},
   "outputs": [],
   "source": [
    "def prep_data(datain, time_step):\n",
    "    # 1. y-array  \n",
    "    # First, create an array with indices for y elements based on the chosen time_step\n",
    "    y_indices = np.arange(start=time_step, stop=len(datain), step=time_step)\n",
    "    # Create y array based on the above indices \n",
    "    y_tmp = datain[y_indices]\n",
    "    \n",
    "    # 2. X-array  \n",
    "    # We want to have the same number of rows for X as we do for y\n",
    "    rows_X = len(y_tmp)\n",
    "    # Since the last element in y_tmp may not be the last element of the datain, \n",
    "    # let's ensure that X array stops with the last y\n",
    "    X_tmp = datain[range(time_step*rows_X)]\n",
    "    # Now take this array and reshape it into the desired shape\n",
    "    X_tmp = np.reshape(X_tmp, (rows_X, time_step, 1))\n",
    "    return X_tmp, y_tmp\n",
    "\n",
    "datain = np.array(df2.MedTemp)\n",
    "X, Y = prep_data(datain, 7)\n",
    "X_train, X_test, Y_train, Y_test = train_test_split(X, Y, test_size=0.2)"
   ]
  },
  {
   "cell_type": "code",
   "execution_count": 4,
   "metadata": {},
   "outputs": [
    {
     "data": {
      "text/plain": [
       "(391, 7, 1)"
      ]
     },
     "execution_count": 4,
     "metadata": {},
     "output_type": "execute_result"
    },
    {
     "data": {
      "text/plain": [
       "(391,)"
      ]
     },
     "execution_count": 4,
     "metadata": {},
     "output_type": "execute_result"
    },
    {
     "data": {
      "text/plain": [
       "(98, 7, 1)"
      ]
     },
     "execution_count": 4,
     "metadata": {},
     "output_type": "execute_result"
    }
   ],
   "source": [
    "X_train.shape\n",
    "Y_train.shape\n",
    "X_test.shape"
   ]
  },
  {
   "cell_type": "code",
   "execution_count": 39,
   "metadata": {},
   "outputs": [],
   "source": [
    "class MockupModel(nn.Module):\n",
    "    def __init__(self, input_size, hidden_size, num_layers, output_size, seq_len):\n",
    "        super().__init__()\n",
    "\n",
    "        self.hidden_size = hidden_size\n",
    "        self.seq_len = seq_len\n",
    "        self.input_size = input_size\n",
    "\n",
    "        self.model = nn.ModuleDict({\n",
    "            'lstm': nn.LSTM(input_size=input_size, hidden_size=hidden_size, num_layers=num_layers, batch_first=True),\n",
    "            'linear': nn.Linear(in_features=hidden_size*seq_len, out_features=output_size)})  # is this correct?l\n",
    "\n",
    "    def forward(self, input):\n",
    "        # From [batches, seqs, seq len, features]\n",
    "        # to [seq len, batch data, features]\n",
    "        logging.debug(f'input: {input.shape}')\n",
    "        input = input.reshape(-1, self.seq_len, self.input_size)\n",
    "        logging.debug(f'input trans: {input.shape}')\n",
    "\n",
    "       \n",
    "        # Data is fed to the LSTM\n",
    "        out, (h_n, c_n) = self.model['lstm'](input)\n",
    "        logging.debug(f'h_n: {h_n.shape}; c_n: {c_n.shape}')\n",
    "        logging.debug(f'lstm out: {out.shape}')\n",
    "\n",
    "\n",
    "        # in_bs = input.shape[1]\n",
    "        out = out.reshape(-1, self.seq_len*self.hidden_size)\n",
    "        logging.debug(f'linear in: {out.shape}')\n",
    "        out = self.model['linear'](out)\n",
    "        logging.debug(f'linear out: {out.shape}')\n",
    "        return out\n"
   ]
  },
  {
   "cell_type": "code",
   "execution_count": 26,
   "metadata": {},
   "outputs": [
    {
     "data": {
      "text/plain": [
       "Linear(in_features=70, out_features=1, bias=True)"
      ]
     },
     "execution_count": 26,
     "metadata": {},
     "output_type": "execute_result"
    }
   ],
   "source": [
    "asdf.model['linear']"
   ]
  },
  {
   "cell_type": "code",
   "execution_count": 41,
   "metadata": {},
   "outputs": [
    {
     "name": "stderr",
     "output_type": "stream",
     "text": [
      "DEBUG:root:input: torch.Size([15, 7, 1])\n",
      "DEBUG:root:input trans: torch.Size([15, 7, 1])\n",
      "DEBUG:root:h_n: torch.Size([1, 15, 10]); c_n: torch.Size([1, 15, 10])\n",
      "DEBUG:root:lstm out: torch.Size([15, 7, 10])\n",
      "DEBUG:root:linear in: torch.Size([15, 70])\n",
      "DEBUG:root:linear out: torch.Size([15, 1])\n"
     ]
    }
   ],
   "source": [
    "logging.basicConfig(level=logging.DEBUG)\n",
    "asdf = MockupModel(input_size=1, hidden_size=10, num_layers=1, output_size=1, seq_len=7)\n",
    "out = asdf(torch.tensor(X_train[:15]).float())\n",
    "for handler in logging.root.handlers[:]:\n",
    "    logging.root.removeHandler(handler)\n",
    "logging.basicConfig(level=logging.INFO)\n",
    "asdf = MockupModel(input_size=1, hidden_size=10, num_layers=2, output_size=1, seq_len=7)\n",
    "out = asdf(torch.tensor(X_train[:15]).float())"
   ]
  },
  {
   "cell_type": "code",
   "execution_count": 66,
   "metadata": {},
   "outputs": [],
   "source": [
    "from sklearn.utils import shuffle"
   ]
  },
  {
   "cell_type": "code",
   "execution_count": 64,
   "metadata": {},
   "outputs": [
    {
     "data": {
      "text/plain": [
       "[2, 3]"
      ]
     },
     "execution_count": 64,
     "metadata": {},
     "output_type": "execute_result"
    }
   ],
   "source": [
    "[1,2,3][1:10]"
   ]
  },
  {
   "cell_type": "code",
   "execution_count": 68,
   "metadata": {},
   "outputs": [
    {
     "data": {
      "text/plain": [
       "391"
      ]
     },
     "execution_count": 68,
     "metadata": {},
     "output_type": "execute_result"
    }
   ],
   "source": []
  },
  {
   "cell_type": "code",
   "execution_count": 78,
   "metadata": {},
   "outputs": [
    {
     "name": "stderr",
     "output_type": "stream",
     "text": [
      "100%|██████████| 300/300 [00:02<00:00, 100.00it/s]\n"
     ]
    },
    {
     "data": {
      "text/plain": [
       "[<matplotlib.lines.Line2D at 0x268951fff40>]"
      ]
     },
     "execution_count": 78,
     "metadata": {},
     "output_type": "execute_result"
    },
    {
     "name": "stdout",
     "output_type": "stream",
     "text": [
      "[32.098350524902344, 31.896459579467773, 31.68134117126465, 31.456096649169922]\n"
     ]
    },
    {
     "data": {
      "image/png": "[encoded data removed]",
      "text/plain": [
       "<Figure size 432x288 with 1 Axes>"
      ]
     },
     "metadata": {
      "needs_background": "light"
     },
     "output_type": "display_data"
    }
   ],
   "source": [
    "criterion = nn.MSELoss()\n",
    "learning_rate=0.00001\n",
    "losses = []\n",
    "\n",
    "rnn = MockupModel(input_size=1, hidden_size=10, num_layers=1, output_size=1, seq_len=7)\n",
    "\n",
    "n_iter = 300\n",
    "bs = 30\n",
    "\n",
    "\n",
    "for i in tqdm.tqdm(range(n_iter)):\n",
    "    x, y = shuffle(X_train, Y_train)\n",
    "        # epoch_losses = []\n",
    "        # for b in np.arange(len(y), bs):\n",
    "        #     x_b, y_b = x[b:b+bs], y[b:b+bs]\n",
    "        #     output = rnn(torch.tensor(x_b).float())\n",
    "\n",
    "        #     loss = criterion(output.reshape(-1), torch.tensor(y_b).float())\n",
    "        #     loss.backward()\n",
    "        #     for p in rnn.parameters():\n",
    "        #             _ = p.data.add_(p.grad.data, alpha=-learning_rate)\n",
    "\n",
    "        #     epoch_losses.append(loss.item())\n",
    "        # losses.append(np.mean(epoch_losses))\n",
    "    output = rnn(torch.tensor(X_train).float())\n",
    "    loss = criterion(output.reshape(-1), torch.tensor(Y_train).float())\n",
    "    loss.backward()\n",
    "    for p in rnn.parameters():\n",
    "        _ = p.data.add_(p.grad.data, alpha=-learning_rate)\n",
    "    losses.append(loss.item())\n",
    "\n",
    "plt.plot(losses)\n",
    "print(losses[-4:])"
   ]
  },
  {
   "cell_type": "code",
   "execution_count": 76,
   "metadata": {},
   "outputs": [
    {
     "data": {
      "text/plain": [
       "(391,)"
      ]
     },
     "execution_count": 76,
     "metadata": {},
     "output_type": "execute_result"
    }
   ],
   "source": [
    "y.shape"
   ]
  },
  {
   "cell_type": "code",
   "execution_count": 50,
   "metadata": {},
   "outputs": [],
   "source": [
    "xin = df2.MedTemp[:7].array\n",
    "def predict(xin):\n",
    "    # hidden = rnn.initHidden()\n",
    "    out = rnn(torch.tensor(xin).float().reshape(1, -1))\n",
    "    yout = out.detach().numpy()\n",
    "    return yout\n",
    "\n",
    "\n"
   ]
  },
  {
   "cell_type": "code",
   "execution_count": 51,
   "metadata": {},
   "outputs": [
    {
     "data": {
      "text/plain": [
       "<Figure size 432x288 with 0 Axes>"
      ]
     },
     "execution_count": 51,
     "metadata": {},
     "output_type": "execute_result"
    },
    {
     "data": {
      "text/plain": [
       "<Figure size 432x288 with 0 Axes>"
      ]
     },
     "execution_count": 51,
     "metadata": {},
     "output_type": "execute_result"
    },
    {
     "data": {
      "text/plain": [
       "<Figure size 432x288 with 0 Axes>"
      ]
     },
     "execution_count": 51,
     "metadata": {},
     "output_type": "execute_result"
    },
    {
     "data": {
      "text/plain": [
       "<Figure size 432x288 with 0 Axes>"
      ]
     },
     "execution_count": 51,
     "metadata": {},
     "output_type": "execute_result"
    },
    {
     "data": {
      "text/plain": [
       "<Figure size 432x288 with 0 Axes>"
      ]
     },
     "execution_count": 51,
     "metadata": {},
     "output_type": "execute_result"
    },
    {
     "data": {
      "image/png": "[encoded data removed]",
      "text/plain": [
       "<Figure size 432x288 with 1 Axes>"
      ]
     },
     "metadata": {
      "needs_background": "light"
     },
     "output_type": "display_data"
    },
    {
     "data": {
      "image/png": "[encoded data removed]",
      "text/plain": [
       "<Figure size 432x288 with 1 Axes>"
      ]
     },
     "metadata": {
      "needs_background": "light"
     },
     "output_type": "display_data"
    },
    {
     "data": {
      "image/png": "[encoded data removed]",
      "text/plain": [
       "<Figure size 432x288 with 1 Axes>"
      ]
     },
     "metadata": {
      "needs_background": "light"
     },
     "output_type": "display_data"
    },
    {
     "data": {
      "image/png": "[encoded data removed]",
      "text/plain": [
       "<Figure size 432x288 with 1 Axes>"
      ]
     },
     "metadata": {
      "needs_background": "light"
     },
     "output_type": "display_data"
    },
    {
     "data": {
      "image/png": "[encoded data removed]",
      "text/plain": [
       "<Figure size 432x288 with 1 Axes>"
      ]
     },
     "metadata": {
      "needs_background": "light"
     },
     "output_type": "display_data"
    }
   ],
   "source": [
    "def plot(xin, ypred, ytrue):\n",
    "    plt.plot(xin)\n",
    "    plt.scatter(len(xin), ypred, color='r', marker='x')\n",
    "    plt.scatter(len(xin), ytrue, color='g', marker='x')\n",
    "\n",
    "\n",
    "for i in range(10, 15):\n",
    "    xin = X_test[i]\n",
    "    ypred = predict(xin)\n",
    "    ytrue = Y_test[i]\n",
    "    plt.figure()\n",
    "    plot(xin, ypred, ytrue)\n"
   ]
  },
  {
   "cell_type": "code",
   "execution_count": 50,
   "metadata": {},
   "outputs": [
    {
     "data": {
      "text/plain": [
       "<PandasArray>\n",
       "[             16.15,              20.45, 18.549999999999997,\n",
       "               14.4, 11.850000000000001, 11.549999999999999,\n",
       " 12.149999999999999]\n",
       "Length: 7, dtype: float64"
      ]
     },
     "execution_count": 50,
     "metadata": {},
     "output_type": "execute_result"
    }
   ],
   "source": [
    "xin"
   ]
  },
  {
   "cell_type": "code",
   "execution_count": null,
   "metadata": {},
   "outputs": [],
   "source": [
    "3"
   ]
  }
 ],
 "metadata": {
  "interpreter": {
   "hash": "34763ccac23d8dfc8fdcddd5a9d5e6124e526227b9ab61d21d7596358b3ca4af"
  },
  "kernelspec": {
   "display_name": "Python 3.7.13 ('prox')",
   "language": "python",
   "name": "python3"
  },
  "language_info": {
   "codemirror_mode": {
    "name": "ipython",
    "version": 3
   },
   "file_extension": ".py",
   "mimetype": "text/x-python",
   "name": "python",
   "nbconvert_exporter": "python",
   "pygments_lexer": "ipython3",
   "version": "3.9.12"
  },
  "orig_nbformat": 4
 },
 "nbformat": 4,
 "nbformat_minor": 2
}
