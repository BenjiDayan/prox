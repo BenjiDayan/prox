{
 "cells": [
  {
   "cell_type": "code",
   "execution_count": 1,
   "metadata": {},
   "outputs": [
    {
     "name": "stderr",
     "output_type": "stream",
     "text": [
      "INFO - 2022-05-29 22:30:30,670 - acceleratesupport - No OpenGL_accelerate module loaded: No module named 'OpenGL_accelerate'\n"
     ]
    }
   ],
   "source": [
    "import os\n",
    "import sys\n",
    "import glob\n",
    "import numpy as np\n",
    "import pickle\n",
    "import cv2\n",
    "import open3d as o3d\n",
    "import matplotlib.pyplot as plt\n",
    "from projection_utils import Projection\n",
    "from data_parser import read_keypoints\n",
    "import time\n",
    "\n",
    "sys.path.insert(1, '../')\n",
    "from virtual_huams_resource.utils import get_smplx_body_model\n",
    "\n",
    "sys.path.insert(0, \"../virtual_huams_resource\")\n",
    "from virtual_huams_resource.benji_prox_dataloader import DatasetBase, proxDatasetSkeleton"
   ]
  },
  {
   "cell_type": "code",
   "execution_count": 2,
   "metadata": {},
   "outputs": [],
   "source": [
    "data_root = '../quantitative'\n",
    "sequence_id = 'vicon_03301_01'\n",
    "save_root = '../quantitative/3d_visualization'\n",
    "\n",
    "smplx_model_path='../models_smplx_v1_1/models/smplx/SMPLX_NEUTRAL2.pkl'"
   ]
  },
  {
   "cell_type": "code",
   "execution_count": 3,
   "metadata": {},
   "outputs": [],
   "source": [
    "vis = o3d.visualization.VisualizerWithKeyCallback()"
   ]
  },
  {
   "cell_type": "code",
   "execution_count": 4,
   "metadata": {},
   "outputs": [
    {
     "data": {
      "text/plain": [
       "(1, 25, 3)"
      ]
     },
     "execution_count": 4,
     "metadata": {},
     "output_type": "execute_result"
    }
   ],
   "source": [
    "# ______________ read skeletons ______________\n",
    "pd2 = proxDatasetSkeleton(root_dir=data_root + '/temp', in_frames=45, pred_frames=0, output_type='raw_pkls',\n",
    "                        search_prefix='results', extra_prefix='joints_worldnorm.pkl', frame_jump=10, window_overlap_factor=8)\n",
    "idx, (a, in_skels), (b, fut_skels) = pd2.__getitem__(0)\n",
    "sk = in_skels[0].detach().numpy()\n",
    "sk.shape"
   ]
  },
  {
   "cell_type": "code",
   "execution_count": 5,
   "metadata": {},
   "outputs": [],
   "source": [
    "# ______________ read point cloud ______________\n",
    "scene_point_cloud = o3d.io.read_point_cloud(os.path.join(data_root, \"scenes\", \"N3OpenArea.ply\"))"
   ]
  },
  {
   "cell_type": "code",
   "execution_count": 6,
   "metadata": {},
   "outputs": [],
   "source": [
    "LIMBS = [(23, 15),\n",
    "         (24, 15),\n",
    "         (15, 22),\n",
    "         (22, 12),\n",
    "         # left arm\n",
    "         (12, 13),\n",
    "         (13, 16),\n",
    "         (16, 18),\n",
    "         (18, 20),\n",
    "         # right arm\n",
    "         (12, 14),\n",
    "         (14, 17),\n",
    "         (17, 19),\n",
    "         (19, 21),\n",
    "         # spline\n",
    "         (12, 9),\n",
    "         (9, 6),\n",
    "         (6, 3),\n",
    "         (3, 0),\n",
    "         # left leg\n",
    "         (0, 1),\n",
    "         (1, 4),\n",
    "         (4, 7),\n",
    "         (7, 10),\n",
    "         # right leg\n",
    "         (0, 2),\n",
    "         (2, 5),\n",
    "         (5, 8),\n",
    "         (8, 11)]"
   ]
  },
  {
   "cell_type": "code",
   "execution_count": 7,
   "metadata": {},
   "outputs": [
    {
     "name": "stdout",
     "output_type": "stream",
     "text": [
      "\u001b[1;33m[Open3D WARNING] GLFW Error: Cocoa: Failed to find service port for display\u001b[0;m\n",
      "\u001b[1;33m[Open3D WARNING] GLFW Error: Cocoa: Failed to find service port for display\u001b[0;m\n"
     ]
    },
    {
     "ename": "StopIteration",
     "evalue": "",
     "output_type": "error",
     "traceback": [
      "\u001b[0;31m---------------------------------------------------------------------------\u001b[0m",
      "\u001b[0;31mStopIteration\u001b[0m                             Traceback (most recent call last)",
      "\u001b[1;32m/Users/guangzhu/Desktop/ETHz/S2/Virtual_Human/project/prox/src/3d_visualization_animated.ipynb Cell 7'\u001b[0m in \u001b[0;36m<cell line: 33>\u001b[0;34m()\u001b[0m\n\u001b[1;32m     <a href='vscode-notebook-cell:/Users/guangzhu/Desktop/ETHz/S2/Virtual_Human/project/prox/src/3d_visualization_animated.ipynb#ch0000006?line=28'>29</a>\u001b[0m skeleton_input \u001b[39m=\u001b[39m o3d\u001b[39m.\u001b[39mgeometry\u001b[39m.\u001b[39mLineSet(\n\u001b[1;32m     <a href='vscode-notebook-cell:/Users/guangzhu/Desktop/ETHz/S2/Virtual_Human/project/prox/src/3d_visualization_animated.ipynb#ch0000006?line=29'>30</a>\u001b[0m             o3d\u001b[39m.\u001b[39mutility\u001b[39m.\u001b[39mVector3dVector(skeleton),\n\u001b[1;32m     <a href='vscode-notebook-cell:/Users/guangzhu/Desktop/ETHz/S2/Virtual_Human/project/prox/src/3d_visualization_animated.ipynb#ch0000006?line=30'>31</a>\u001b[0m             o3d\u001b[39m.\u001b[39mutility\u001b[39m.\u001b[39mVector2iVector(LIMBS))\n\u001b[1;32m     <a href='vscode-notebook-cell:/Users/guangzhu/Desktop/ETHz/S2/Virtual_Human/project/prox/src/3d_visualization_animated.ipynb#ch0000006?line=31'>32</a>\u001b[0m vis\u001b[39m.\u001b[39madd_geometry(skeleton_input)\n\u001b[0;32m---> <a href='vscode-notebook-cell:/Users/guangzhu/Desktop/ETHz/S2/Virtual_Human/project/prox/src/3d_visualization_animated.ipynb#ch0000006?line=32'>33</a>\u001b[0m vis\u001b[39m.\u001b[39;49mrun()\n",
      "\u001b[1;32m/Users/guangzhu/Desktop/ETHz/S2/Virtual_Human/project/prox/src/3d_visualization_animated.ipynb Cell 7'\u001b[0m in \u001b[0;36mupdate\u001b[0;34m(vis)\u001b[0m\n\u001b[1;32m     <a href='vscode-notebook-cell:/Users/guangzhu/Desktop/ETHz/S2/Virtual_Human/project/prox/src/3d_visualization_animated.ipynb#ch0000006?line=16'>17</a>\u001b[0m vis\u001b[39m.\u001b[39mpoll_events()\n\u001b[1;32m     <a href='vscode-notebook-cell:/Users/guangzhu/Desktop/ETHz/S2/Virtual_Human/project/prox/src/3d_visualization_animated.ipynb#ch0000006?line=17'>18</a>\u001b[0m vis\u001b[39m.\u001b[39mupdate_renderer()\n\u001b[0;32m---> <a href='vscode-notebook-cell:/Users/guangzhu/Desktop/ETHz/S2/Virtual_Human/project/prox/src/3d_visualization_animated.ipynb#ch0000006?line=18'>19</a>\u001b[0m vis\u001b[39m.\u001b[39;49mrun()\n",
      "\u001b[1;32m/Users/guangzhu/Desktop/ETHz/S2/Virtual_Human/project/prox/src/3d_visualization_animated.ipynb Cell 7'\u001b[0m in \u001b[0;36mupdate\u001b[0;34m(vis)\u001b[0m\n\u001b[1;32m     <a href='vscode-notebook-cell:/Users/guangzhu/Desktop/ETHz/S2/Virtual_Human/project/prox/src/3d_visualization_animated.ipynb#ch0000006?line=16'>17</a>\u001b[0m vis\u001b[39m.\u001b[39mpoll_events()\n\u001b[1;32m     <a href='vscode-notebook-cell:/Users/guangzhu/Desktop/ETHz/S2/Virtual_Human/project/prox/src/3d_visualization_animated.ipynb#ch0000006?line=17'>18</a>\u001b[0m vis\u001b[39m.\u001b[39mupdate_renderer()\n\u001b[0;32m---> <a href='vscode-notebook-cell:/Users/guangzhu/Desktop/ETHz/S2/Virtual_Human/project/prox/src/3d_visualization_animated.ipynb#ch0000006?line=18'>19</a>\u001b[0m vis\u001b[39m.\u001b[39;49mrun()\n",
      "    \u001b[0;31m[... skipping similar frames: update at line 19 (42 times)]\u001b[0m\n",
      "\u001b[1;32m/Users/guangzhu/Desktop/ETHz/S2/Virtual_Human/project/prox/src/3d_visualization_animated.ipynb Cell 7'\u001b[0m in \u001b[0;36mupdate\u001b[0;34m(vis)\u001b[0m\n\u001b[1;32m     <a href='vscode-notebook-cell:/Users/guangzhu/Desktop/ETHz/S2/Virtual_Human/project/prox/src/3d_visualization_animated.ipynb#ch0000006?line=16'>17</a>\u001b[0m vis\u001b[39m.\u001b[39mpoll_events()\n\u001b[1;32m     <a href='vscode-notebook-cell:/Users/guangzhu/Desktop/ETHz/S2/Virtual_Human/project/prox/src/3d_visualization_animated.ipynb#ch0000006?line=17'>18</a>\u001b[0m vis\u001b[39m.\u001b[39mupdate_renderer()\n\u001b[0;32m---> <a href='vscode-notebook-cell:/Users/guangzhu/Desktop/ETHz/S2/Virtual_Human/project/prox/src/3d_visualization_animated.ipynb#ch0000006?line=18'>19</a>\u001b[0m vis\u001b[39m.\u001b[39;49mrun()\n",
      "\u001b[1;32m/Users/guangzhu/Desktop/ETHz/S2/Virtual_Human/project/prox/src/3d_visualization_animated.ipynb Cell 7'\u001b[0m in \u001b[0;36mupdate\u001b[0;34m(vis)\u001b[0m\n\u001b[1;32m      <a href='vscode-notebook-cell:/Users/guangzhu/Desktop/ETHz/S2/Virtual_Human/project/prox/src/3d_visualization_animated.ipynb#ch0000006?line=1'>2</a>\u001b[0m \u001b[39mdef\u001b[39;00m \u001b[39mupdate\u001b[39m(vis):\n\u001b[0;32m----> <a href='vscode-notebook-cell:/Users/guangzhu/Desktop/ETHz/S2/Virtual_Human/project/prox/src/3d_visualization_animated.ipynb#ch0000006?line=2'>3</a>\u001b[0m     skeleton \u001b[39m=\u001b[39m \u001b[39mnext\u001b[39;49m(skeleton_iter)          \u001b[39m# render first frame\u001b[39;00m\n\u001b[1;32m      <a href='vscode-notebook-cell:/Users/guangzhu/Desktop/ETHz/S2/Virtual_Human/project/prox/src/3d_visualization_animated.ipynb#ch0000006?line=3'>4</a>\u001b[0m     skeleton \u001b[39m=\u001b[39m skeleton\u001b[39m.\u001b[39mdetach()\u001b[39m.\u001b[39mnumpy()\n\u001b[1;32m      <a href='vscode-notebook-cell:/Users/guangzhu/Desktop/ETHz/S2/Virtual_Human/project/prox/src/3d_visualization_animated.ipynb#ch0000006?line=4'>5</a>\u001b[0m     skeleton \u001b[39m=\u001b[39m skeleton\u001b[39m.\u001b[39mastype(np\u001b[39m.\u001b[39mfloat64)\n",
      "\u001b[0;31mStopIteration\u001b[0m: "
     ]
    },
    {
     "ename": "",
     "evalue": "",
     "output_type": "error",
     "traceback": [
      "\u001b[1;31mThe Kernel crashed while executing code in the the current cell or a previous cell. Please review the code in the cell(s) to identify a possible cause of the failure. Click <a href='https://aka.ms/vscodeJupyterKernelCrash'>here</a> for more info. View Jupyter <a href='command:jupyter.viewOutput'>log</a> for further details."
     ]
    }
   ],
   "source": [
    "skeleton_iter = iter(in_skels)\n",
    "def update(vis):\n",
    "    skeleton = next(skeleton_iter)          # render first frame\n",
    "    skeleton = skeleton.detach().numpy()\n",
    "    skeleton = skeleton.astype(np.float64)\n",
    "    skeleton = skeleton.squeeze()\n",
    "    # print(skeleton)\n",
    "    skeleton_input = o3d.geometry.LineSet(\n",
    "            o3d.utility.Vector3dVector(skeleton),\n",
    "            o3d.utility.Vector2iVector(LIMBS))\n",
    "    ctrl = vis.get_view_control()\n",
    "    cam_param = ctrl.convert_to_pinhole_camera_parameters()\n",
    "    vis.clear_geometries()\n",
    "    vis.add_geometry(scene_point_cloud)\n",
    "    vis.add_geometry(skeleton_input)\n",
    "    ctrl.convert_from_pinhole_camera_parameters(cam_param)\n",
    "    vis.poll_events()\n",
    "    vis.update_renderer()\n",
    "    vis.run()\n",
    "    \n",
    "# ______________ animate skeleton in point cloud ______________\n",
    "vis.create_window()\n",
    "vis.register_key_callback(65, update)       # press A\n",
    "vis.add_geometry(scene_point_cloud)\n",
    "\n",
    "skeleton = in_skels[0].detach().numpy()          # render first frame\n",
    "skeleton = skeleton.astype(np.float64)\n",
    "skeleton = skeleton.squeeze()\n",
    "skeleton_input = o3d.geometry.LineSet(\n",
    "            o3d.utility.Vector3dVector(skeleton),\n",
    "            o3d.utility.Vector2iVector(LIMBS))\n",
    "vis.add_geometry(skeleton_input)\n",
    "vis.run()\n",
    "vis.destroy_window()"
   ]
  },
  {
   "cell_type": "code",
   "execution_count": null,
   "metadata": {},
   "outputs": [],
   "source": []
  }
 ],
 "metadata": {
  "interpreter": {
   "hash": "ef0bfd5a0a44da5bab5ff7f08d2a6c1e67915635db3105f67f5f1f3a2b92236c"
  },
  "kernelspec": {
   "display_name": "Python 3.9.12 ('VH')",
   "language": "python",
   "name": "python3"
  },
  "language_info": {
   "codemirror_mode": {
    "name": "ipython",
    "version": 3
   },
   "file_extension": ".py",
   "mimetype": "text/x-python",
   "name": "python",
   "nbconvert_exporter": "python",
   "pygments_lexer": "ipython3",
   "version": "3.9.12"
  },
  "orig_nbformat": 4
 },
 "nbformat": 4,
 "nbformat_minor": 2
}
