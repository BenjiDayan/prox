{
 "cells": [
  {
   "cell_type": "code",
   "execution_count": 1,
   "metadata": {},
   "outputs": [
    {
     "name": "stderr",
     "output_type": "stream",
     "text": [
      "INFO - 2022-05-28 13:59:03,007 - acceleratesupport - No OpenGL_accelerate module loaded: No module named 'OpenGL_accelerate'\n"
     ]
    },
    {
     "name": "stdout",
     "output_type": "stream",
     "text": [
      "['../virtual_huams_resource', '/Users/guangzhu/Desktop/ETHz/S2/Virtual_Human/project/prox/src', '../', '/Users/guangzhu/.vscode/extensions/ms-toolsai.jupyter-2022.4.1021342353/pythonFiles', '/Users/guangzhu/.vscode/extensions/ms-toolsai.jupyter-2022.4.1021342353/pythonFiles/lib/python', '/Users/guangzhu/miniconda3/envs/VH/lib/python39.zip', '/Users/guangzhu/miniconda3/envs/VH/lib/python3.9', '/Users/guangzhu/miniconda3/envs/VH/lib/python3.9/lib-dynload', '', '/Users/guangzhu/miniconda3/envs/VH/lib/python3.9/site-packages']\n"
     ]
    }
   ],
   "source": [
    "import os\n",
    "import sys\n",
    "import argparse\n",
    "import glob\n",
    "import numpy as np\n",
    "import pickle\n",
    "import json\n",
    "import cv2\n",
    "import open3d as o3d\n",
    "import matplotlib.pyplot as plt\n",
    "from projection_utils import Projection\n",
    "from data_parser import read_keypoints\n",
    "\n",
    "sys.path.insert(1, '../')\n",
    "from virtual_huams_resource.utils import get_smplx_body_model\n",
    "\n",
    "sys.path.insert(0, \"../virtual_huams_resource\")\n",
    "print(sys.path)\n",
    "from virtual_huams_resource.benji_prox_dataloader import DatasetBase, proxDatasetSkeleton"
   ]
  },
  {
   "cell_type": "code",
   "execution_count": 2,
   "metadata": {},
   "outputs": [],
   "source": [
    "data_root = '../quantitative'\n",
    "sequence_id = 'vicon_03301_01'\n",
    "save_root = '../quantitative/3d_visualization'\n",
    "\n",
    "smplx_model_path='../models_smplx_v1_1/models/smplx/SMPLX_NEUTRAL2.pkl'"
   ]
  },
  {
   "cell_type": "code",
   "execution_count": 3,
   "metadata": {},
   "outputs": [
    {
     "data": {
      "text/plain": [
       "10"
      ]
     },
     "execution_count": 3,
     "metadata": {},
     "output_type": "execute_result"
    }
   ],
   "source": [
    "# ______________ read frames ______________\n",
    "rgb_list = glob.glob(os.path.join(data_root, \"recordings\" , sequence_id, 'Color/*.jpg'))\n",
    "rgb_list.sort()\n",
    "# rgb_list[-1][-33:-30]\n",
    "n_frame = int(rgb_list[-1][-33:-30])  # total frame number\n",
    "# rgb_list\n",
    "n_frame\n",
    "# rgb_list[-1][-34:-4]"
   ]
  },
  {
   "cell_type": "code",
   "execution_count": 4,
   "metadata": {},
   "outputs": [],
   "source": [
    "# ______________ init ______________\n",
    "projection = Projection(os.path.join(data_root, \"calibration\"))\n",
    "MAX_DEPTH = 20.0\n",
    "depth_scale = 1e3       # TODO: determine depth_scale\n",
    "point_cloud = o3d.geometry.PointCloud()\n",
    "vis = o3d.visualization.Visualizer()\n",
    "h_rgb = 1080\n",
    "w_rgb = 1920\n",
    "h_depth = 424\n",
    "w_depth = 512\n",
    "\n",
    "curr_frame = rgb_list[6]"
   ]
  },
  {
   "cell_type": "code",
   "execution_count": 5,
   "metadata": {},
   "outputs": [],
   "source": [
    "# ______________ read depth image ______________\n",
    "depth_img = cv2.imread(os.path.join(data_root, \"recordings\", sequence_id, 'Depth/' + curr_frame[-34:-4] + '.png'), flags=-1).astype(float)\n",
    "# depth_raw = depth_img.copy()\n",
    "depth_img /= 8.0\n",
    "depth_img /= 1000.0\n",
    "# depth_img = cv2.flip(depth_img, 1)\n",
    "# depth_raw = cv2.flip(depth_raw, 1)\n",
    "# depth_aligned = projection.align_depth2color(depth_img, depth_raw)\n",
    "\n",
    "# ______________ create point cloud ______________\n",
    "# depth_cam = projection.depth_cam;\n",
    "# depth_intrinsic = o3d.camera.PinholeCameraIntrinsic(w_depth, h_depth, depth_cam['f'][0], depth_cam['f'][1], depth_cam['c'][0], depth_cam['c'][1])\n",
    "# depth_extrinsic = depth_cam['view_mtx']\n",
    "# o3d.geometry.PointCloud.create_from_depth_image(depth_img, depth_intrinsic, depth_extrinsic, );"
   ]
  },
  {
   "cell_type": "code",
   "execution_count": 6,
   "metadata": {},
   "outputs": [],
   "source": [
    "# visualize 3D scene mesh\n",
    "scene_mesh = o3d.io.read_triangle_mesh(os.path.join(data_root, \"scenes\", \"vicon.ply\"))\n",
    "# o3d.visualization.draw_geometries([scene_mesh])"
   ]
  },
  {
   "cell_type": "code",
   "execution_count": 7,
   "metadata": {},
   "outputs": [
    {
     "data": {
      "text/plain": [
       "PointCloud with 624597 points."
      ]
     },
     "execution_count": 7,
     "metadata": {},
     "output_type": "execute_result"
    }
   ],
   "source": [
    "# visualize 3D scene point cloud\n",
    "scene_point_cloud = o3d.io.read_point_cloud(os.path.join(data_root, \"scenes\", \"N3OpenArea.ply\"))\n",
    "scene_point_cloud\n",
    "# o3d.visualization.draw_geometries([scene_point_cloud])"
   ]
  },
  {
   "cell_type": "code",
   "execution_count": 8,
   "metadata": {},
   "outputs": [
    {
     "data": {
      "text/plain": [
       "{'transl': array([[-0.6994415 , -0.31427762,  0.9848179 ]], dtype=float32),\n",
       " 'num_pca_comps': 12,\n",
       " 'beta': array([0., 0., 0., 0., 0., 0., 0., 0., 0., 0.], dtype=float32),\n",
       " 'jaw_pose': array([[0., 0., 0.]], dtype=float32),\n",
       " 'body_pose': array([[ 0.0590809 ,  0.05310533,  0.09144919,  0.06638564, -0.03938352,\n",
       "         -0.03405466,  0.04605372,  0.03528766, -0.00767644, -0.01093746,\n",
       "         -0.04850643, -0.04170513, -0.00294363,  0.09496448,  0.04342466,\n",
       "          0.04438157, -0.05772606,  0.02723523,  0.02083636,  0.204744  ,\n",
       "         -0.04182123,  0.00783336, -0.13903025,  0.09834542,  0.03948856,\n",
       "         -0.01690864,  0.0097099 ,  0.        ,  0.        ,  0.        ,\n",
       "          0.        ,  0.        ,  0.        ,  0.11294897,  0.02547551,\n",
       "          0.01097451,  0.05551571, -0.02713786, -0.38216677,  0.06716956,\n",
       "          0.01517425,  0.40331653,  0.11045438, -0.00737314,  0.05088175,\n",
       "          0.0304325 , -0.12942097, -0.5711655 ,  0.06874575,  0.0668682 ,\n",
       "          0.5659935 ,  0.0295037 , -0.30085886, -0.01249242, -0.05512818,\n",
       "          0.4115289 , -0.15507044, -0.08258306, -0.15217505,  0.04894594,\n",
       "         -0.1401711 ,  0.07769895,  0.00864173]], dtype=float32),\n",
       " 'right_hand_pose': array([[ 1.1544436 ,  0.11370432, -0.02424388, -0.06176253,  0.726522  ,\n",
       "          0.07428434,  1.1343087 , -0.22562979,  0.2852789 , -0.40444565,\n",
       "         -0.0683852 , -0.17769055]], dtype=float32),\n",
       " 'left_hand_pose': array([[ 1.299731  ,  0.1638163 ,  0.6141253 ,  0.46374097,  0.8784018 ,\n",
       "         -0.00959849,  0.5971352 , -0.57580954,  0.0547456 , -0.5481908 ,\n",
       "          0.6514663 , -0.09600541]], dtype=float32),\n",
       " 'global_orient': array([[ 1.4545091, -0.3872004, -0.4530339]], dtype=float32)}"
      ]
     },
     "execution_count": 8,
     "metadata": {},
     "output_type": "execute_result"
    }
   ],
   "source": [
    "# visualize skeleton in 3D point cloud\n",
    "body_model = get_smplx_body_model(smplx_model_path)\n",
    "path = os.path.join(data_root, \"fittings/mosh\", sequence_id, \"results/s001_frame_00001__00.00.00.023/000.pkl\")\n",
    "with open(path, 'rb') as file:\n",
    "    human_mesh = pickle.load(file, encoding='latin1')\n",
    "human_mesh"
   ]
  },
  {
   "cell_type": "code",
   "execution_count": 9,
   "metadata": {},
   "outputs": [],
   "source": [
    "pd2 = proxDatasetSkeleton(root_dir=data_root + '/temp', in_frames=15, pred_frames=30, output_type='raw_pkls',\n",
    "                        search_prefix='results', extra_prefix='joints_worldnorm.pkl', frame_jump=10, window_overlap_factor=8)\n",
    "# skeleton = proxDatasetSkeleton(pd2)\n",
    "# skeleton.__getitem__(0)"
   ]
  },
  {
   "cell_type": "code",
   "execution_count": 10,
   "metadata": {},
   "outputs": [
    {
     "data": {
      "text/plain": [
       "['../quantitative/temp/N3OpenArea_00157_02/results/s001_frame_00001__00.00.00.031/joints_worldnorm.pkl',\n",
       " '../quantitative/temp/N3OpenArea_00157_02/results/s001_frame_00011__00.00.00.321/joints_worldnorm.pkl',\n",
       " '../quantitative/temp/N3OpenArea_00157_02/results/s001_frame_00021__00.00.00.654/joints_worldnorm.pkl',\n",
       " '../quantitative/temp/N3OpenArea_00157_02/results/s001_frame_00031__00.00.00.985/joints_worldnorm.pkl',\n",
       " '../quantitative/temp/N3OpenArea_00157_02/results/s001_frame_00041__00.00.01.323/joints_worldnorm.pkl',\n",
       " '../quantitative/temp/N3OpenArea_00157_02/results/s001_frame_00051__00.00.01.654/joints_worldnorm.pkl',\n",
       " '../quantitative/temp/N3OpenArea_00157_02/results/s001_frame_00061__00.00.01.986/joints_worldnorm.pkl',\n",
       " '../quantitative/temp/N3OpenArea_00157_02/results/s001_frame_00071__00.00.02.318/joints_worldnorm.pkl',\n",
       " '../quantitative/temp/N3OpenArea_00157_02/results/s001_frame_00081__00.00.02.653/joints_worldnorm.pkl',\n",
       " '../quantitative/temp/N3OpenArea_00157_02/results/s001_frame_00091__00.00.02.987/joints_worldnorm.pkl',\n",
       " '../quantitative/temp/N3OpenArea_00157_02/results/s001_frame_00101__00.00.03.319/joints_worldnorm.pkl',\n",
       " '../quantitative/temp/N3OpenArea_00157_02/results/s001_frame_00111__00.00.03.655/joints_worldnorm.pkl',\n",
       " '../quantitative/temp/N3OpenArea_00157_02/results/s001_frame_00121__00.00.03.988/joints_worldnorm.pkl',\n",
       " '../quantitative/temp/N3OpenArea_00157_02/results/s001_frame_00131__00.00.04.320/joints_worldnorm.pkl',\n",
       " '../quantitative/temp/N3OpenArea_00157_02/results/s001_frame_00141__00.00.04.653/joints_worldnorm.pkl']"
      ]
     },
     "execution_count": 10,
     "metadata": {},
     "output_type": "execute_result"
    }
   ],
   "source": [
    "idx, (a, in_skels), (b, fut_skels) = pd2.__getitem__(0)\n",
    "a"
   ]
  },
  {
   "cell_type": "code",
   "execution_count": 11,
   "metadata": {},
   "outputs": [
    {
     "data": {
      "text/plain": [
       "torch.Size([1, 25, 3])"
      ]
     },
     "execution_count": 11,
     "metadata": {},
     "output_type": "execute_result"
    }
   ],
   "source": [
    "in_skels[0].shape"
   ]
  },
  {
   "cell_type": "code",
   "execution_count": 12,
   "metadata": {},
   "outputs": [],
   "source": [
    "# in_skels[0]\n",
    "skeleton = in_skels[0].detach().numpy()\n",
    "skeleton = skeleton.astype(np.float64)\n",
    "skeleton = skeleton.squeeze()"
   ]
  },
  {
   "cell_type": "code",
   "execution_count": 13,
   "metadata": {},
   "outputs": [],
   "source": [
    "# visualize skeleton in 3D\n",
    "LIMBS = [(23, 15),\n",
    "         (24, 15),\n",
    "         (15, 22),\n",
    "         (22, 12),\n",
    "         # left arm\n",
    "         (12, 13),\n",
    "         (13, 16),\n",
    "         (16, 18),\n",
    "         (18, 20),\n",
    "         # right arm\n",
    "         (12, 14),\n",
    "         (14, 17),\n",
    "         (17, 19),\n",
    "         (19, 21),\n",
    "         # spline\n",
    "         (12, 9),\n",
    "         (9, 6),\n",
    "         (6, 3),\n",
    "         (3, 0),\n",
    "         # left leg\n",
    "         (0, 1),\n",
    "         (1, 4),\n",
    "         (4, 7),\n",
    "         (7, 10),\n",
    "         # right leg\n",
    "         (0, 2),\n",
    "         (2, 5),\n",
    "         (5, 8),\n",
    "         (8, 11)]\n",
    "\n",
    "skeleton_input = o3d.geometry.LineSet(\n",
    "            o3d.utility.Vector3dVector(skeleton),\n",
    "            o3d.utility.Vector2iVector(LIMBS))\n",
    "\n",
    "# o3d.visualization.draw_geometries([skeleton_input])\n",
    "# vis.add_geometry(skeleton_input)"
   ]
  },
  {
   "cell_type": "code",
   "execution_count": 14,
   "metadata": {},
   "outputs": [
    {
     "name": "stdout",
     "output_type": "stream",
     "text": [
      "\u001b[1;33m[Open3D WARNING] GLFW Error: Cocoa: Failed to find service port for display\u001b[0;m\n",
      "\u001b[1;33m[Open3D WARNING] GLFW Error: Cocoa: Failed to find service port for display\u001b[0;m\n"
     ]
    },
    {
     "ename": "",
     "evalue": "",
     "output_type": "error",
     "traceback": [
      "\u001b[1;31mThe Kernel crashed while executing code in the the current cell or a previous cell. Please review the code in the cell(s) to identify a possible cause of the failure. Click <a href='https://aka.ms/vscodeJupyterKernelCrash'>here</a> for more info. View Jupyter <a href='command:jupyter.viewOutput'>log</a> for further details."
     ]
    }
   ],
   "source": [
    "# ctr = vis.get_view_control()\n",
    "# cam_param = ctr.convert_to_pinhole_camera_parameters()\n",
    "# cam_param = update_cam(cam_param, trans)\n",
    "# ctr.convert_from_pinhole_camera_parameters(cam_param)\n",
    "\n",
    "# vis.poll_events()\n",
    "# vis.update_renderer()\n",
    "\n",
    "vis.create_window()\n",
    "vis.add_geometry(scene_point_cloud)\n",
    "vis.add_geometry(skeleton_input)\n",
    "render_option = vis.get_render_option()\n",
    "render_option.line_width = 1000\n",
    "vis.update_renderer()\n",
    "vis.run()\n",
    "vis.destroy_window()"
   ]
  }
 ],
 "metadata": {
  "interpreter": {
   "hash": "ef0bfd5a0a44da5bab5ff7f08d2a6c1e67915635db3105f67f5f1f3a2b92236c"
  },
  "kernelspec": {
   "display_name": "Python 3.9.12 ('VH')",
   "language": "python",
   "name": "python3"
  },
  "language_info": {
   "codemirror_mode": {
    "name": "ipython",
    "version": 3
   },
   "file_extension": ".py",
   "mimetype": "text/x-python",
   "name": "python",
   "nbconvert_exporter": "python",
   "pygments_lexer": "ipython3",
   "version": "3.9.12"
  },
  "orig_nbformat": 4
 },
 "nbformat": 4,
 "nbformat_minor": 2
}
