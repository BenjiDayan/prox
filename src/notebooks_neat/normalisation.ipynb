{
 "cells": [
  {
   "cell_type": "code",
   "execution_count": 1,
   "id": "79066de1-42e0-4f53-9858-f6976f9d7082",
   "metadata": {},
   "outputs": [
    {
     "name": "stdout",
     "output_type": "stream",
     "text": [
      "numpy: 1.22.3\n"
     ]
    }
   ],
   "source": [
    "import os\n",
    "os.environ['PYOPENGL_PLATFORM']='osmesa'\n",
    "\n",
    "import argparse\n",
    "import pickle\n",
    "import sys\n",
    "import cv2\n",
    "import numpy as np\n",
    "import open3d as o3d\n",
    "import matplotlib.pyplot as plt\n",
    "# from gta_utils import LIMBS, read_depthmap\n",
    "# from sklearn.neighbors import NearestNeighbors\n",
    "from tqdm import tqdm\n",
    "import glob\n",
    "# from utils import *\n",
    "import copy\n",
    "import argparse\n",
    "\n",
    "from IPython.core.interactiveshell import InteractiveShell\n",
    "InteractiveShell.ast_node_interactivity = \"all\"\n",
    "\n",
    "\n",
    "import sys\n",
    "sys.path.append('../')\n",
    "sys.path.append('../../src')\n",
    "\n",
    "from benji_prox_dataloader import *\n",
    "from visualisation import *\n",
    "from utils import *\n",
    "import tqdm\n",
    "from simple_transformer import PoseTransformer\n",
    "import torch\n",
    "from torch import nn\n",
    "\n"
   ]
  },
  {
   "cell_type": "code",
   "execution_count": 9,
   "id": "038ea443-13a1-4c2d-9fa5-818ec538bbd4",
   "metadata": {},
   "outputs": [
    {
     "name": "stdout",
     "output_type": "stream",
     "text": [
      "2246 2585\n",
      "2273 2273 2273\n"
     ]
    }
   ],
   "source": [
    "\n",
    "root_dir = \"/cluster/scratch/bdayan/prox_data/\"\n",
    "\n",
    "smplx_model_path='/cluster/home/bdayan/prox/prox/models_smplx_v1_1/models/'\n",
    "in_frames = 10\n",
    "pred_frames = 5\n",
    "batch_size = 8\n",
    "lr = 0.0001\n",
    "n_iter = 100\n",
    "\n",
    "pd = proxDatasetJoints(root_dir=root_dir + '/PROXD', in_frames=in_frames, pred_frames=pred_frames, \\\n",
    "                       output_type='joint_locations', smplx_model_path=smplx_model_path, frame_jump=5)\n",
    "pdc = DatasetBase(root_dir=root_dir + '/recordings', in_frames=in_frames, pred_frames=pred_frames,\n",
    "                                             search_prefix='Color', extra_prefix='', frame_jump=5)\n",
    "\n",
    "pd2 = DatasetBase(root_dir=root_dir + '/PROXD', in_frames=in_frames, pred_frames=pred_frames,\n",
    "                                             search_prefix='results', extra_prefix='joints_worldnorm.pkl', frame_jump=5)\n",
    "\n",
    "\n",
    "print(len(pd), len(pdc))\n",
    "pd.align(pdc)\n",
    "pdc.align(pd)\n",
    "pd2.align(pd)\n",
    "pd.align(pd2)\n",
    "pdc.align(pd2)\n",
    "print(len(pd), len(pdc), len(pd2))\n",
    "\n",
    "# pdi = proxDatasetImages(root_dir=\"/cluster/scratch/bdayan/prox_data/recordings\", in_frames=in_frames, pred_frames=pred_frames)\n",
    "\n",
    "# dataloader = DataLoader(pd, batch_size=batch_size,\n",
    "#                         shuffle=True, num_workers=0, collate_fn=my_collate)"
   ]
  },
  {
   "cell_type": "code",
   "execution_count": 10,
   "id": "de1cadf1-8eec-4da2-aab9-add3b14adaf4",
   "metadata": {},
   "outputs": [],
   "source": [
    "pd.output_type = 'joint_locations'\n",
    "idx, in_joint_locations, pred_joint_locations = pd.__getitem__(500)\n",
    "pd.output_type = 'raw_pkls'\n",
    "(idx, (in_joint_fns, in_joint_data), (pred_joint_fns, pred_joint_data)) = pd.__getitem__(500)\n",
    "in_frames_dicts, in_frames_fns, pred_frames_dicts, pred_frames_fns = pdc.__getitem__(500)\n",
    "\n",
    "dicts1, fns1, dicts2, fns2 = pd2.__getitem__(500)"
   ]
  },
  {
   "cell_type": "code",
   "execution_count": 11,
   "id": "ce57bb93-b75b-4558-bdb3-6d0f6463b7ec",
   "metadata": {},
   "outputs": [],
   "source": [
    "def load(fn):\n",
    "    try:\n",
    "        with open(fn, 'rb') as file:\n",
    "            return pickle.load(file)\n",
    "    except FileNotFoundError:\n",
    "        return None\n",
    "\n",
    "joints3 = list(map(load, fns1))"
   ]
  },
  {
   "cell_type": "code",
   "execution_count": 13,
   "id": "9b18b533-cc5d-4e6f-81f6-51726f1cbca0",
   "metadata": {},
   "outputs": [],
   "source": [
    "import json\n",
    "from utils import normalized_joint_locations_world\n",
    "device = torch.device(\"cuda\" if torch.cuda.is_available() else \"cpu\")\n",
    "\n",
    "\n",
    "cam2worldfn = root_dir + 'cam2world/' + 'N3OpenArea'\n",
    "with open(cam2worldfn + '.json') as file:\n",
    "    cam2world = np.array(json.load(file))\n",
    "    cam2world = torch.from_numpy(cam2world).float().to(device)\n",
    "\n",
    "\n",
    "joints = [normalized_joint_locations_world(data_dict, pd.body_model, cam2world) for data_dict in in_joint_data]\n",
    "def inv(joints):\n",
    "    joint_locs = joints[:, :25]\n",
    "    cam_R = cam2world[:3, :3].reshape([3, 3])\n",
    "    cam_t = cam2world[:3, 3].reshape([1, 3])\n",
    "    joint_locs = torch.matmul(torch.inverse(cam_R), (joint_locs - cam_t).permute(0, 2, 1)).permute(0, 2, 1)\n",
    "    return joint_locs\n",
    "\n",
    "joints2 = [inv(joint) for joint in joints]"
   ]
  },
  {
   "cell_type": "code",
   "execution_count": 15,
   "id": "82705f3d-4ab7-415e-ab9a-d21066868c79",
   "metadata": {},
   "outputs": [
    {
     "data": {
      "text/plain": [
       "tensor([[[ 0.0000e+00,  0.0000e+00,  2.9802e-08],\n",
       "         [ 0.0000e+00,  0.0000e+00,  5.9605e-08],\n",
       "         [ 0.0000e+00,  0.0000e+00,  5.9605e-08],\n",
       "         [ 0.0000e+00,  0.0000e+00,  5.9605e-08],\n",
       "         [-1.1921e-07,  0.0000e+00,  5.9605e-08],\n",
       "         [ 0.0000e+00,  0.0000e+00,  5.9605e-08],\n",
       "         [ 0.0000e+00,  0.0000e+00,  5.9605e-08],\n",
       "         [ 0.0000e+00,  0.0000e+00,  1.1921e-07],\n",
       "         [ 0.0000e+00,  0.0000e+00,  1.1921e-07],\n",
       "         [ 0.0000e+00,  0.0000e+00,  5.9605e-08],\n",
       "         [ 0.0000e+00,  0.0000e+00,  0.0000e+00],\n",
       "         [-5.9605e-08,  0.0000e+00,  2.3842e-07],\n",
       "         [ 0.0000e+00,  0.0000e+00,  5.9605e-08],\n",
       "         [ 0.0000e+00,  0.0000e+00,  7.4506e-08],\n",
       "         [-5.9605e-08,  0.0000e+00,  5.9605e-08],\n",
       "         [ 0.0000e+00,  0.0000e+00,  1.1921e-07],\n",
       "         [ 0.0000e+00,  0.0000e+00,  5.9605e-08],\n",
       "         [ 0.0000e+00,  0.0000e+00,  5.9605e-08],\n",
       "         [ 0.0000e+00,  0.0000e+00,  5.9605e-08],\n",
       "         [ 0.0000e+00,  0.0000e+00,  5.9605e-08],\n",
       "         [ 1.1921e-07,  0.0000e+00,  2.9802e-08],\n",
       "         [ 0.0000e+00,  0.0000e+00,  5.9605e-08],\n",
       "         [ 0.0000e+00,  0.0000e+00,  1.1921e-07],\n",
       "         [ 0.0000e+00,  0.0000e+00,  1.1921e-07],\n",
       "         [ 0.0000e+00,  2.3842e-07,  1.1921e-07]]], grad_fn=<SubBackward0>)"
      ]
     },
     "execution_count": 15,
     "metadata": {},
     "output_type": "execute_result"
    }
   ],
   "source": [
    "joints[0] - joints3[0]"
   ]
  },
  {
   "cell_type": "code",
   "execution_count": 16,
   "id": "768dc875-43ad-4a92-a0db-ba5bb668dd56",
   "metadata": {},
   "outputs": [],
   "source": [
    "import math"
   ]
  },
  {
   "cell_type": "code",
   "execution_count": 19,
   "id": "73e4f845-bae1-40d0-bde2-869868609930",
   "metadata": {},
   "outputs": [
    {
     "data": {
      "text/plain": [
       "9"
      ]
     },
     "execution_count": 19,
     "metadata": {},
     "output_type": "execute_result"
    }
   ],
   "source": [
    "math.ceil(45/5)"
   ]
  },
  {
   "cell_type": "code",
   "execution_count": null,
   "id": "3960ffd9-74cf-4839-bfe6-09d1f590d8c2",
   "metadata": {},
   "outputs": [],
   "source": []
  }
 ],
 "metadata": {
  "kernelspec": {
   "display_name": "Python 3 (ipykernel)",
   "language": "python",
   "name": "python3"
  },
  "language_info": {
   "codemirror_mode": {
    "name": "ipython",
    "version": 3
   },
   "file_extension": ".py",
   "mimetype": "text/x-python",
   "name": "python",
   "nbconvert_exporter": "python",
   "pygments_lexer": "ipython3",
   "version": "3.8.5"
  }
 },
 "nbformat": 4,
 "nbformat_minor": 5
}
