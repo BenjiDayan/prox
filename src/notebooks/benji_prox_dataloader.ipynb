{
 "cells": [
  {
   "cell_type": "code",
   "execution_count": 1,
   "id": "1b582e9e",
   "metadata": {},
   "outputs": [],
   "source": [
    "from benji_prox_dataloader import *"
   ]
  },
  {
   "cell_type": "code",
   "execution_count": 2,
   "id": "72fd5c50",
   "metadata": {
    "scrolled": true
   },
   "outputs": [],
   "source": [
    "root_dir = 'D:/prox_data/PROXD_attempt2/PROXD'\n",
    "pd = proxDataset(root_dir)"
   ]
  },
  {
   "cell_type": "code",
   "execution_count": 3,
   "id": "cef7f7f9",
   "metadata": {},
   "outputs": [
    {
     "data": {
      "text/plain": [
       "array([ 105,  250,  402,  546,  691,  788,  915, 1037, 1153, 1239, 1321,\n",
       "       1438, 1537, 1656, 1757, 1904, 2134, 2232, 2436, 2571, 2669, 2742,\n",
       "       2824, 2896, 2986, 3188, 3284, 3435, 3575, 3639, 3686, 3741, 3784,\n",
       "       3857, 3887, 3931, 3996, 4139, 4228, 4378, 4551, 4755, 4890, 5026,\n",
       "       5092, 5180, 5267, 5394, 5464, 5522, 5582, 5642, 5774, 5876],\n",
       "      dtype=int32)"
      ]
     },
     "execution_count": 3,
     "metadata": {},
     "output_type": "execute_result"
    }
   ],
   "source": [
    "pd.bounds"
   ]
  },
  {
   "cell_type": "code",
   "execution_count": 4,
   "id": "364624fc",
   "metadata": {},
   "outputs": [
    {
     "data": {
      "text/plain": [
       "2"
      ]
     },
     "execution_count": 4,
     "metadata": {},
     "output_type": "execute_result"
    }
   ],
   "source": [
    "i, in_skels, pred_skels = pd.__getitem__(2)\n",
    "i"
   ]
  },
  {
   "cell_type": "code",
   "execution_count": 5,
   "id": "1844e721",
   "metadata": {},
   "outputs": [],
   "source": [
    "dataloader = DataLoader(pd, batch_size=4,\n",
    "                        shuffle=True, num_workers=0)"
   ]
  },
  {
   "cell_type": "code",
   "execution_count": 7,
   "id": "f071d6ad",
   "metadata": {},
   "outputs": [
    {
     "name": "stdout",
     "output_type": "stream",
     "text": [
      "0 tensor([4218, 3293, 1170, 1431]) torch.Size([4, 10, 21, 3])\n",
      "1 tensor([1646, 2353, 1504,  560]) torch.Size([4, 10, 21, 3])\n",
      "2 tensor([ 307,  344, 1750, 3847]) torch.Size([4, 10, 21, 3])\n",
      "3 tensor([ 655, 2491, 3795,  309]) torch.Size([4, 10, 21, 3])\n"
     ]
    }
   ],
   "source": [
    "for i_batch, (original_indices, in_skels, pred_skels) in enumerate(dataloader):\n",
    "    print(i_batch, original_indices, in_skels.shape)\n",
    "\n",
    "    # observe 4th batch and stop.\n",
    "    if i_batch == 3:\n",
    "        break"
   ]
  },
  {
   "cell_type": "code",
   "execution_count": null,
   "id": "8a3f6623",
   "metadata": {},
   "outputs": [],
   "source": []
  }
 ],
 "metadata": {
  "kernelspec": {
   "display_name": "Python 3 (ipykernel)",
   "language": "python",
   "name": "python3"
  },
  "language_info": {
   "codemirror_mode": {
    "name": "ipython",
    "version": 3
   },
   "file_extension": ".py",
   "mimetype": "text/x-python",
   "name": "python",
   "nbconvert_exporter": "python",
   "pygments_lexer": "ipython3",
   "version": "3.8.5"
  }
 },
 "nbformat": 4,
 "nbformat_minor": 5
}
