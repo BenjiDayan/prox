{
 "cells": [
  {
   "cell_type": "code",
   "execution_count": 3,
   "id": "6f448137",
   "metadata": {},
   "outputs": [
    {
     "name": "stdout",
     "output_type": "stream",
     "text": [
      "numpy: 1.22.3\n"
     ]
    }
   ],
   "source": [
    "import sys\n",
    "# idk why but venv38 isn't on sys.path maybe we can fix this somehow whatever\n",
    "sys.path = ['/cluster/home/bdayan/prox/venv38/lib64/python3.8/site-packages'] + sys.path\n",
    "\n",
    "\n",
    "import numpy as np # for data manipulation\n",
    "print('numpy: %s' % np.__version__) # print version\n",
    "import math # to help with data reshaping of the data\n",
    "\n",
    "import numpy as np\n",
    "import torch\n",
    "#import torchvision\n",
    "import torch.nn as nn\n",
    "import torch.nn.functional as F\n",
    "from torch.autograd import Variable\n",
    "\n",
    "# from sklearn.model_selection import train_test_split\n",
    "import tqdm\n",
    "import matplotlib.pyplot as plt\n",
    "import logging\n",
    "\n",
    "from IPython.core.interactiveshell import InteractiveShell\n",
    "InteractiveShell.ast_node_interactivity = \"all\"\n",
    "\n",
    "import os\n",
    "os.chdir('../')\n",
    "\n",
    "from pose_gru import PoseGRU_inputFC2\n",
    "from benji_prox_dataloader import *"
   ]
  },
  {
   "cell_type": "code",
   "execution_count": 4,
   "id": "be9b3fd5-9c9b-41e1-b5a8-be8e4b1515e8",
   "metadata": {},
   "outputs": [
    {
     "data": {
      "text/plain": [
       "'/cluster/home/bdayan/prox/prox/virtual_huams_resource'"
      ]
     },
     "execution_count": 4,
     "metadata": {},
     "output_type": "execute_result"
    }
   ],
   "source": [
    "os.getcwd()"
   ]
  },
  {
   "cell_type": "code",
   "execution_count": 5,
   "id": "173b532d",
   "metadata": {},
   "outputs": [],
   "source": [
    "root_dir = '/cluster/scratch/bdayan/prox_data/PROXD_attempt2/PROXD'\n",
    "root_dir3 = '/cluster/scratch/bdayan/prox_data/PROXD'\n",
    "smplx_model_path='../models_smplx_v1_1/models/'\n",
    "in_frames = 10\n",
    "pred_frames = 5\n",
    "batch_size = 15\n",
    "# pd = proxDataset(root_dir, in_frames=in_frames, pred_frames=pred_frames, output_type='raw_pkls', smplx_model_path=smplx_model_path)\n",
    "# pd2 = proxDataset(root_dir, in_frames=in_frames, pred_frames=pred_frames, output_type='joint_locations', smplx_model_path=smplx_model_path)\n",
    "\n",
    "pd = proxDatasetSkeleton(output_type='raw_pkls', smplx_model_path=smplx_model_path, root_dir=root_dir, in_frames=in_frames, pred_frames=pred_frames)\n",
    "pd2 = proxDatasetSkeleton(output_type='raw_pkls', smplx_model_path=smplx_model_path, root_dir=root_dir3, in_frames=in_frames, pred_frames=pred_frames)\n",
    "\n",
    "root_dir2 = '/cluster/scratch/bdayan/prox_data/recordings'\n",
    "bd = DatasetBase(root_dir=root_dir2, search_prefix='Color', extra_prefix='')\n",
    "\n",
    "\n",
    "dataloader = DataLoader(pd, batch_size=1,\n",
    "                        shuffle=True, num_workers=0, collate_fn=my_collate)\n"
   ]
  },
  {
   "cell_type": "code",
   "execution_count": 6,
   "id": "fe0b57ee-0eb8-4dbb-84a5-106cb6551869",
   "metadata": {},
   "outputs": [
    {
     "data": {
      "text/plain": [
       "54"
      ]
     },
     "execution_count": 6,
     "metadata": {},
     "output_type": "execute_result"
    },
    {
     "data": {
      "text/plain": [
       "60"
      ]
     },
     "execution_count": 6,
     "metadata": {},
     "output_type": "execute_result"
    },
    {
     "data": {
      "text/plain": [
       "54"
      ]
     },
     "execution_count": 6,
     "metadata": {},
     "output_type": "execute_result"
    }
   ],
   "source": [
    "len(pd.sequences)\n",
    "len(bd.sequences)\n",
    "len(pd2.sequences)"
   ]
  },
  {
   "cell_type": "code",
   "execution_count": 7,
   "id": "4a6d51c1-8a23-4d2b-8ef8-d5363ac10e3d",
   "metadata": {},
   "outputs": [],
   "source": [
    "areas = [thing[0] for thing in pd.sequences]\n",
    "bd.sequences = [x for x in bd.sequences if x[0] in areas]\n",
    "\n",
    "seq_lens = [len(fns_dict) for stem, fns_dict in bd.sequences]\n",
    "bd.bounds = np.array([seq_len // bd.tot_frames for seq_len in seq_lens])  # e.g. \n",
    "assert(np.all(bd.bounds >= 1)), \"sequence has insufficient frames for one training input\"  # sanity check\n",
    "bd.bounds = np.cumsum(bd.bounds)"
   ]
  },
  {
   "cell_type": "code",
   "execution_count": 8,
   "id": "0ef0bae0-4230-433a-a615-570bedb4dd1e",
   "metadata": {},
   "outputs": [
    {
     "data": {
      "text/plain": [
       "(5902, 5876, 5876)"
      ]
     },
     "execution_count": 8,
     "metadata": {},
     "output_type": "execute_result"
    }
   ],
   "source": [
    "len(bd), len(pd), len(pd2)"
   ]
  },
  {
   "cell_type": "code",
   "execution_count": 14,
   "id": "a520579d-2652-48fb-8dd4-02a6eb8014bd",
   "metadata": {},
   "outputs": [
    {
     "name": "stderr",
     "output_type": "stream",
     "text": [
      "  8%|▊         | 4/50 [00:00<00:04, 11.04it/s]"
     ]
    },
    {
     "name": "stdout",
     "output_type": "stream",
     "text": [
      "154\n"
     ]
    },
    {
     "name": "stderr",
     "output_type": "stream",
     "text": [
      "\n"
     ]
    }
   ],
   "source": [
    "import tqdm\n",
    "for i in tqdm.tqdm(range(150, 200)):\n",
    "    a = bd.__getitem__(i)\n",
    "    b = pd.__getitem__(i)\n",
    "    p1 = Path(a[0][0]['fn']).stem\n",
    "    p2 = Path(b[1][0][0]).parent.name\n",
    "    if p1 != p2:\n",
    "        print(i)\n",
    "        break"
   ]
  },
  {
   "cell_type": "code",
   "execution_count": 15,
   "id": "ee5c2088-b3d2-496d-915f-9d7523132e28",
   "metadata": {
    "collapsed": true,
    "jupyter": {
     "outputs_hidden": true
    },
    "tags": []
   },
   "outputs": [
    {
     "data": {
      "text/plain": [
       "['/cluster/scratch/bdayan/prox_data/recordings/MPH112_03515_01/Color/s001_frame_00286__00.00.09.503.jpg',\n",
       " '/cluster/scratch/bdayan/prox_data/recordings/MPH112_03515_01/Color/s001_frame_00287__00.00.09.536.jpg',\n",
       " '/cluster/scratch/bdayan/prox_data/recordings/MPH112_03515_01/Color/s001_frame_00288__00.00.09.571.jpg',\n",
       " '/cluster/scratch/bdayan/prox_data/recordings/MPH112_03515_01/Color/s001_frame_00289__00.00.09.603.jpg',\n",
       " '/cluster/scratch/bdayan/prox_data/recordings/MPH112_03515_01/Color/s001_frame_00290__00.00.09.637.jpg',\n",
       " '/cluster/scratch/bdayan/prox_data/recordings/MPH112_03515_01/Color/s001_frame_00291__00.00.09.671.jpg',\n",
       " '/cluster/scratch/bdayan/prox_data/recordings/MPH112_03515_01/Color/s001_frame_00292__00.00.09.703.jpg',\n",
       " '/cluster/scratch/bdayan/prox_data/recordings/MPH112_03515_01/Color/s001_frame_00293__00.00.09.737.jpg',\n",
       " '/cluster/scratch/bdayan/prox_data/recordings/MPH112_03515_01/Color/s001_frame_00294__00.00.09.769.jpg',\n",
       " '/cluster/scratch/bdayan/prox_data/recordings/MPH112_03515_01/Color/s001_frame_00295__00.00.09.804.jpg']"
      ]
     },
     "execution_count": 15,
     "metadata": {},
     "output_type": "execute_result"
    },
    {
     "data": {
      "text/plain": [
       "['/cluster/scratch/bdayan/prox_data/recordings/MPH112_03515_01/Color/s001_frame_00296__00.00.09.837.jpg',\n",
       " '/cluster/scratch/bdayan/prox_data/recordings/MPH112_03515_01/Color/s001_frame_00297__00.00.09.869.jpg',\n",
       " '/cluster/scratch/bdayan/prox_data/recordings/MPH112_03515_01/Color/s001_frame_00298__00.00.09.903.jpg',\n",
       " '/cluster/scratch/bdayan/prox_data/recordings/MPH112_03515_01/Color/s001_frame_00299__00.00.09.936.jpg',\n",
       " '/cluster/scratch/bdayan/prox_data/recordings/MPH112_03515_01/Color/s001_frame_00300__00.00.09.971.jpg']"
      ]
     },
     "execution_count": 15,
     "metadata": {},
     "output_type": "execute_result"
    },
    {
     "data": {
      "text/plain": [
       "['/cluster/scratch/bdayan/prox_data/PROXD_attempt2/PROXD/MPH112_03515_01/results/s001_frame_00286__00.00.09.503/000.pkl',\n",
       " '/cluster/scratch/bdayan/prox_data/PROXD_attempt2/PROXD/MPH112_03515_01/results/s001_frame_00287__00.00.09.536/000.pkl',\n",
       " '/cluster/scratch/bdayan/prox_data/PROXD_attempt2/PROXD/MPH112_03515_01/results/s001_frame_00288__00.00.09.571/000.pkl',\n",
       " '/cluster/scratch/bdayan/prox_data/PROXD_attempt2/PROXD/MPH112_03515_01/results/s001_frame_00289__00.00.09.603/000.pkl',\n",
       " '/cluster/scratch/bdayan/prox_data/PROXD_attempt2/PROXD/MPH112_03515_01/results/s001_frame_00290__00.00.09.637/000.pkl',\n",
       " '/cluster/scratch/bdayan/prox_data/PROXD_attempt2/PROXD/MPH112_03515_01/results/s001_frame_00291__00.00.09.671/000.pkl',\n",
       " '/cluster/scratch/bdayan/prox_data/PROXD_attempt2/PROXD/MPH112_03515_01/results/s001_frame_00292__00.00.09.703/000.pkl',\n",
       " '/cluster/scratch/bdayan/prox_data/PROXD_attempt2/PROXD/MPH112_03515_01/results/s001_frame_00293__00.00.09.737/000.pkl',\n",
       " '/cluster/scratch/bdayan/prox_data/PROXD_attempt2/PROXD/MPH112_03515_01/results/s001_frame_00294__00.00.09.769/000.pkl',\n",
       " '/cluster/scratch/bdayan/prox_data/PROXD_attempt2/PROXD/MPH112_03515_01/results/s001_frame_00295__00.00.09.804/000.pkl']"
      ]
     },
     "execution_count": 15,
     "metadata": {},
     "output_type": "execute_result"
    },
    {
     "data": {
      "text/plain": [
       "['/cluster/scratch/bdayan/prox_data/PROXD_attempt2/PROXD/MPH112_03515_01/results/s001_frame_00296__00.00.09.837/000.pkl',\n",
       " '/cluster/scratch/bdayan/prox_data/PROXD_attempt2/PROXD/MPH112_03515_01/results/s001_frame_00297__00.00.09.869/000.pkl',\n",
       " '/cluster/scratch/bdayan/prox_data/PROXD_attempt2/PROXD/MPH112_03515_01/results/s001_frame_00298__00.00.09.903/000.pkl',\n",
       " '/cluster/scratch/bdayan/prox_data/PROXD_attempt2/PROXD/MPH112_03515_01/results/s001_frame_00380__00.00.12.637/000.pkl',\n",
       " '/cluster/scratch/bdayan/prox_data/PROXD_attempt2/PROXD/MPH112_03515_01/results/s001_frame_00381__00.00.12.670/000.pkl']"
      ]
     },
     "execution_count": 15,
     "metadata": {},
     "output_type": "execute_result"
    }
   ],
   "source": [
    "# i = 153\n",
    "# a = bd.__getitem__(i)\n",
    "# b = pd.__getitem__(i)\n",
    "\n",
    "# a[1]\n",
    "# a[3]\n",
    "# b[1][0]\n",
    "# b[2][0]"
   ]
  },
  {
   "cell_type": "code",
   "execution_count": 16,
   "id": "7d4e752e-ed62-40c2-a2ea-df545aca84ad",
   "metadata": {},
   "outputs": [],
   "source": [
    "a, b = bd.__getitem__(100), pd.__getitem__(100)"
   ]
  },
  {
   "cell_type": "code",
   "execution_count": 17,
   "id": "a6366e2e-56ba-4bd2-bc4a-dbf054b47aac",
   "metadata": {},
   "outputs": [],
   "source": [
    "from matplotlib import image\n",
    "image = image.imread(a[1][0])"
   ]
  },
  {
   "cell_type": "code",
   "execution_count": 18,
   "id": "a886d37f-7506-4b6c-b9eb-5baf166ea0a5",
   "metadata": {},
   "outputs": [
    {
     "data": {
      "text/plain": [
       "<matplotlib.image.AxesImage at 0x2af920eeae20>"
      ]
     },
     "execution_count": 18,
     "metadata": {},
     "output_type": "execute_result"
    },
    {
     "data": {
      "text/plain": [
       "(1080, 1920, 3)"
      ]
     },
     "execution_count": 18,
     "metadata": {},
     "output_type": "execute_result"
    },
    {
     "data": {
      "image/png": "[encoded data removed]",
      "text/plain": [
       "<Figure size 432x288 with 1 Axes>"
      ]
     },
     "metadata": {
      "needs_background": "light"
     },
     "output_type": "display_data"
    }
   ],
   "source": [
    "plt.imshow(image)\n",
    "image.shape"
   ]
  },
  {
   "cell_type": "code",
   "execution_count": 19,
   "id": "12969421",
   "metadata": {},
   "outputs": [
    {
     "name": "stdout",
     "output_type": "stream",
     "text": [
      "-- pytorch version=1.10.0+cu102\n",
      "-- device=cpu\n"
     ]
    }
   ],
   "source": [
    "# specify device\n",
    "device = torch.device('cuda') if torch.cuda.is_available() else torch.device('cpu')\n",
    "\n",
    "\n",
    "print('-- pytorch version={}'.format(torch.__version__))\n",
    "print('-- device={}'.format(device))\n",
    "\n",
    "smplx_model_path='../models_smplx_v1_1/models/'\n",
    "\n",
    "import smplx  # SMPL-X; pip install smplx\n",
    "\n",
    "def get_smplx_model(gender, device):\n",
    "    body_model_path = smplx_model_path\n",
    "    body_model = smplx.create(body_model_path, \n",
    "                          model_type='smplx',        ## smpl, smpl+h, or smplx?\n",
    "                          gender=gender, ext='npz',  ## file format \n",
    "                          num_pca_comps=12,          ## MANO hand pose pca component\n",
    "                          create_global_orient=True, \n",
    "                          create_body_pose=True,\n",
    "                          create_betas=True,\n",
    "                          create_left_hand_pose=True,\n",
    "                          create_right_hand_pose=True,\n",
    "                          create_expression=True, \n",
    "                          create_jaw_pose=True,\n",
    "                          create_leye_pose=True,\n",
    "                          create_reye_pose=True,\n",
    "                          create_transl=True,\n",
    "                          batch_size=1               ## how many bodies in a batch?\n",
    "                          )\n",
    "    body_model.eval()\n",
    "    return body_model\n",
    "\n",
    "smplx_neutral = get_smplx_model(gender='neutral', device=device)\n",
    "\n",
    "\n",
    "def draw_bodies(gender, betas, thetas):\n",
    "    bm = smplx_neutral\n",
    "\n",
    "\n",
    "    ## read verts and face from smplx model\n",
    "    params = {'betas': betas,\n",
    "              'body_pose': thetas\n",
    "              }\n",
    "\n",
    "\n",
    "    verts = bm(return_verts=True, **params).vertices.detach().cpu().numpy()[0]\n",
    "    faces = bm.faces\n",
    "\n",
    "    ## put verts and face into open3d, and compute surface normal\n",
    "    coord = o3d.geometry.TriangleMesh.create_coordinate_frame(size=0.5)\n",
    "    body = o3d.geometry.TriangleMesh()\n",
    "    body.vertices = o3d.utility.Vector3dVector(verts)\n",
    "    body.triangles = o3d.utility.Vector3iVector(faces)\n",
    "    body.vertex_normals = o3d.utility.Vector3dVector([])\n",
    "    body.triangle_normals = o3d.utility.Vector3dVector([])\n",
    "    body.compute_vertex_normals()\n",
    "    o3d.visualization.draw_geometries([body, coord])\n",
    "    \n",
    "    return None\n"
   ]
  },
  {
   "cell_type": "code",
   "execution_count": 25,
   "id": "23ca292d-619c-4118-97ce-af5d775cafd2",
   "metadata": {},
   "outputs": [],
   "source": [
    "in_data = b[1]\n"
   ]
  },
  {
   "cell_type": "code",
   "execution_count": 42,
   "id": "dd363933",
   "metadata": {},
   "outputs": [],
   "source": [
    "joint_locations = []\n",
    "for data in in_data[1]:\n",
    "    betas = torch.Tensor(data['betas'])\n",
    "    body_pose = torch.Tensor(data['body_pose'])\n",
    "    global_orient= torch.Tensor(data['global_orient'])\n",
    "    transl=torch.Tensor(data['transl'])\n",
    "    out = smplx_neutral(return_joints=True, betas=betas, body_pose=body_pose, global_orient=global_orient, transl=transl)\n",
    "    joints = out.joints[:, :25]\n",
    "    joint_locations.append(joints)"
   ]
  },
  {
   "cell_type": "code",
   "execution_count": 51,
   "id": "6f4c4eba-7572-45b5-8009-6b01fcd038c9",
   "metadata": {},
   "outputs": [
    {
     "data": {
      "text/plain": [
       "{'camera_rotation': array([[[1., 0., 0.],\n",
       "         [0., 1., 0.],\n",
       "         [0., 0., 1.]]], dtype=float32),\n",
       " 'camera_translation': array([[0., 0., 0.]], dtype=float32),\n",
       " 'betas': array([[-0.12017792, -0.42937776,  2.0336866 ,  0.06370994,  0.38526243,\n",
       "         -0.685976  ,  0.62955177,  0.33154783, -0.4190343 ,  0.09781223]],\n",
       "       dtype=float32),\n",
       " 'global_orient': array([[ 2.3470166 , -0.03199346,  0.461249  ]], dtype=float32),\n",
       " 'transl': array([[-0.12213971,  0.6181299 ,  2.6541564 ]], dtype=float32),\n",
       " 'left_hand_pose': array([[-0.19552484, -0.37598994, -0.10514642,  0.27112508,  0.25043297,\n",
       "          0.06956515,  0.2832532 , -0.05021144,  0.02953096, -0.23139738,\n",
       "          0.43318948, -0.18826242]], dtype=float32),\n",
       " 'right_hand_pose': array([[-7.3017836e-02, -6.1270964e-01,  4.9220333e-01, -1.3883252e-01,\n",
       "          7.2775982e-02, -4.1547796e-04,  2.1257611e-01, -2.0830293e-01,\n",
       "         -1.4759333e-01, -2.5615820e-01,  7.5797105e-01, -1.4323314e-01]],\n",
       "       dtype=float32),\n",
       " 'jaw_pose': array([[ 0.0807366 , -0.00137124,  0.00198548]], dtype=float32),\n",
       " 'leye_pose': array([[ 2.3867517 , -1.8539029 , -0.49582607]], dtype=float32),\n",
       " 'reye_pose': array([[ 1.3584404 , -2.15035   , -0.30638534]], dtype=float32),\n",
       " 'expression': array([[ 1.3924723 , -0.02966935, -0.03036297, -0.11554015, -0.12666325,\n",
       "         -0.23408741, -0.19470036,  0.13774648, -0.0233375 ,  0.08573762]],\n",
       "       dtype=float32),\n",
       " 'pose_embedding': array([[ 0.31840256, -0.5923261 ,  0.0358981 , -0.6102354 , -1.5244809 ,\n",
       "          0.75395375,  2.3347642 , -1.6380879 ,  2.5016923 ,  0.19955137,\n",
       "         -0.7381769 ,  1.3193754 ,  0.6749823 ,  0.5756585 ,  2.9075446 ,\n",
       "         -0.37360978,  0.37003282, -0.9545834 ,  0.40769032,  0.09816433,\n",
       "          1.2752855 , -0.7297988 , -0.6932039 , -0.5012742 ,  0.42299137,\n",
       "          0.227774  ,  0.39514172,  0.08046865, -0.566109  ,  0.22512291,\n",
       "         -0.34665915,  1.2149373 ]], dtype=float32),\n",
       " 'body_pose': array([[-5.93715072e-01, -2.30974123e-01,  5.90239950e-02,\n",
       "         -1.20017505e+00, -8.88388008e-02, -1.55487344e-01,\n",
       "          8.00270617e-01, -6.20331941e-03,  8.65381956e-03,\n",
       "          9.11553562e-01, -1.33661240e-01, -2.86127459e-02,\n",
       "          9.95015204e-01, -4.07563031e-01,  1.51176259e-01,\n",
       "         -7.09827095e-02,  4.53118875e-04,  4.22889041e-03,\n",
       "          5.99547029e-01, -4.14008424e-02, -1.13852136e-01,\n",
       "          6.80802107e-01, -2.20197126e-01,  2.25073114e-01,\n",
       "         -3.44846793e-03, -1.57605130e-02,  1.40289227e-02,\n",
       "          7.73332715e-02, -8.30490608e-03,  4.69201542e-02,\n",
       "          2.54965816e-02,  5.47575578e-03, -5.26136309e-02,\n",
       "          2.62859106e-01, -9.68469828e-02, -1.49837762e-01,\n",
       "          2.17134833e-01, -4.14934963e-01, -1.49279520e-01,\n",
       "          1.02424450e-01,  4.96485621e-01,  7.29707256e-02,\n",
       "          1.16225623e-01, -7.07745105e-02,  5.49100973e-02,\n",
       "          2.02148959e-01, -2.38535374e-01, -1.02678442e+00,\n",
       "          5.67400083e-02,  1.91968381e-01,  6.76905811e-01,\n",
       "          2.17897207e-01, -5.31225443e-01, -6.85397349e-03,\n",
       "          2.08087653e-01,  6.25623882e-01, -1.46070078e-01,\n",
       "         -3.30160409e-01, -7.48184556e-03,  1.34712234e-01,\n",
       "          4.42197099e-02,  1.30157903e-01, -5.30149713e-02]], dtype=float32)}"
      ]
     },
     "execution_count": 51,
     "metadata": {},
     "output_type": "execute_result"
    }
   ],
   "source": [
    "in_frame_dict"
   ]
  },
  {
   "cell_type": "code",
   "execution_count": 27,
   "id": "30bc618b-b8c4-4445-b0af-69379c683c65",
   "metadata": {},
   "outputs": [],
   "source": [
    "import os\n",
    "import torch\n",
    "import torch.nn.functional as F\n",
    "import matplotlib.pyplot as plt\n",
    "\n",
    "# Util function for loading point clouds|\n",
    "import numpy as np\n",
    "\n",
    "# Data structures and functions for rendering\n",
    "from pytorch3d.structures import Pointclouds\n",
    "from pytorch3d.vis.plotly_vis import AxisArgs, plot_batch_individually, plot_scene\n",
    "from pytorch3d.renderer import (\n",
    "    look_at_view_transform,\n",
    "    FoVOrthographicCameras, \n",
    "    FoVPerspectiveCameras,\n",
    "    PointsRasterizationSettings,\n",
    "    PointsRenderer,\n",
    "    PulsarPointsRenderer,\n",
    "    PointsRasterizer,\n",
    "    AlphaCompositor,\n",
    "    NormWeightedCompositor\n",
    ")"
   ]
  },
  {
   "cell_type": "code",
   "execution_count": null,
   "id": "5ab485e8-022a-45a6-8fea-d287beabe626",
   "metadata": {
    "jupyter": {
     "source_hidden": true
    },
    "tags": []
   },
   "outputs": [],
   "source": [
    "b.shape"
   ]
  },
  {
   "cell_type": "code",
   "execution_count": 80,
   "id": "9c2d1dac-ac6a-48ca-a250-03d5d99eeb07",
   "metadata": {},
   "outputs": [],
   "source": [
    "in_frame_dict = b[1][1][0]\n",
    "\n",
    "points = joint_locations[0].squeeze()\n",
    "rgb=torch.Tensor(np.random.random(points.shape)).to(device)\n",
    "point_cloud = Pointclouds(points=[points], features=[rgb])"
   ]
  },
  {
   "cell_type": "code",
   "execution_count": 81,
   "id": "c0d0d781-9cfd-467b-95af-9c1f6870beb8",
   "metadata": {},
   "outputs": [
    {
     "data": {
      "text/plain": [
       "array([[0., 0., 0.]])"
      ]
     },
     "execution_count": 81,
     "metadata": {},
     "output_type": "execute_result"
    },
    {
     "data": {
      "text/plain": [
       "tensor([[[-1.0000,  0.0000,  0.0000],\n",
       "         [ 0.0000,  0.9848, -0.1736],\n",
       "         [-0.0000, -0.1736, -0.9848]]])"
      ]
     },
     "execution_count": 81,
     "metadata": {},
     "output_type": "execute_result"
    }
   ],
   "source": [
    "T\n",
    "R"
   ]
  },
  {
   "cell_type": "code",
   "execution_count": 82,
   "id": "f0c74ec5-864b-4ce1-847d-c76a6e9b1270",
   "metadata": {},
   "outputs": [
    {
     "data": {
      "text/plain": [
       "tensor([[[-1.0000,  0.0000,  0.0000],\n",
       "         [ 0.0000,  0.9848, -0.1736],\n",
       "         [-0.0000, -0.1736, -0.9848]]])"
      ]
     },
     "execution_count": 82,
     "metadata": {},
     "output_type": "execute_result"
    },
    {
     "name": "stderr",
     "output_type": "stream",
     "text": [
      "/scratch/217740624.tmpdir/ipykernel_32815/2627999052.py:3: UserWarning: To copy construct from a tensor, it is recommended to use sourceTensor.clone().detach() or sourceTensor.clone().detach().requires_grad_(True), rather than torch.tensor(sourceTensor).\n",
      "  transforms.euler_angles_to_matrix(torch.tensor(R), convention='XYZ').numpy()\n"
     ]
    },
    {
     "data": {
      "text/plain": [
       "array([[[[ 1.        ,  0.        ,  0.        ],\n",
       "         [ 0.        ,  0.54030234,  0.84147096],\n",
       "         [ 0.        , -0.84147096,  0.54030234]],\n",
       "\n",
       "        [[ 0.5447064 ,  0.09554959,  0.8331658 ],\n",
       "         [-0.1727768 ,  0.98496103,  0.        ],\n",
       "         [-0.82063586, -0.14395173,  0.5530233 ]],\n",
       "\n",
       "        [[ 0.5447064 ,  0.82063586, -0.1727768 ],\n",
       "         [-0.8331658 ,  0.5530233 ,  0.        ],\n",
       "         [ 0.09554959,  0.14395173,  0.98496103]]]], dtype=float32)"
      ]
     },
     "execution_count": 82,
     "metadata": {},
     "output_type": "execute_result"
    }
   ],
   "source": [
    "R\n",
    "\n",
    "transforms.euler_angles_to_matrix(torch.tensor(R), convention='XYZ').numpy()"
   ]
  },
  {
   "cell_type": "code",
   "execution_count": 107,
   "id": "053e016d-55e7-4b85-93ef-d4b2f344565f",
   "metadata": {},
   "outputs": [
    {
     "data": {
      "text/plain": [
       "(tensor([[[-1.0000,  0.0000,  0.0000],\n",
       "          [ 0.0000,  0.9848, -0.1736],\n",
       "          [-0.0000, -0.1736, -0.9848]]]),\n",
       " tensor([[-0., -0., 5.]]))"
      ]
     },
     "execution_count": 107,
     "metadata": {},
     "output_type": "execute_result"
    },
    {
     "data": {
      "text/plain": [
       "'torch.FloatTensor'"
      ]
     },
     "execution_count": 107,
     "metadata": {},
     "output_type": "execute_result"
    },
    {
     "data": {
      "text/plain": [
       "(tensor([[[ 0.8950, -0.4448, -0.0320],\n",
       "          [-0.3322, -0.6172, -0.7132],\n",
       "          [ 0.2975,  0.6490, -0.7002]]]),\n",
       " tensor([[-0.1221,  0.6181,  2.6542]]))"
      ]
     },
     "execution_count": 107,
     "metadata": {},
     "output_type": "execute_result"
    }
   ],
   "source": [
    "from pytorch3d import transforms\n",
    "\n",
    "# Initialize a camera.\n",
    "# dist, elevation, azimuth. for dist < 5 we start having points passing over us. Hence unable to see\n",
    "R1, T1 = look_at_view_transform(5, 10, 0)\n",
    "R1, T1\n",
    "R1.type()\n",
    "# with these we can't even see our points :(\n",
    "R = in_frame_dict['global_orient']\n",
    "R = transforms.euler_angles_to_matrix(torch.tensor(R), convention='XYZ').numpy()\n",
    "T = in_frame_dict['transl']\n",
    "R,T = torch.Tensor(R), torch.Tensor(T)\n",
    "R,T\n",
    "T=T1\n",
    "# cameras = FoVOrthographicCameras(device=device, R=R, T=T, znear=0.01)\n",
    "cameras = FoVPerspectiveCameras(device=device,R=R, T=T, znear=0.01)\n",
    "\n",
    "# Define the settings for rasterization and shading. Here we set the output image to be of size\n",
    "# 512x512. As we are rendering images for visualization purposes only we will set faces_per_pixel=1\n",
    "# and blur_radius=0.0. Refer to raster_points.py for explanations of these parameters. \n",
    "raster_settings = PointsRasterizationSettings(\n",
    "    image_size=512, \n",
    "    radius = 0.03,\n",
    "    points_per_pixel = 10\n",
    ")\n",
    "\n",
    "\n",
    "# Create a points renderer by compositing points using an alpha compositor (nearer points\n",
    "# are weighted more heavily). See [1] for an explanation.\n",
    "rasterizer = PointsRasterizer(cameras=cameras, raster_settings=raster_settings)\n",
    "renderer = PointsRenderer(\n",
    "    rasterizer=rasterizer,\n",
    "    compositor= NormWeightedCompositor(background_color=(1,0,0)) #AlphaCompositor(background_color=(0, 1., 0))\n",
    ")"
   ]
  },
  {
   "cell_type": "code",
   "execution_count": 108,
   "id": "b9993abc-e256-49f6-989b-720bbf8e14dd",
   "metadata": {},
   "outputs": [
    {
     "data": {
      "text/plain": [
       "<Figure size 720x720 with 0 Axes>"
      ]
     },
     "execution_count": 108,
     "metadata": {},
     "output_type": "execute_result"
    },
    {
     "data": {
      "text/plain": [
       "<matplotlib.image.AxesImage at 0x2af923006280>"
      ]
     },
     "execution_count": 108,
     "metadata": {},
     "output_type": "execute_result"
    },
    {
     "data": {
      "image/png": "[encoded data removed]",
      "text/plain": [
       "<Figure size 720x720 with 1 Axes>"
      ]
     },
     "metadata": {
      "needs_background": "light"
     },
     "output_type": "display_data"
    }
   ],
   "source": [
    "images = renderer(point_cloud)\n",
    "plt.figure(figsize=(10, 10))\n",
    "plt.imshow(images[0, ..., :3].detach().numpy())\n",
    "# plt.axis(\"off\");"
   ]
  },
  {
   "cell_type": "code",
   "execution_count": 34,
   "id": "101c83d9-c5cd-4c67-9225-a80786432f40",
   "metadata": {},
   "outputs": [
    {
     "data": {
      "text/plain": [
       "<matplotlib.image.AxesImage at 0x2af920f2b640>"
      ]
     },
     "execution_count": 34,
     "metadata": {},
     "output_type": "execute_result"
    },
    {
     "data": {
      "image/png": "[encoded data removed]",
      "text/plain": [
       "<Figure size 432x288 with 1 Axes>"
      ]
     },
     "metadata": {
      "needs_background": "light"
     },
     "output_type": "display_data"
    }
   ],
   "source": [
    "plt.imshow(image)"
   ]
  },
  {
   "cell_type": "code",
   "execution_count": 77,
   "id": "f62ea3ef-a9f7-425a-8bce-1694b2100e34",
   "metadata": {
    "tags": []
   },
   "outputs": [
    {
     "data": {
      "application/vnd.plotly.v1+json": {
       "config": {
        "plotlyServerURL": "https://plot.ly"
       },
       "data": [
        {
         "marker": {
          "color": [
           "rgb(166, 135, 16)",
           "rgb(91, 160, 57)",
           "rgb(203, 92, 19)",
           "rgb(54, 58, 78)",
           "rgb(37, 104, 91)",
           "rgb(4, 246, 164)",
           "rgb(92, 11, 30)",
           "rgb(17, 229, 113)",
           "rgb(17, 102, 143)",
           "rgb(63, 215, 73)",
           "rgb(54, 54, 82)",
           "rgb(14, 204, 107)",
           "rgb(230, 159, 239)",
           "rgb(164, 120, 225)",
           "rgb(47, 6, 111)",
           "rgb(145, 23, 172)",
           "rgb(252, 112, 45)",
           "rgb(229, 236, 138)",
           "rgb(55, 4, 96)",
           "rgb(210, 121, 3)",
           "rgb(252, 240, 146)",
           "rgb(65, 52, 130)",
           "rgb(117, 84, 149)",
           "rgb(202, 246, 215)",
           "rgb(186, 178, 56)",
           "rgb(229, 109, 187)",
           "rgb(249, 167, 117)",
           "rgb(244, 31, 16)",
           "rgb(1, 17, 160)",
           "rgb(17, 93, 194)",
           "rgb(81, 118, 77)",
           "rgb(16, 114, 201)",
           "rgb(229, 109, 183)",
           "rgb(108, 57, 146)",
           "rgb(22, 247, 124)",
           "rgb(252, 168, 80)",
           "rgb(98, 75, 14)",
           "rgb(67, 193, 205)",
           "rgb(18, 220, 180)",
           "rgb(42, 209, 115)",
           "rgb(137, 175, 55)",
           "rgb(187, 177, 227)",
           "rgb(236, 202, 35)",
           "rgb(133, 237, 92)",
           "rgb(11, 52, 253)",
           "rgb(98, 55, 50)",
           "rgb(144, 31, 252)",
           "rgb(191, 115, 182)",
           "rgb(151, 51, 55)",
           "rgb(158, 121, 170)",
           "rgb(112, 6, 31)",
           "rgb(186, 130, 14)",
           "rgb(129, 210, 206)",
           "rgb(182, 194, 86)",
           "rgb(114, 145, 39)",
           "rgb(28, 34, 72)",
           "rgb(73, 124, 83)",
           "rgb(125, 125, 35)",
           "rgb(12, 140, 115)",
           "rgb(64, 4, 241)",
           "rgb(225, 243, 32)",
           "rgb(65, 96, 3)",
           "rgb(104, 3, 86)",
           "rgb(126, 26, 36)",
           "rgb(115, 225, 254)",
           "rgb(88, 112, 189)",
           "rgb(67, 60, 7)",
           "rgb(193, 36, 83)",
           "rgb(48, 54, 85)",
           "rgb(53, 170, 146)",
           "rgb(21, 188, 226)",
           "rgb(39, 174, 81)",
           "rgb(13, 212, 51)",
           "rgb(38, 21, 95)",
           "rgb(2, 8, 83)",
           "rgb(89, 176, 142)",
           "rgb(104, 52, 60)",
           "rgb(69, 119, 212)",
           "rgb(203, 103, 59)",
           "rgb(190, 171, 91)",
           "rgb(180, 113, 49)",
           "rgb(141, 164, 245)",
           "rgb(201, 208, 18)",
           "rgb(216, 177, 252)",
           "rgb(49, 132, 49)",
           "rgb(68, 72, 79)",
           "rgb(128, 112, 104)",
           "rgb(43, 59, 97)",
           "rgb(72, 133, 81)",
           "rgb(104, 197, 226)",
           "rgb(99, 31, 30)",
           "rgb(163, 105, 21)",
           "rgb(184, 45, 1)",
           "rgb(157, 45, 148)",
           "rgb(166, 238, 115)",
           "rgb(36, 128, 235)",
           "rgb(71, 207, 131)",
           "rgb(94, 185, 27)",
           "rgb(179, 197, 194)",
           "rgb(221, 242, 203)",
           "rgb(126, 206, 145)",
           "rgb(158, 1, 25)",
           "rgb(7, 32, 35)",
           "rgb(69, 174, 161)",
           "rgb(107, 213, 83)",
           "rgb(249, 134, 41)",
           "rgb(18, 209, 18)",
           "rgb(230, 203, 32)",
           "rgb(127, 138, 176)",
           "rgb(41, 170, 77)",
           "rgb(58, 155, 166)",
           "rgb(206, 89, 254)",
           "rgb(195, 195, 93)",
           "rgb(167, 148, 178)",
           "rgb(200, 10, 205)",
           "rgb(168, 3, 199)",
           "rgb(209, 189, 57)",
           "rgb(29, 234, 38)",
           "rgb(25, 191, 56)",
           "rgb(80, 137, 149)",
           "rgb(93, 117, 88)",
           "rgb(40, 242, 168)",
           "rgb(253, 234, 54)",
           "rgb(205, 193, 174)",
           "rgb(219, 140, 75)",
           "rgb(65, 34, 163)",
           "rgb(248, 150, 91)"
          ],
          "size": 1
         },
         "mode": "markers",
         "name": "person",
         "scene": "scene",
         "type": "scatter3d",
         "visible": true,
         "x": [
          0.0032331962138414383,
          0.06365456432104111,
          -0.06233426183462143,
          0.0005451906472444534,
          0.16995474696159363,
          -0.1202211081981659,
          0.0021925815381109715,
          0.06440235674381256,
          -0.08897034078836441,
          -0.015517637133598328,
          0.09653881192207336,
          -0.12682878971099854,
          -0.027599453926086426,
          0.02536335214972496,
          -0.05972042307257652,
          -0.00598178431391716,
          0.10991345345973969,
          -0.14239086210727692,
          0.22164922952651978,
          -0.28547269105911255,
          0.06853918731212616,
          -0.3436325192451477,
          -0.01773429475724697,
          -0.005670493468642235,
          -0.06388218700885773,
          -0.01523282378911972,
          -0.037490952759981155,
          -0.03967050462961197,
          -0.007249675691127777,
          -0.022969581186771393,
          -0.02424594759941101,
          0.03471200913190842,
          0.03013758361339569,
          0.02843244932591915,
          0.01519797369837761,
          0.00011754222214221954,
          -0.002131299115717411,
          0.026340007781982422,
          0.005173128098249435,
          -0.01585964486002922,
          -0.33546182513237,
          -0.3333572745323181,
          -0.32633161544799805,
          -0.3562163710594177,
          -0.3567865788936615,
          -0.34861883521080017,
          -0.38126084208488464,
          -0.38102754950523376,
          -0.3732638359069824,
          -0.3721173107624054,
          -0.36961060762405396,
          -0.35911691188812256,
          -0.3192092180252075,
          -0.30528005957603455,
          -0.2996862530708313,
          -0.04668358340859413,
          -0.0677017867565155,
          -0.0064375195652246475,
          -0.07945527881383896,
          0.051065683364868164,
          0.0705096572637558,
          0.1273687481880188,
          0.07767806947231293,
          -0.08399036526679993,
          -0.15266674757003784,
          -0.0891261175274849,
          -0.03624767065048218,
          -0.04270051792263985,
          -0.024785557761788368,
          -0.005282178521156311,
          0.024112612009048462,
          -0.2899898290634155,
          -0.315670371055603,
          -0.33665311336517334,
          -0.3430972099304199,
          -0.36192214488983154,
          -0.08840212225914001,
          -0.08499591052532196,
          -0.07453896105289459,
          -0.061977725476026535,
          -0.0501338392496109,
          -0.0329345166683197,
          -0.020426293835043907,
          -0.004278519190847874,
          0.0125139020383358,
          0.025170713663101196,
          -0.04185683652758598,
          -0.04379468411207199,
          -0.04540061950683594,
          -0.04710325226187706,
          -0.051308274269104004,
          -0.04744886979460716,
          -0.042424604296684265,
          -0.03658232092857361,
          -0.0309663824737072,
          -0.07695507258176804,
          -0.07134658843278885,
          -0.06223689019680023,
          -0.053384121507406235,
          -0.061114195734262466,
          -0.07002995908260345,
          -0.020880576223134995,
          -0.01398592907935381,
          -0.0044814725406467915,
          0.006513557396829128,
          -0.00456425454467535,
          -0.013923798687756062,
          -0.058140210807323456,
          -0.05405628681182861,
          -0.04703075438737869,
          -0.041616860777139664,
          -0.0357113778591156,
          -0.024922635406255722,
          -0.014051388017833233,
          -0.02155424654483795,
          -0.0323328971862793,
          -0.03871697187423706,
          -0.04475574940443039,
          -0.052589040249586105,
          -0.05730090290307999,
          -0.04565845802426338,
          -0.039779212325811386,
          -0.033834684640169144,
          -0.014241834171116352,
          -0.03172079846262932,
          -0.03825519233942032,
          -0.04461337625980377
         ],
         "y": [
          -0.36155956983566284,
          -0.455971896648407,
          -0.465450644493103,
          -0.25203269720077515,
          -0.6122755408287048,
          -0.607617974281311,
          -0.17721980810165405,
          -0.896957278251648,
          -0.929667592048645,
          -0.1700628250837326,
          -1.0236482620239258,
          -1.0428391695022583,
          -0.03600385785102844,
          -0.11261647194623947,
          -0.09980911761522293,
          -0.019420022144913673,
          -0.10867235064506531,
          -0.07688714563846588,
          -0.32031530141830444,
          -0.29496803879737854,
          -0.4696836471557617,
          -0.4793177843093872,
          -0.010857071727514267,
          -0.07677901536226273,
          -0.06126415729522705,
          -0.5116177201271057,
          -0.5321921110153198,
          -0.5511293411254883,
          -0.5238234400749207,
          -0.5481501221656799,
          -0.5675235986709595,
          -0.5368064641952515,
          -0.5540422201156616,
          -0.5686510801315308,
          -0.531337559223175,
          -0.5532662272453308,
          -0.5710080862045288,
          -0.48787304759025574,
          -0.5039627552032471,
          -0.5171813368797302,
          -0.5409582257270813,
          -0.5663244128227234,
          -0.5856607556343079,
          -0.5498291254043579,
          -0.5771691203117371,
          -0.5967817902565002,
          -0.5512570142745972,
          -0.569124162197113,
          -0.5841754078865051,
          -0.5510090589523315,
          -0.5760334134101868,
          -0.594412624835968,
          -0.5089881420135498,
          -0.5303831100463867,
          -0.5484917759895325,
          -0.12124979496002197,
          -0.07283052802085876,
          -0.0889454185962677,
          0.010582029819488525,
          -0.02406245842576027,
          -1.078597068786621,
          -1.0513803958892822,
          -0.8780525922775269,
          -1.0779154300689697,
          -1.0595601797103882,
          -0.9298324584960938,
          -0.5404005646705627,
          -0.5700477957725525,
          -0.5877838730812073,
          -0.5841591954231262,
          -0.5811066031455994,
          -0.5749475359916687,
          -0.6060436367988586,
          -0.6168228983879089,
          -0.609268307685852,
          -0.5993047952651978,
          -0.04186161234974861,
          -0.054042525589466095,
          -0.06809157133102417,
          -0.07854873687028885,
          -0.0844772458076477,
          -0.08917537331581116,
          -0.08976244181394577,
          -0.08673963695764542,
          -0.07957471907138824,
          -0.07202193886041641,
          -0.09324532747268677,
          -0.10254049301147461,
          -0.11155551671981812,
          -0.12062901258468628,
          -0.10193848609924316,
          -0.10710576176643372,
          -0.11051714420318604,
          -0.1095954179763794,
          -0.10683682560920715,
          -0.060593120753765106,
          -0.0697333961725235,
          -0.07314183562994003,
          -0.0742892175912857,
          -0.07416229695081711,
          -0.07082200795412064,
          -0.08258511871099472,
          -0.08574516326189041,
          -0.08723199367523193,
          -0.08274854719638824,
          -0.08859787881374359,
          -0.08665677905082703,
          -0.09309200942516327,
          -0.10210925340652466,
          -0.10945279896259308,
          -0.11197569221258163,
          -0.11251727491617203,
          -0.1102956086397171,
          -0.1049942672252655,
          -0.11038320511579514,
          -0.1133856326341629,
          -0.1125335693359375,
          -0.11018210649490356,
          -0.10125671327114105,
          -0.09269263595342636,
          -0.10643253475427628,
          -0.10842463374137878,
          -0.10947611927986145,
          -0.1048014909029007,
          -0.10961011052131653,
          -0.108540840446949,
          -0.106207475066185
         ],
         "z": [
          0.006820188369601965,
          -0.022887583822011948,
          -0.0201047882437706,
          -0.014727210626006126,
          0.29707273840904236,
          0.3015460968017578,
          0.09794741123914719,
          0.05588209629058838,
          0.08087679743766785,
          0.15363669395446777,
          0.07752832770347595,
          0.13408684730529785,
          0.25993967056274414,
          0.21969690918922424,
          0.20390181243419647,
          0.43200770020484924,
          0.3089883327484131,
          0.2682425379753113,
          0.21506597101688385,
          0.23649021983146667,
          0.3158242404460907,
          0.368333637714386,
          0.4293418228626251,
          0.48495790362358093,
          0.4786427915096283,
          0.33952879905700684,
          0.34373804926872253,
          0.3336642384529114,
          0.35687491297721863,
          0.3604483902454376,
          0.3486213684082031,
          0.36346322298049927,
          0.36231446266174316,
          0.35194891691207886,
          0.36308228969573975,
          0.36335960030555725,
          0.3496691882610321,
          0.30671900510787964,
          0.29806405305862427,
          0.29910212755203247,
          0.4401637315750122,
          0.4571501612663269,
          0.45070192217826843,
          0.43810737133026123,
          0.44829824566841125,
          0.44020575284957886,
          0.4014531373977661,
          0.40132832527160645,
          0.39525049924850464,
          0.41954123973846436,
          0.4282495975494385,
          0.4205472469329834,
          0.39452746510505676,
          0.4059315621852875,
          0.42202508449554443,
          0.4539358615875244,
          0.4789220094680786,
          0.48701730370521545,
          0.4301491975784302,
          0.4485520124435425,
          0.12138140201568604,
          0.08113378286361694,
          -0.014948725700378418,
          0.18204063177108765,
          0.14194422960281372,
          -0.0025029778480529785,
          0.29696327447891235,
          0.3186218738555908,
          0.33126264810562134,
          0.33190542459487915,
          0.33760690689086914,
          0.4318534731864929,
          0.4422163665294647,
          0.4271842837333679,
          0.4129738211631775,
          0.38956403732299805,
          0.4758068323135376,
          0.49526122212409973,
          0.5027485489845276,
          0.504974901676178,
          0.5024331212043762,
          0.5032376050949097,
          0.5083439350128174,
          0.5102967023849487,
          0.5056897401809692,
          0.4878908395767212,
          0.4879133403301239,
          0.4784608483314514,
          0.4704585075378418,
          0.46213778853416443,
          0.44441157579421997,
          0.44329938292503357,
          0.4427485764026642,
          0.4450126886367798,
          0.4468477964401245,
          0.4749515950679779,
          0.4831567704677582,
          0.48361119627952576,
          0.47793781757354736,
          0.4749647378921509,
          0.47364282608032227,
          0.48128437995910645,
          0.4882756173610687,
          0.4897891879081726,
          0.4834328293800354,
          0.48006388545036316,
          0.47986555099487305,
          0.4162134826183319,
          0.4258689880371094,
          0.4290248453617096,
          0.42885226011276245,
          0.4300543963909149,
          0.4276001453399658,
          0.4210242033004761,
          0.41764089465141296,
          0.4165516495704651,
          0.4155787229537964,
          0.4151720702648163,
          0.41543295979499817,
          0.4161323308944702,
          0.4221753776073456,
          0.42285269498825073,
          0.4236067235469818,
          0.42105650901794434,
          0.4218761920928955,
          0.4217010736465454,
          0.4204294979572296
         ]
        },
        {
         "marker": {
          "color": [
           "rgb(0, 0, 0)",
           "rgb(0, 0, 0)",
           "rgb(0, 0, 0)",
           "rgb(0, 0, 0)",
           "rgb(0, 0, 0)",
           "rgb(0, 0, 0)",
           "rgb(0, 0, 0)",
           "rgb(0, 0, 0)",
           "rgb(0, 0, 0)",
           "rgb(0, 0, 0)",
           "rgb(0, 0, 0)",
           "rgb(0, 0, 0)",
           "rgb(0, 0, 0)",
           "rgb(0, 0, 0)",
           "rgb(0, 0, 0)",
           "rgb(0, 0, 0)",
           "rgb(0, 0, 0)",
           "rgb(0, 0, 0)",
           "rgb(0, 0, 0)",
           "rgb(0, 0, 0)",
           "rgb(0, 0, 0)",
           "rgb(0, 0, 0)",
           "rgb(0, 0, 0)",
           "rgb(0, 0, 0)",
           "rgb(0, 0, 0)",
           "rgb(0, 0, 0)",
           "rgb(0, 0, 0)",
           "rgb(0, 0, 0)",
           "rgb(0, 0, 0)",
           "rgb(0, 0, 0)",
           "rgb(0, 0, 0)",
           "rgb(0, 0, 0)",
           "rgb(0, 0, 0)",
           "rgb(0, 0, 0)",
           "rgb(0, 0, 0)",
           "rgb(0, 0, 0)",
           "rgb(0, 0, 0)",
           "rgb(0, 0, 0)",
           "rgb(0, 0, 0)",
           "rgb(0, 0, 0)",
           "rgb(0, 0, 0)",
           "rgb(0, 0, 0)",
           "rgb(0, 0, 0)",
           "rgb(0, 0, 0)",
           "rgb(0, 0, 0)",
           "rgb(0, 0, 0)",
           "rgb(0, 0, 0)",
           "rgb(0, 0, 0)",
           "rgb(0, 0, 0)",
           "rgb(0, 0, 0)",
           "rgb(0, 0, 0)",
           "rgb(0, 0, 0)",
           "rgb(0, 0, 0)",
           "rgb(0, 0, 0)",
           "rgb(0, 0, 0)",
           "rgb(0, 0, 0)",
           "rgb(0, 0, 0)",
           "rgb(0, 0, 0)",
           "rgb(0, 0, 0)",
           "rgb(0, 0, 0)",
           "rgb(0, 0, 0)",
           "rgb(0, 0, 0)",
           "rgb(0, 0, 0)",
           "rgb(0, 0, 0)",
           "rgb(0, 0, 0)",
           "rgb(0, 0, 0)",
           "rgb(0, 0, 0)",
           "rgb(0, 0, 0)",
           "rgb(0, 0, 0)",
           "rgb(0, 0, 0)",
           "rgb(0, 0, 0)",
           "rgb(0, 0, 0)",
           "rgb(0, 0, 0)",
           "rgb(0, 0, 0)",
           "rgb(0, 0, 0)",
           "rgb(0, 0, 0)",
           "rgb(0, 0, 0)",
           "rgb(0, 0, 0)",
           "rgb(0, 0, 0)",
           "rgb(0, 0, 0)",
           "rgb(0, 0, 0)",
           "rgb(0, 0, 0)",
           "rgb(0, 0, 0)",
           "rgb(0, 0, 0)",
           "rgb(0, 0, 0)",
           "rgb(0, 0, 0)",
           "rgb(0, 0, 0)",
           "rgb(0, 0, 0)",
           "rgb(0, 0, 0)",
           "rgb(0, 0, 0)",
           "rgb(0, 0, 0)",
           "rgb(0, 0, 0)",
           "rgb(0, 0, 0)",
           "rgb(0, 0, 0)",
           "rgb(0, 0, 0)",
           "rgb(0, 0, 0)",
           "rgb(0, 0, 0)",
           "rgb(0, 0, 0)",
           "rgb(0, 0, 0)",
           "rgb(0, 0, 0)",
           "rgb(0, 0, 0)",
           "rgb(0, 0, 0)",
           "rgb(0, 0, 0)",
           "rgb(0, 0, 0)",
           "rgb(0, 0, 0)",
           "rgb(0, 0, 0)",
           "rgb(0, 0, 0)",
           "rgb(0, 0, 0)",
           "rgb(0, 0, 0)",
           "rgb(0, 0, 0)",
           "rgb(0, 0, 0)",
           "rgb(0, 0, 0)",
           "rgb(0, 0, 0)",
           "rgb(0, 0, 0)",
           "rgb(0, 0, 0)",
           "rgb(0, 0, 0)",
           "rgb(0, 0, 0)",
           "rgb(0, 0, 0)",
           "rgb(0, 0, 0)",
           "rgb(0, 0, 0)",
           "rgb(0, 0, 0)",
           "rgb(0, 0, 0)",
           "rgb(0, 0, 0)",
           "rgb(0, 0, 0)",
           "rgb(0, 0, 0)",
           "rgb(0, 0, 0)",
           "rgb(0, 0, 0)"
          ],
          "size": 1
         },
         "mode": "markers",
         "name": "person2",
         "scene": "scene",
         "type": "scatter3d",
         "visible": true,
         "x": [
          2.0032331943511963,
          2.063654661178589,
          1.9376657009124756,
          2.0005452632904053,
          2.169954776763916,
          1.8797788619995117,
          2.002192497253418,
          2.0644023418426514,
          1.9110296964645386,
          1.9844824075698853,
          2.096538782119751,
          1.8731712102890015,
          1.9724005460739136,
          2.0253634452819824,
          1.9402796030044556,
          1.9940181970596313,
          2.1099133491516113,
          1.8576091527938843,
          2.221649169921875,
          1.7145273685455322,
          2.0685391426086426,
          1.656367540359497,
          1.9822657108306885,
          1.9943294525146484,
          1.9361177682876587,
          1.984767198562622,
          1.962509036064148,
          1.960329532623291,
          1.9927502870559692,
          1.9770303964614868,
          1.9757540225982666,
          2.034712076187134,
          2.030137538909912,
          2.0284323692321777,
          2.015197992324829,
          2.000117540359497,
          1.9978686571121216,
          2.0263400077819824,
          2.0051732063293457,
          1.984140396118164,
          1.6645381450653076,
          1.666642665863037,
          1.673668384552002,
          1.6437835693359375,
          1.6432133913040161,
          1.6513811349868774,
          1.618739128112793,
          1.6189724206924438,
          1.6267361640930176,
          1.627882719039917,
          1.6303894519805908,
          1.6408830881118774,
          1.6807907819747925,
          1.694719910621643,
          1.7003138065338135,
          1.9533164501190186,
          1.932298183441162,
          1.9935624599456787,
          1.9205447435379028,
          2.051065683364868,
          2.070509672164917,
          2.127368688583374,
          2.0776779651641846,
          1.9160096645355225,
          1.8473331928253174,
          1.9108738899230957,
          1.963752269744873,
          1.9572994709014893,
          1.9752144813537598,
          1.9947178363800049,
          2.0241127014160156,
          1.7100101709365845,
          1.684329628944397,
          1.6633468866348267,
          1.65690279006958,
          1.6380778551101685,
          1.9115978479385376,
          1.9150041341781616,
          1.9254610538482666,
          1.938022255897522,
          1.9498661756515503,
          1.967065453529358,
          1.9795737266540527,
          1.995721459388733,
          2.0125138759613037,
          2.0251708030700684,
          1.9581431150436401,
          1.9562053680419922,
          1.954599380493164,
          1.9528967142105103,
          1.948691725730896,
          1.9525511264801025,
          1.9575754404067993,
          1.963417649269104,
          1.9690335988998413,
          1.9230449199676514,
          1.928653359413147,
          1.9377630949020386,
          1.9466159343719482,
          1.9388858079910278,
          1.9299700260162354,
          1.9791194200515747,
          1.9860141277313232,
          1.9955185651779175,
          2.0065135955810547,
          1.9954357147216797,
          1.9860762357711792,
          1.9418598413467407,
          1.9459437131881714,
          1.9529691934585571,
          1.9583830833435059,
          1.964288592338562,
          1.9750773906707764,
          1.9859485626220703,
          1.9784457683563232,
          1.9676671028137207,
          1.9612829685211182,
          1.9552443027496338,
          1.9474109411239624,
          1.9426990747451782,
          1.9543415307998657,
          1.9602208137512207,
          1.96616530418396,
          1.9857581853866577,
          1.968279242515564,
          1.961744785308838,
          1.9553866386413574
         ],
         "y": [
          1.6384403705596924,
          1.5440280437469482,
          1.534549355506897,
          1.74796724319458,
          1.3877243995666504,
          1.392382025718689,
          1.8227801322937012,
          1.103042721748352,
          1.070332407951355,
          1.829937219619751,
          0.9763517379760742,
          0.9571608304977417,
          1.963996171951294,
          1.8873835802078247,
          1.900190830230713,
          1.9805799722671509,
          1.8913276195526123,
          1.9231128692626953,
          1.6796846389770508,
          1.7050319910049438,
          1.5303163528442383,
          1.5206822156906128,
          1.989142894744873,
          1.9232209920883179,
          1.938735842704773,
          1.488382339477539,
          1.4678078889846802,
          1.4488706588745117,
          1.4761765003204346,
          1.4518499374389648,
          1.4324764013290405,
          1.4631935358047485,
          1.4459577798843384,
          1.4313489198684692,
          1.4686625003814697,
          1.4467337131500244,
          1.4289919137954712,
          1.5121269226074219,
          1.496037244796753,
          1.482818603515625,
          1.4590418338775635,
          1.4336755275726318,
          1.414339303970337,
          1.450170874595642,
          1.4228308200836182,
          1.4032182693481445,
          1.4487429857254028,
          1.4308757781982422,
          1.4158246517181396,
          1.4489909410476685,
          1.423966646194458,
          1.4055874347686768,
          1.4910118579864502,
          1.4696168899536133,
          1.4515082836151123,
          1.878750205039978,
          1.9271694421768188,
          1.9110546112060547,
          2.0105819702148438,
          1.9759374856948853,
          0.9214029312133789,
          0.9486196041107178,
          1.1219474077224731,
          0.9220845699310303,
          0.9404398202896118,
          1.0701675415039062,
          1.459599494934082,
          1.4299521446228027,
          1.4122161865234375,
          1.4158408641815186,
          1.4188933372497559,
          1.4250524044036865,
          1.3939564228057861,
          1.3831770420074463,
          1.390731692314148,
          1.4006952047348022,
          1.958138346672058,
          1.9459574222564697,
          1.931908369064331,
          1.921451210975647,
          1.915522813796997,
          1.9108246564865112,
          1.9102375507354736,
          1.9132603406906128,
          1.920425295829773,
          1.9279780387878418,
          1.906754732131958,
          1.8974595069885254,
          1.888444423675537,
          1.879370927810669,
          1.8980615139007568,
          1.8928942680358887,
          1.889482855796814,
          1.8904045820236206,
          1.8931632041931152,
          1.9394068717956543,
          1.9302666187286377,
          1.9268581867218018,
          1.9257107973098755,
          1.925837755203247,
          1.92917799949646,
          1.917414903640747,
          1.9142547845840454,
          1.912768006324768,
          1.917251467704773,
          1.9114021062850952,
          1.9133431911468506,
          1.9069080352783203,
          1.8978908061981201,
          1.8905471563339233,
          1.8880243301391602,
          1.887482762336731,
          1.8897043466567993,
          1.895005702972412,
          1.889616847038269,
          1.8866143226623535,
          1.8874664306640625,
          1.8898179531097412,
          1.8987432718276978,
          1.9073073863983154,
          1.893567442893982,
          1.8915753364562988,
          1.890523910522461,
          1.8951984643936157,
          1.8903899192810059,
          1.8914591073989868,
          1.8937925100326538
         ],
         "z": [
          2.0068202018737793,
          1.9771124124526978,
          1.9798952341079712,
          1.985272765159607,
          2.297072649002075,
          2.301546096801758,
          2.097947359085083,
          2.055881977081299,
          2.0808768272399902,
          2.1536366939544678,
          2.077528238296509,
          2.134086847305298,
          2.259939670562744,
          2.2196969985961914,
          2.203901767730713,
          2.4320077896118164,
          2.308988332748413,
          2.268242597579956,
          2.2150659561157227,
          2.236490249633789,
          2.315824270248413,
          2.368333578109741,
          2.4293417930603027,
          2.4849579334259033,
          2.478642702102661,
          2.339528799057007,
          2.343738079071045,
          2.3336641788482666,
          2.356874942779541,
          2.3604483604431152,
          2.348621368408203,
          2.3634631633758545,
          2.362314462661743,
          2.3519489765167236,
          2.3630824089050293,
          2.3633596897125244,
          2.3496692180633545,
          2.3067190647125244,
          2.2980639934539795,
          2.2991020679473877,
          2.4401636123657227,
          2.4571502208709717,
          2.450701951980591,
          2.438107490539551,
          2.448298215866089,
          2.4402058124542236,
          2.4014530181884766,
          2.4013283252716064,
          2.3952505588531494,
          2.419541358947754,
          2.4282495975494385,
          2.4205472469329834,
          2.3945274353027344,
          2.4059314727783203,
          2.422025203704834,
          2.4539358615875244,
          2.478921890258789,
          2.4870173931121826,
          2.4301490783691406,
          2.448552131652832,
          2.1213812828063965,
          2.0811338424682617,
          1.9850512742996216,
          2.1820406913757324,
          2.141944169998169,
          1.9974970817565918,
          2.2969632148742676,
          2.318621873855591,
          2.3312625885009766,
          2.3319053649902344,
          2.337606906890869,
          2.4318535327911377,
          2.442216396331787,
          2.4271843433380127,
          2.4129738807678223,
          2.389564037322998,
          2.475806713104248,
          2.4952611923217773,
          2.502748489379883,
          2.504974842071533,
          2.5024330615997314,
          2.503237724304199,
          2.5083439350128174,
          2.5102968215942383,
          2.5056896209716797,
          2.4878907203674316,
          2.4879133701324463,
          2.4784607887268066,
          2.470458507537842,
          2.4621376991271973,
          2.444411516189575,
          2.4432992935180664,
          2.442748546600342,
          2.4450125694274902,
          2.446847915649414,
          2.4749515056610107,
          2.483156681060791,
          2.4836111068725586,
          2.477937698364258,
          2.4749646186828613,
          2.4736428260803223,
          2.4812843799591064,
          2.4882755279541016,
          2.4897892475128174,
          2.4834327697753906,
          2.4800639152526855,
          2.479865550994873,
          2.4162135124206543,
          2.4258689880371094,
          2.4290249347686768,
          2.4288523197174072,
          2.4300544261932373,
          2.427600145339966,
          2.4210243225097656,
          2.4176409244537354,
          2.4165515899658203,
          2.415578842163086,
          2.4151721000671387,
          2.415432929992676,
          2.4161324501037598,
          2.422175407409668,
          2.4228527545928955,
          2.4236066341400146,
          2.4210565090179443,
          2.4218761920928955,
          2.421700954437256,
          2.4204294681549072
         ]
        }
       ],
       "layout": {
        "annotations": [
         {
          "font": {
           "size": 16
          },
          "showarrow": false,
          "text": "Pointcloud",
          "x": 0.5,
          "xanchor": "center",
          "xref": "paper",
          "y": 1,
          "yanchor": "bottom",
          "yref": "paper"
         }
        ],
        "autosize": false,
        "height": 800,
        "scene": {
         "aspectmode": "cube",
         "aspectratio": {
          "x": 1,
          "y": 1,
          "z": 1
         },
         "camera": {
          "center": {
           "x": 0,
           "y": 0,
           "z": 0
          },
          "eye": {
           "x": -0.7524044139568813,
           "y": -0.42123013903835343,
           "z": -0.5817611399294544
          },
          "projection": {
           "type": "perspective"
          },
          "up": {
           "x": 0.09612894278283177,
           "y": 0.7430268605679516,
           "z": -0.6623219087679261
          }
         },
         "domain": {
          "x": [
           0,
           1
          ],
          "y": [
           0,
           1
          ]
         },
         "xaxis": {
          "backgroundcolor": "#fff",
          "range": [
           -1.165540337562561,
           3.012817859649658
          ],
          "showaxeslabels": false,
          "showgrid": false,
          "showline": false,
          "showticklabels": false,
          "ticks": "",
          "type": "linear",
          "zeroline": false
         },
         "yaxis": {
          "backgroundcolor": "#fff",
          "range": [
           -1.425208330154419,
           2.7531497478485107
          ],
          "showaxeslabels": false,
          "showgrid": false,
          "showline": false,
          "showticklabels": false,
          "ticks": "",
          "type": "linear",
          "zeroline": false
         },
         "zaxis": {
          "backgroundcolor": "#fff",
          "range": [
           -0.7213147878646851,
           3.457043170928955
          ],
          "showaxeslabels": false,
          "showgrid": false,
          "showline": false,
          "showticklabels": false,
          "ticks": "",
          "type": "linear",
          "zeroline": false
         }
        },
        "template": {
         "data": {
          "bar": [
           {
            "error_x": {
             "color": "#2a3f5f"
            },
            "error_y": {
             "color": "#2a3f5f"
            },
            "marker": {
             "line": {
              "color": "#E5ECF6",
              "width": 0.5
             },
             "pattern": {
              "fillmode": "overlay",
              "size": 10,
              "solidity": 0.2
             }
            },
            "type": "bar"
           }
          ],
          "barpolar": [
           {
            "marker": {
             "line": {
              "color": "#E5ECF6",
              "width": 0.5
             },
             "pattern": {
              "fillmode": "overlay",
              "size": 10,
              "solidity": 0.2
             }
            },
            "type": "barpolar"
           }
          ],
          "carpet": [
           {
            "aaxis": {
             "endlinecolor": "#2a3f5f",
             "gridcolor": "white",
             "linecolor": "white",
             "minorgridcolor": "white",
             "startlinecolor": "#2a3f5f"
            },
            "baxis": {
             "endlinecolor": "#2a3f5f",
             "gridcolor": "white",
             "linecolor": "white",
             "minorgridcolor": "white",
             "startlinecolor": "#2a3f5f"
            },
            "type": "carpet"
           }
          ],
          "choropleth": [
           {
            "colorbar": {
             "outlinewidth": 0,
             "ticks": ""
            },
            "type": "choropleth"
           }
          ],
          "contour": [
           {
            "colorbar": {
             "outlinewidth": 0,
             "ticks": ""
            },
            "colorscale": [
             [
              0,
              "#0d0887"
             ],
             [
              0.1111111111111111,
              "#46039f"
             ],
             [
              0.2222222222222222,
              "#7201a8"
             ],
             [
              0.3333333333333333,
              "#9c179e"
             ],
             [
              0.4444444444444444,
              "#bd3786"
             ],
             [
              0.5555555555555556,
              "#d8576b"
             ],
             [
              0.6666666666666666,
              "#ed7953"
             ],
             [
              0.7777777777777778,
              "#fb9f3a"
             ],
             [
              0.8888888888888888,
              "#fdca26"
             ],
             [
              1,
              "#f0f921"
             ]
            ],
            "type": "contour"
           }
          ],
          "contourcarpet": [
           {
            "colorbar": {
             "outlinewidth": 0,
             "ticks": ""
            },
            "type": "contourcarpet"
           }
          ],
          "heatmap": [
           {
            "colorbar": {
             "outlinewidth": 0,
             "ticks": ""
            },
            "colorscale": [
             [
              0,
              "#0d0887"
             ],
             [
              0.1111111111111111,
              "#46039f"
             ],
             [
              0.2222222222222222,
              "#7201a8"
             ],
             [
              0.3333333333333333,
              "#9c179e"
             ],
             [
              0.4444444444444444,
              "#bd3786"
             ],
             [
              0.5555555555555556,
              "#d8576b"
             ],
             [
              0.6666666666666666,
              "#ed7953"
             ],
             [
              0.7777777777777778,
              "#fb9f3a"
             ],
             [
              0.8888888888888888,
              "#fdca26"
             ],
             [
              1,
              "#f0f921"
             ]
            ],
            "type": "heatmap"
           }
          ],
          "heatmapgl": [
           {
            "colorbar": {
             "outlinewidth": 0,
             "ticks": ""
            },
            "colorscale": [
             [
              0,
              "#0d0887"
             ],
             [
              0.1111111111111111,
              "#46039f"
             ],
             [
              0.2222222222222222,
              "#7201a8"
             ],
             [
              0.3333333333333333,
              "#9c179e"
             ],
             [
              0.4444444444444444,
              "#bd3786"
             ],
             [
              0.5555555555555556,
              "#d8576b"
             ],
             [
              0.6666666666666666,
              "#ed7953"
             ],
             [
              0.7777777777777778,
              "#fb9f3a"
             ],
             [
              0.8888888888888888,
              "#fdca26"
             ],
             [
              1,
              "#f0f921"
             ]
            ],
            "type": "heatmapgl"
           }
          ],
          "histogram": [
           {
            "marker": {
             "pattern": {
              "fillmode": "overlay",
              "size": 10,
              "solidity": 0.2
             }
            },
            "type": "histogram"
           }
          ],
          "histogram2d": [
           {
            "colorbar": {
             "outlinewidth": 0,
             "ticks": ""
            },
            "colorscale": [
             [
              0,
              "#0d0887"
             ],
             [
              0.1111111111111111,
              "#46039f"
             ],
             [
              0.2222222222222222,
              "#7201a8"
             ],
             [
              0.3333333333333333,
              "#9c179e"
             ],
             [
              0.4444444444444444,
              "#bd3786"
             ],
             [
              0.5555555555555556,
              "#d8576b"
             ],
             [
              0.6666666666666666,
              "#ed7953"
             ],
             [
              0.7777777777777778,
              "#fb9f3a"
             ],
             [
              0.8888888888888888,
              "#fdca26"
             ],
             [
              1,
              "#f0f921"
             ]
            ],
            "type": "histogram2d"
           }
          ],
          "histogram2dcontour": [
           {
            "colorbar": {
             "outlinewidth": 0,
             "ticks": ""
            },
            "colorscale": [
             [
              0,
              "#0d0887"
             ],
             [
              0.1111111111111111,
              "#46039f"
             ],
             [
              0.2222222222222222,
              "#7201a8"
             ],
             [
              0.3333333333333333,
              "#9c179e"
             ],
             [
              0.4444444444444444,
              "#bd3786"
             ],
             [
              0.5555555555555556,
              "#d8576b"
             ],
             [
              0.6666666666666666,
              "#ed7953"
             ],
             [
              0.7777777777777778,
              "#fb9f3a"
             ],
             [
              0.8888888888888888,
              "#fdca26"
             ],
             [
              1,
              "#f0f921"
             ]
            ],
            "type": "histogram2dcontour"
           }
          ],
          "mesh3d": [
           {
            "colorbar": {
             "outlinewidth": 0,
             "ticks": ""
            },
            "type": "mesh3d"
           }
          ],
          "parcoords": [
           {
            "line": {
             "colorbar": {
              "outlinewidth": 0,
              "ticks": ""
             }
            },
            "type": "parcoords"
           }
          ],
          "pie": [
           {
            "automargin": true,
            "type": "pie"
           }
          ],
          "scatter": [
           {
            "marker": {
             "colorbar": {
              "outlinewidth": 0,
              "ticks": ""
             }
            },
            "type": "scatter"
           }
          ],
          "scatter3d": [
           {
            "line": {
             "colorbar": {
              "outlinewidth": 0,
              "ticks": ""
             }
            },
            "marker": {
             "colorbar": {
              "outlinewidth": 0,
              "ticks": ""
             }
            },
            "type": "scatter3d"
           }
          ],
          "scattercarpet": [
           {
            "marker": {
             "colorbar": {
              "outlinewidth": 0,
              "ticks": ""
             }
            },
            "type": "scattercarpet"
           }
          ],
          "scattergeo": [
           {
            "marker": {
             "colorbar": {
              "outlinewidth": 0,
              "ticks": ""
             }
            },
            "type": "scattergeo"
           }
          ],
          "scattergl": [
           {
            "marker": {
             "colorbar": {
              "outlinewidth": 0,
              "ticks": ""
             }
            },
            "type": "scattergl"
           }
          ],
          "scattermapbox": [
           {
            "marker": {
             "colorbar": {
              "outlinewidth": 0,
              "ticks": ""
             }
            },
            "type": "scattermapbox"
           }
          ],
          "scatterpolar": [
           {
            "marker": {
             "colorbar": {
              "outlinewidth": 0,
              "ticks": ""
             }
            },
            "type": "scatterpolar"
           }
          ],
          "scatterpolargl": [
           {
            "marker": {
             "colorbar": {
              "outlinewidth": 0,
              "ticks": ""
             }
            },
            "type": "scatterpolargl"
           }
          ],
          "scatterternary": [
           {
            "marker": {
             "colorbar": {
              "outlinewidth": 0,
              "ticks": ""
             }
            },
            "type": "scatterternary"
           }
          ],
          "surface": [
           {
            "colorbar": {
             "outlinewidth": 0,
             "ticks": ""
            },
            "colorscale": [
             [
              0,
              "#0d0887"
             ],
             [
              0.1111111111111111,
              "#46039f"
             ],
             [
              0.2222222222222222,
              "#7201a8"
             ],
             [
              0.3333333333333333,
              "#9c179e"
             ],
             [
              0.4444444444444444,
              "#bd3786"
             ],
             [
              0.5555555555555556,
              "#d8576b"
             ],
             [
              0.6666666666666666,
              "#ed7953"
             ],
             [
              0.7777777777777778,
              "#fb9f3a"
             ],
             [
              0.8888888888888888,
              "#fdca26"
             ],
             [
              1,
              "#f0f921"
             ]
            ],
            "type": "surface"
           }
          ],
          "table": [
           {
            "cells": {
             "fill": {
              "color": "#EBF0F8"
             },
             "line": {
              "color": "white"
             }
            },
            "header": {
             "fill": {
              "color": "#C8D4E3"
             },
             "line": {
              "color": "white"
             }
            },
            "type": "table"
           }
          ]
         },
         "layout": {
          "annotationdefaults": {
           "arrowcolor": "#2a3f5f",
           "arrowhead": 0,
           "arrowwidth": 1
          },
          "autotypenumbers": "strict",
          "coloraxis": {
           "colorbar": {
            "outlinewidth": 0,
            "ticks": ""
           }
          },
          "colorscale": {
           "diverging": [
            [
             0,
             "#8e0152"
            ],
            [
             0.1,
             "#c51b7d"
            ],
            [
             0.2,
             "#de77ae"
            ],
            [
             0.3,
             "#f1b6da"
            ],
            [
             0.4,
             "#fde0ef"
            ],
            [
             0.5,
             "#f7f7f7"
            ],
            [
             0.6,
             "#e6f5d0"
            ],
            [
             0.7,
             "#b8e186"
            ],
            [
             0.8,
             "#7fbc41"
            ],
            [
             0.9,
             "#4d9221"
            ],
            [
             1,
             "#276419"
            ]
           ],
           "sequential": [
            [
             0,
             "#0d0887"
            ],
            [
             0.1111111111111111,
             "#46039f"
            ],
            [
             0.2222222222222222,
             "#7201a8"
            ],
            [
             0.3333333333333333,
             "#9c179e"
            ],
            [
             0.4444444444444444,
             "#bd3786"
            ],
            [
             0.5555555555555556,
             "#d8576b"
            ],
            [
             0.6666666666666666,
             "#ed7953"
            ],
            [
             0.7777777777777778,
             "#fb9f3a"
            ],
            [
             0.8888888888888888,
             "#fdca26"
            ],
            [
             1,
             "#f0f921"
            ]
           ],
           "sequentialminus": [
            [
             0,
             "#0d0887"
            ],
            [
             0.1111111111111111,
             "#46039f"
            ],
            [
             0.2222222222222222,
             "#7201a8"
            ],
            [
             0.3333333333333333,
             "#9c179e"
            ],
            [
             0.4444444444444444,
             "#bd3786"
            ],
            [
             0.5555555555555556,
             "#d8576b"
            ],
            [
             0.6666666666666666,
             "#ed7953"
            ],
            [
             0.7777777777777778,
             "#fb9f3a"
            ],
            [
             0.8888888888888888,
             "#fdca26"
            ],
            [
             1,
             "#f0f921"
            ]
           ]
          },
          "colorway": [
           "#636efa",
           "#EF553B",
           "#00cc96",
           "#ab63fa",
           "#FFA15A",
           "#19d3f3",
           "#FF6692",
           "#B6E880",
           "#FF97FF",
           "#FECB52"
          ],
          "font": {
           "color": "#2a3f5f"
          },
          "geo": {
           "bgcolor": "white",
           "lakecolor": "white",
           "landcolor": "#E5ECF6",
           "showlakes": true,
           "showland": true,
           "subunitcolor": "white"
          },
          "hoverlabel": {
           "align": "left"
          },
          "hovermode": "closest",
          "mapbox": {
           "style": "light"
          },
          "paper_bgcolor": "white",
          "plot_bgcolor": "#E5ECF6",
          "polar": {
           "angularaxis": {
            "gridcolor": "white",
            "linecolor": "white",
            "ticks": ""
           },
           "bgcolor": "#E5ECF6",
           "radialaxis": {
            "gridcolor": "white",
            "linecolor": "white",
            "ticks": ""
           }
          },
          "scene": {
           "xaxis": {
            "backgroundcolor": "#E5ECF6",
            "gridcolor": "white",
            "gridwidth": 2,
            "linecolor": "white",
            "showbackground": true,
            "ticks": "",
            "zerolinecolor": "white"
           },
           "yaxis": {
            "backgroundcolor": "#E5ECF6",
            "gridcolor": "white",
            "gridwidth": 2,
            "linecolor": "white",
            "showbackground": true,
            "ticks": "",
            "zerolinecolor": "white"
           },
           "zaxis": {
            "backgroundcolor": "#E5ECF6",
            "gridcolor": "white",
            "gridwidth": 2,
            "linecolor": "white",
            "showbackground": true,
            "ticks": "",
            "zerolinecolor": "white"
           }
          },
          "shapedefaults": {
           "line": {
            "color": "#2a3f5f"
           }
          },
          "ternary": {
           "aaxis": {
            "gridcolor": "white",
            "linecolor": "white",
            "ticks": ""
           },
           "baxis": {
            "gridcolor": "white",
            "linecolor": "white",
            "ticks": ""
           },
           "bgcolor": "#E5ECF6",
           "caxis": {
            "gridcolor": "white",
            "linecolor": "white",
            "ticks": ""
           }
          },
          "title": {
           "x": 0.05
          },
          "xaxis": {
           "automargin": true,
           "gridcolor": "white",
           "linecolor": "white",
           "ticks": "",
           "title": {
            "standoff": 15
           },
           "zerolinecolor": "white",
           "zerolinewidth": 2
          },
          "yaxis": {
           "automargin": true,
           "gridcolor": "white",
           "linecolor": "white",
           "ticks": "",
           "title": {
            "standoff": 15
           },
           "zerolinecolor": "white",
           "zerolinewidth": 2
          }
         }
        },
        "width": 800
       }
      },
      "image/png": "[encoded data removed]",
      "text/html": [
       "<div>                            <div id=\"54e33045-e63f-4896-88d8-79df4ea04a6b\" class=\"plotly-graph-div\" style=\"height:800px; width:800px;\"></div>            <script type=\"text/javascript\">                require([\"plotly\"], function(Plotly) {                    window.PLOTLYENV=window.PLOTLYENV || {};                                    if (document.getElementById(\"54e33045-e63f-4896-88d8-79df4ea04a6b\")) {                    Plotly.newPlot(                        \"54e33045-e63f-4896-88d8-79df4ea04a6b\",                        [{\"marker\":{\"color\":[\"rgb(166, 135, 16)\",\"rgb(91, 160, 57)\",\"rgb(203, 92, 19)\",\"rgb(54, 58, 78)\",\"rgb(37, 104, 91)\",\"rgb(4, 246, 164)\",\"rgb(92, 11, 30)\",\"rgb(17, 229, 113)\",\"rgb(17, 102, 143)\",\"rgb(63, 215, 73)\",\"rgb(54, 54, 82)\",\"rgb(14, 204, 107)\",\"rgb(230, 159, 239)\",\"rgb(164, 120, 225)\",\"rgb(47, 6, 111)\",\"rgb(145, 23, 172)\",\"rgb(252, 112, 45)\",\"rgb(229, 236, 138)\",\"rgb(55, 4, 96)\",\"rgb(210, 121, 3)\",\"rgb(252, 240, 146)\",\"rgb(65, 52, 130)\",\"rgb(117, 84, 149)\",\"rgb(202, 246, 215)\",\"rgb(186, 178, 56)\",\"rgb(229, 109, 187)\",\"rgb(249, 167, 117)\",\"rgb(244, 31, 16)\",\"rgb(1, 17, 160)\",\"rgb(17, 93, 194)\",\"rgb(81, 118, 77)\",\"rgb(16, 114, 201)\",\"rgb(229, 109, 183)\",\"rgb(108, 57, 146)\",\"rgb(22, 247, 124)\",\"rgb(252, 168, 80)\",\"rgb(98, 75, 14)\",\"rgb(67, 193, 205)\",\"rgb(18, 220, 180)\",\"rgb(42, 209, 115)\",\"rgb(137, 175, 55)\",\"rgb(187, 177, 227)\",\"rgb(236, 202, 35)\",\"rgb(133, 237, 92)\",\"rgb(11, 52, 253)\",\"rgb(98, 55, 50)\",\"rgb(144, 31, 252)\",\"rgb(191, 115, 182)\",\"rgb(151, 51, 55)\",\"rgb(158, 121, 170)\",\"rgb(112, 6, 31)\",\"rgb(186, 130, 14)\",\"rgb(129, 210, 206)\",\"rgb(182, 194, 86)\",\"rgb(114, 145, 39)\",\"rgb(28, 34, 72)\",\"rgb(73, 124, 83)\",\"rgb(125, 125, 35)\",\"rgb(12, 140, 115)\",\"rgb(64, 4, 241)\",\"rgb(225, 243, 32)\",\"rgb(65, 96, 3)\",\"rgb(104, 3, 86)\",\"rgb(126, 26, 36)\",\"rgb(115, 225, 254)\",\"rgb(88, 112, 189)\",\"rgb(67, 60, 7)\",\"rgb(193, 36, 83)\",\"rgb(48, 54, 85)\",\"rgb(53, 170, 146)\",\"rgb(21, 188, 226)\",\"rgb(39, 174, 81)\",\"rgb(13, 212, 51)\",\"rgb(38, 21, 95)\",\"rgb(2, 8, 83)\",\"rgb(89, 176, 142)\",\"rgb(104, 52, 60)\",\"rgb(69, 119, 212)\",\"rgb(203, 103, 59)\",\"rgb(190, 171, 91)\",\"rgb(180, 113, 49)\",\"rgb(141, 164, 245)\",\"rgb(201, 208, 18)\",\"rgb(216, 177, 252)\",\"rgb(49, 132, 49)\",\"rgb(68, 72, 79)\",\"rgb(128, 112, 104)\",\"rgb(43, 59, 97)\",\"rgb(72, 133, 81)\",\"rgb(104, 197, 226)\",\"rgb(99, 31, 30)\",\"rgb(163, 105, 21)\",\"rgb(184, 45, 1)\",\"rgb(157, 45, 148)\",\"rgb(166, 238, 115)\",\"rgb(36, 128, 235)\",\"rgb(71, 207, 131)\",\"rgb(94, 185, 27)\",\"rgb(179, 197, 194)\",\"rgb(221, 242, 203)\",\"rgb(126, 206, 145)\",\"rgb(158, 1, 25)\",\"rgb(7, 32, 35)\",\"rgb(69, 174, 161)\",\"rgb(107, 213, 83)\",\"rgb(249, 134, 41)\",\"rgb(18, 209, 18)\",\"rgb(230, 203, 32)\",\"rgb(127, 138, 176)\",\"rgb(41, 170, 77)\",\"rgb(58, 155, 166)\",\"rgb(206, 89, 254)\",\"rgb(195, 195, 93)\",\"rgb(167, 148, 178)\",\"rgb(200, 10, 205)\",\"rgb(168, 3, 199)\",\"rgb(209, 189, 57)\",\"rgb(29, 234, 38)\",\"rgb(25, 191, 56)\",\"rgb(80, 137, 149)\",\"rgb(93, 117, 88)\",\"rgb(40, 242, 168)\",\"rgb(253, 234, 54)\",\"rgb(205, 193, 174)\",\"rgb(219, 140, 75)\",\"rgb(65, 34, 163)\",\"rgb(248, 150, 91)\"],\"size\":1},\"mode\":\"markers\",\"name\":\"person\",\"scene\":\"scene\",\"type\":\"scatter3d\",\"x\":[0.0032331962138414383,0.06365456432104111,-0.06233426183462143,0.0005451906472444534,0.16995474696159363,-0.1202211081981659,0.0021925815381109715,0.06440235674381256,-0.08897034078836441,-0.015517637133598328,0.09653881192207336,-0.12682878971099854,-0.027599453926086426,0.02536335214972496,-0.05972042307257652,-0.00598178431391716,0.10991345345973969,-0.14239086210727692,0.22164922952651978,-0.28547269105911255,0.06853918731212616,-0.3436325192451477,-0.01773429475724697,-0.005670493468642235,-0.06388218700885773,-0.01523282378911972,-0.037490952759981155,-0.03967050462961197,-0.007249675691127777,-0.022969581186771393,-0.02424594759941101,0.03471200913190842,0.03013758361339569,0.02843244932591915,0.01519797369837761,0.00011754222214221954,-0.002131299115717411,0.026340007781982422,0.005173128098249435,-0.01585964486002922,-0.33546182513237,-0.3333572745323181,-0.32633161544799805,-0.3562163710594177,-0.3567865788936615,-0.34861883521080017,-0.38126084208488464,-0.38102754950523376,-0.3732638359069824,-0.3721173107624054,-0.36961060762405396,-0.35911691188812256,-0.3192092180252075,-0.30528005957603455,-0.2996862530708313,-0.04668358340859413,-0.0677017867565155,-0.0064375195652246475,-0.07945527881383896,0.051065683364868164,0.0705096572637558,0.1273687481880188,0.07767806947231293,-0.08399036526679993,-0.15266674757003784,-0.0891261175274849,-0.03624767065048218,-0.04270051792263985,-0.024785557761788368,-0.005282178521156311,0.024112612009048462,-0.2899898290634155,-0.315670371055603,-0.33665311336517334,-0.3430972099304199,-0.36192214488983154,-0.08840212225914001,-0.08499591052532196,-0.07453896105289459,-0.061977725476026535,-0.0501338392496109,-0.0329345166683197,-0.020426293835043907,-0.004278519190847874,0.0125139020383358,0.025170713663101196,-0.04185683652758598,-0.04379468411207199,-0.04540061950683594,-0.04710325226187706,-0.051308274269104004,-0.04744886979460716,-0.042424604296684265,-0.03658232092857361,-0.0309663824737072,-0.07695507258176804,-0.07134658843278885,-0.06223689019680023,-0.053384121507406235,-0.061114195734262466,-0.07002995908260345,-0.020880576223134995,-0.01398592907935381,-0.0044814725406467915,0.006513557396829128,-0.00456425454467535,-0.013923798687756062,-0.058140210807323456,-0.05405628681182861,-0.04703075438737869,-0.041616860777139664,-0.0357113778591156,-0.024922635406255722,-0.014051388017833233,-0.02155424654483795,-0.0323328971862793,-0.03871697187423706,-0.04475574940443039,-0.052589040249586105,-0.05730090290307999,-0.04565845802426338,-0.039779212325811386,-0.033834684640169144,-0.014241834171116352,-0.03172079846262932,-0.03825519233942032,-0.04461337625980377],\"y\":[-0.36155956983566284,-0.455971896648407,-0.465450644493103,-0.25203269720077515,-0.6122755408287048,-0.607617974281311,-0.17721980810165405,-0.896957278251648,-0.929667592048645,-0.1700628250837326,-1.0236482620239258,-1.0428391695022583,-0.03600385785102844,-0.11261647194623947,-0.09980911761522293,-0.019420022144913673,-0.10867235064506531,-0.07688714563846588,-0.32031530141830444,-0.29496803879737854,-0.4696836471557617,-0.4793177843093872,-0.010857071727514267,-0.07677901536226273,-0.06126415729522705,-0.5116177201271057,-0.5321921110153198,-0.5511293411254883,-0.5238234400749207,-0.5481501221656799,-0.5675235986709595,-0.5368064641952515,-0.5540422201156616,-0.5686510801315308,-0.531337559223175,-0.5532662272453308,-0.5710080862045288,-0.48787304759025574,-0.5039627552032471,-0.5171813368797302,-0.5409582257270813,-0.5663244128227234,-0.5856607556343079,-0.5498291254043579,-0.5771691203117371,-0.5967817902565002,-0.5512570142745972,-0.569124162197113,-0.5841754078865051,-0.5510090589523315,-0.5760334134101868,-0.594412624835968,-0.5089881420135498,-0.5303831100463867,-0.5484917759895325,-0.12124979496002197,-0.07283052802085876,-0.0889454185962677,0.010582029819488525,-0.02406245842576027,-1.078597068786621,-1.0513803958892822,-0.8780525922775269,-1.0779154300689697,-1.0595601797103882,-0.9298324584960938,-0.5404005646705627,-0.5700477957725525,-0.5877838730812073,-0.5841591954231262,-0.5811066031455994,-0.5749475359916687,-0.6060436367988586,-0.6168228983879089,-0.609268307685852,-0.5993047952651978,-0.04186161234974861,-0.054042525589466095,-0.06809157133102417,-0.07854873687028885,-0.0844772458076477,-0.08917537331581116,-0.08976244181394577,-0.08673963695764542,-0.07957471907138824,-0.07202193886041641,-0.09324532747268677,-0.10254049301147461,-0.11155551671981812,-0.12062901258468628,-0.10193848609924316,-0.10710576176643372,-0.11051714420318604,-0.1095954179763794,-0.10683682560920715,-0.060593120753765106,-0.0697333961725235,-0.07314183562994003,-0.0742892175912857,-0.07416229695081711,-0.07082200795412064,-0.08258511871099472,-0.08574516326189041,-0.08723199367523193,-0.08274854719638824,-0.08859787881374359,-0.08665677905082703,-0.09309200942516327,-0.10210925340652466,-0.10945279896259308,-0.11197569221258163,-0.11251727491617203,-0.1102956086397171,-0.1049942672252655,-0.11038320511579514,-0.1133856326341629,-0.1125335693359375,-0.11018210649490356,-0.10125671327114105,-0.09269263595342636,-0.10643253475427628,-0.10842463374137878,-0.10947611927986145,-0.1048014909029007,-0.10961011052131653,-0.108540840446949,-0.106207475066185],\"z\":[0.006820188369601965,-0.022887583822011948,-0.0201047882437706,-0.014727210626006126,0.29707273840904236,0.3015460968017578,0.09794741123914719,0.05588209629058838,0.08087679743766785,0.15363669395446777,0.07752832770347595,0.13408684730529785,0.25993967056274414,0.21969690918922424,0.20390181243419647,0.43200770020484924,0.3089883327484131,0.2682425379753113,0.21506597101688385,0.23649021983146667,0.3158242404460907,0.368333637714386,0.4293418228626251,0.48495790362358093,0.4786427915096283,0.33952879905700684,0.34373804926872253,0.3336642384529114,0.35687491297721863,0.3604483902454376,0.3486213684082031,0.36346322298049927,0.36231446266174316,0.35194891691207886,0.36308228969573975,0.36335960030555725,0.3496691882610321,0.30671900510787964,0.29806405305862427,0.29910212755203247,0.4401637315750122,0.4571501612663269,0.45070192217826843,0.43810737133026123,0.44829824566841125,0.44020575284957886,0.4014531373977661,0.40132832527160645,0.39525049924850464,0.41954123973846436,0.4282495975494385,0.4205472469329834,0.39452746510505676,0.4059315621852875,0.42202508449554443,0.4539358615875244,0.4789220094680786,0.48701730370521545,0.4301491975784302,0.4485520124435425,0.12138140201568604,0.08113378286361694,-0.014948725700378418,0.18204063177108765,0.14194422960281372,-0.0025029778480529785,0.29696327447891235,0.3186218738555908,0.33126264810562134,0.33190542459487915,0.33760690689086914,0.4318534731864929,0.4422163665294647,0.4271842837333679,0.4129738211631775,0.38956403732299805,0.4758068323135376,0.49526122212409973,0.5027485489845276,0.504974901676178,0.5024331212043762,0.5032376050949097,0.5083439350128174,0.5102967023849487,0.5056897401809692,0.4878908395767212,0.4879133403301239,0.4784608483314514,0.4704585075378418,0.46213778853416443,0.44441157579421997,0.44329938292503357,0.4427485764026642,0.4450126886367798,0.4468477964401245,0.4749515950679779,0.4831567704677582,0.48361119627952576,0.47793781757354736,0.4749647378921509,0.47364282608032227,0.48128437995910645,0.4882756173610687,0.4897891879081726,0.4834328293800354,0.48006388545036316,0.47986555099487305,0.4162134826183319,0.4258689880371094,0.4290248453617096,0.42885226011276245,0.4300543963909149,0.4276001453399658,0.4210242033004761,0.41764089465141296,0.4165516495704651,0.4155787229537964,0.4151720702648163,0.41543295979499817,0.4161323308944702,0.4221753776073456,0.42285269498825073,0.4236067235469818,0.42105650901794434,0.4218761920928955,0.4217010736465454,0.4204294979572296]},{\"marker\":{\"color\":[\"rgb(0, 0, 0)\",\"rgb(0, 0, 0)\",\"rgb(0, 0, 0)\",\"rgb(0, 0, 0)\",\"rgb(0, 0, 0)\",\"rgb(0, 0, 0)\",\"rgb(0, 0, 0)\",\"rgb(0, 0, 0)\",\"rgb(0, 0, 0)\",\"rgb(0, 0, 0)\",\"rgb(0, 0, 0)\",\"rgb(0, 0, 0)\",\"rgb(0, 0, 0)\",\"rgb(0, 0, 0)\",\"rgb(0, 0, 0)\",\"rgb(0, 0, 0)\",\"rgb(0, 0, 0)\",\"rgb(0, 0, 0)\",\"rgb(0, 0, 0)\",\"rgb(0, 0, 0)\",\"rgb(0, 0, 0)\",\"rgb(0, 0, 0)\",\"rgb(0, 0, 0)\",\"rgb(0, 0, 0)\",\"rgb(0, 0, 0)\",\"rgb(0, 0, 0)\",\"rgb(0, 0, 0)\",\"rgb(0, 0, 0)\",\"rgb(0, 0, 0)\",\"rgb(0, 0, 0)\",\"rgb(0, 0, 0)\",\"rgb(0, 0, 0)\",\"rgb(0, 0, 0)\",\"rgb(0, 0, 0)\",\"rgb(0, 0, 0)\",\"rgb(0, 0, 0)\",\"rgb(0, 0, 0)\",\"rgb(0, 0, 0)\",\"rgb(0, 0, 0)\",\"rgb(0, 0, 0)\",\"rgb(0, 0, 0)\",\"rgb(0, 0, 0)\",\"rgb(0, 0, 0)\",\"rgb(0, 0, 0)\",\"rgb(0, 0, 0)\",\"rgb(0, 0, 0)\",\"rgb(0, 0, 0)\",\"rgb(0, 0, 0)\",\"rgb(0, 0, 0)\",\"rgb(0, 0, 0)\",\"rgb(0, 0, 0)\",\"rgb(0, 0, 0)\",\"rgb(0, 0, 0)\",\"rgb(0, 0, 0)\",\"rgb(0, 0, 0)\",\"rgb(0, 0, 0)\",\"rgb(0, 0, 0)\",\"rgb(0, 0, 0)\",\"rgb(0, 0, 0)\",\"rgb(0, 0, 0)\",\"rgb(0, 0, 0)\",\"rgb(0, 0, 0)\",\"rgb(0, 0, 0)\",\"rgb(0, 0, 0)\",\"rgb(0, 0, 0)\",\"rgb(0, 0, 0)\",\"rgb(0, 0, 0)\",\"rgb(0, 0, 0)\",\"rgb(0, 0, 0)\",\"rgb(0, 0, 0)\",\"rgb(0, 0, 0)\",\"rgb(0, 0, 0)\",\"rgb(0, 0, 0)\",\"rgb(0, 0, 0)\",\"rgb(0, 0, 0)\",\"rgb(0, 0, 0)\",\"rgb(0, 0, 0)\",\"rgb(0, 0, 0)\",\"rgb(0, 0, 0)\",\"rgb(0, 0, 0)\",\"rgb(0, 0, 0)\",\"rgb(0, 0, 0)\",\"rgb(0, 0, 0)\",\"rgb(0, 0, 0)\",\"rgb(0, 0, 0)\",\"rgb(0, 0, 0)\",\"rgb(0, 0, 0)\",\"rgb(0, 0, 0)\",\"rgb(0, 0, 0)\",\"rgb(0, 0, 0)\",\"rgb(0, 0, 0)\",\"rgb(0, 0, 0)\",\"rgb(0, 0, 0)\",\"rgb(0, 0, 0)\",\"rgb(0, 0, 0)\",\"rgb(0, 0, 0)\",\"rgb(0, 0, 0)\",\"rgb(0, 0, 0)\",\"rgb(0, 0, 0)\",\"rgb(0, 0, 0)\",\"rgb(0, 0, 0)\",\"rgb(0, 0, 0)\",\"rgb(0, 0, 0)\",\"rgb(0, 0, 0)\",\"rgb(0, 0, 0)\",\"rgb(0, 0, 0)\",\"rgb(0, 0, 0)\",\"rgb(0, 0, 0)\",\"rgb(0, 0, 0)\",\"rgb(0, 0, 0)\",\"rgb(0, 0, 0)\",\"rgb(0, 0, 0)\",\"rgb(0, 0, 0)\",\"rgb(0, 0, 0)\",\"rgb(0, 0, 0)\",\"rgb(0, 0, 0)\",\"rgb(0, 0, 0)\",\"rgb(0, 0, 0)\",\"rgb(0, 0, 0)\",\"rgb(0, 0, 0)\",\"rgb(0, 0, 0)\",\"rgb(0, 0, 0)\",\"rgb(0, 0, 0)\",\"rgb(0, 0, 0)\",\"rgb(0, 0, 0)\",\"rgb(0, 0, 0)\",\"rgb(0, 0, 0)\"],\"size\":1},\"mode\":\"markers\",\"name\":\"person2\",\"scene\":\"scene\",\"type\":\"scatter3d\",\"x\":[2.0032331943511963,2.063654661178589,1.9376657009124756,2.0005452632904053,2.169954776763916,1.8797788619995117,2.002192497253418,2.0644023418426514,1.9110296964645386,1.9844824075698853,2.096538782119751,1.8731712102890015,1.9724005460739136,2.0253634452819824,1.9402796030044556,1.9940181970596313,2.1099133491516113,1.8576091527938843,2.221649169921875,1.7145273685455322,2.0685391426086426,1.656367540359497,1.9822657108306885,1.9943294525146484,1.9361177682876587,1.984767198562622,1.962509036064148,1.960329532623291,1.9927502870559692,1.9770303964614868,1.9757540225982666,2.034712076187134,2.030137538909912,2.0284323692321777,2.015197992324829,2.000117540359497,1.9978686571121216,2.0263400077819824,2.0051732063293457,1.984140396118164,1.6645381450653076,1.666642665863037,1.673668384552002,1.6437835693359375,1.6432133913040161,1.6513811349868774,1.618739128112793,1.6189724206924438,1.6267361640930176,1.627882719039917,1.6303894519805908,1.6408830881118774,1.6807907819747925,1.694719910621643,1.7003138065338135,1.9533164501190186,1.932298183441162,1.9935624599456787,1.9205447435379028,2.051065683364868,2.070509672164917,2.127368688583374,2.0776779651641846,1.9160096645355225,1.8473331928253174,1.9108738899230957,1.963752269744873,1.9572994709014893,1.9752144813537598,1.9947178363800049,2.0241127014160156,1.7100101709365845,1.684329628944397,1.6633468866348267,1.65690279006958,1.6380778551101685,1.9115978479385376,1.9150041341781616,1.9254610538482666,1.938022255897522,1.9498661756515503,1.967065453529358,1.9795737266540527,1.995721459388733,2.0125138759613037,2.0251708030700684,1.9581431150436401,1.9562053680419922,1.954599380493164,1.9528967142105103,1.948691725730896,1.9525511264801025,1.9575754404067993,1.963417649269104,1.9690335988998413,1.9230449199676514,1.928653359413147,1.9377630949020386,1.9466159343719482,1.9388858079910278,1.9299700260162354,1.9791194200515747,1.9860141277313232,1.9955185651779175,2.0065135955810547,1.9954357147216797,1.9860762357711792,1.9418598413467407,1.9459437131881714,1.9529691934585571,1.9583830833435059,1.964288592338562,1.9750773906707764,1.9859485626220703,1.9784457683563232,1.9676671028137207,1.9612829685211182,1.9552443027496338,1.9474109411239624,1.9426990747451782,1.9543415307998657,1.9602208137512207,1.96616530418396,1.9857581853866577,1.968279242515564,1.961744785308838,1.9553866386413574],\"y\":[1.6384403705596924,1.5440280437469482,1.534549355506897,1.74796724319458,1.3877243995666504,1.392382025718689,1.8227801322937012,1.103042721748352,1.070332407951355,1.829937219619751,0.9763517379760742,0.9571608304977417,1.963996171951294,1.8873835802078247,1.900190830230713,1.9805799722671509,1.8913276195526123,1.9231128692626953,1.6796846389770508,1.7050319910049438,1.5303163528442383,1.5206822156906128,1.989142894744873,1.9232209920883179,1.938735842704773,1.488382339477539,1.4678078889846802,1.4488706588745117,1.4761765003204346,1.4518499374389648,1.4324764013290405,1.4631935358047485,1.4459577798843384,1.4313489198684692,1.4686625003814697,1.4467337131500244,1.4289919137954712,1.5121269226074219,1.496037244796753,1.482818603515625,1.4590418338775635,1.4336755275726318,1.414339303970337,1.450170874595642,1.4228308200836182,1.4032182693481445,1.4487429857254028,1.4308757781982422,1.4158246517181396,1.4489909410476685,1.423966646194458,1.4055874347686768,1.4910118579864502,1.4696168899536133,1.4515082836151123,1.878750205039978,1.9271694421768188,1.9110546112060547,2.0105819702148438,1.9759374856948853,0.9214029312133789,0.9486196041107178,1.1219474077224731,0.9220845699310303,0.9404398202896118,1.0701675415039062,1.459599494934082,1.4299521446228027,1.4122161865234375,1.4158408641815186,1.4188933372497559,1.4250524044036865,1.3939564228057861,1.3831770420074463,1.390731692314148,1.4006952047348022,1.958138346672058,1.9459574222564697,1.931908369064331,1.921451210975647,1.915522813796997,1.9108246564865112,1.9102375507354736,1.9132603406906128,1.920425295829773,1.9279780387878418,1.906754732131958,1.8974595069885254,1.888444423675537,1.879370927810669,1.8980615139007568,1.8928942680358887,1.889482855796814,1.8904045820236206,1.8931632041931152,1.9394068717956543,1.9302666187286377,1.9268581867218018,1.9257107973098755,1.925837755203247,1.92917799949646,1.917414903640747,1.9142547845840454,1.912768006324768,1.917251467704773,1.9114021062850952,1.9133431911468506,1.9069080352783203,1.8978908061981201,1.8905471563339233,1.8880243301391602,1.887482762336731,1.8897043466567993,1.895005702972412,1.889616847038269,1.8866143226623535,1.8874664306640625,1.8898179531097412,1.8987432718276978,1.9073073863983154,1.893567442893982,1.8915753364562988,1.890523910522461,1.8951984643936157,1.8903899192810059,1.8914591073989868,1.8937925100326538],\"z\":[2.0068202018737793,1.9771124124526978,1.9798952341079712,1.985272765159607,2.297072649002075,2.301546096801758,2.097947359085083,2.055881977081299,2.0808768272399902,2.1536366939544678,2.077528238296509,2.134086847305298,2.259939670562744,2.2196969985961914,2.203901767730713,2.4320077896118164,2.308988332748413,2.268242597579956,2.2150659561157227,2.236490249633789,2.315824270248413,2.368333578109741,2.4293417930603027,2.4849579334259033,2.478642702102661,2.339528799057007,2.343738079071045,2.3336641788482666,2.356874942779541,2.3604483604431152,2.348621368408203,2.3634631633758545,2.362314462661743,2.3519489765167236,2.3630824089050293,2.3633596897125244,2.3496692180633545,2.3067190647125244,2.2980639934539795,2.2991020679473877,2.4401636123657227,2.4571502208709717,2.450701951980591,2.438107490539551,2.448298215866089,2.4402058124542236,2.4014530181884766,2.4013283252716064,2.3952505588531494,2.419541358947754,2.4282495975494385,2.4205472469329834,2.3945274353027344,2.4059314727783203,2.422025203704834,2.4539358615875244,2.478921890258789,2.4870173931121826,2.4301490783691406,2.448552131652832,2.1213812828063965,2.0811338424682617,1.9850512742996216,2.1820406913757324,2.141944169998169,1.9974970817565918,2.2969632148742676,2.318621873855591,2.3312625885009766,2.3319053649902344,2.337606906890869,2.4318535327911377,2.442216396331787,2.4271843433380127,2.4129738807678223,2.389564037322998,2.475806713104248,2.4952611923217773,2.502748489379883,2.504974842071533,2.5024330615997314,2.503237724304199,2.5083439350128174,2.5102968215942383,2.5056896209716797,2.4878907203674316,2.4879133701324463,2.4784607887268066,2.470458507537842,2.4621376991271973,2.444411516189575,2.4432992935180664,2.442748546600342,2.4450125694274902,2.446847915649414,2.4749515056610107,2.483156681060791,2.4836111068725586,2.477937698364258,2.4749646186828613,2.4736428260803223,2.4812843799591064,2.4882755279541016,2.4897892475128174,2.4834327697753906,2.4800639152526855,2.479865550994873,2.4162135124206543,2.4258689880371094,2.4290249347686768,2.4288523197174072,2.4300544261932373,2.427600145339966,2.4210243225097656,2.4176409244537354,2.4165515899658203,2.415578842163086,2.4151721000671387,2.415432929992676,2.4161324501037598,2.422175407409668,2.4228527545928955,2.4236066341400146,2.4210565090179443,2.4218761920928955,2.421700954437256,2.4204294681549072]}],                        {\"annotations\":[{\"font\":{\"size\":16},\"showarrow\":false,\"text\":\"Pointcloud\",\"x\":0.5,\"xanchor\":\"center\",\"xref\":\"paper\",\"y\":1.0,\"yanchor\":\"bottom\",\"yref\":\"paper\"}],\"autosize\":false,\"height\":800,\"scene\":{\"aspectmode\":\"cube\",\"camera\":{\"up\":{\"x\":0,\"y\":1,\"z\":0}},\"domain\":{\"x\":[0.0,1.0],\"y\":[0.0,1.0]},\"xaxis\":{\"backgroundcolor\":\"#fff\",\"range\":[-1.165540337562561,3.012817859649658],\"showaxeslabels\":false,\"showgrid\":false,\"showline\":false,\"showticklabels\":false,\"ticks\":\"\",\"zeroline\":false},\"yaxis\":{\"backgroundcolor\":\"#fff\",\"range\":[-1.425208330154419,2.7531497478485107],\"showaxeslabels\":false,\"showgrid\":false,\"showline\":false,\"showticklabels\":false,\"ticks\":\"\",\"zeroline\":false},\"zaxis\":{\"backgroundcolor\":\"#fff\",\"range\":[-0.7213147878646851,3.457043170928955],\"showaxeslabels\":false,\"showgrid\":false,\"showline\":false,\"showticklabels\":false,\"ticks\":\"\",\"zeroline\":false}},\"template\":{\"data\":{\"bar\":[{\"error_x\":{\"color\":\"#2a3f5f\"},\"error_y\":{\"color\":\"#2a3f5f\"},\"marker\":{\"line\":{\"color\":\"#E5ECF6\",\"width\":0.5},\"pattern\":{\"fillmode\":\"overlay\",\"size\":10,\"solidity\":0.2}},\"type\":\"bar\"}],\"barpolar\":[{\"marker\":{\"line\":{\"color\":\"#E5ECF6\",\"width\":0.5},\"pattern\":{\"fillmode\":\"overlay\",\"size\":10,\"solidity\":0.2}},\"type\":\"barpolar\"}],\"carpet\":[{\"aaxis\":{\"endlinecolor\":\"#2a3f5f\",\"gridcolor\":\"white\",\"linecolor\":\"white\",\"minorgridcolor\":\"white\",\"startlinecolor\":\"#2a3f5f\"},\"baxis\":{\"endlinecolor\":\"#2a3f5f\",\"gridcolor\":\"white\",\"linecolor\":\"white\",\"minorgridcolor\":\"white\",\"startlinecolor\":\"#2a3f5f\"},\"type\":\"carpet\"}],\"choropleth\":[{\"colorbar\":{\"outlinewidth\":0,\"ticks\":\"\"},\"type\":\"choropleth\"}],\"contour\":[{\"colorbar\":{\"outlinewidth\":0,\"ticks\":\"\"},\"colorscale\":[[0.0,\"#0d0887\"],[0.1111111111111111,\"#46039f\"],[0.2222222222222222,\"#7201a8\"],[0.3333333333333333,\"#9c179e\"],[0.4444444444444444,\"#bd3786\"],[0.5555555555555556,\"#d8576b\"],[0.6666666666666666,\"#ed7953\"],[0.7777777777777778,\"#fb9f3a\"],[0.8888888888888888,\"#fdca26\"],[1.0,\"#f0f921\"]],\"type\":\"contour\"}],\"contourcarpet\":[{\"colorbar\":{\"outlinewidth\":0,\"ticks\":\"\"},\"type\":\"contourcarpet\"}],\"heatmap\":[{\"colorbar\":{\"outlinewidth\":0,\"ticks\":\"\"},\"colorscale\":[[0.0,\"#0d0887\"],[0.1111111111111111,\"#46039f\"],[0.2222222222222222,\"#7201a8\"],[0.3333333333333333,\"#9c179e\"],[0.4444444444444444,\"#bd3786\"],[0.5555555555555556,\"#d8576b\"],[0.6666666666666666,\"#ed7953\"],[0.7777777777777778,\"#fb9f3a\"],[0.8888888888888888,\"#fdca26\"],[1.0,\"#f0f921\"]],\"type\":\"heatmap\"}],\"heatmapgl\":[{\"colorbar\":{\"outlinewidth\":0,\"ticks\":\"\"},\"colorscale\":[[0.0,\"#0d0887\"],[0.1111111111111111,\"#46039f\"],[0.2222222222222222,\"#7201a8\"],[0.3333333333333333,\"#9c179e\"],[0.4444444444444444,\"#bd3786\"],[0.5555555555555556,\"#d8576b\"],[0.6666666666666666,\"#ed7953\"],[0.7777777777777778,\"#fb9f3a\"],[0.8888888888888888,\"#fdca26\"],[1.0,\"#f0f921\"]],\"type\":\"heatmapgl\"}],\"histogram\":[{\"marker\":{\"pattern\":{\"fillmode\":\"overlay\",\"size\":10,\"solidity\":0.2}},\"type\":\"histogram\"}],\"histogram2d\":[{\"colorbar\":{\"outlinewidth\":0,\"ticks\":\"\"},\"colorscale\":[[0.0,\"#0d0887\"],[0.1111111111111111,\"#46039f\"],[0.2222222222222222,\"#7201a8\"],[0.3333333333333333,\"#9c179e\"],[0.4444444444444444,\"#bd3786\"],[0.5555555555555556,\"#d8576b\"],[0.6666666666666666,\"#ed7953\"],[0.7777777777777778,\"#fb9f3a\"],[0.8888888888888888,\"#fdca26\"],[1.0,\"#f0f921\"]],\"type\":\"histogram2d\"}],\"histogram2dcontour\":[{\"colorbar\":{\"outlinewidth\":0,\"ticks\":\"\"},\"colorscale\":[[0.0,\"#0d0887\"],[0.1111111111111111,\"#46039f\"],[0.2222222222222222,\"#7201a8\"],[0.3333333333333333,\"#9c179e\"],[0.4444444444444444,\"#bd3786\"],[0.5555555555555556,\"#d8576b\"],[0.6666666666666666,\"#ed7953\"],[0.7777777777777778,\"#fb9f3a\"],[0.8888888888888888,\"#fdca26\"],[1.0,\"#f0f921\"]],\"type\":\"histogram2dcontour\"}],\"mesh3d\":[{\"colorbar\":{\"outlinewidth\":0,\"ticks\":\"\"},\"type\":\"mesh3d\"}],\"parcoords\":[{\"line\":{\"colorbar\":{\"outlinewidth\":0,\"ticks\":\"\"}},\"type\":\"parcoords\"}],\"pie\":[{\"automargin\":true,\"type\":\"pie\"}],\"scatter\":[{\"marker\":{\"colorbar\":{\"outlinewidth\":0,\"ticks\":\"\"}},\"type\":\"scatter\"}],\"scatter3d\":[{\"line\":{\"colorbar\":{\"outlinewidth\":0,\"ticks\":\"\"}},\"marker\":{\"colorbar\":{\"outlinewidth\":0,\"ticks\":\"\"}},\"type\":\"scatter3d\"}],\"scattercarpet\":[{\"marker\":{\"colorbar\":{\"outlinewidth\":0,\"ticks\":\"\"}},\"type\":\"scattercarpet\"}],\"scattergeo\":[{\"marker\":{\"colorbar\":{\"outlinewidth\":0,\"ticks\":\"\"}},\"type\":\"scattergeo\"}],\"scattergl\":[{\"marker\":{\"colorbar\":{\"outlinewidth\":0,\"ticks\":\"\"}},\"type\":\"scattergl\"}],\"scattermapbox\":[{\"marker\":{\"colorbar\":{\"outlinewidth\":0,\"ticks\":\"\"}},\"type\":\"scattermapbox\"}],\"scatterpolar\":[{\"marker\":{\"colorbar\":{\"outlinewidth\":0,\"ticks\":\"\"}},\"type\":\"scatterpolar\"}],\"scatterpolargl\":[{\"marker\":{\"colorbar\":{\"outlinewidth\":0,\"ticks\":\"\"}},\"type\":\"scatterpolargl\"}],\"scatterternary\":[{\"marker\":{\"colorbar\":{\"outlinewidth\":0,\"ticks\":\"\"}},\"type\":\"scatterternary\"}],\"surface\":[{\"colorbar\":{\"outlinewidth\":0,\"ticks\":\"\"},\"colorscale\":[[0.0,\"#0d0887\"],[0.1111111111111111,\"#46039f\"],[0.2222222222222222,\"#7201a8\"],[0.3333333333333333,\"#9c179e\"],[0.4444444444444444,\"#bd3786\"],[0.5555555555555556,\"#d8576b\"],[0.6666666666666666,\"#ed7953\"],[0.7777777777777778,\"#fb9f3a\"],[0.8888888888888888,\"#fdca26\"],[1.0,\"#f0f921\"]],\"type\":\"surface\"}],\"table\":[{\"cells\":{\"fill\":{\"color\":\"#EBF0F8\"},\"line\":{\"color\":\"white\"}},\"header\":{\"fill\":{\"color\":\"#C8D4E3\"},\"line\":{\"color\":\"white\"}},\"type\":\"table\"}]},\"layout\":{\"annotationdefaults\":{\"arrowcolor\":\"#2a3f5f\",\"arrowhead\":0,\"arrowwidth\":1},\"autotypenumbers\":\"strict\",\"coloraxis\":{\"colorbar\":{\"outlinewidth\":0,\"ticks\":\"\"}},\"colorscale\":{\"diverging\":[[0,\"#8e0152\"],[0.1,\"#c51b7d\"],[0.2,\"#de77ae\"],[0.3,\"#f1b6da\"],[0.4,\"#fde0ef\"],[0.5,\"#f7f7f7\"],[0.6,\"#e6f5d0\"],[0.7,\"#b8e186\"],[0.8,\"#7fbc41\"],[0.9,\"#4d9221\"],[1,\"#276419\"]],\"sequential\":[[0.0,\"#0d0887\"],[0.1111111111111111,\"#46039f\"],[0.2222222222222222,\"#7201a8\"],[0.3333333333333333,\"#9c179e\"],[0.4444444444444444,\"#bd3786\"],[0.5555555555555556,\"#d8576b\"],[0.6666666666666666,\"#ed7953\"],[0.7777777777777778,\"#fb9f3a\"],[0.8888888888888888,\"#fdca26\"],[1.0,\"#f0f921\"]],\"sequentialminus\":[[0.0,\"#0d0887\"],[0.1111111111111111,\"#46039f\"],[0.2222222222222222,\"#7201a8\"],[0.3333333333333333,\"#9c179e\"],[0.4444444444444444,\"#bd3786\"],[0.5555555555555556,\"#d8576b\"],[0.6666666666666666,\"#ed7953\"],[0.7777777777777778,\"#fb9f3a\"],[0.8888888888888888,\"#fdca26\"],[1.0,\"#f0f921\"]]},\"colorway\":[\"#636efa\",\"#EF553B\",\"#00cc96\",\"#ab63fa\",\"#FFA15A\",\"#19d3f3\",\"#FF6692\",\"#B6E880\",\"#FF97FF\",\"#FECB52\"],\"font\":{\"color\":\"#2a3f5f\"},\"geo\":{\"bgcolor\":\"white\",\"lakecolor\":\"white\",\"landcolor\":\"#E5ECF6\",\"showlakes\":true,\"showland\":true,\"subunitcolor\":\"white\"},\"hoverlabel\":{\"align\":\"left\"},\"hovermode\":\"closest\",\"mapbox\":{\"style\":\"light\"},\"paper_bgcolor\":\"white\",\"plot_bgcolor\":\"#E5ECF6\",\"polar\":{\"angularaxis\":{\"gridcolor\":\"white\",\"linecolor\":\"white\",\"ticks\":\"\"},\"bgcolor\":\"#E5ECF6\",\"radialaxis\":{\"gridcolor\":\"white\",\"linecolor\":\"white\",\"ticks\":\"\"}},\"scene\":{\"xaxis\":{\"backgroundcolor\":\"#E5ECF6\",\"gridcolor\":\"white\",\"gridwidth\":2,\"linecolor\":\"white\",\"showbackground\":true,\"ticks\":\"\",\"zerolinecolor\":\"white\"},\"yaxis\":{\"backgroundcolor\":\"#E5ECF6\",\"gridcolor\":\"white\",\"gridwidth\":2,\"linecolor\":\"white\",\"showbackground\":true,\"ticks\":\"\",\"zerolinecolor\":\"white\"},\"zaxis\":{\"backgroundcolor\":\"#E5ECF6\",\"gridcolor\":\"white\",\"gridwidth\":2,\"linecolor\":\"white\",\"showbackground\":true,\"ticks\":\"\",\"zerolinecolor\":\"white\"}},\"shapedefaults\":{\"line\":{\"color\":\"#2a3f5f\"}},\"ternary\":{\"aaxis\":{\"gridcolor\":\"white\",\"linecolor\":\"white\",\"ticks\":\"\"},\"baxis\":{\"gridcolor\":\"white\",\"linecolor\":\"white\",\"ticks\":\"\"},\"bgcolor\":\"#E5ECF6\",\"caxis\":{\"gridcolor\":\"white\",\"linecolor\":\"white\",\"ticks\":\"\"}},\"title\":{\"x\":0.05},\"xaxis\":{\"automargin\":true,\"gridcolor\":\"white\",\"linecolor\":\"white\",\"ticks\":\"\",\"title\":{\"standoff\":15},\"zerolinecolor\":\"white\",\"zerolinewidth\":2},\"yaxis\":{\"automargin\":true,\"gridcolor\":\"white\",\"linecolor\":\"white\",\"ticks\":\"\",\"title\":{\"standoff\":15},\"zerolinecolor\":\"white\",\"zerolinewidth\":2}}},\"width\":800},                        {\"responsive\": true}                    ).then(function(){\n",
       "                            \n",
       "var gd = document.getElementById('54e33045-e63f-4896-88d8-79df4ea04a6b');\n",
       "var x = new MutationObserver(function (mutations, observer) {{\n",
       "        var display = window.getComputedStyle(gd).display;\n",
       "        if (!display || display === 'none') {{\n",
       "            console.log([gd, 'removed!']);\n",
       "            Plotly.purge(gd);\n",
       "            observer.disconnect();\n",
       "        }}\n",
       "}});\n",
       "\n",
       "// Listen for the removal of the full notebook cells\n",
       "var notebookContainer = gd.closest('#notebook-container');\n",
       "if (notebookContainer) {{\n",
       "    x.observe(notebookContainer, {childList: true});\n",
       "}}\n",
       "\n",
       "// Listen for the clearing of the current output cell\n",
       "var outputEl = gd.closest('.output');\n",
       "if (outputEl) {{\n",
       "    x.observe(outputEl, {childList: true});\n",
       "}}\n",
       "\n",
       "                        })                };                });            </script>        </div>"
      ]
     },
     "metadata": {},
     "output_type": "display_data"
    },
    {
     "data": {
      "application/vnd.plotly.v1+json": {
       "config": {
        "plotlyServerURL": "https://plot.ly"
       },
       "data": [
        {
         "marker": {
          "color": [
           "rgb(166, 135, 16)",
           "rgb(91, 160, 57)",
           "rgb(203, 92, 19)",
           "rgb(54, 58, 78)",
           "rgb(37, 104, 91)",
           "rgb(4, 246, 164)",
           "rgb(92, 11, 30)",
           "rgb(17, 229, 113)",
           "rgb(17, 102, 143)",
           "rgb(63, 215, 73)",
           "rgb(54, 54, 82)",
           "rgb(14, 204, 107)",
           "rgb(230, 159, 239)",
           "rgb(164, 120, 225)",
           "rgb(47, 6, 111)",
           "rgb(145, 23, 172)",
           "rgb(252, 112, 45)",
           "rgb(229, 236, 138)",
           "rgb(55, 4, 96)",
           "rgb(210, 121, 3)",
           "rgb(252, 240, 146)",
           "rgb(65, 52, 130)",
           "rgb(117, 84, 149)",
           "rgb(202, 246, 215)",
           "rgb(186, 178, 56)",
           "rgb(229, 109, 187)",
           "rgb(249, 167, 117)",
           "rgb(244, 31, 16)",
           "rgb(1, 17, 160)",
           "rgb(17, 93, 194)",
           "rgb(81, 118, 77)",
           "rgb(16, 114, 201)",
           "rgb(229, 109, 183)",
           "rgb(108, 57, 146)",
           "rgb(22, 247, 124)",
           "rgb(252, 168, 80)",
           "rgb(98, 75, 14)",
           "rgb(67, 193, 205)",
           "rgb(18, 220, 180)",
           "rgb(42, 209, 115)",
           "rgb(137, 175, 55)",
           "rgb(187, 177, 227)",
           "rgb(236, 202, 35)",
           "rgb(133, 237, 92)",
           "rgb(11, 52, 253)",
           "rgb(98, 55, 50)",
           "rgb(144, 31, 252)",
           "rgb(191, 115, 182)",
           "rgb(151, 51, 55)",
           "rgb(158, 121, 170)",
           "rgb(112, 6, 31)",
           "rgb(186, 130, 14)",
           "rgb(129, 210, 206)",
           "rgb(182, 194, 86)",
           "rgb(114, 145, 39)",
           "rgb(28, 34, 72)",
           "rgb(73, 124, 83)",
           "rgb(125, 125, 35)",
           "rgb(12, 140, 115)",
           "rgb(64, 4, 241)",
           "rgb(225, 243, 32)",
           "rgb(65, 96, 3)",
           "rgb(104, 3, 86)",
           "rgb(126, 26, 36)",
           "rgb(115, 225, 254)",
           "rgb(88, 112, 189)",
           "rgb(67, 60, 7)",
           "rgb(193, 36, 83)",
           "rgb(48, 54, 85)",
           "rgb(53, 170, 146)",
           "rgb(21, 188, 226)",
           "rgb(39, 174, 81)",
           "rgb(13, 212, 51)",
           "rgb(38, 21, 95)",
           "rgb(2, 8, 83)",
           "rgb(89, 176, 142)",
           "rgb(104, 52, 60)",
           "rgb(69, 119, 212)",
           "rgb(203, 103, 59)",
           "rgb(190, 171, 91)",
           "rgb(180, 113, 49)",
           "rgb(141, 164, 245)",
           "rgb(201, 208, 18)",
           "rgb(216, 177, 252)",
           "rgb(49, 132, 49)",
           "rgb(68, 72, 79)",
           "rgb(128, 112, 104)",
           "rgb(43, 59, 97)",
           "rgb(72, 133, 81)",
           "rgb(104, 197, 226)",
           "rgb(99, 31, 30)",
           "rgb(163, 105, 21)",
           "rgb(184, 45, 1)",
           "rgb(157, 45, 148)",
           "rgb(166, 238, 115)",
           "rgb(36, 128, 235)",
           "rgb(71, 207, 131)",
           "rgb(94, 185, 27)",
           "rgb(179, 197, 194)",
           "rgb(221, 242, 203)",
           "rgb(126, 206, 145)",
           "rgb(158, 1, 25)",
           "rgb(7, 32, 35)",
           "rgb(69, 174, 161)",
           "rgb(107, 213, 83)",
           "rgb(249, 134, 41)",
           "rgb(18, 209, 18)",
           "rgb(230, 203, 32)",
           "rgb(127, 138, 176)",
           "rgb(41, 170, 77)",
           "rgb(58, 155, 166)",
           "rgb(206, 89, 254)",
           "rgb(195, 195, 93)",
           "rgb(167, 148, 178)",
           "rgb(200, 10, 205)",
           "rgb(168, 3, 199)",
           "rgb(209, 189, 57)",
           "rgb(29, 234, 38)",
           "rgb(25, 191, 56)",
           "rgb(80, 137, 149)",
           "rgb(93, 117, 88)",
           "rgb(40, 242, 168)",
           "rgb(253, 234, 54)",
           "rgb(205, 193, 174)",
           "rgb(219, 140, 75)",
           "rgb(65, 34, 163)",
           "rgb(248, 150, 91)"
          ],
          "size": 1
         },
         "mode": "markers",
         "name": "person",
         "scene": "scene",
         "type": "scatter3d",
         "x": [
          0.0032331962138414383,
          0.06365456432104111,
          -0.06233426183462143,
          0.0005451906472444534,
          0.16995474696159363,
          -0.1202211081981659,
          0.0021925815381109715,
          0.06440235674381256,
          -0.08897034078836441,
          -0.015517637133598328,
          0.09653881192207336,
          -0.12682878971099854,
          -0.027599453926086426,
          0.02536335214972496,
          -0.05972042307257652,
          -0.00598178431391716,
          0.10991345345973969,
          -0.14239086210727692,
          0.22164922952651978,
          -0.28547269105911255,
          0.06853918731212616,
          -0.3436325192451477,
          -0.01773429475724697,
          -0.005670493468642235,
          -0.06388218700885773,
          -0.01523282378911972,
          -0.037490952759981155,
          -0.03967050462961197,
          -0.007249675691127777,
          -0.022969581186771393,
          -0.02424594759941101,
          0.03471200913190842,
          0.03013758361339569,
          0.02843244932591915,
          0.01519797369837761,
          0.00011754222214221954,
          -0.002131299115717411,
          0.026340007781982422,
          0.005173128098249435,
          -0.01585964486002922,
          -0.33546182513237,
          -0.3333572745323181,
          -0.32633161544799805,
          -0.3562163710594177,
          -0.3567865788936615,
          -0.34861883521080017,
          -0.38126084208488464,
          -0.38102754950523376,
          -0.3732638359069824,
          -0.3721173107624054,
          -0.36961060762405396,
          -0.35911691188812256,
          -0.3192092180252075,
          -0.30528005957603455,
          -0.2996862530708313,
          -0.04668358340859413,
          -0.0677017867565155,
          -0.0064375195652246475,
          -0.07945527881383896,
          0.051065683364868164,
          0.0705096572637558,
          0.1273687481880188,
          0.07767806947231293,
          -0.08399036526679993,
          -0.15266674757003784,
          -0.0891261175274849,
          -0.03624767065048218,
          -0.04270051792263985,
          -0.024785557761788368,
          -0.005282178521156311,
          0.024112612009048462,
          -0.2899898290634155,
          -0.315670371055603,
          -0.33665311336517334,
          -0.3430972099304199,
          -0.36192214488983154,
          -0.08840212225914001,
          -0.08499591052532196,
          -0.07453896105289459,
          -0.061977725476026535,
          -0.0501338392496109,
          -0.0329345166683197,
          -0.020426293835043907,
          -0.004278519190847874,
          0.0125139020383358,
          0.025170713663101196,
          -0.04185683652758598,
          -0.04379468411207199,
          -0.04540061950683594,
          -0.04710325226187706,
          -0.051308274269104004,
          -0.04744886979460716,
          -0.042424604296684265,
          -0.03658232092857361,
          -0.0309663824737072,
          -0.07695507258176804,
          -0.07134658843278885,
          -0.06223689019680023,
          -0.053384121507406235,
          -0.061114195734262466,
          -0.07002995908260345,
          -0.020880576223134995,
          -0.01398592907935381,
          -0.0044814725406467915,
          0.006513557396829128,
          -0.00456425454467535,
          -0.013923798687756062,
          -0.058140210807323456,
          -0.05405628681182861,
          -0.04703075438737869,
          -0.041616860777139664,
          -0.0357113778591156,
          -0.024922635406255722,
          -0.014051388017833233,
          -0.02155424654483795,
          -0.0323328971862793,
          -0.03871697187423706,
          -0.04475574940443039,
          -0.052589040249586105,
          -0.05730090290307999,
          -0.04565845802426338,
          -0.039779212325811386,
          -0.033834684640169144,
          -0.014241834171116352,
          -0.03172079846262932,
          -0.03825519233942032,
          -0.04461337625980377
         ],
         "y": [
          -0.36155956983566284,
          -0.455971896648407,
          -0.465450644493103,
          -0.25203269720077515,
          -0.6122755408287048,
          -0.607617974281311,
          -0.17721980810165405,
          -0.896957278251648,
          -0.929667592048645,
          -0.1700628250837326,
          -1.0236482620239258,
          -1.0428391695022583,
          -0.03600385785102844,
          -0.11261647194623947,
          -0.09980911761522293,
          -0.019420022144913673,
          -0.10867235064506531,
          -0.07688714563846588,
          -0.32031530141830444,
          -0.29496803879737854,
          -0.4696836471557617,
          -0.4793177843093872,
          -0.010857071727514267,
          -0.07677901536226273,
          -0.06126415729522705,
          -0.5116177201271057,
          -0.5321921110153198,
          -0.5511293411254883,
          -0.5238234400749207,
          -0.5481501221656799,
          -0.5675235986709595,
          -0.5368064641952515,
          -0.5540422201156616,
          -0.5686510801315308,
          -0.531337559223175,
          -0.5532662272453308,
          -0.5710080862045288,
          -0.48787304759025574,
          -0.5039627552032471,
          -0.5171813368797302,
          -0.5409582257270813,
          -0.5663244128227234,
          -0.5856607556343079,
          -0.5498291254043579,
          -0.5771691203117371,
          -0.5967817902565002,
          -0.5512570142745972,
          -0.569124162197113,
          -0.5841754078865051,
          -0.5510090589523315,
          -0.5760334134101868,
          -0.594412624835968,
          -0.5089881420135498,
          -0.5303831100463867,
          -0.5484917759895325,
          -0.12124979496002197,
          -0.07283052802085876,
          -0.0889454185962677,
          0.010582029819488525,
          -0.02406245842576027,
          -1.078597068786621,
          -1.0513803958892822,
          -0.8780525922775269,
          -1.0779154300689697,
          -1.0595601797103882,
          -0.9298324584960938,
          -0.5404005646705627,
          -0.5700477957725525,
          -0.5877838730812073,
          -0.5841591954231262,
          -0.5811066031455994,
          -0.5749475359916687,
          -0.6060436367988586,
          -0.6168228983879089,
          -0.609268307685852,
          -0.5993047952651978,
          -0.04186161234974861,
          -0.054042525589466095,
          -0.06809157133102417,
          -0.07854873687028885,
          -0.0844772458076477,
          -0.08917537331581116,
          -0.08976244181394577,
          -0.08673963695764542,
          -0.07957471907138824,
          -0.07202193886041641,
          -0.09324532747268677,
          -0.10254049301147461,
          -0.11155551671981812,
          -0.12062901258468628,
          -0.10193848609924316,
          -0.10710576176643372,
          -0.11051714420318604,
          -0.1095954179763794,
          -0.10683682560920715,
          -0.060593120753765106,
          -0.0697333961725235,
          -0.07314183562994003,
          -0.0742892175912857,
          -0.07416229695081711,
          -0.07082200795412064,
          -0.08258511871099472,
          -0.08574516326189041,
          -0.08723199367523193,
          -0.08274854719638824,
          -0.08859787881374359,
          -0.08665677905082703,
          -0.09309200942516327,
          -0.10210925340652466,
          -0.10945279896259308,
          -0.11197569221258163,
          -0.11251727491617203,
          -0.1102956086397171,
          -0.1049942672252655,
          -0.11038320511579514,
          -0.1133856326341629,
          -0.1125335693359375,
          -0.11018210649490356,
          -0.10125671327114105,
          -0.09269263595342636,
          -0.10643253475427628,
          -0.10842463374137878,
          -0.10947611927986145,
          -0.1048014909029007,
          -0.10961011052131653,
          -0.108540840446949,
          -0.106207475066185
         ],
         "z": [
          0.006820188369601965,
          -0.022887583822011948,
          -0.0201047882437706,
          -0.014727210626006126,
          0.29707273840904236,
          0.3015460968017578,
          0.09794741123914719,
          0.05588209629058838,
          0.08087679743766785,
          0.15363669395446777,
          0.07752832770347595,
          0.13408684730529785,
          0.25993967056274414,
          0.21969690918922424,
          0.20390181243419647,
          0.43200770020484924,
          0.3089883327484131,
          0.2682425379753113,
          0.21506597101688385,
          0.23649021983146667,
          0.3158242404460907,
          0.368333637714386,
          0.4293418228626251,
          0.48495790362358093,
          0.4786427915096283,
          0.33952879905700684,
          0.34373804926872253,
          0.3336642384529114,
          0.35687491297721863,
          0.3604483902454376,
          0.3486213684082031,
          0.36346322298049927,
          0.36231446266174316,
          0.35194891691207886,
          0.36308228969573975,
          0.36335960030555725,
          0.3496691882610321,
          0.30671900510787964,
          0.29806405305862427,
          0.29910212755203247,
          0.4401637315750122,
          0.4571501612663269,
          0.45070192217826843,
          0.43810737133026123,
          0.44829824566841125,
          0.44020575284957886,
          0.4014531373977661,
          0.40132832527160645,
          0.39525049924850464,
          0.41954123973846436,
          0.4282495975494385,
          0.4205472469329834,
          0.39452746510505676,
          0.4059315621852875,
          0.42202508449554443,
          0.4539358615875244,
          0.4789220094680786,
          0.48701730370521545,
          0.4301491975784302,
          0.4485520124435425,
          0.12138140201568604,
          0.08113378286361694,
          -0.014948725700378418,
          0.18204063177108765,
          0.14194422960281372,
          -0.0025029778480529785,
          0.29696327447891235,
          0.3186218738555908,
          0.33126264810562134,
          0.33190542459487915,
          0.33760690689086914,
          0.4318534731864929,
          0.4422163665294647,
          0.4271842837333679,
          0.4129738211631775,
          0.38956403732299805,
          0.4758068323135376,
          0.49526122212409973,
          0.5027485489845276,
          0.504974901676178,
          0.5024331212043762,
          0.5032376050949097,
          0.5083439350128174,
          0.5102967023849487,
          0.5056897401809692,
          0.4878908395767212,
          0.4879133403301239,
          0.4784608483314514,
          0.4704585075378418,
          0.46213778853416443,
          0.44441157579421997,
          0.44329938292503357,
          0.4427485764026642,
          0.4450126886367798,
          0.4468477964401245,
          0.4749515950679779,
          0.4831567704677582,
          0.48361119627952576,
          0.47793781757354736,
          0.4749647378921509,
          0.47364282608032227,
          0.48128437995910645,
          0.4882756173610687,
          0.4897891879081726,
          0.4834328293800354,
          0.48006388545036316,
          0.47986555099487305,
          0.4162134826183319,
          0.4258689880371094,
          0.4290248453617096,
          0.42885226011276245,
          0.4300543963909149,
          0.4276001453399658,
          0.4210242033004761,
          0.41764089465141296,
          0.4165516495704651,
          0.4155787229537964,
          0.4151720702648163,
          0.41543295979499817,
          0.4161323308944702,
          0.4221753776073456,
          0.42285269498825073,
          0.4236067235469818,
          0.42105650901794434,
          0.4218761920928955,
          0.4217010736465454,
          0.4204294979572296
         ]
        },
        {
         "marker": {
          "color": [
           "rgb(0, 0, 0)",
           "rgb(0, 0, 0)",
           "rgb(0, 0, 0)",
           "rgb(0, 0, 0)",
           "rgb(0, 0, 0)",
           "rgb(0, 0, 0)",
           "rgb(0, 0, 0)",
           "rgb(0, 0, 0)",
           "rgb(0, 0, 0)",
           "rgb(0, 0, 0)",
           "rgb(0, 0, 0)",
           "rgb(0, 0, 0)",
           "rgb(0, 0, 0)",
           "rgb(0, 0, 0)",
           "rgb(0, 0, 0)",
           "rgb(0, 0, 0)",
           "rgb(0, 0, 0)",
           "rgb(0, 0, 0)",
           "rgb(0, 0, 0)",
           "rgb(0, 0, 0)",
           "rgb(0, 0, 0)",
           "rgb(0, 0, 0)",
           "rgb(0, 0, 0)",
           "rgb(0, 0, 0)",
           "rgb(0, 0, 0)",
           "rgb(0, 0, 0)",
           "rgb(0, 0, 0)",
           "rgb(0, 0, 0)",
           "rgb(0, 0, 0)",
           "rgb(0, 0, 0)",
           "rgb(0, 0, 0)",
           "rgb(0, 0, 0)",
           "rgb(0, 0, 0)",
           "rgb(0, 0, 0)",
           "rgb(0, 0, 0)",
           "rgb(0, 0, 0)",
           "rgb(0, 0, 0)",
           "rgb(0, 0, 0)",
           "rgb(0, 0, 0)",
           "rgb(0, 0, 0)",
           "rgb(0, 0, 0)",
           "rgb(0, 0, 0)",
           "rgb(0, 0, 0)",
           "rgb(0, 0, 0)",
           "rgb(0, 0, 0)",
           "rgb(0, 0, 0)",
           "rgb(0, 0, 0)",
           "rgb(0, 0, 0)",
           "rgb(0, 0, 0)",
           "rgb(0, 0, 0)",
           "rgb(0, 0, 0)",
           "rgb(0, 0, 0)",
           "rgb(0, 0, 0)",
           "rgb(0, 0, 0)",
           "rgb(0, 0, 0)",
           "rgb(0, 0, 0)",
           "rgb(0, 0, 0)",
           "rgb(0, 0, 0)",
           "rgb(0, 0, 0)",
           "rgb(0, 0, 0)",
           "rgb(0, 0, 0)",
           "rgb(0, 0, 0)",
           "rgb(0, 0, 0)",
           "rgb(0, 0, 0)",
           "rgb(0, 0, 0)",
           "rgb(0, 0, 0)",
           "rgb(0, 0, 0)",
           "rgb(0, 0, 0)",
           "rgb(0, 0, 0)",
           "rgb(0, 0, 0)",
           "rgb(0, 0, 0)",
           "rgb(0, 0, 0)",
           "rgb(0, 0, 0)",
           "rgb(0, 0, 0)",
           "rgb(0, 0, 0)",
           "rgb(0, 0, 0)",
           "rgb(0, 0, 0)",
           "rgb(0, 0, 0)",
           "rgb(0, 0, 0)",
           "rgb(0, 0, 0)",
           "rgb(0, 0, 0)",
           "rgb(0, 0, 0)",
           "rgb(0, 0, 0)",
           "rgb(0, 0, 0)",
           "rgb(0, 0, 0)",
           "rgb(0, 0, 0)",
           "rgb(0, 0, 0)",
           "rgb(0, 0, 0)",
           "rgb(0, 0, 0)",
           "rgb(0, 0, 0)",
           "rgb(0, 0, 0)",
           "rgb(0, 0, 0)",
           "rgb(0, 0, 0)",
           "rgb(0, 0, 0)",
           "rgb(0, 0, 0)",
           "rgb(0, 0, 0)",
           "rgb(0, 0, 0)",
           "rgb(0, 0, 0)",
           "rgb(0, 0, 0)",
           "rgb(0, 0, 0)",
           "rgb(0, 0, 0)",
           "rgb(0, 0, 0)",
           "rgb(0, 0, 0)",
           "rgb(0, 0, 0)",
           "rgb(0, 0, 0)",
           "rgb(0, 0, 0)",
           "rgb(0, 0, 0)",
           "rgb(0, 0, 0)",
           "rgb(0, 0, 0)",
           "rgb(0, 0, 0)",
           "rgb(0, 0, 0)",
           "rgb(0, 0, 0)",
           "rgb(0, 0, 0)",
           "rgb(0, 0, 0)",
           "rgb(0, 0, 0)",
           "rgb(0, 0, 0)",
           "rgb(0, 0, 0)",
           "rgb(0, 0, 0)",
           "rgb(0, 0, 0)",
           "rgb(0, 0, 0)",
           "rgb(0, 0, 0)",
           "rgb(0, 0, 0)",
           "rgb(0, 0, 0)",
           "rgb(0, 0, 0)",
           "rgb(0, 0, 0)",
           "rgb(0, 0, 0)",
           "rgb(0, 0, 0)"
          ],
          "size": 1
         },
         "mode": "markers",
         "name": "person2",
         "scene": "scene",
         "type": "scatter3d",
         "x": [
          2.0032331943511963,
          2.063654661178589,
          1.9376657009124756,
          2.0005452632904053,
          2.169954776763916,
          1.8797788619995117,
          2.002192497253418,
          2.0644023418426514,
          1.9110296964645386,
          1.9844824075698853,
          2.096538782119751,
          1.8731712102890015,
          1.9724005460739136,
          2.0253634452819824,
          1.9402796030044556,
          1.9940181970596313,
          2.1099133491516113,
          1.8576091527938843,
          2.221649169921875,
          1.7145273685455322,
          2.0685391426086426,
          1.656367540359497,
          1.9822657108306885,
          1.9943294525146484,
          1.9361177682876587,
          1.984767198562622,
          1.962509036064148,
          1.960329532623291,
          1.9927502870559692,
          1.9770303964614868,
          1.9757540225982666,
          2.034712076187134,
          2.030137538909912,
          2.0284323692321777,
          2.015197992324829,
          2.000117540359497,
          1.9978686571121216,
          2.0263400077819824,
          2.0051732063293457,
          1.984140396118164,
          1.6645381450653076,
          1.666642665863037,
          1.673668384552002,
          1.6437835693359375,
          1.6432133913040161,
          1.6513811349868774,
          1.618739128112793,
          1.6189724206924438,
          1.6267361640930176,
          1.627882719039917,
          1.6303894519805908,
          1.6408830881118774,
          1.6807907819747925,
          1.694719910621643,
          1.7003138065338135,
          1.9533164501190186,
          1.932298183441162,
          1.9935624599456787,
          1.9205447435379028,
          2.051065683364868,
          2.070509672164917,
          2.127368688583374,
          2.0776779651641846,
          1.9160096645355225,
          1.8473331928253174,
          1.9108738899230957,
          1.963752269744873,
          1.9572994709014893,
          1.9752144813537598,
          1.9947178363800049,
          2.0241127014160156,
          1.7100101709365845,
          1.684329628944397,
          1.6633468866348267,
          1.65690279006958,
          1.6380778551101685,
          1.9115978479385376,
          1.9150041341781616,
          1.9254610538482666,
          1.938022255897522,
          1.9498661756515503,
          1.967065453529358,
          1.9795737266540527,
          1.995721459388733,
          2.0125138759613037,
          2.0251708030700684,
          1.9581431150436401,
          1.9562053680419922,
          1.954599380493164,
          1.9528967142105103,
          1.948691725730896,
          1.9525511264801025,
          1.9575754404067993,
          1.963417649269104,
          1.9690335988998413,
          1.9230449199676514,
          1.928653359413147,
          1.9377630949020386,
          1.9466159343719482,
          1.9388858079910278,
          1.9299700260162354,
          1.9791194200515747,
          1.9860141277313232,
          1.9955185651779175,
          2.0065135955810547,
          1.9954357147216797,
          1.9860762357711792,
          1.9418598413467407,
          1.9459437131881714,
          1.9529691934585571,
          1.9583830833435059,
          1.964288592338562,
          1.9750773906707764,
          1.9859485626220703,
          1.9784457683563232,
          1.9676671028137207,
          1.9612829685211182,
          1.9552443027496338,
          1.9474109411239624,
          1.9426990747451782,
          1.9543415307998657,
          1.9602208137512207,
          1.96616530418396,
          1.9857581853866577,
          1.968279242515564,
          1.961744785308838,
          1.9553866386413574
         ],
         "y": [
          1.6384403705596924,
          1.5440280437469482,
          1.534549355506897,
          1.74796724319458,
          1.3877243995666504,
          1.392382025718689,
          1.8227801322937012,
          1.103042721748352,
          1.070332407951355,
          1.829937219619751,
          0.9763517379760742,
          0.9571608304977417,
          1.963996171951294,
          1.8873835802078247,
          1.900190830230713,
          1.9805799722671509,
          1.8913276195526123,
          1.9231128692626953,
          1.6796846389770508,
          1.7050319910049438,
          1.5303163528442383,
          1.5206822156906128,
          1.989142894744873,
          1.9232209920883179,
          1.938735842704773,
          1.488382339477539,
          1.4678078889846802,
          1.4488706588745117,
          1.4761765003204346,
          1.4518499374389648,
          1.4324764013290405,
          1.4631935358047485,
          1.4459577798843384,
          1.4313489198684692,
          1.4686625003814697,
          1.4467337131500244,
          1.4289919137954712,
          1.5121269226074219,
          1.496037244796753,
          1.482818603515625,
          1.4590418338775635,
          1.4336755275726318,
          1.414339303970337,
          1.450170874595642,
          1.4228308200836182,
          1.4032182693481445,
          1.4487429857254028,
          1.4308757781982422,
          1.4158246517181396,
          1.4489909410476685,
          1.423966646194458,
          1.4055874347686768,
          1.4910118579864502,
          1.4696168899536133,
          1.4515082836151123,
          1.878750205039978,
          1.9271694421768188,
          1.9110546112060547,
          2.0105819702148438,
          1.9759374856948853,
          0.9214029312133789,
          0.9486196041107178,
          1.1219474077224731,
          0.9220845699310303,
          0.9404398202896118,
          1.0701675415039062,
          1.459599494934082,
          1.4299521446228027,
          1.4122161865234375,
          1.4158408641815186,
          1.4188933372497559,
          1.4250524044036865,
          1.3939564228057861,
          1.3831770420074463,
          1.390731692314148,
          1.4006952047348022,
          1.958138346672058,
          1.9459574222564697,
          1.931908369064331,
          1.921451210975647,
          1.915522813796997,
          1.9108246564865112,
          1.9102375507354736,
          1.9132603406906128,
          1.920425295829773,
          1.9279780387878418,
          1.906754732131958,
          1.8974595069885254,
          1.888444423675537,
          1.879370927810669,
          1.8980615139007568,
          1.8928942680358887,
          1.889482855796814,
          1.8904045820236206,
          1.8931632041931152,
          1.9394068717956543,
          1.9302666187286377,
          1.9268581867218018,
          1.9257107973098755,
          1.925837755203247,
          1.92917799949646,
          1.917414903640747,
          1.9142547845840454,
          1.912768006324768,
          1.917251467704773,
          1.9114021062850952,
          1.9133431911468506,
          1.9069080352783203,
          1.8978908061981201,
          1.8905471563339233,
          1.8880243301391602,
          1.887482762336731,
          1.8897043466567993,
          1.895005702972412,
          1.889616847038269,
          1.8866143226623535,
          1.8874664306640625,
          1.8898179531097412,
          1.8987432718276978,
          1.9073073863983154,
          1.893567442893982,
          1.8915753364562988,
          1.890523910522461,
          1.8951984643936157,
          1.8903899192810059,
          1.8914591073989868,
          1.8937925100326538
         ],
         "z": [
          2.0068202018737793,
          1.9771124124526978,
          1.9798952341079712,
          1.985272765159607,
          2.297072649002075,
          2.301546096801758,
          2.097947359085083,
          2.055881977081299,
          2.0808768272399902,
          2.1536366939544678,
          2.077528238296509,
          2.134086847305298,
          2.259939670562744,
          2.2196969985961914,
          2.203901767730713,
          2.4320077896118164,
          2.308988332748413,
          2.268242597579956,
          2.2150659561157227,
          2.236490249633789,
          2.315824270248413,
          2.368333578109741,
          2.4293417930603027,
          2.4849579334259033,
          2.478642702102661,
          2.339528799057007,
          2.343738079071045,
          2.3336641788482666,
          2.356874942779541,
          2.3604483604431152,
          2.348621368408203,
          2.3634631633758545,
          2.362314462661743,
          2.3519489765167236,
          2.3630824089050293,
          2.3633596897125244,
          2.3496692180633545,
          2.3067190647125244,
          2.2980639934539795,
          2.2991020679473877,
          2.4401636123657227,
          2.4571502208709717,
          2.450701951980591,
          2.438107490539551,
          2.448298215866089,
          2.4402058124542236,
          2.4014530181884766,
          2.4013283252716064,
          2.3952505588531494,
          2.419541358947754,
          2.4282495975494385,
          2.4205472469329834,
          2.3945274353027344,
          2.4059314727783203,
          2.422025203704834,
          2.4539358615875244,
          2.478921890258789,
          2.4870173931121826,
          2.4301490783691406,
          2.448552131652832,
          2.1213812828063965,
          2.0811338424682617,
          1.9850512742996216,
          2.1820406913757324,
          2.141944169998169,
          1.9974970817565918,
          2.2969632148742676,
          2.318621873855591,
          2.3312625885009766,
          2.3319053649902344,
          2.337606906890869,
          2.4318535327911377,
          2.442216396331787,
          2.4271843433380127,
          2.4129738807678223,
          2.389564037322998,
          2.475806713104248,
          2.4952611923217773,
          2.502748489379883,
          2.504974842071533,
          2.5024330615997314,
          2.503237724304199,
          2.5083439350128174,
          2.5102968215942383,
          2.5056896209716797,
          2.4878907203674316,
          2.4879133701324463,
          2.4784607887268066,
          2.470458507537842,
          2.4621376991271973,
          2.444411516189575,
          2.4432992935180664,
          2.442748546600342,
          2.4450125694274902,
          2.446847915649414,
          2.4749515056610107,
          2.483156681060791,
          2.4836111068725586,
          2.477937698364258,
          2.4749646186828613,
          2.4736428260803223,
          2.4812843799591064,
          2.4882755279541016,
          2.4897892475128174,
          2.4834327697753906,
          2.4800639152526855,
          2.479865550994873,
          2.4162135124206543,
          2.4258689880371094,
          2.4290249347686768,
          2.4288523197174072,
          2.4300544261932373,
          2.427600145339966,
          2.4210243225097656,
          2.4176409244537354,
          2.4165515899658203,
          2.415578842163086,
          2.4151721000671387,
          2.415432929992676,
          2.4161324501037598,
          2.422175407409668,
          2.4228527545928955,
          2.4236066341400146,
          2.4210565090179443,
          2.4218761920928955,
          2.421700954437256,
          2.4204294681549072
         ]
        }
       ],
       "layout": {
        "annotations": [
         {
          "font": {
           "size": 16
          },
          "showarrow": false,
          "text": "Pointcloud",
          "x": 0.5,
          "xanchor": "center",
          "xref": "paper",
          "y": 1,
          "yanchor": "bottom",
          "yref": "paper"
         }
        ],
        "autosize": false,
        "height": 800,
        "scene": {
         "aspectmode": "cube",
         "aspectratio": {
          "x": 1,
          "y": 1,
          "z": 1
         },
         "camera": {
          "up": {
           "x": 0,
           "y": 1,
           "z": 0
          }
         },
         "domain": {
          "x": [
           0,
           1
          ],
          "y": [
           0,
           1
          ]
         },
         "xaxis": {
          "backgroundcolor": "#fff",
          "range": [
           -1.165540337562561,
           3.012817859649658
          ],
          "showaxeslabels": false,
          "showgrid": false,
          "showline": false,
          "showticklabels": false,
          "ticks": "",
          "type": "linear",
          "zeroline": false
         },
         "yaxis": {
          "backgroundcolor": "#fff",
          "range": [
           -1.425208330154419,
           2.7531497478485107
          ],
          "showaxeslabels": false,
          "showgrid": false,
          "showline": false,
          "showticklabels": false,
          "ticks": "",
          "type": "linear",
          "zeroline": false
         },
         "zaxis": {
          "backgroundcolor": "#fff",
          "range": [
           -0.7213147878646851,
           3.457043170928955
          ],
          "showaxeslabels": false,
          "showgrid": false,
          "showline": false,
          "showticklabels": false,
          "ticks": "",
          "type": "linear",
          "zeroline": false
         }
        },
        "template": {
         "data": {
          "bar": [
           {
            "error_x": {
             "color": "#2a3f5f"
            },
            "error_y": {
             "color": "#2a3f5f"
            },
            "marker": {
             "line": {
              "color": "#E5ECF6",
              "width": 0.5
             },
             "pattern": {
              "fillmode": "overlay",
              "size": 10,
              "solidity": 0.2
             }
            },
            "type": "bar"
           }
          ],
          "barpolar": [
           {
            "marker": {
             "line": {
              "color": "#E5ECF6",
              "width": 0.5
             },
             "pattern": {
              "fillmode": "overlay",
              "size": 10,
              "solidity": 0.2
             }
            },
            "type": "barpolar"
           }
          ],
          "carpet": [
           {
            "aaxis": {
             "endlinecolor": "#2a3f5f",
             "gridcolor": "white",
             "linecolor": "white",
             "minorgridcolor": "white",
             "startlinecolor": "#2a3f5f"
            },
            "baxis": {
             "endlinecolor": "#2a3f5f",
             "gridcolor": "white",
             "linecolor": "white",
             "minorgridcolor": "white",
             "startlinecolor": "#2a3f5f"
            },
            "type": "carpet"
           }
          ],
          "choropleth": [
           {
            "colorbar": {
             "outlinewidth": 0,
             "ticks": ""
            },
            "type": "choropleth"
           }
          ],
          "contour": [
           {
            "colorbar": {
             "outlinewidth": 0,
             "ticks": ""
            },
            "colorscale": [
             [
              0,
              "#0d0887"
             ],
             [
              0.1111111111111111,
              "#46039f"
             ],
             [
              0.2222222222222222,
              "#7201a8"
             ],
             [
              0.3333333333333333,
              "#9c179e"
             ],
             [
              0.4444444444444444,
              "#bd3786"
             ],
             [
              0.5555555555555556,
              "#d8576b"
             ],
             [
              0.6666666666666666,
              "#ed7953"
             ],
             [
              0.7777777777777778,
              "#fb9f3a"
             ],
             [
              0.8888888888888888,
              "#fdca26"
             ],
             [
              1,
              "#f0f921"
             ]
            ],
            "type": "contour"
           }
          ],
          "contourcarpet": [
           {
            "colorbar": {
             "outlinewidth": 0,
             "ticks": ""
            },
            "type": "contourcarpet"
           }
          ],
          "heatmap": [
           {
            "colorbar": {
             "outlinewidth": 0,
             "ticks": ""
            },
            "colorscale": [
             [
              0,
              "#0d0887"
             ],
             [
              0.1111111111111111,
              "#46039f"
             ],
             [
              0.2222222222222222,
              "#7201a8"
             ],
             [
              0.3333333333333333,
              "#9c179e"
             ],
             [
              0.4444444444444444,
              "#bd3786"
             ],
             [
              0.5555555555555556,
              "#d8576b"
             ],
             [
              0.6666666666666666,
              "#ed7953"
             ],
             [
              0.7777777777777778,
              "#fb9f3a"
             ],
             [
              0.8888888888888888,
              "#fdca26"
             ],
             [
              1,
              "#f0f921"
             ]
            ],
            "type": "heatmap"
           }
          ],
          "heatmapgl": [
           {
            "colorbar": {
             "outlinewidth": 0,
             "ticks": ""
            },
            "colorscale": [
             [
              0,
              "#0d0887"
             ],
             [
              0.1111111111111111,
              "#46039f"
             ],
             [
              0.2222222222222222,
              "#7201a8"
             ],
             [
              0.3333333333333333,
              "#9c179e"
             ],
             [
              0.4444444444444444,
              "#bd3786"
             ],
             [
              0.5555555555555556,
              "#d8576b"
             ],
             [
              0.6666666666666666,
              "#ed7953"
             ],
             [
              0.7777777777777778,
              "#fb9f3a"
             ],
             [
              0.8888888888888888,
              "#fdca26"
             ],
             [
              1,
              "#f0f921"
             ]
            ],
            "type": "heatmapgl"
           }
          ],
          "histogram": [
           {
            "marker": {
             "pattern": {
              "fillmode": "overlay",
              "size": 10,
              "solidity": 0.2
             }
            },
            "type": "histogram"
           }
          ],
          "histogram2d": [
           {
            "colorbar": {
             "outlinewidth": 0,
             "ticks": ""
            },
            "colorscale": [
             [
              0,
              "#0d0887"
             ],
             [
              0.1111111111111111,
              "#46039f"
             ],
             [
              0.2222222222222222,
              "#7201a8"
             ],
             [
              0.3333333333333333,
              "#9c179e"
             ],
             [
              0.4444444444444444,
              "#bd3786"
             ],
             [
              0.5555555555555556,
              "#d8576b"
             ],
             [
              0.6666666666666666,
              "#ed7953"
             ],
             [
              0.7777777777777778,
              "#fb9f3a"
             ],
             [
              0.8888888888888888,
              "#fdca26"
             ],
             [
              1,
              "#f0f921"
             ]
            ],
            "type": "histogram2d"
           }
          ],
          "histogram2dcontour": [
           {
            "colorbar": {
             "outlinewidth": 0,
             "ticks": ""
            },
            "colorscale": [
             [
              0,
              "#0d0887"
             ],
             [
              0.1111111111111111,
              "#46039f"
             ],
             [
              0.2222222222222222,
              "#7201a8"
             ],
             [
              0.3333333333333333,
              "#9c179e"
             ],
             [
              0.4444444444444444,
              "#bd3786"
             ],
             [
              0.5555555555555556,
              "#d8576b"
             ],
             [
              0.6666666666666666,
              "#ed7953"
             ],
             [
              0.7777777777777778,
              "#fb9f3a"
             ],
             [
              0.8888888888888888,
              "#fdca26"
             ],
             [
              1,
              "#f0f921"
             ]
            ],
            "type": "histogram2dcontour"
           }
          ],
          "mesh3d": [
           {
            "colorbar": {
             "outlinewidth": 0,
             "ticks": ""
            },
            "type": "mesh3d"
           }
          ],
          "parcoords": [
           {
            "line": {
             "colorbar": {
              "outlinewidth": 0,
              "ticks": ""
             }
            },
            "type": "parcoords"
           }
          ],
          "pie": [
           {
            "automargin": true,
            "type": "pie"
           }
          ],
          "scatter": [
           {
            "marker": {
             "colorbar": {
              "outlinewidth": 0,
              "ticks": ""
             }
            },
            "type": "scatter"
           }
          ],
          "scatter3d": [
           {
            "line": {
             "colorbar": {
              "outlinewidth": 0,
              "ticks": ""
             }
            },
            "marker": {
             "colorbar": {
              "outlinewidth": 0,
              "ticks": ""
             }
            },
            "type": "scatter3d"
           }
          ],
          "scattercarpet": [
           {
            "marker": {
             "colorbar": {
              "outlinewidth": 0,
              "ticks": ""
             }
            },
            "type": "scattercarpet"
           }
          ],
          "scattergeo": [
           {
            "marker": {
             "colorbar": {
              "outlinewidth": 0,
              "ticks": ""
             }
            },
            "type": "scattergeo"
           }
          ],
          "scattergl": [
           {
            "marker": {
             "colorbar": {
              "outlinewidth": 0,
              "ticks": ""
             }
            },
            "type": "scattergl"
           }
          ],
          "scattermapbox": [
           {
            "marker": {
             "colorbar": {
              "outlinewidth": 0,
              "ticks": ""
             }
            },
            "type": "scattermapbox"
           }
          ],
          "scatterpolar": [
           {
            "marker": {
             "colorbar": {
              "outlinewidth": 0,
              "ticks": ""
             }
            },
            "type": "scatterpolar"
           }
          ],
          "scatterpolargl": [
           {
            "marker": {
             "colorbar": {
              "outlinewidth": 0,
              "ticks": ""
             }
            },
            "type": "scatterpolargl"
           }
          ],
          "scatterternary": [
           {
            "marker": {
             "colorbar": {
              "outlinewidth": 0,
              "ticks": ""
             }
            },
            "type": "scatterternary"
           }
          ],
          "surface": [
           {
            "colorbar": {
             "outlinewidth": 0,
             "ticks": ""
            },
            "colorscale": [
             [
              0,
              "#0d0887"
             ],
             [
              0.1111111111111111,
              "#46039f"
             ],
             [
              0.2222222222222222,
              "#7201a8"
             ],
             [
              0.3333333333333333,
              "#9c179e"
             ],
             [
              0.4444444444444444,
              "#bd3786"
             ],
             [
              0.5555555555555556,
              "#d8576b"
             ],
             [
              0.6666666666666666,
              "#ed7953"
             ],
             [
              0.7777777777777778,
              "#fb9f3a"
             ],
             [
              0.8888888888888888,
              "#fdca26"
             ],
             [
              1,
              "#f0f921"
             ]
            ],
            "type": "surface"
           }
          ],
          "table": [
           {
            "cells": {
             "fill": {
              "color": "#EBF0F8"
             },
             "line": {
              "color": "white"
             }
            },
            "header": {
             "fill": {
              "color": "#C8D4E3"
             },
             "line": {
              "color": "white"
             }
            },
            "type": "table"
           }
          ]
         },
         "layout": {
          "annotationdefaults": {
           "arrowcolor": "#2a3f5f",
           "arrowhead": 0,
           "arrowwidth": 1
          },
          "autotypenumbers": "strict",
          "coloraxis": {
           "colorbar": {
            "outlinewidth": 0,
            "ticks": ""
           }
          },
          "colorscale": {
           "diverging": [
            [
             0,
             "#8e0152"
            ],
            [
             0.1,
             "#c51b7d"
            ],
            [
             0.2,
             "#de77ae"
            ],
            [
             0.3,
             "#f1b6da"
            ],
            [
             0.4,
             "#fde0ef"
            ],
            [
             0.5,
             "#f7f7f7"
            ],
            [
             0.6,
             "#e6f5d0"
            ],
            [
             0.7,
             "#b8e186"
            ],
            [
             0.8,
             "#7fbc41"
            ],
            [
             0.9,
             "#4d9221"
            ],
            [
             1,
             "#276419"
            ]
           ],
           "sequential": [
            [
             0,
             "#0d0887"
            ],
            [
             0.1111111111111111,
             "#46039f"
            ],
            [
             0.2222222222222222,
             "#7201a8"
            ],
            [
             0.3333333333333333,
             "#9c179e"
            ],
            [
             0.4444444444444444,
             "#bd3786"
            ],
            [
             0.5555555555555556,
             "#d8576b"
            ],
            [
             0.6666666666666666,
             "#ed7953"
            ],
            [
             0.7777777777777778,
             "#fb9f3a"
            ],
            [
             0.8888888888888888,
             "#fdca26"
            ],
            [
             1,
             "#f0f921"
            ]
           ],
           "sequentialminus": [
            [
             0,
             "#0d0887"
            ],
            [
             0.1111111111111111,
             "#46039f"
            ],
            [
             0.2222222222222222,
             "#7201a8"
            ],
            [
             0.3333333333333333,
             "#9c179e"
            ],
            [
             0.4444444444444444,
             "#bd3786"
            ],
            [
             0.5555555555555556,
             "#d8576b"
            ],
            [
             0.6666666666666666,
             "#ed7953"
            ],
            [
             0.7777777777777778,
             "#fb9f3a"
            ],
            [
             0.8888888888888888,
             "#fdca26"
            ],
            [
             1,
             "#f0f921"
            ]
           ]
          },
          "colorway": [
           "#636efa",
           "#EF553B",
           "#00cc96",
           "#ab63fa",
           "#FFA15A",
           "#19d3f3",
           "#FF6692",
           "#B6E880",
           "#FF97FF",
           "#FECB52"
          ],
          "font": {
           "color": "#2a3f5f"
          },
          "geo": {
           "bgcolor": "white",
           "lakecolor": "white",
           "landcolor": "#E5ECF6",
           "showlakes": true,
           "showland": true,
           "subunitcolor": "white"
          },
          "hoverlabel": {
           "align": "left"
          },
          "hovermode": "closest",
          "mapbox": {
           "style": "light"
          },
          "paper_bgcolor": "white",
          "plot_bgcolor": "#E5ECF6",
          "polar": {
           "angularaxis": {
            "gridcolor": "white",
            "linecolor": "white",
            "ticks": ""
           },
           "bgcolor": "#E5ECF6",
           "radialaxis": {
            "gridcolor": "white",
            "linecolor": "white",
            "ticks": ""
           }
          },
          "scene": {
           "xaxis": {
            "backgroundcolor": "#E5ECF6",
            "gridcolor": "white",
            "gridwidth": 2,
            "linecolor": "white",
            "showbackground": true,
            "ticks": "",
            "zerolinecolor": "white"
           },
           "yaxis": {
            "backgroundcolor": "#E5ECF6",
            "gridcolor": "white",
            "gridwidth": 2,
            "linecolor": "white",
            "showbackground": true,
            "ticks": "",
            "zerolinecolor": "white"
           },
           "zaxis": {
            "backgroundcolor": "#E5ECF6",
            "gridcolor": "white",
            "gridwidth": 2,
            "linecolor": "white",
            "showbackground": true,
            "ticks": "",
            "zerolinecolor": "white"
           }
          },
          "shapedefaults": {
           "line": {
            "color": "#2a3f5f"
           }
          },
          "ternary": {
           "aaxis": {
            "gridcolor": "white",
            "linecolor": "white",
            "ticks": ""
           },
           "baxis": {
            "gridcolor": "white",
            "linecolor": "white",
            "ticks": ""
           },
           "bgcolor": "#E5ECF6",
           "caxis": {
            "gridcolor": "white",
            "linecolor": "white",
            "ticks": ""
           }
          },
          "title": {
           "x": 0.05
          },
          "xaxis": {
           "automargin": true,
           "gridcolor": "white",
           "linecolor": "white",
           "ticks": "",
           "title": {
            "standoff": 15
           },
           "zerolinecolor": "white",
           "zerolinewidth": 2
          },
          "yaxis": {
           "automargin": true,
           "gridcolor": "white",
           "linecolor": "white",
           "ticks": "",
           "title": {
            "standoff": 15
           },
           "zerolinecolor": "white",
           "zerolinewidth": 2
          }
         }
        },
        "width": 800
       }
      },
      "image/png": "[encoded data removed]",
      "text/html": [
       "<div>                            <div id=\"b62dcf0a-a598-493c-ab40-79aec4d67806\" class=\"plotly-graph-div\" style=\"height:800px; width:800px;\"></div>            <script type=\"text/javascript\">                require([\"plotly\"], function(Plotly) {                    window.PLOTLYENV=window.PLOTLYENV || {};                                    if (document.getElementById(\"b62dcf0a-a598-493c-ab40-79aec4d67806\")) {                    Plotly.newPlot(                        \"b62dcf0a-a598-493c-ab40-79aec4d67806\",                        [{\"marker\":{\"color\":[\"rgb(166, 135, 16)\",\"rgb(91, 160, 57)\",\"rgb(203, 92, 19)\",\"rgb(54, 58, 78)\",\"rgb(37, 104, 91)\",\"rgb(4, 246, 164)\",\"rgb(92, 11, 30)\",\"rgb(17, 229, 113)\",\"rgb(17, 102, 143)\",\"rgb(63, 215, 73)\",\"rgb(54, 54, 82)\",\"rgb(14, 204, 107)\",\"rgb(230, 159, 239)\",\"rgb(164, 120, 225)\",\"rgb(47, 6, 111)\",\"rgb(145, 23, 172)\",\"rgb(252, 112, 45)\",\"rgb(229, 236, 138)\",\"rgb(55, 4, 96)\",\"rgb(210, 121, 3)\",\"rgb(252, 240, 146)\",\"rgb(65, 52, 130)\",\"rgb(117, 84, 149)\",\"rgb(202, 246, 215)\",\"rgb(186, 178, 56)\",\"rgb(229, 109, 187)\",\"rgb(249, 167, 117)\",\"rgb(244, 31, 16)\",\"rgb(1, 17, 160)\",\"rgb(17, 93, 194)\",\"rgb(81, 118, 77)\",\"rgb(16, 114, 201)\",\"rgb(229, 109, 183)\",\"rgb(108, 57, 146)\",\"rgb(22, 247, 124)\",\"rgb(252, 168, 80)\",\"rgb(98, 75, 14)\",\"rgb(67, 193, 205)\",\"rgb(18, 220, 180)\",\"rgb(42, 209, 115)\",\"rgb(137, 175, 55)\",\"rgb(187, 177, 227)\",\"rgb(236, 202, 35)\",\"rgb(133, 237, 92)\",\"rgb(11, 52, 253)\",\"rgb(98, 55, 50)\",\"rgb(144, 31, 252)\",\"rgb(191, 115, 182)\",\"rgb(151, 51, 55)\",\"rgb(158, 121, 170)\",\"rgb(112, 6, 31)\",\"rgb(186, 130, 14)\",\"rgb(129, 210, 206)\",\"rgb(182, 194, 86)\",\"rgb(114, 145, 39)\",\"rgb(28, 34, 72)\",\"rgb(73, 124, 83)\",\"rgb(125, 125, 35)\",\"rgb(12, 140, 115)\",\"rgb(64, 4, 241)\",\"rgb(225, 243, 32)\",\"rgb(65, 96, 3)\",\"rgb(104, 3, 86)\",\"rgb(126, 26, 36)\",\"rgb(115, 225, 254)\",\"rgb(88, 112, 189)\",\"rgb(67, 60, 7)\",\"rgb(193, 36, 83)\",\"rgb(48, 54, 85)\",\"rgb(53, 170, 146)\",\"rgb(21, 188, 226)\",\"rgb(39, 174, 81)\",\"rgb(13, 212, 51)\",\"rgb(38, 21, 95)\",\"rgb(2, 8, 83)\",\"rgb(89, 176, 142)\",\"rgb(104, 52, 60)\",\"rgb(69, 119, 212)\",\"rgb(203, 103, 59)\",\"rgb(190, 171, 91)\",\"rgb(180, 113, 49)\",\"rgb(141, 164, 245)\",\"rgb(201, 208, 18)\",\"rgb(216, 177, 252)\",\"rgb(49, 132, 49)\",\"rgb(68, 72, 79)\",\"rgb(128, 112, 104)\",\"rgb(43, 59, 97)\",\"rgb(72, 133, 81)\",\"rgb(104, 197, 226)\",\"rgb(99, 31, 30)\",\"rgb(163, 105, 21)\",\"rgb(184, 45, 1)\",\"rgb(157, 45, 148)\",\"rgb(166, 238, 115)\",\"rgb(36, 128, 235)\",\"rgb(71, 207, 131)\",\"rgb(94, 185, 27)\",\"rgb(179, 197, 194)\",\"rgb(221, 242, 203)\",\"rgb(126, 206, 145)\",\"rgb(158, 1, 25)\",\"rgb(7, 32, 35)\",\"rgb(69, 174, 161)\",\"rgb(107, 213, 83)\",\"rgb(249, 134, 41)\",\"rgb(18, 209, 18)\",\"rgb(230, 203, 32)\",\"rgb(127, 138, 176)\",\"rgb(41, 170, 77)\",\"rgb(58, 155, 166)\",\"rgb(206, 89, 254)\",\"rgb(195, 195, 93)\",\"rgb(167, 148, 178)\",\"rgb(200, 10, 205)\",\"rgb(168, 3, 199)\",\"rgb(209, 189, 57)\",\"rgb(29, 234, 38)\",\"rgb(25, 191, 56)\",\"rgb(80, 137, 149)\",\"rgb(93, 117, 88)\",\"rgb(40, 242, 168)\",\"rgb(253, 234, 54)\",\"rgb(205, 193, 174)\",\"rgb(219, 140, 75)\",\"rgb(65, 34, 163)\",\"rgb(248, 150, 91)\"],\"size\":1},\"mode\":\"markers\",\"name\":\"person\",\"scene\":\"scene\",\"type\":\"scatter3d\",\"x\":[0.0032331962138414383,0.06365456432104111,-0.06233426183462143,0.0005451906472444534,0.16995474696159363,-0.1202211081981659,0.0021925815381109715,0.06440235674381256,-0.08897034078836441,-0.015517637133598328,0.09653881192207336,-0.12682878971099854,-0.027599453926086426,0.02536335214972496,-0.05972042307257652,-0.00598178431391716,0.10991345345973969,-0.14239086210727692,0.22164922952651978,-0.28547269105911255,0.06853918731212616,-0.3436325192451477,-0.01773429475724697,-0.005670493468642235,-0.06388218700885773,-0.01523282378911972,-0.037490952759981155,-0.03967050462961197,-0.007249675691127777,-0.022969581186771393,-0.02424594759941101,0.03471200913190842,0.03013758361339569,0.02843244932591915,0.01519797369837761,0.00011754222214221954,-0.002131299115717411,0.026340007781982422,0.005173128098249435,-0.01585964486002922,-0.33546182513237,-0.3333572745323181,-0.32633161544799805,-0.3562163710594177,-0.3567865788936615,-0.34861883521080017,-0.38126084208488464,-0.38102754950523376,-0.3732638359069824,-0.3721173107624054,-0.36961060762405396,-0.35911691188812256,-0.3192092180252075,-0.30528005957603455,-0.2996862530708313,-0.04668358340859413,-0.0677017867565155,-0.0064375195652246475,-0.07945527881383896,0.051065683364868164,0.0705096572637558,0.1273687481880188,0.07767806947231293,-0.08399036526679993,-0.15266674757003784,-0.0891261175274849,-0.03624767065048218,-0.04270051792263985,-0.024785557761788368,-0.005282178521156311,0.024112612009048462,-0.2899898290634155,-0.315670371055603,-0.33665311336517334,-0.3430972099304199,-0.36192214488983154,-0.08840212225914001,-0.08499591052532196,-0.07453896105289459,-0.061977725476026535,-0.0501338392496109,-0.0329345166683197,-0.020426293835043907,-0.004278519190847874,0.0125139020383358,0.025170713663101196,-0.04185683652758598,-0.04379468411207199,-0.04540061950683594,-0.04710325226187706,-0.051308274269104004,-0.04744886979460716,-0.042424604296684265,-0.03658232092857361,-0.0309663824737072,-0.07695507258176804,-0.07134658843278885,-0.06223689019680023,-0.053384121507406235,-0.061114195734262466,-0.07002995908260345,-0.020880576223134995,-0.01398592907935381,-0.0044814725406467915,0.006513557396829128,-0.00456425454467535,-0.013923798687756062,-0.058140210807323456,-0.05405628681182861,-0.04703075438737869,-0.041616860777139664,-0.0357113778591156,-0.024922635406255722,-0.014051388017833233,-0.02155424654483795,-0.0323328971862793,-0.03871697187423706,-0.04475574940443039,-0.052589040249586105,-0.05730090290307999,-0.04565845802426338,-0.039779212325811386,-0.033834684640169144,-0.014241834171116352,-0.03172079846262932,-0.03825519233942032,-0.04461337625980377],\"y\":[-0.36155956983566284,-0.455971896648407,-0.465450644493103,-0.25203269720077515,-0.6122755408287048,-0.607617974281311,-0.17721980810165405,-0.896957278251648,-0.929667592048645,-0.1700628250837326,-1.0236482620239258,-1.0428391695022583,-0.03600385785102844,-0.11261647194623947,-0.09980911761522293,-0.019420022144913673,-0.10867235064506531,-0.07688714563846588,-0.32031530141830444,-0.29496803879737854,-0.4696836471557617,-0.4793177843093872,-0.010857071727514267,-0.07677901536226273,-0.06126415729522705,-0.5116177201271057,-0.5321921110153198,-0.5511293411254883,-0.5238234400749207,-0.5481501221656799,-0.5675235986709595,-0.5368064641952515,-0.5540422201156616,-0.5686510801315308,-0.531337559223175,-0.5532662272453308,-0.5710080862045288,-0.48787304759025574,-0.5039627552032471,-0.5171813368797302,-0.5409582257270813,-0.5663244128227234,-0.5856607556343079,-0.5498291254043579,-0.5771691203117371,-0.5967817902565002,-0.5512570142745972,-0.569124162197113,-0.5841754078865051,-0.5510090589523315,-0.5760334134101868,-0.594412624835968,-0.5089881420135498,-0.5303831100463867,-0.5484917759895325,-0.12124979496002197,-0.07283052802085876,-0.0889454185962677,0.010582029819488525,-0.02406245842576027,-1.078597068786621,-1.0513803958892822,-0.8780525922775269,-1.0779154300689697,-1.0595601797103882,-0.9298324584960938,-0.5404005646705627,-0.5700477957725525,-0.5877838730812073,-0.5841591954231262,-0.5811066031455994,-0.5749475359916687,-0.6060436367988586,-0.6168228983879089,-0.609268307685852,-0.5993047952651978,-0.04186161234974861,-0.054042525589466095,-0.06809157133102417,-0.07854873687028885,-0.0844772458076477,-0.08917537331581116,-0.08976244181394577,-0.08673963695764542,-0.07957471907138824,-0.07202193886041641,-0.09324532747268677,-0.10254049301147461,-0.11155551671981812,-0.12062901258468628,-0.10193848609924316,-0.10710576176643372,-0.11051714420318604,-0.1095954179763794,-0.10683682560920715,-0.060593120753765106,-0.0697333961725235,-0.07314183562994003,-0.0742892175912857,-0.07416229695081711,-0.07082200795412064,-0.08258511871099472,-0.08574516326189041,-0.08723199367523193,-0.08274854719638824,-0.08859787881374359,-0.08665677905082703,-0.09309200942516327,-0.10210925340652466,-0.10945279896259308,-0.11197569221258163,-0.11251727491617203,-0.1102956086397171,-0.1049942672252655,-0.11038320511579514,-0.1133856326341629,-0.1125335693359375,-0.11018210649490356,-0.10125671327114105,-0.09269263595342636,-0.10643253475427628,-0.10842463374137878,-0.10947611927986145,-0.1048014909029007,-0.10961011052131653,-0.108540840446949,-0.106207475066185],\"z\":[0.006820188369601965,-0.022887583822011948,-0.0201047882437706,-0.014727210626006126,0.29707273840904236,0.3015460968017578,0.09794741123914719,0.05588209629058838,0.08087679743766785,0.15363669395446777,0.07752832770347595,0.13408684730529785,0.25993967056274414,0.21969690918922424,0.20390181243419647,0.43200770020484924,0.3089883327484131,0.2682425379753113,0.21506597101688385,0.23649021983146667,0.3158242404460907,0.368333637714386,0.4293418228626251,0.48495790362358093,0.4786427915096283,0.33952879905700684,0.34373804926872253,0.3336642384529114,0.35687491297721863,0.3604483902454376,0.3486213684082031,0.36346322298049927,0.36231446266174316,0.35194891691207886,0.36308228969573975,0.36335960030555725,0.3496691882610321,0.30671900510787964,0.29806405305862427,0.29910212755203247,0.4401637315750122,0.4571501612663269,0.45070192217826843,0.43810737133026123,0.44829824566841125,0.44020575284957886,0.4014531373977661,0.40132832527160645,0.39525049924850464,0.41954123973846436,0.4282495975494385,0.4205472469329834,0.39452746510505676,0.4059315621852875,0.42202508449554443,0.4539358615875244,0.4789220094680786,0.48701730370521545,0.4301491975784302,0.4485520124435425,0.12138140201568604,0.08113378286361694,-0.014948725700378418,0.18204063177108765,0.14194422960281372,-0.0025029778480529785,0.29696327447891235,0.3186218738555908,0.33126264810562134,0.33190542459487915,0.33760690689086914,0.4318534731864929,0.4422163665294647,0.4271842837333679,0.4129738211631775,0.38956403732299805,0.4758068323135376,0.49526122212409973,0.5027485489845276,0.504974901676178,0.5024331212043762,0.5032376050949097,0.5083439350128174,0.5102967023849487,0.5056897401809692,0.4878908395767212,0.4879133403301239,0.4784608483314514,0.4704585075378418,0.46213778853416443,0.44441157579421997,0.44329938292503357,0.4427485764026642,0.4450126886367798,0.4468477964401245,0.4749515950679779,0.4831567704677582,0.48361119627952576,0.47793781757354736,0.4749647378921509,0.47364282608032227,0.48128437995910645,0.4882756173610687,0.4897891879081726,0.4834328293800354,0.48006388545036316,0.47986555099487305,0.4162134826183319,0.4258689880371094,0.4290248453617096,0.42885226011276245,0.4300543963909149,0.4276001453399658,0.4210242033004761,0.41764089465141296,0.4165516495704651,0.4155787229537964,0.4151720702648163,0.41543295979499817,0.4161323308944702,0.4221753776073456,0.42285269498825073,0.4236067235469818,0.42105650901794434,0.4218761920928955,0.4217010736465454,0.4204294979572296]},{\"marker\":{\"color\":[\"rgb(0, 0, 0)\",\"rgb(0, 0, 0)\",\"rgb(0, 0, 0)\",\"rgb(0, 0, 0)\",\"rgb(0, 0, 0)\",\"rgb(0, 0, 0)\",\"rgb(0, 0, 0)\",\"rgb(0, 0, 0)\",\"rgb(0, 0, 0)\",\"rgb(0, 0, 0)\",\"rgb(0, 0, 0)\",\"rgb(0, 0, 0)\",\"rgb(0, 0, 0)\",\"rgb(0, 0, 0)\",\"rgb(0, 0, 0)\",\"rgb(0, 0, 0)\",\"rgb(0, 0, 0)\",\"rgb(0, 0, 0)\",\"rgb(0, 0, 0)\",\"rgb(0, 0, 0)\",\"rgb(0, 0, 0)\",\"rgb(0, 0, 0)\",\"rgb(0, 0, 0)\",\"rgb(0, 0, 0)\",\"rgb(0, 0, 0)\",\"rgb(0, 0, 0)\",\"rgb(0, 0, 0)\",\"rgb(0, 0, 0)\",\"rgb(0, 0, 0)\",\"rgb(0, 0, 0)\",\"rgb(0, 0, 0)\",\"rgb(0, 0, 0)\",\"rgb(0, 0, 0)\",\"rgb(0, 0, 0)\",\"rgb(0, 0, 0)\",\"rgb(0, 0, 0)\",\"rgb(0, 0, 0)\",\"rgb(0, 0, 0)\",\"rgb(0, 0, 0)\",\"rgb(0, 0, 0)\",\"rgb(0, 0, 0)\",\"rgb(0, 0, 0)\",\"rgb(0, 0, 0)\",\"rgb(0, 0, 0)\",\"rgb(0, 0, 0)\",\"rgb(0, 0, 0)\",\"rgb(0, 0, 0)\",\"rgb(0, 0, 0)\",\"rgb(0, 0, 0)\",\"rgb(0, 0, 0)\",\"rgb(0, 0, 0)\",\"rgb(0, 0, 0)\",\"rgb(0, 0, 0)\",\"rgb(0, 0, 0)\",\"rgb(0, 0, 0)\",\"rgb(0, 0, 0)\",\"rgb(0, 0, 0)\",\"rgb(0, 0, 0)\",\"rgb(0, 0, 0)\",\"rgb(0, 0, 0)\",\"rgb(0, 0, 0)\",\"rgb(0, 0, 0)\",\"rgb(0, 0, 0)\",\"rgb(0, 0, 0)\",\"rgb(0, 0, 0)\",\"rgb(0, 0, 0)\",\"rgb(0, 0, 0)\",\"rgb(0, 0, 0)\",\"rgb(0, 0, 0)\",\"rgb(0, 0, 0)\",\"rgb(0, 0, 0)\",\"rgb(0, 0, 0)\",\"rgb(0, 0, 0)\",\"rgb(0, 0, 0)\",\"rgb(0, 0, 0)\",\"rgb(0, 0, 0)\",\"rgb(0, 0, 0)\",\"rgb(0, 0, 0)\",\"rgb(0, 0, 0)\",\"rgb(0, 0, 0)\",\"rgb(0, 0, 0)\",\"rgb(0, 0, 0)\",\"rgb(0, 0, 0)\",\"rgb(0, 0, 0)\",\"rgb(0, 0, 0)\",\"rgb(0, 0, 0)\",\"rgb(0, 0, 0)\",\"rgb(0, 0, 0)\",\"rgb(0, 0, 0)\",\"rgb(0, 0, 0)\",\"rgb(0, 0, 0)\",\"rgb(0, 0, 0)\",\"rgb(0, 0, 0)\",\"rgb(0, 0, 0)\",\"rgb(0, 0, 0)\",\"rgb(0, 0, 0)\",\"rgb(0, 0, 0)\",\"rgb(0, 0, 0)\",\"rgb(0, 0, 0)\",\"rgb(0, 0, 0)\",\"rgb(0, 0, 0)\",\"rgb(0, 0, 0)\",\"rgb(0, 0, 0)\",\"rgb(0, 0, 0)\",\"rgb(0, 0, 0)\",\"rgb(0, 0, 0)\",\"rgb(0, 0, 0)\",\"rgb(0, 0, 0)\",\"rgb(0, 0, 0)\",\"rgb(0, 0, 0)\",\"rgb(0, 0, 0)\",\"rgb(0, 0, 0)\",\"rgb(0, 0, 0)\",\"rgb(0, 0, 0)\",\"rgb(0, 0, 0)\",\"rgb(0, 0, 0)\",\"rgb(0, 0, 0)\",\"rgb(0, 0, 0)\",\"rgb(0, 0, 0)\",\"rgb(0, 0, 0)\",\"rgb(0, 0, 0)\",\"rgb(0, 0, 0)\",\"rgb(0, 0, 0)\",\"rgb(0, 0, 0)\",\"rgb(0, 0, 0)\",\"rgb(0, 0, 0)\",\"rgb(0, 0, 0)\"],\"size\":1},\"mode\":\"markers\",\"name\":\"person2\",\"scene\":\"scene\",\"type\":\"scatter3d\",\"x\":[2.0032331943511963,2.063654661178589,1.9376657009124756,2.0005452632904053,2.169954776763916,1.8797788619995117,2.002192497253418,2.0644023418426514,1.9110296964645386,1.9844824075698853,2.096538782119751,1.8731712102890015,1.9724005460739136,2.0253634452819824,1.9402796030044556,1.9940181970596313,2.1099133491516113,1.8576091527938843,2.221649169921875,1.7145273685455322,2.0685391426086426,1.656367540359497,1.9822657108306885,1.9943294525146484,1.9361177682876587,1.984767198562622,1.962509036064148,1.960329532623291,1.9927502870559692,1.9770303964614868,1.9757540225982666,2.034712076187134,2.030137538909912,2.0284323692321777,2.015197992324829,2.000117540359497,1.9978686571121216,2.0263400077819824,2.0051732063293457,1.984140396118164,1.6645381450653076,1.666642665863037,1.673668384552002,1.6437835693359375,1.6432133913040161,1.6513811349868774,1.618739128112793,1.6189724206924438,1.6267361640930176,1.627882719039917,1.6303894519805908,1.6408830881118774,1.6807907819747925,1.694719910621643,1.7003138065338135,1.9533164501190186,1.932298183441162,1.9935624599456787,1.9205447435379028,2.051065683364868,2.070509672164917,2.127368688583374,2.0776779651641846,1.9160096645355225,1.8473331928253174,1.9108738899230957,1.963752269744873,1.9572994709014893,1.9752144813537598,1.9947178363800049,2.0241127014160156,1.7100101709365845,1.684329628944397,1.6633468866348267,1.65690279006958,1.6380778551101685,1.9115978479385376,1.9150041341781616,1.9254610538482666,1.938022255897522,1.9498661756515503,1.967065453529358,1.9795737266540527,1.995721459388733,2.0125138759613037,2.0251708030700684,1.9581431150436401,1.9562053680419922,1.954599380493164,1.9528967142105103,1.948691725730896,1.9525511264801025,1.9575754404067993,1.963417649269104,1.9690335988998413,1.9230449199676514,1.928653359413147,1.9377630949020386,1.9466159343719482,1.9388858079910278,1.9299700260162354,1.9791194200515747,1.9860141277313232,1.9955185651779175,2.0065135955810547,1.9954357147216797,1.9860762357711792,1.9418598413467407,1.9459437131881714,1.9529691934585571,1.9583830833435059,1.964288592338562,1.9750773906707764,1.9859485626220703,1.9784457683563232,1.9676671028137207,1.9612829685211182,1.9552443027496338,1.9474109411239624,1.9426990747451782,1.9543415307998657,1.9602208137512207,1.96616530418396,1.9857581853866577,1.968279242515564,1.961744785308838,1.9553866386413574],\"y\":[1.6384403705596924,1.5440280437469482,1.534549355506897,1.74796724319458,1.3877243995666504,1.392382025718689,1.8227801322937012,1.103042721748352,1.070332407951355,1.829937219619751,0.9763517379760742,0.9571608304977417,1.963996171951294,1.8873835802078247,1.900190830230713,1.9805799722671509,1.8913276195526123,1.9231128692626953,1.6796846389770508,1.7050319910049438,1.5303163528442383,1.5206822156906128,1.989142894744873,1.9232209920883179,1.938735842704773,1.488382339477539,1.4678078889846802,1.4488706588745117,1.4761765003204346,1.4518499374389648,1.4324764013290405,1.4631935358047485,1.4459577798843384,1.4313489198684692,1.4686625003814697,1.4467337131500244,1.4289919137954712,1.5121269226074219,1.496037244796753,1.482818603515625,1.4590418338775635,1.4336755275726318,1.414339303970337,1.450170874595642,1.4228308200836182,1.4032182693481445,1.4487429857254028,1.4308757781982422,1.4158246517181396,1.4489909410476685,1.423966646194458,1.4055874347686768,1.4910118579864502,1.4696168899536133,1.4515082836151123,1.878750205039978,1.9271694421768188,1.9110546112060547,2.0105819702148438,1.9759374856948853,0.9214029312133789,0.9486196041107178,1.1219474077224731,0.9220845699310303,0.9404398202896118,1.0701675415039062,1.459599494934082,1.4299521446228027,1.4122161865234375,1.4158408641815186,1.4188933372497559,1.4250524044036865,1.3939564228057861,1.3831770420074463,1.390731692314148,1.4006952047348022,1.958138346672058,1.9459574222564697,1.931908369064331,1.921451210975647,1.915522813796997,1.9108246564865112,1.9102375507354736,1.9132603406906128,1.920425295829773,1.9279780387878418,1.906754732131958,1.8974595069885254,1.888444423675537,1.879370927810669,1.8980615139007568,1.8928942680358887,1.889482855796814,1.8904045820236206,1.8931632041931152,1.9394068717956543,1.9302666187286377,1.9268581867218018,1.9257107973098755,1.925837755203247,1.92917799949646,1.917414903640747,1.9142547845840454,1.912768006324768,1.917251467704773,1.9114021062850952,1.9133431911468506,1.9069080352783203,1.8978908061981201,1.8905471563339233,1.8880243301391602,1.887482762336731,1.8897043466567993,1.895005702972412,1.889616847038269,1.8866143226623535,1.8874664306640625,1.8898179531097412,1.8987432718276978,1.9073073863983154,1.893567442893982,1.8915753364562988,1.890523910522461,1.8951984643936157,1.8903899192810059,1.8914591073989868,1.8937925100326538],\"z\":[2.0068202018737793,1.9771124124526978,1.9798952341079712,1.985272765159607,2.297072649002075,2.301546096801758,2.097947359085083,2.055881977081299,2.0808768272399902,2.1536366939544678,2.077528238296509,2.134086847305298,2.259939670562744,2.2196969985961914,2.203901767730713,2.4320077896118164,2.308988332748413,2.268242597579956,2.2150659561157227,2.236490249633789,2.315824270248413,2.368333578109741,2.4293417930603027,2.4849579334259033,2.478642702102661,2.339528799057007,2.343738079071045,2.3336641788482666,2.356874942779541,2.3604483604431152,2.348621368408203,2.3634631633758545,2.362314462661743,2.3519489765167236,2.3630824089050293,2.3633596897125244,2.3496692180633545,2.3067190647125244,2.2980639934539795,2.2991020679473877,2.4401636123657227,2.4571502208709717,2.450701951980591,2.438107490539551,2.448298215866089,2.4402058124542236,2.4014530181884766,2.4013283252716064,2.3952505588531494,2.419541358947754,2.4282495975494385,2.4205472469329834,2.3945274353027344,2.4059314727783203,2.422025203704834,2.4539358615875244,2.478921890258789,2.4870173931121826,2.4301490783691406,2.448552131652832,2.1213812828063965,2.0811338424682617,1.9850512742996216,2.1820406913757324,2.141944169998169,1.9974970817565918,2.2969632148742676,2.318621873855591,2.3312625885009766,2.3319053649902344,2.337606906890869,2.4318535327911377,2.442216396331787,2.4271843433380127,2.4129738807678223,2.389564037322998,2.475806713104248,2.4952611923217773,2.502748489379883,2.504974842071533,2.5024330615997314,2.503237724304199,2.5083439350128174,2.5102968215942383,2.5056896209716797,2.4878907203674316,2.4879133701324463,2.4784607887268066,2.470458507537842,2.4621376991271973,2.444411516189575,2.4432992935180664,2.442748546600342,2.4450125694274902,2.446847915649414,2.4749515056610107,2.483156681060791,2.4836111068725586,2.477937698364258,2.4749646186828613,2.4736428260803223,2.4812843799591064,2.4882755279541016,2.4897892475128174,2.4834327697753906,2.4800639152526855,2.479865550994873,2.4162135124206543,2.4258689880371094,2.4290249347686768,2.4288523197174072,2.4300544261932373,2.427600145339966,2.4210243225097656,2.4176409244537354,2.4165515899658203,2.415578842163086,2.4151721000671387,2.415432929992676,2.4161324501037598,2.422175407409668,2.4228527545928955,2.4236066341400146,2.4210565090179443,2.4218761920928955,2.421700954437256,2.4204294681549072]}],                        {\"annotations\":[{\"font\":{\"size\":16},\"showarrow\":false,\"text\":\"Pointcloud\",\"x\":0.5,\"xanchor\":\"center\",\"xref\":\"paper\",\"y\":1.0,\"yanchor\":\"bottom\",\"yref\":\"paper\"}],\"autosize\":false,\"height\":800,\"scene\":{\"aspectmode\":\"cube\",\"camera\":{\"up\":{\"x\":0,\"y\":1,\"z\":0}},\"domain\":{\"x\":[0.0,1.0],\"y\":[0.0,1.0]},\"xaxis\":{\"backgroundcolor\":\"#fff\",\"range\":[-1.165540337562561,3.012817859649658],\"showaxeslabels\":false,\"showgrid\":false,\"showline\":false,\"showticklabels\":false,\"ticks\":\"\",\"zeroline\":false},\"yaxis\":{\"backgroundcolor\":\"#fff\",\"range\":[-1.425208330154419,2.7531497478485107],\"showaxeslabels\":false,\"showgrid\":false,\"showline\":false,\"showticklabels\":false,\"ticks\":\"\",\"zeroline\":false},\"zaxis\":{\"backgroundcolor\":\"#fff\",\"range\":[-0.7213147878646851,3.457043170928955],\"showaxeslabels\":false,\"showgrid\":false,\"showline\":false,\"showticklabels\":false,\"ticks\":\"\",\"zeroline\":false}},\"template\":{\"data\":{\"bar\":[{\"error_x\":{\"color\":\"#2a3f5f\"},\"error_y\":{\"color\":\"#2a3f5f\"},\"marker\":{\"line\":{\"color\":\"#E5ECF6\",\"width\":0.5},\"pattern\":{\"fillmode\":\"overlay\",\"size\":10,\"solidity\":0.2}},\"type\":\"bar\"}],\"barpolar\":[{\"marker\":{\"line\":{\"color\":\"#E5ECF6\",\"width\":0.5},\"pattern\":{\"fillmode\":\"overlay\",\"size\":10,\"solidity\":0.2}},\"type\":\"barpolar\"}],\"carpet\":[{\"aaxis\":{\"endlinecolor\":\"#2a3f5f\",\"gridcolor\":\"white\",\"linecolor\":\"white\",\"minorgridcolor\":\"white\",\"startlinecolor\":\"#2a3f5f\"},\"baxis\":{\"endlinecolor\":\"#2a3f5f\",\"gridcolor\":\"white\",\"linecolor\":\"white\",\"minorgridcolor\":\"white\",\"startlinecolor\":\"#2a3f5f\"},\"type\":\"carpet\"}],\"choropleth\":[{\"colorbar\":{\"outlinewidth\":0,\"ticks\":\"\"},\"type\":\"choropleth\"}],\"contour\":[{\"colorbar\":{\"outlinewidth\":0,\"ticks\":\"\"},\"colorscale\":[[0.0,\"#0d0887\"],[0.1111111111111111,\"#46039f\"],[0.2222222222222222,\"#7201a8\"],[0.3333333333333333,\"#9c179e\"],[0.4444444444444444,\"#bd3786\"],[0.5555555555555556,\"#d8576b\"],[0.6666666666666666,\"#ed7953\"],[0.7777777777777778,\"#fb9f3a\"],[0.8888888888888888,\"#fdca26\"],[1.0,\"#f0f921\"]],\"type\":\"contour\"}],\"contourcarpet\":[{\"colorbar\":{\"outlinewidth\":0,\"ticks\":\"\"},\"type\":\"contourcarpet\"}],\"heatmap\":[{\"colorbar\":{\"outlinewidth\":0,\"ticks\":\"\"},\"colorscale\":[[0.0,\"#0d0887\"],[0.1111111111111111,\"#46039f\"],[0.2222222222222222,\"#7201a8\"],[0.3333333333333333,\"#9c179e\"],[0.4444444444444444,\"#bd3786\"],[0.5555555555555556,\"#d8576b\"],[0.6666666666666666,\"#ed7953\"],[0.7777777777777778,\"#fb9f3a\"],[0.8888888888888888,\"#fdca26\"],[1.0,\"#f0f921\"]],\"type\":\"heatmap\"}],\"heatmapgl\":[{\"colorbar\":{\"outlinewidth\":0,\"ticks\":\"\"},\"colorscale\":[[0.0,\"#0d0887\"],[0.1111111111111111,\"#46039f\"],[0.2222222222222222,\"#7201a8\"],[0.3333333333333333,\"#9c179e\"],[0.4444444444444444,\"#bd3786\"],[0.5555555555555556,\"#d8576b\"],[0.6666666666666666,\"#ed7953\"],[0.7777777777777778,\"#fb9f3a\"],[0.8888888888888888,\"#fdca26\"],[1.0,\"#f0f921\"]],\"type\":\"heatmapgl\"}],\"histogram\":[{\"marker\":{\"pattern\":{\"fillmode\":\"overlay\",\"size\":10,\"solidity\":0.2}},\"type\":\"histogram\"}],\"histogram2d\":[{\"colorbar\":{\"outlinewidth\":0,\"ticks\":\"\"},\"colorscale\":[[0.0,\"#0d0887\"],[0.1111111111111111,\"#46039f\"],[0.2222222222222222,\"#7201a8\"],[0.3333333333333333,\"#9c179e\"],[0.4444444444444444,\"#bd3786\"],[0.5555555555555556,\"#d8576b\"],[0.6666666666666666,\"#ed7953\"],[0.7777777777777778,\"#fb9f3a\"],[0.8888888888888888,\"#fdca26\"],[1.0,\"#f0f921\"]],\"type\":\"histogram2d\"}],\"histogram2dcontour\":[{\"colorbar\":{\"outlinewidth\":0,\"ticks\":\"\"},\"colorscale\":[[0.0,\"#0d0887\"],[0.1111111111111111,\"#46039f\"],[0.2222222222222222,\"#7201a8\"],[0.3333333333333333,\"#9c179e\"],[0.4444444444444444,\"#bd3786\"],[0.5555555555555556,\"#d8576b\"],[0.6666666666666666,\"#ed7953\"],[0.7777777777777778,\"#fb9f3a\"],[0.8888888888888888,\"#fdca26\"],[1.0,\"#f0f921\"]],\"type\":\"histogram2dcontour\"}],\"mesh3d\":[{\"colorbar\":{\"outlinewidth\":0,\"ticks\":\"\"},\"type\":\"mesh3d\"}],\"parcoords\":[{\"line\":{\"colorbar\":{\"outlinewidth\":0,\"ticks\":\"\"}},\"type\":\"parcoords\"}],\"pie\":[{\"automargin\":true,\"type\":\"pie\"}],\"scatter\":[{\"marker\":{\"colorbar\":{\"outlinewidth\":0,\"ticks\":\"\"}},\"type\":\"scatter\"}],\"scatter3d\":[{\"line\":{\"colorbar\":{\"outlinewidth\":0,\"ticks\":\"\"}},\"marker\":{\"colorbar\":{\"outlinewidth\":0,\"ticks\":\"\"}},\"type\":\"scatter3d\"}],\"scattercarpet\":[{\"marker\":{\"colorbar\":{\"outlinewidth\":0,\"ticks\":\"\"}},\"type\":\"scattercarpet\"}],\"scattergeo\":[{\"marker\":{\"colorbar\":{\"outlinewidth\":0,\"ticks\":\"\"}},\"type\":\"scattergeo\"}],\"scattergl\":[{\"marker\":{\"colorbar\":{\"outlinewidth\":0,\"ticks\":\"\"}},\"type\":\"scattergl\"}],\"scattermapbox\":[{\"marker\":{\"colorbar\":{\"outlinewidth\":0,\"ticks\":\"\"}},\"type\":\"scattermapbox\"}],\"scatterpolar\":[{\"marker\":{\"colorbar\":{\"outlinewidth\":0,\"ticks\":\"\"}},\"type\":\"scatterpolar\"}],\"scatterpolargl\":[{\"marker\":{\"colorbar\":{\"outlinewidth\":0,\"ticks\":\"\"}},\"type\":\"scatterpolargl\"}],\"scatterternary\":[{\"marker\":{\"colorbar\":{\"outlinewidth\":0,\"ticks\":\"\"}},\"type\":\"scatterternary\"}],\"surface\":[{\"colorbar\":{\"outlinewidth\":0,\"ticks\":\"\"},\"colorscale\":[[0.0,\"#0d0887\"],[0.1111111111111111,\"#46039f\"],[0.2222222222222222,\"#7201a8\"],[0.3333333333333333,\"#9c179e\"],[0.4444444444444444,\"#bd3786\"],[0.5555555555555556,\"#d8576b\"],[0.6666666666666666,\"#ed7953\"],[0.7777777777777778,\"#fb9f3a\"],[0.8888888888888888,\"#fdca26\"],[1.0,\"#f0f921\"]],\"type\":\"surface\"}],\"table\":[{\"cells\":{\"fill\":{\"color\":\"#EBF0F8\"},\"line\":{\"color\":\"white\"}},\"header\":{\"fill\":{\"color\":\"#C8D4E3\"},\"line\":{\"color\":\"white\"}},\"type\":\"table\"}]},\"layout\":{\"annotationdefaults\":{\"arrowcolor\":\"#2a3f5f\",\"arrowhead\":0,\"arrowwidth\":1},\"autotypenumbers\":\"strict\",\"coloraxis\":{\"colorbar\":{\"outlinewidth\":0,\"ticks\":\"\"}},\"colorscale\":{\"diverging\":[[0,\"#8e0152\"],[0.1,\"#c51b7d\"],[0.2,\"#de77ae\"],[0.3,\"#f1b6da\"],[0.4,\"#fde0ef\"],[0.5,\"#f7f7f7\"],[0.6,\"#e6f5d0\"],[0.7,\"#b8e186\"],[0.8,\"#7fbc41\"],[0.9,\"#4d9221\"],[1,\"#276419\"]],\"sequential\":[[0.0,\"#0d0887\"],[0.1111111111111111,\"#46039f\"],[0.2222222222222222,\"#7201a8\"],[0.3333333333333333,\"#9c179e\"],[0.4444444444444444,\"#bd3786\"],[0.5555555555555556,\"#d8576b\"],[0.6666666666666666,\"#ed7953\"],[0.7777777777777778,\"#fb9f3a\"],[0.8888888888888888,\"#fdca26\"],[1.0,\"#f0f921\"]],\"sequentialminus\":[[0.0,\"#0d0887\"],[0.1111111111111111,\"#46039f\"],[0.2222222222222222,\"#7201a8\"],[0.3333333333333333,\"#9c179e\"],[0.4444444444444444,\"#bd3786\"],[0.5555555555555556,\"#d8576b\"],[0.6666666666666666,\"#ed7953\"],[0.7777777777777778,\"#fb9f3a\"],[0.8888888888888888,\"#fdca26\"],[1.0,\"#f0f921\"]]},\"colorway\":[\"#636efa\",\"#EF553B\",\"#00cc96\",\"#ab63fa\",\"#FFA15A\",\"#19d3f3\",\"#FF6692\",\"#B6E880\",\"#FF97FF\",\"#FECB52\"],\"font\":{\"color\":\"#2a3f5f\"},\"geo\":{\"bgcolor\":\"white\",\"lakecolor\":\"white\",\"landcolor\":\"#E5ECF6\",\"showlakes\":true,\"showland\":true,\"subunitcolor\":\"white\"},\"hoverlabel\":{\"align\":\"left\"},\"hovermode\":\"closest\",\"mapbox\":{\"style\":\"light\"},\"paper_bgcolor\":\"white\",\"plot_bgcolor\":\"#E5ECF6\",\"polar\":{\"angularaxis\":{\"gridcolor\":\"white\",\"linecolor\":\"white\",\"ticks\":\"\"},\"bgcolor\":\"#E5ECF6\",\"radialaxis\":{\"gridcolor\":\"white\",\"linecolor\":\"white\",\"ticks\":\"\"}},\"scene\":{\"xaxis\":{\"backgroundcolor\":\"#E5ECF6\",\"gridcolor\":\"white\",\"gridwidth\":2,\"linecolor\":\"white\",\"showbackground\":true,\"ticks\":\"\",\"zerolinecolor\":\"white\"},\"yaxis\":{\"backgroundcolor\":\"#E5ECF6\",\"gridcolor\":\"white\",\"gridwidth\":2,\"linecolor\":\"white\",\"showbackground\":true,\"ticks\":\"\",\"zerolinecolor\":\"white\"},\"zaxis\":{\"backgroundcolor\":\"#E5ECF6\",\"gridcolor\":\"white\",\"gridwidth\":2,\"linecolor\":\"white\",\"showbackground\":true,\"ticks\":\"\",\"zerolinecolor\":\"white\"}},\"shapedefaults\":{\"line\":{\"color\":\"#2a3f5f\"}},\"ternary\":{\"aaxis\":{\"gridcolor\":\"white\",\"linecolor\":\"white\",\"ticks\":\"\"},\"baxis\":{\"gridcolor\":\"white\",\"linecolor\":\"white\",\"ticks\":\"\"},\"bgcolor\":\"#E5ECF6\",\"caxis\":{\"gridcolor\":\"white\",\"linecolor\":\"white\",\"ticks\":\"\"}},\"title\":{\"x\":0.05},\"xaxis\":{\"automargin\":true,\"gridcolor\":\"white\",\"linecolor\":\"white\",\"ticks\":\"\",\"title\":{\"standoff\":15},\"zerolinecolor\":\"white\",\"zerolinewidth\":2},\"yaxis\":{\"automargin\":true,\"gridcolor\":\"white\",\"linecolor\":\"white\",\"ticks\":\"\",\"title\":{\"standoff\":15},\"zerolinecolor\":\"white\",\"zerolinewidth\":2}}},\"width\":800},                        {\"responsive\": true}                    ).then(function(){\n",
       "                            \n",
       "var gd = document.getElementById('b62dcf0a-a598-493c-ab40-79aec4d67806');\n",
       "var x = new MutationObserver(function (mutations, observer) {{\n",
       "        var display = window.getComputedStyle(gd).display;\n",
       "        if (!display || display === 'none') {{\n",
       "            console.log([gd, 'removed!']);\n",
       "            Plotly.purge(gd);\n",
       "            observer.disconnect();\n",
       "        }}\n",
       "}});\n",
       "\n",
       "// Listen for the removal of the full notebook cells\n",
       "var notebookContainer = gd.closest('#notebook-container');\n",
       "if (notebookContainer) {{\n",
       "    x.observe(notebookContainer, {childList: true});\n",
       "}}\n",
       "\n",
       "// Listen for the clearing of the current output cell\n",
       "var outputEl = gd.closest('.output');\n",
       "if (outputEl) {{\n",
       "    x.observe(outputEl, {childList: true});\n",
       "}}\n",
       "\n",
       "                        })                };                });            </script>        </div>"
      ]
     },
     "metadata": {},
     "output_type": "display_data"
    }
   ],
   "source": [
    "point_cloud_batch = Pointclouds(points=[points, points + 2], features=[rgb, torch.zeros_like(rgb)])\n",
    "# render both in the same plot in different traces\n",
    "fig = plot_scene({\n",
    "    \"Pointcloud\": {\n",
    "        \"person\": point_cloud_batch[0],\n",
    "        \"person2\": point_cloud_batch[1]\n",
    "    }\n",
    "})\n",
    "fig.update_layout(autosize=False,width=800,height=800)\n",
    "fig.show()"
   ]
  },
  {
   "cell_type": "code",
   "execution_count": 42,
   "id": "fbff9aff-0f30-4c4d-8cc8-fef7b4ea54c7",
   "metadata": {},
   "outputs": [
    {
     "data": {
      "text/plain": [
       "tensor([[[-1.0000,  0.0000,  0.0000],\n",
       "         [ 0.0000,  0.9848, -0.1736],\n",
       "         [-0.0000, -0.1736, -0.9848]]])"
      ]
     },
     "execution_count": 42,
     "metadata": {},
     "output_type": "execute_result"
    }
   ],
   "source": [
    "R"
   ]
  },
  {
   "cell_type": "code",
   "execution_count": 43,
   "id": "229d8fd9-1d51-4df0-bcb8-e0bd102fad76",
   "metadata": {},
   "outputs": [
    {
     "data": {
      "text/plain": [
       "tensor([[-0., -0., 5.]])"
      ]
     },
     "execution_count": 43,
     "metadata": {},
     "output_type": "execute_result"
    }
   ],
   "source": [
    "T"
   ]
  },
  {
   "cell_type": "code",
   "execution_count": 39,
   "id": "a57b17b9-7e1f-4162-a62c-127eba5538bc",
   "metadata": {},
   "outputs": [],
   "source": [
    "import matplotlib.pyplot as plt\n",
    "import matplotlib.image as mpimg\n",
    "\n",
    "img=mpimg.imread('/cluster/scratch/bdayan/prox_data/recordings/N3OpenArea_00158_01/Color/s001_frame_00076__00.00.02.509.jpg')"
   ]
  },
  {
   "cell_type": "code",
   "execution_count": 40,
   "id": "06736981-8054-45f2-b2c8-9b82490121fb",
   "metadata": {},
   "outputs": [
    {
     "data": {
      "text/plain": [
       "(1080, 1920, 3)"
      ]
     },
     "execution_count": 40,
     "metadata": {},
     "output_type": "execute_result"
    }
   ],
   "source": [
    "img.shape"
   ]
  },
  {
   "cell_type": "code",
   "execution_count": 41,
   "id": "8bde2ea2-e14b-44cb-a294-f839218f4de8",
   "metadata": {},
   "outputs": [
    {
     "data": {
      "image/png": "[encoded data removed]",
      "text/plain": [
       "<Figure size 720x720 with 1 Axes>"
      ]
     },
     "metadata": {
      "needs_background": "light"
     },
     "output_type": "display_data"
    }
   ],
   "source": [
    "images = renderer(point_cloud)\n",
    "plt.figure(figsize=(10, 10))\n",
    "plt.imshow(images[0, ..., :3].detach().numpy())\n",
    "plt.axis(\"off\");"
   ]
  },
  {
   "cell_type": "code",
   "execution_count": null,
   "id": "c9828dbb-ecfb-4450-bba9-ea3994e2931c",
   "metadata": {},
   "outputs": [],
   "source": []
  },
  {
   "cell_type": "code",
   "execution_count": null,
   "id": "fe01e903-702c-4c38-95fd-47138e345936",
   "metadata": {},
   "outputs": [],
   "source": []
  },
  {
   "cell_type": "code",
   "execution_count": null,
   "id": "55b32359-5174-44f0-98a8-9a7300c90957",
   "metadata": {},
   "outputs": [],
   "source": []
  },
  {
   "cell_type": "code",
   "execution_count": null,
   "id": "dcd9278f-9cc4-473d-9cb1-ab974637e993",
   "metadata": {},
   "outputs": [],
   "source": []
  },
  {
   "cell_type": "code",
   "execution_count": null,
   "id": "d244a695-d3ba-4ac2-a6f4-a3ce8f75c39b",
   "metadata": {},
   "outputs": [],
   "source": []
  },
  {
   "cell_type": "code",
   "execution_count": 27,
   "id": "eda98f46-c112-4d08-9f56-9d3888739aec",
   "metadata": {},
   "outputs": [
    {
     "data": {
      "text/plain": [
       "10"
      ]
     },
     "execution_count": 27,
     "metadata": {},
     "output_type": "execute_result"
    }
   ],
   "source": [
    "len(in_data[1])"
   ]
  },
  {
   "cell_type": "code",
   "execution_count": null,
   "id": "c2d92b35-8db0-4177-9953-93835f3e3a05",
   "metadata": {},
   "outputs": [],
   "source": []
  },
  {
   "cell_type": "code",
   "execution_count": 28,
   "id": "770e395f",
   "metadata": {},
   "outputs": [],
   "source": [
    "g1 = in_data[1][0]['global_orient']\n",
    "g2 = in_data[1][1]['global_orient']"
   ]
  },
  {
   "cell_type": "code",
   "execution_count": 58,
   "id": "ff310ef5",
   "metadata": {},
   "outputs": [
    {
     "data": {
      "text/plain": [
       "array([[ 1.1642715, -0.5064939,  2.978201 ]], dtype=float32)"
      ]
     },
     "execution_count": 58,
     "metadata": {},
     "output_type": "execute_result"
    },
    {
     "data": {
      "text/plain": [
       "array([[ 1.242714 , -0.5080164,  2.951133 ]], dtype=float32)"
      ]
     },
     "execution_count": 58,
     "metadata": {},
     "output_type": "execute_result"
    }
   ],
   "source": [
    "g1\n",
    "g2\n",
    "from pytorch3d import transforms"
   ]
  },
  {
   "cell_type": "code",
   "execution_count": 67,
   "id": "73fc9138",
   "metadata": {},
   "outputs": [],
   "source": [
    "\n",
    "# r1 = o3d.geometry.Geometry3D.get_rotation_matrix_from_xyz(g1.reshape(3, 1))\n",
    "# r2 = o3d.geometry.Geometry3D.get_rotation_matrix_from_xyz(g2.reshape(3, 1))\n",
    "\n",
    "r1 = transforms.euler_angles_to_matrix(torch.Tensor(g1), convention='XYZ')\n",
    "r2 = transforms.euler_angles_to_matrix(torch.Tensor(g2), convention='XYZ')\n"
   ]
  },
  {
   "cell_type": "code",
   "execution_count": 72,
   "id": "a5d336ff",
   "metadata": {},
   "outputs": [
    {
     "data": {
      "text/plain": [
       "array([[ 1.1642715, -0.5064939,  2.978201 ]], dtype=float32)"
      ]
     },
     "execution_count": 72,
     "metadata": {},
     "output_type": "execute_result"
    }
   ],
   "source": [
    "g1"
   ]
  },
  {
   "cell_type": "code",
   "execution_count": 69,
   "id": "d7237380",
   "metadata": {},
   "outputs": [
    {
     "data": {
      "text/plain": [
       "torch.Size([1, 3, 3])"
      ]
     },
     "execution_count": 69,
     "metadata": {},
     "output_type": "execute_result"
    },
    {
     "data": {
      "text/plain": [
       "tensor([[[1.0000e+00, 0.0000e+00, 2.8871e-08],\n",
       "         [0.0000e+00, 1.0000e+00, 0.0000e+00],\n",
       "         [2.8871e-08, 0.0000e+00, 1.0000e+00]]])"
      ]
     },
     "execution_count": 69,
     "metadata": {},
     "output_type": "execute_result"
    }
   ],
   "source": [
    "r1.shape\n",
    "r1.transpose(1, 2) @ r1"
   ]
  },
  {
   "cell_type": "code",
   "execution_count": 71,
   "id": "14c8610a",
   "metadata": {},
   "outputs": [
    {
     "data": {
      "text/plain": [
       "tensor([[ 0.0917,  0.0211, -0.0109]])"
      ]
     },
     "execution_count": 71,
     "metadata": {},
     "output_type": "execute_result"
    }
   ],
   "source": [
    "transforms.matrix_to_euler_angles(r2 @ r1.transpose(1, 2), convention='XYZ')"
   ]
  },
  {
   "cell_type": "code",
   "execution_count": 73,
   "id": "33806a77",
   "metadata": {},
   "outputs": [
    {
     "data": {
      "text/plain": [
       "tensor([[-0.0000e+00, -1.4901e-08, -2.9802e-08]])"
      ]
     },
     "execution_count": 73,
     "metadata": {},
     "output_type": "execute_result"
    }
   ],
   "source": [
    "transforms.matrix_to_euler_angles(r1 @ r1.transpose(1, 2), convention='XYZ')"
   ]
  },
  {
   "cell_type": "code",
   "execution_count": 29,
   "id": "47df2082-2b71-4e00-be3a-9bcf0565103f",
   "metadata": {
    "collapsed": true,
    "jupyter": {
     "outputs_hidden": true
    },
    "tags": []
   },
   "outputs": [
    {
     "data": {
      "text/plain": [
       "[tensor([[[-0.4150,  0.2488,  2.5232],\n",
       "          [-0.4491,  0.3484,  2.4745],\n",
       "          [-0.3576,  0.3540,  2.5615],\n",
       "          [-0.3891,  0.1443,  2.4939],\n",
       "          [-0.5949,  0.6758,  2.5726],\n",
       "          [-0.3504,  0.7028,  2.6339],\n",
       "          [-0.4023,  0.0097,  2.4948],\n",
       "          [-0.6543,  1.0304,  2.7177],\n",
       "          [-0.3213,  1.0933,  2.6417],\n",
       "          [-0.4136, -0.0404,  2.5236],\n",
       "          [-0.7405,  1.0668,  2.8116],\n",
       "          [-0.3948,  1.1626,  2.7245],\n",
       "          [-0.3898, -0.2098,  2.5113],\n",
       "          [-0.4429, -0.1261,  2.4899],\n",
       "          [-0.3750, -0.1269,  2.5450],\n",
       "          [-0.4740, -0.3604,  2.5355],\n",
       "          [-0.5185, -0.1981,  2.4248],\n",
       "          [-0.3228, -0.1933,  2.6111],\n",
       "          [-0.4975,  0.0453,  2.3447],\n",
       "          [-0.2574,  0.0575,  2.6541],\n",
       "          [-0.5567,  0.2695,  2.3911],\n",
       "          [-0.2741,  0.2773,  2.7326],\n",
       "          [-0.4599, -0.3616,  2.5398],\n",
       "          [-0.5337, -0.3930,  2.5738],\n",
       "          [-0.4865, -0.3970,  2.6115]]], grad_fn=<SliceBackward0>),\n",
       " tensor([[[-0.4331,  0.2509,  2.5350],\n",
       "          [-0.4689,  0.3498,  2.4862],\n",
       "          [-0.3747,  0.3565,  2.5701],\n",
       "          [-0.4079,  0.1460,  2.5061],\n",
       "          [-0.6051,  0.6787,  2.5926],\n",
       "          [-0.3911,  0.7003,  2.6626],\n",
       "          [-0.4243,  0.0119,  2.5123],\n",
       "          [-0.6534,  1.0378,  2.7308],\n",
       "          [-0.3343,  1.0878,  2.6592],\n",
       "          [-0.4352, -0.0370,  2.5434],\n",
       "          [-0.7365,  1.0623,  2.8310],\n",
       "          [-0.4037,  1.1681,  2.7353],\n",
       "          [-0.4175, -0.2075,  2.5386],\n",
       "          [-0.4688, -0.1231,  2.5154],\n",
       "          [-0.3985, -0.1235,  2.5673],\n",
       "          [-0.4961, -0.3613,  2.5612],\n",
       "          [-0.5497, -0.1963,  2.4585],\n",
       "          [-0.3418, -0.1907,  2.6288],\n",
       "          [-0.5365,  0.0494,  2.3841],\n",
       "          [-0.2669,  0.0607,  2.6432],\n",
       "          [-0.5990,  0.2742,  2.4221],\n",
       "          [-0.2785,  0.2815,  2.7198],\n",
       "          [-0.4817, -0.3627,  2.5645],\n",
       "          [-0.5533, -0.3940,  2.6031],\n",
       "          [-0.5036, -0.3991,  2.6373]]], grad_fn=<SliceBackward0>),\n",
       " tensor([[[-0.4472,  0.2343,  2.5445],\n",
       "          [-0.4862,  0.3317,  2.4950],\n",
       "          [-0.3861,  0.3408,  2.5716],\n",
       "          [-0.4244,  0.1284,  2.5175],\n",
       "          [-0.6174,  0.6627,  2.6012],\n",
       "          [-0.4300,  0.6706,  2.6994],\n",
       "          [-0.4461, -0.0035,  2.5382],\n",
       "          [-0.6513,  1.0305,  2.7193],\n",
       "          [-0.3457,  1.0492,  2.6452],\n",
       "          [-0.4551, -0.0507,  2.5722],\n",
       "          [-0.7346,  1.0637,  2.8168],\n",
       "          [-0.3967,  1.1505,  2.7102],\n",
       "          [-0.4335, -0.2208,  2.5668],\n",
       "          [-0.4883, -0.1378,  2.5466],\n",
       "          [-0.4148, -0.1362,  2.5941],\n",
       "          [-0.5140, -0.3724,  2.5968],\n",
       "          [-0.5728, -0.2072,  2.4902],\n",
       "          [-0.3520, -0.1936,  2.6594],\n",
       "          [-0.5579,  0.0377,  2.4135],\n",
       "          [-0.2718,  0.0554,  2.6845],\n",
       "          [-0.6235,  0.2648,  2.4154],\n",
       "          [-0.2792,  0.2717,  2.7733],\n",
       "          [-0.4995, -0.3733,  2.5992],\n",
       "          [-0.5671, -0.4111,  2.6391],\n",
       "          [-0.5151, -0.4167,  2.6697]]], grad_fn=<SliceBackward0>),\n",
       " tensor([[[-0.4657,  0.2431,  2.5744],\n",
       "          [-0.5099,  0.3407,  2.5299],\n",
       "          [-0.4039,  0.3500,  2.5982],\n",
       "          [-0.4439,  0.1379,  2.5438],\n",
       "          [-0.6489,  0.6647,  2.6473],\n",
       "          [-0.4682,  0.6748,  2.7302],\n",
       "          [-0.4664,  0.0060,  2.5635],\n",
       "          [-0.6561,  1.0413,  2.7394],\n",
       "          [-0.3442,  0.9687,  2.5029],\n",
       "          [-0.4723, -0.0444,  2.5933],\n",
       "          [-0.7392,  1.0710,  2.8383],\n",
       "          [-0.3827,  1.0827,  2.5538],\n",
       "          [-0.4528, -0.2136,  2.5733],\n",
       "          [-0.5080, -0.1290,  2.5634],\n",
       "          [-0.4314, -0.1315,  2.6057],\n",
       "          [-0.5233, -0.3720,  2.5902],\n",
       "          [-0.5944, -0.1943,  2.5051],\n",
       "          [-0.3636, -0.1941,  2.6604],\n",
       "          [-0.6000,  0.0548,  2.4419],\n",
       "          [-0.2827,  0.0516,  2.7067],\n",
       "          [-0.6684,  0.2783,  2.4781],\n",
       "          [-0.2762,  0.2680,  2.7955],\n",
       "          [-0.5090, -0.3730,  2.5940],\n",
       "          [-0.5811, -0.4040,  2.6318],\n",
       "          [-0.5322, -0.4071,  2.6675]]], grad_fn=<SliceBackward0>),\n",
       " tensor([[[-0.4856,  0.2421,  2.5989],\n",
       "          [-0.5332,  0.3419,  2.5639],\n",
       "          [-0.4228,  0.3479,  2.6251],\n",
       "          [-0.4655,  0.1393,  2.5603],\n",
       "          [-0.6645,  0.6633,  2.6965],\n",
       "          [-0.4976,  0.6628,  2.7744],\n",
       "          [-0.4858,  0.0060,  2.5704],\n",
       "          [-0.6619,  1.0462,  2.7573],\n",
       "          [-0.3690,  0.9422,  2.5319],\n",
       "          [-0.4889, -0.0458,  2.5983],\n",
       "          [-0.7465,  1.0879,  2.8504],\n",
       "          [-0.3946,  1.0652,  2.5678],\n",
       "          [-0.4717, -0.2145,  2.5729],\n",
       "          [-0.5276, -0.1299,  2.5706],\n",
       "          [-0.4470, -0.1331,  2.6045],\n",
       "          [-0.5397, -0.3737,  2.5921],\n",
       "          [-0.6186, -0.1975,  2.5228],\n",
       "          [-0.3737, -0.1983,  2.6478],\n",
       "          [-0.6329,  0.0564,  2.4845],\n",
       "          [-0.2941,  0.0489,  2.6874],\n",
       "          [-0.7106,  0.2750,  2.5301],\n",
       "          [-0.2749,  0.2611,  2.7842],\n",
       "          [-0.5251, -0.3747,  2.5941],\n",
       "          [-0.5916, -0.4100,  2.6377],\n",
       "          [-0.5388, -0.4148,  2.6669]]], grad_fn=<SliceBackward0>),\n",
       " tensor([[[-5.0968e-01,  2.3290e-01,  2.6347e+00],\n",
       "          [-5.6126e-01,  3.3230e-01,  2.6046e+00],\n",
       "          [-4.4660e-01,  3.3934e-01,  2.6573e+00],\n",
       "          [-4.9107e-01,  1.3083e-01,  2.5934e+00],\n",
       "          [-6.7543e-01,  6.6008e-01,  2.7374e+00],\n",
       "          [-5.2857e-01,  6.4492e-01,  2.8214e+00],\n",
       "          [-5.0942e-01, -2.8332e-03,  2.6031e+00],\n",
       "          [-6.6233e-01,  1.0473e+00,  2.7519e+00],\n",
       "          [-3.9950e-01,  9.0979e-01,  2.5634e+00],\n",
       "          [-5.0954e-01, -5.5052e-02,  2.6303e+00],\n",
       "          [-7.4605e-01,  1.0902e+00,  2.8452e+00],\n",
       "          [-4.1708e-01,  1.0332e+00,  2.6026e+00],\n",
       "          [-4.9443e-01, -2.2357e-01,  2.6021e+00],\n",
       "          [-5.5060e-01, -1.3918e-01,  2.6063e+00],\n",
       "          [-4.6683e-01, -1.4218e-01,  2.6314e+00],\n",
       "          [-5.5287e-01, -3.8680e-01,  2.6191e+00],\n",
       "          [-6.4616e-01, -2.0563e-01,  2.5665e+00],\n",
       "          [-3.8877e-01, -2.0710e-01,  2.6659e+00],\n",
       "          [-6.6418e-01,  4.9891e-02,  2.5445e+00],\n",
       "          [-3.1791e-01,  4.2037e-02,  2.7100e+00],\n",
       "          [-7.4785e-01,  2.6798e-01,  2.5811e+00],\n",
       "          [-2.8892e-01,  2.5338e-01,  2.8062e+00],\n",
       "          [-5.3811e-01, -3.8689e-01,  2.6199e+00],\n",
       "          [-5.9884e-01, -4.2941e-01,  2.6656e+00],\n",
       "          [-5.4379e-01, -4.3224e-01,  2.6907e+00]]], grad_fn=<SliceBackward0>),\n",
       " tensor([[[-0.5162,  0.2267,  2.6434],\n",
       "          [-0.5648,  0.3264,  2.6096],\n",
       "          [-0.4525,  0.3325,  2.6674],\n",
       "          [-0.4974,  0.1238,  2.6044],\n",
       "          [-0.6800,  0.6548,  2.7399],\n",
       "          [-0.5431,  0.6251,  2.8496],\n",
       "          [-0.5179, -0.0095,  2.6157],\n",
       "          [-0.6593,  1.0419,  2.7499],\n",
       "          [-0.4342,  0.8759,  2.5691],\n",
       "          [-0.5205, -0.0607,  2.6446],\n",
       "          [-0.7412,  1.0899,  2.8423],\n",
       "          [-0.4398,  0.9961,  2.6202],\n",
       "          [-0.5091, -0.2303,  2.6218],\n",
       "          [-0.5628, -0.1442,  2.6207],\n",
       "          [-0.4806, -0.1490,  2.6504],\n",
       "          [-0.5686, -0.3926,  2.6435],\n",
       "          [-0.6602, -0.2058,  2.5776],\n",
       "          [-0.4060, -0.2145,  2.6910],\n",
       "          [-0.6759,  0.0450,  2.5228],\n",
       "          [-0.3165,  0.0304,  2.7232],\n",
       "          [-0.7627,  0.2604,  2.5672],\n",
       "          [-0.2870,  0.2442,  2.8136],\n",
       "          [-0.5539, -0.3931,  2.6453],\n",
       "          [-0.6190, -0.4286,  2.6910],\n",
       "          [-0.5657, -0.4307,  2.7198]]], grad_fn=<SliceBackward0>),\n",
       " tensor([[[-0.5328,  0.2325,  2.6595],\n",
       "          [-0.5822,  0.3330,  2.6292],\n",
       "          [-0.4693,  0.3379,  2.6859],\n",
       "          [-0.5139,  0.1309,  2.6174],\n",
       "          [-0.6906,  0.6555,  2.7786],\n",
       "          [-0.5566,  0.6162,  2.8907],\n",
       "          [-0.5315, -0.0031,  2.6238],\n",
       "          [-0.6655,  1.0421,  2.7611],\n",
       "          [-0.4734,  0.8592,  2.5951],\n",
       "          [-0.5325, -0.0555,  2.6506],\n",
       "          [-0.7439,  1.0979,  2.8521],\n",
       "          [-0.4598,  0.9788,  2.6460],\n",
       "          [-0.5190, -0.2249,  2.6277],\n",
       "          [-0.5739, -0.1396,  2.6275],\n",
       "          [-0.4912, -0.1432,  2.6558],\n",
       "          [-0.5751, -0.3888,  2.6459],\n",
       "          [-0.6697, -0.2090,  2.5936],\n",
       "          [-0.4204, -0.2133,  2.6953],\n",
       "          [-0.7057,  0.0424,  2.5535],\n",
       "          [-0.3232,  0.0265,  2.7408],\n",
       "          [-0.7947,  0.2537,  2.6112],\n",
       "          [-0.3019,  0.2366,  2.8415],\n",
       "          [-0.5604, -0.3893,  2.6469],\n",
       "          [-0.6228, -0.4258,  2.6955],\n",
       "          [-0.5680, -0.4284,  2.7212]]], grad_fn=<SliceBackward0>),\n",
       " tensor([[[-0.5400,  0.2251,  2.6809],\n",
       "          [-0.5912,  0.3250,  2.6514],\n",
       "          [-0.4775,  0.3313,  2.7062],\n",
       "          [-0.5206,  0.1237,  2.6384],\n",
       "          [-0.6989,  0.6428,  2.8111],\n",
       "          [-0.5625,  0.6059,  2.9169],\n",
       "          [-0.5403, -0.0099,  2.6451],\n",
       "          [-0.6591,  1.0204,  2.7323],\n",
       "          [-0.4990,  0.8590,  2.6249],\n",
       "          [-0.5418, -0.0625,  2.6716],\n",
       "          [-0.7335,  1.0809,  2.8236],\n",
       "          [-0.4850,  0.9735,  2.6863],\n",
       "          [-0.5277, -0.2316,  2.6466],\n",
       "          [-0.5830, -0.1465,  2.6477],\n",
       "          [-0.5002, -0.1500,  2.6755],\n",
       "          [-0.5803, -0.3972,  2.6592],\n",
       "          [-0.6792, -0.2146,  2.6122],\n",
       "          [-0.4257, -0.2175,  2.7129],\n",
       "          [-0.7284,  0.0361,  2.5838],\n",
       "          [-0.3337,  0.0232,  2.7641],\n",
       "          [-0.8258,  0.2418,  2.6478],\n",
       "          [-0.3108,  0.2306,  2.8700],\n",
       "          [-0.5656, -0.3976,  2.6601],\n",
       "          [-0.6276, -0.4352,  2.7083],\n",
       "          [-0.5727, -0.4378,  2.7339]]], grad_fn=<SliceBackward0>),\n",
       " tensor([[[-0.5462,  0.2269,  2.6913],\n",
       "          [-0.5980,  0.3268,  2.6632],\n",
       "          [-0.4832,  0.3330,  2.7157],\n",
       "          [-0.5275,  0.1257,  2.6481],\n",
       "          [-0.7036,  0.6392,  2.8345],\n",
       "          [-0.5667,  0.5955,  2.9419],\n",
       "          [-0.5503, -0.0074,  2.6564],\n",
       "          [-0.6452,  0.9835,  2.6658],\n",
       "          [-0.5177,  0.8655,  2.6625],\n",
       "          [-0.5516, -0.0605,  2.6817],\n",
       "          [-0.7158,  1.0519,  2.7546],\n",
       "          [-0.5035,  0.9676,  2.7427],\n",
       "          [-0.5381, -0.2296,  2.6559],\n",
       "          [-0.5933, -0.1445,  2.6582],\n",
       "          [-0.5100, -0.1482,  2.6846],\n",
       "          [-0.5820, -0.3982,  2.6577],\n",
       "          [-0.6887, -0.2114,  2.6185],\n",
       "          [-0.4310, -0.2137,  2.7155],\n",
       "          [-0.7398,  0.0384,  2.5853],\n",
       "          [-0.3339,  0.0242,  2.7702],\n",
       "          [-0.8350,  0.2408,  2.6619],\n",
       "          [-0.3205,  0.2262,  2.8875],\n",
       "          [-0.5672, -0.3978,  2.6581],\n",
       "          [-0.6253, -0.4419,  2.7057],\n",
       "          [-0.5695, -0.4429,  2.7292]]], grad_fn=<SliceBackward0>)]"
      ]
     },
     "execution_count": 29,
     "metadata": {},
     "output_type": "execute_result"
    }
   ],
   "source": [
    "outs"
   ]
  },
  {
   "cell_type": "code",
   "execution_count": 39,
   "id": "57074621",
   "metadata": {},
   "outputs": [],
   "source": [
    "joined = np.concatenate([outs[0], outs[1]], axis=0)"
   ]
  },
  {
   "cell_type": "code",
   "execution_count": 31,
   "id": "d060a883-292a-46c7-9152-80970555928d",
   "metadata": {},
   "outputs": [
    {
     "data": {
      "text/plain": [
       "['__doc__',\n",
       " '__file__',\n",
       " '__loader__',\n",
       " '__name__',\n",
       " '__package__',\n",
       " '__path__',\n",
       " '__spec__']"
      ]
     },
     "execution_count": 31,
     "metadata": {},
     "output_type": "execute_result"
    }
   ],
   "source": [
    "dir(o3d)"
   ]
  },
  {
   "cell_type": "code",
   "execution_count": 30,
   "id": "9d733c6a",
   "metadata": {},
   "outputs": [
    {
     "ename": "AttributeError",
     "evalue": "module 'open3d' has no attribute 'geometry'",
     "output_type": "error",
     "traceback": [
      "\u001b[0;31m---------------------------------------------------------------------------\u001b[0m",
      "\u001b[0;31mAttributeError\u001b[0m                            Traceback (most recent call last)",
      "\u001b[0;32m/scratch/217526379.tmpdir/ipykernel_70668/1541675849.py\u001b[0m in \u001b[0;36m<module>\u001b[0;34m\u001b[0m\n\u001b[0;32m----> 1\u001b[0;31m \u001b[0mpcd\u001b[0m \u001b[0;34m=\u001b[0m \u001b[0mo3d\u001b[0m\u001b[0;34m.\u001b[0m\u001b[0mgeometry\u001b[0m\u001b[0;34m.\u001b[0m\u001b[0mPointCloud\u001b[0m\u001b[0;34m(\u001b[0m\u001b[0;34m)\u001b[0m\u001b[0;34m\u001b[0m\u001b[0;34m\u001b[0m\u001b[0m\n\u001b[0m\u001b[1;32m      2\u001b[0m \u001b[0mpcd\u001b[0m\u001b[0;34m.\u001b[0m\u001b[0mpoints\u001b[0m \u001b[0;34m=\u001b[0m \u001b[0mo3d\u001b[0m\u001b[0;34m.\u001b[0m\u001b[0mutility\u001b[0m\u001b[0;34m.\u001b[0m\u001b[0mVector3dVector\u001b[0m\u001b[0;34m(\u001b[0m\u001b[0mjoined\u001b[0m\u001b[0;34m)\u001b[0m\u001b[0;34m\u001b[0m\u001b[0;34m\u001b[0m\u001b[0m\n\u001b[1;32m      3\u001b[0m \u001b[0mo3d\u001b[0m\u001b[0;34m.\u001b[0m\u001b[0mvisualization\u001b[0m\u001b[0;34m.\u001b[0m\u001b[0mdraw_geometries\u001b[0m\u001b[0;34m(\u001b[0m\u001b[0;34m[\u001b[0m\u001b[0mpcd\u001b[0m\u001b[0;34m]\u001b[0m\u001b[0;34m)\u001b[0m\u001b[0;34m\u001b[0m\u001b[0;34m\u001b[0m\u001b[0m\n",
      "\u001b[0;31mAttributeError\u001b[0m: module 'open3d' has no attribute 'geometry'"
     ]
    }
   ],
   "source": [
    "pcd = o3d.geometry.PointCloud()\n",
    "pcd.points = o3d.utility.Vector3dVector(joined)\n",
    "o3d.visualization.draw_geometries([pcd])"
   ]
  },
  {
   "cell_type": "code",
   "execution_count": null,
   "id": "58fc9525-4ca6-474c-a0f6-d4299cb7ca7d",
   "metadata": {},
   "outputs": [],
   "source": [
    "from pytorch3d.renderer import (\n",
    "    look_at_view_transform,\n",
    "    FoVOrthographicCameras, \n",
    "    PointsRasterizationSettings,\n",
    "    PointsRenderer,\n",
    "    PulsarPointsRenderer,\n",
    "    PointsRasterizer,\n",
    "    AlphaCompositor,\n",
    "    NormWeightedCompositor\n",
    ")"
   ]
  },
  {
   "cell_type": "code",
   "execution_count": 32,
   "id": "9ffae9bb-0ce8-446c-b4cf-20b717098c6c",
   "metadata": {},
   "outputs": [],
   "source": [
    "import pytorch3d"
   ]
  },
  {
   "cell_type": "code",
   "execution_count": 2,
   "id": "921e7272",
   "metadata": {},
   "outputs": [
    {
     "ename": "NameError",
     "evalue": "name 'joints' is not defined",
     "output_type": "error",
     "traceback": [
      "\u001b[1;31m---------------------------------------------------------------------------\u001b[0m",
      "\u001b[1;31mNameError\u001b[0m                                 Traceback (most recent call last)",
      "\u001b[1;32m<ipython-input-2-b3e0f3811b2d>\u001b[0m in \u001b[0;36m<module>\u001b[1;34m\u001b[0m\n\u001b[1;32m----> 1\u001b[1;33m \u001b[0mjoints\u001b[0m\u001b[1;33m\u001b[0m\u001b[1;33m\u001b[0m\u001b[0m\n\u001b[0m",
      "\u001b[1;31mNameError\u001b[0m: name 'joints' is not defined"
     ]
    }
   ],
   "source": [
    "joints"
   ]
  },
  {
   "cell_type": "code",
   "execution_count": null,
   "id": "49aa564b",
   "metadata": {},
   "outputs": [],
   "source": [
    "gender = 'neutral'\n",
    "betas = torch.FloatTensor(1,10).zero_()\n",
    "# thetas = vposer.decode(torch.FloatTensor(1,32).normal_(), output_type='aa')\n",
    "thetas = torch.FloatTensor(1, 21, 3).zero_()\n",
    "\n",
    "draw_bodies(gender, betas, thetas)"
   ]
  },
  {
   "cell_type": "code",
   "execution_count": null,
   "id": "704e1e4e",
   "metadata": {},
   "outputs": [],
   "source": []
  },
  {
   "cell_type": "code",
   "execution_count": null,
   "id": "1d1fa846",
   "metadata": {},
   "outputs": [],
   "source": []
  },
  {
   "cell_type": "code",
   "execution_count": 116,
   "id": "73002f56",
   "metadata": {},
   "outputs": [],
   "source": [
    "p = Path(r'D:\\prox_data\\joint_locations\\BasementSittingBooth_00142_01\\results\\s001_frame_00010__00.00.00.305\\000.pkl')\n",
    "with open(r'D:\\prox_data\\joint_locations\\BasementSittingBooth_00142_01\\results\\s001_frame_00010__00.00.00.305\\000.pkl', 'rb') as file:\n",
    "    temp = pickle.load(file)"
   ]
  },
  {
   "cell_type": "code",
   "execution_count": 126,
   "id": "bebbc23f",
   "metadata": {},
   "outputs": [
    {
     "data": {
      "text/plain": [
       "tensor([[-0.0793, -0.3643, -0.0065],\n",
       "        [ 0.0019, -0.4264, -0.0635],\n",
       "        [-0.1156, -0.4719, -0.0657],\n",
       "        [-0.1137, -0.2532,  0.0073],\n",
       "        [ 0.1609, -0.7483, -0.1987],\n",
       "        [-0.0530, -0.7553, -0.2893],\n",
       "        [-0.1397, -0.1278,  0.0670],\n",
       "        [ 0.1915, -1.1004, -0.3962],\n",
       "        [ 0.0693, -1.0991, -0.4749],\n",
       "        [-0.1601, -0.0900,  0.1138],\n",
       "        [ 0.2967, -1.1270, -0.3082],\n",
       "        [-0.0264, -1.1608, -0.3975],\n",
       "        [-0.2185,  0.0698,  0.1510],\n",
       "        [-0.1376,  0.0035,  0.1413],\n",
       "        [-0.2303, -0.0212,  0.1363],\n",
       "        [-0.1946,  0.2015,  0.2573],\n",
       "        [-0.0353,  0.0929,  0.1427],\n",
       "        [-0.3464, -0.0016,  0.1509],\n",
       "        [ 0.0479, -0.1223,  0.0087],\n",
       "        [-0.3563, -0.2643,  0.0736],\n",
       "        [ 0.1711, -0.3284, -0.0585],\n",
       "        [-0.3611, -0.5015,  0.0078],\n",
       "        [-0.2103,  0.1975,  0.2599],\n",
       "        [-0.1480,  0.2287,  0.3171],\n",
       "        [-0.1990,  0.2080,  0.3455]], grad_fn=<SelectBackward0>)"
      ]
     },
     "execution_count": 126,
     "metadata": {},
     "output_type": "execute_result"
    },
    {
     "data": {
      "text/plain": [
       "torch.Size([10, 25, 3])"
      ]
     },
     "execution_count": 126,
     "metadata": {},
     "output_type": "execute_result"
    }
   ],
   "source": [
    "a, b = temp['in_joint_locations'], temp['pred_joint_locations']\n",
    "a[0]\n",
    "a.shape\n",
    "pcd = o3d.geometry.PointCloud()\n",
    "pcd.points = o3d.utility.Vector3dVector(np.concatenate([a[-2].detach().numpy(), a[-1].detach().numpy()], axis=0))\n",
    "o3d.visualization.draw_geometries([pcd])"
   ]
  },
  {
   "cell_type": "code",
   "execution_count": 108,
   "id": "03093b50",
   "metadata": {},
   "outputs": [
    {
     "data": {
      "text/plain": [
       "PureWindowsPath('D:/prox_data/PROXD_attempt2/PROXD/../../joint_locations/BasementSittingBooth_00142_01\\results/s001_frame_00010__00.00.00.305\\x00.pkl')"
      ]
     },
     "execution_count": 108,
     "metadata": {},
     "output_type": "execute_result"
    }
   ],
   "source": [
    "from pathlib import PurePath\n",
    "PurePath(p)"
   ]
  },
  {
   "cell_type": "code",
   "execution_count": 110,
   "id": "e62ff9ef",
   "metadata": {},
   "outputs": [
    {
     "data": {
      "text/plain": [
       "'aadf'"
      ]
     },
     "execution_count": 110,
     "metadata": {},
     "output_type": "execute_result"
    }
   ],
   "source": [
    "'asdf'.replace('s', 'a')"
   ]
  },
  {
   "cell_type": "code",
   "execution_count": null,
   "id": "157a9ee5",
   "metadata": {},
   "outputs": [],
   "source": []
  }
 ],
 "metadata": {
  "kernelspec": {
   "display_name": "Python 3 (ipykernel)",
   "language": "python",
   "name": "python3"
  },
  "language_info": {
   "codemirror_mode": {
    "name": "ipython",
    "version": 3
   },
   "file_extension": ".py",
   "mimetype": "text/x-python",
   "name": "python",
   "nbconvert_exporter": "python",
   "pygments_lexer": "ipython3",
   "version": "3.8.5"
  }
 },
 "nbformat": 4,
 "nbformat_minor": 5
}
