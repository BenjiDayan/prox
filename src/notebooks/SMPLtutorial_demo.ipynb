{
 "cells": [
  {
   "cell_type": "markdown",
   "id": "2d723137",
   "metadata": {},
   "source": [
    "# SMPL Tutorial\n",
    "\n",
    "\n",
    "### created by Yan Zhang @ ETH Zurich, 08.03.2022\n",
    "\n",
    "This script is associated with the course Virtual Humans'22 SMPL tutorial, and is provided as is. For third-party libs like SMPL models, please follow their official license to use.\n",
    "\n"
   ]
  },
  {
   "cell_type": "code",
   "execution_count": null,
   "id": "455a3892",
   "metadata": {
    "vscode": {
     "languageId": "python"
    }
   },
   "outputs": [
    {
     "ename": "",
     "evalue": "",
     "output_type": "error",
     "traceback": [
      "\u001b[1;31mRunning cells with 'Python 3.9.12 ('torch3d')' requires ipykernel package.\n",
      "Run the following command to install 'ipykernel' into the Python environment. \n",
      "Command: 'conda install -n torch3d ipykernel --update-deps --force-reinstall'"
     ]
    }
   ],
   "source": [
    "import numpy as np\n",
    "import open3d as o3d\n",
    "import torch\n",
    "\n",
    "\n",
    "# test whether GPU works\n",
    "try:\n",
    "  aa = torch.cuda.FloatTensor(3,3).normal_()\n",
    "except:\n",
    "  # raise OSError('-- cuda is not supported')\n",
    "  pass\n",
    "\n",
    "# specify device\n",
    "device = torch.device('cuda') if torch.cuda.is_available() else torch.device('cpu')\n",
    "\n",
    "\n",
    "print('-- pytorch version={}'.format(torch.__version__))\n",
    "print('-- device={}'.format(device))\n",
    "\n"
   ]
  },
  {
   "cell_type": "markdown",
   "id": "f8933484",
   "metadata": {},
   "source": [
    "## load the body model, SMPL-X and VPoser\n",
    "\n",
    "\n",
    "**You need to go to the official website, download the models, and save them to some places. For example,\n",
    "\n"
   ]
  },
  {
   "cell_type": "code",
   "execution_count": 6,
   "id": "42156b1c",
   "metadata": {
    "vscode": {
     "languageId": "python"
    }
   },
   "outputs": [],
   "source": [
    "smplx_model_path='../models_smplx_v1_1/models/'\n",
    "vposer_path='../vposer_v1_0'"
   ]
  },
  {
   "cell_type": "code",
   "execution_count": 3,
   "id": "316d42d0",
   "metadata": {
    "vscode": {
     "languageId": "python"
    }
   },
   "outputs": [],
   "source": [
    "import human_body_prior"
   ]
  },
  {
   "cell_type": "code",
   "execution_count": 4,
   "id": "22a7f202",
   "metadata": {
    "vscode": {
     "languageId": "python"
    }
   },
   "outputs": [
    {
     "ename": "AttributeError",
     "evalue": "module 'human_body_prior' has no attribute 'tools'",
     "output_type": "error",
     "traceback": [
      "\u001b[1;31m---------------------------------------------------------------------------\u001b[0m",
      "\u001b[1;31mAttributeError\u001b[0m                            Traceback (most recent call last)",
      "\u001b[1;32m<ipython-input-4-655de0108f84>\u001b[0m in \u001b[0;36m<module>\u001b[1;34m\u001b[0m\n\u001b[1;32m----> 1\u001b[1;33m \u001b[0mdir\u001b[0m\u001b[1;33m(\u001b[0m\u001b[0mhuman_body_prior\u001b[0m\u001b[1;33m.\u001b[0m\u001b[0mtools\u001b[0m\u001b[1;33m.\u001b[0m\u001b[0mmodel_loader\u001b[0m\u001b[1;33m)\u001b[0m\u001b[1;33m\u001b[0m\u001b[1;33m\u001b[0m\u001b[0m\n\u001b[0m",
      "\u001b[1;31mAttributeError\u001b[0m: module 'human_body_prior' has no attribute 'tools'"
     ]
    }
   ],
   "source": [
    "dir(human_body_prior.tools.model_loader)"
   ]
  },
  {
   "cell_type": "code",
   "execution_count": 7,
   "id": "730ad8f5",
   "metadata": {
    "vscode": {
     "languageId": "python"
    }
   },
   "outputs": [],
   "source": [
    "import smplx  # SMPL-X; pip install smplx\n",
    "from human_body_prior.tools.model_loader import load_model\n",
    "\n",
    "\n",
    "def get_smplx_model(gender, device):\n",
    "    body_model_path = smplx_model_path\n",
    "    body_model = smplx.create(body_model_path, \n",
    "                          model_type='smplx',        ## smpl, smpl+h, or smplx?\n",
    "                          gender=gender, ext='npz',  ## file format \n",
    "                          num_pca_comps=12,          ## MANO hand pose pca component\n",
    "                          create_global_orient=True, \n",
    "                          create_body_pose=True,\n",
    "                          create_betas=True,\n",
    "                          create_left_hand_pose=True,\n",
    "                          create_right_hand_pose=True,\n",
    "                          create_expression=True, \n",
    "                          create_jaw_pose=True,\n",
    "                          create_leye_pose=True,\n",
    "                          create_reye_pose=True,\n",
    "                          create_transl=True,\n",
    "                          batch_size=1               ## how many bodies in a batch?\n",
    "                          )\n",
    "    body_model.eval()\n",
    "    return body_model\n",
    "\n",
    "smplx_male = get_smplx_model(gender='male', device=device)\n",
    "smplx_female = get_smplx_model(gender='female', device=device)\n",
    "smplx_neutral = get_smplx_model(gender='neutral', device=device)\n",
    "\n",
    "\n",
    "# vposer, _ = load_model(vposer_path, vp_model='snapshot')\n",
    "# vposer.eval()\n"
   ]
  },
  {
   "cell_type": "code",
   "execution_count": 18,
   "id": "caf357fd",
   "metadata": {
    "vscode": {
     "languageId": "python"
    }
   },
   "outputs": [
    {
     "ename": "AssertionError",
     "evalue": "No checck points found at ../vposer_v1_0\\snapshots",
     "output_type": "error",
     "traceback": [
      "\u001b[1;31m---------------------------------------------------------------------------\u001b[0m",
      "\u001b[1;31mAssertionError\u001b[0m                            Traceback (most recent call last)",
      "\u001b[1;32m<ipython-input-18-61cdb0f80e5c>\u001b[0m in \u001b[0;36m<module>\u001b[1;34m\u001b[0m\n\u001b[1;32m----> 1\u001b[1;33m \u001b[0mvposer\u001b[0m\u001b[1;33m,\u001b[0m \u001b[0m_\u001b[0m \u001b[1;33m=\u001b[0m \u001b[0mload_model\u001b[0m\u001b[1;33m(\u001b[0m\u001b[0mvposer_path\u001b[0m\u001b[1;33m)\u001b[0m\u001b[1;33m\u001b[0m\u001b[1;33m\u001b[0m\u001b[0m\n\u001b[0m",
      "\u001b[1;32mc:\\users\\benja\\coding\\eth\\human_body_prior\\src\\human_body_prior\\tools\\model_loader.py\u001b[0m in \u001b[0;36mload_model\u001b[1;34m(expr_dir, model_code, remove_words_in_model_weights, load_only_ps, disable_grad, custom_ps)\u001b[0m\n\u001b[0;32m     58\u001b[0m     \u001b[1;32mimport\u001b[0m \u001b[0mtorch\u001b[0m\u001b[1;33m\u001b[0m\u001b[1;33m\u001b[0m\u001b[0m\n\u001b[0;32m     59\u001b[0m \u001b[1;33m\u001b[0m\u001b[0m\n\u001b[1;32m---> 60\u001b[1;33m     \u001b[0mmodel_ps\u001b[0m\u001b[1;33m,\u001b[0m \u001b[0mtrained_weigths_fname\u001b[0m \u001b[1;33m=\u001b[0m \u001b[0mexprdir2model\u001b[0m\u001b[1;33m(\u001b[0m\u001b[0mexpr_dir\u001b[0m\u001b[1;33m)\u001b[0m\u001b[1;33m\u001b[0m\u001b[1;33m\u001b[0m\u001b[0m\n\u001b[0m\u001b[0;32m     61\u001b[0m     \u001b[1;32mif\u001b[0m \u001b[0mload_only_ps\u001b[0m\u001b[1;33m:\u001b[0m \u001b[1;32mreturn\u001b[0m \u001b[0mmodel_ps\u001b[0m\u001b[1;33m\u001b[0m\u001b[1;33m\u001b[0m\u001b[0m\n\u001b[0;32m     62\u001b[0m     \u001b[1;32mif\u001b[0m \u001b[0mcustom_ps\u001b[0m \u001b[1;32mis\u001b[0m \u001b[1;32mnot\u001b[0m \u001b[1;32mNone\u001b[0m\u001b[1;33m:\u001b[0m \u001b[0mmodel_ps\u001b[0m \u001b[1;33m=\u001b[0m \u001b[0mcustom_ps\u001b[0m\u001b[1;33m\u001b[0m\u001b[1;33m\u001b[0m\u001b[0m\n",
      "\u001b[1;32mc:\\users\\benja\\coding\\eth\\human_body_prior\\src\\human_body_prior\\tools\\model_loader.py\u001b[0m in \u001b[0;36mexprdir2model\u001b[1;34m(expr_dir)\u001b[0m\n\u001b[0;32m     31\u001b[0m     \u001b[0mmodel_snapshots_dir\u001b[0m \u001b[1;33m=\u001b[0m \u001b[0mosp\u001b[0m\u001b[1;33m.\u001b[0m\u001b[0mjoin\u001b[0m\u001b[1;33m(\u001b[0m\u001b[0mexpr_dir\u001b[0m\u001b[1;33m,\u001b[0m \u001b[1;34m'snapshots'\u001b[0m\u001b[1;33m)\u001b[0m\u001b[1;33m\u001b[0m\u001b[1;33m\u001b[0m\u001b[0m\n\u001b[0;32m     32\u001b[0m     \u001b[0mavailable_ckpts\u001b[0m \u001b[1;33m=\u001b[0m \u001b[0msorted\u001b[0m\u001b[1;33m(\u001b[0m\u001b[0mglob\u001b[0m\u001b[1;33m.\u001b[0m\u001b[0mglob\u001b[0m\u001b[1;33m(\u001b[0m\u001b[0mosp\u001b[0m\u001b[1;33m.\u001b[0m\u001b[0mjoin\u001b[0m\u001b[1;33m(\u001b[0m\u001b[0mmodel_snapshots_dir\u001b[0m\u001b[1;33m,\u001b[0m \u001b[1;34m'*.ckpt'\u001b[0m\u001b[1;33m)\u001b[0m\u001b[1;33m)\u001b[0m\u001b[1;33m,\u001b[0m \u001b[0mkey\u001b[0m\u001b[1;33m=\u001b[0m\u001b[0mosp\u001b[0m\u001b[1;33m.\u001b[0m\u001b[0mgetmtime\u001b[0m\u001b[1;33m)\u001b[0m\u001b[1;33m\u001b[0m\u001b[1;33m\u001b[0m\u001b[0m\n\u001b[1;32m---> 33\u001b[1;33m     \u001b[1;32massert\u001b[0m \u001b[0mlen\u001b[0m\u001b[1;33m(\u001b[0m\u001b[0mavailable_ckpts\u001b[0m\u001b[1;33m)\u001b[0m \u001b[1;33m>\u001b[0m \u001b[1;36m0\u001b[0m\u001b[1;33m,\u001b[0m \u001b[0mValueError\u001b[0m\u001b[1;33m(\u001b[0m\u001b[1;34m'No checck points found at {}'\u001b[0m\u001b[1;33m.\u001b[0m\u001b[0mformat\u001b[0m\u001b[1;33m(\u001b[0m\u001b[0mmodel_snapshots_dir\u001b[0m\u001b[1;33m)\u001b[0m\u001b[1;33m)\u001b[0m\u001b[1;33m\u001b[0m\u001b[1;33m\u001b[0m\u001b[0m\n\u001b[0m\u001b[0;32m     34\u001b[0m     \u001b[0mtrained_weigths_fname\u001b[0m \u001b[1;33m=\u001b[0m \u001b[0mavailable_ckpts\u001b[0m\u001b[1;33m[\u001b[0m\u001b[1;33m-\u001b[0m\u001b[1;36m1\u001b[0m\u001b[1;33m]\u001b[0m\u001b[1;33m\u001b[0m\u001b[1;33m\u001b[0m\u001b[0m\n\u001b[0;32m     35\u001b[0m \u001b[1;33m\u001b[0m\u001b[0m\n",
      "\u001b[1;31mAssertionError\u001b[0m: No checck points found at ../vposer_v1_0\\snapshots"
     ]
    }
   ],
   "source": [
    "vposer, _ = load_model(vposer_path)"
   ]
  },
  {
   "cell_type": "markdown",
   "id": "88fa1243",
   "metadata": {},
   "source": [
    "## visualize the body model"
   ]
  },
  {
   "cell_type": "code",
   "execution_count": 8,
   "id": "cbb32a0b",
   "metadata": {
    "vscode": {
     "languageId": "python"
    }
   },
   "outputs": [],
   "source": [
    "\n",
    "def draw_bodies(gender, betas, thetas):\n",
    "\n",
    "    if gender=='male':\n",
    "        bm = smplx_male\n",
    "    elif gender=='female':\n",
    "        bm = smplx_female\n",
    "    else:\n",
    "        bm = smplx_neutral\n",
    "\n",
    "\n",
    "    ## read verts and face from smplx model\n",
    "    params = {'betas': betas,\n",
    "              'body_pose': thetas\n",
    "              }\n",
    "\n",
    "\n",
    "    verts = bm(return_verts=True, **params).vertices.detach().cpu().numpy()[0]\n",
    "    faces = bm.faces\n",
    "\n",
    "    ## put verts and face into open3d, and compute surface normal\n",
    "    coord = o3d.geometry.TriangleMesh.create_coordinate_frame(size=0.5)\n",
    "    body = o3d.geometry.TriangleMesh()\n",
    "    body.vertices = o3d.utility.Vector3dVector(verts)\n",
    "    body.triangles = o3d.utility.Vector3iVector(faces)\n",
    "    body.vertex_normals = o3d.utility.Vector3dVector([])\n",
    "    body.triangle_normals = o3d.utility.Vector3dVector([])\n",
    "    body.compute_vertex_normals()\n",
    "    o3d.visualization.draw_geometries([body, coord])\n",
    "    \n",
    "    return None\n",
    "\n"
   ]
  },
  {
   "cell_type": "code",
   "execution_count": 11,
   "id": "2ccb2a4a",
   "metadata": {
    "vscode": {
     "languageId": "python"
    }
   },
   "outputs": [],
   "source": [
    "gender = 'neutral'\n",
    "betas = torch.FloatTensor(1,10).zero_()\n",
    "# thetas = vposer.decode(torch.FloatTensor(1,32).normal_(), output_type='aa')\n",
    "thetas = torch.FloatTensor(1, 21, 3).zero_()\n",
    "\n",
    "draw_bodies(gender, betas, thetas)"
   ]
  },
  {
   "cell_type": "code",
   "execution_count": 63,
   "id": "db3deaf6",
   "metadata": {
    "vscode": {
     "languageId": "python"
    }
   },
   "outputs": [
    {
     "data": {
      "text/plain": [
       "['EXPRESSION_SPACE_DIM',\n",
       " 'J_regressor',\n",
       " 'NECK_IDX',\n",
       " 'NUM_BODY_JOINTS',\n",
       " 'NUM_FACE_JOINTS',\n",
       " 'NUM_HAND_JOINTS',\n",
       " 'NUM_JOINTS',\n",
       " 'SHAPE_SPACE_DIM',\n",
       " 'T_destination',\n",
       " '__annotations__',\n",
       " '__call__',\n",
       " '__class__',\n",
       " '__delattr__',\n",
       " '__dict__',\n",
       " '__dir__',\n",
       " '__doc__',\n",
       " '__eq__',\n",
       " '__format__',\n",
       " '__ge__',\n",
       " '__getattr__',\n",
       " '__getattribute__',\n",
       " '__gt__',\n",
       " '__hash__',\n",
       " '__init__',\n",
       " '__init_subclass__',\n",
       " '__le__',\n",
       " '__lt__',\n",
       " '__module__',\n",
       " '__ne__',\n",
       " '__new__',\n",
       " '__reduce__',\n",
       " '__reduce_ex__',\n",
       " '__repr__',\n",
       " '__setattr__',\n",
       " '__setstate__',\n",
       " '__sizeof__',\n",
       " '__str__',\n",
       " '__subclasshook__',\n",
       " '__weakref__',\n",
       " '_apply',\n",
       " '_backward_hooks',\n",
       " '_buffers',\n",
       " '_call_impl',\n",
       " '_forward_hooks',\n",
       " '_forward_pre_hooks',\n",
       " '_get_backward_hooks',\n",
       " '_get_name',\n",
       " '_is_full_backward_hook',\n",
       " '_load_from_state_dict',\n",
       " '_load_state_dict_pre_hooks',\n",
       " '_maybe_warn_non_full_backward_hook',\n",
       " '_modules',\n",
       " '_named_members',\n",
       " '_non_persistent_buffers_set',\n",
       " '_num_betas',\n",
       " '_num_expression_coeffs',\n",
       " '_parameters',\n",
       " '_register_load_state_dict_pre_hook',\n",
       " '_register_state_dict_hook',\n",
       " '_replicate_for_data_parallel',\n",
       " '_save_to_state_dict',\n",
       " '_slow_forward',\n",
       " '_state_dict_hooks',\n",
       " '_version',\n",
       " 'add_module',\n",
       " 'age',\n",
       " 'apply',\n",
       " 'batch_size',\n",
       " 'betas',\n",
       " 'bfloat16',\n",
       " 'body_pose',\n",
       " 'buffers',\n",
       " 'children',\n",
       " 'cpu',\n",
       " 'create_mean_pose',\n",
       " 'cuda',\n",
       " 'double',\n",
       " 'dtype',\n",
       " 'dump_patches',\n",
       " 'eval',\n",
       " 'expr_dirs',\n",
       " 'expression',\n",
       " 'extra_repr',\n",
       " 'faces',\n",
       " 'faces_tensor',\n",
       " 'flat_hand_mean',\n",
       " 'float',\n",
       " 'forward',\n",
       " 'forward_shape',\n",
       " 'gender',\n",
       " 'get_buffer',\n",
       " 'get_extra_state',\n",
       " 'get_num_faces',\n",
       " 'get_num_verts',\n",
       " 'get_parameter',\n",
       " 'get_submodule',\n",
       " 'global_orient',\n",
       " 'half',\n",
       " 'jaw_pose',\n",
       " 'joint_mapper',\n",
       " 'lbs_weights',\n",
       " 'left_hand_components',\n",
       " 'left_hand_mean',\n",
       " 'left_hand_pose',\n",
       " 'leye_pose',\n",
       " 'lmk_bary_coords',\n",
       " 'lmk_faces_idx',\n",
       " 'load_state_dict',\n",
       " 'modules',\n",
       " 'name',\n",
       " 'named_buffers',\n",
       " 'named_children',\n",
       " 'named_modules',\n",
       " 'named_parameters',\n",
       " 'np_left_hand_components',\n",
       " 'np_right_hand_components',\n",
       " 'num_betas',\n",
       " 'num_expression_coeffs',\n",
       " 'num_pca_comps',\n",
       " 'parameters',\n",
       " 'parents',\n",
       " 'pose_mean',\n",
       " 'posedirs',\n",
       " 'register_backward_hook',\n",
       " 'register_buffer',\n",
       " 'register_forward_hook',\n",
       " 'register_forward_pre_hook',\n",
       " 'register_full_backward_hook',\n",
       " 'register_parameter',\n",
       " 'requires_grad_',\n",
       " 'reset_params',\n",
       " 'reye_pose',\n",
       " 'right_hand_components',\n",
       " 'right_hand_mean',\n",
       " 'right_hand_pose',\n",
       " 'set_extra_state',\n",
       " 'shapedirs',\n",
       " 'share_memory',\n",
       " 'state_dict',\n",
       " 'to',\n",
       " 'to_empty',\n",
       " 'train',\n",
       " 'training',\n",
       " 'transl',\n",
       " 'type',\n",
       " 'use_face_contour',\n",
       " 'use_pca',\n",
       " 'v_template',\n",
       " 'vertex_joint_selector',\n",
       " 'xpu',\n",
       " 'zero_grad']"
      ]
     },
     "execution_count": 63,
     "metadata": {},
     "output_type": "execute_result"
    }
   ],
   "source": [
    "dir(smplx_neutral)"
   ]
  },
  {
   "cell_type": "code",
   "execution_count": 49,
   "id": "b3ec0193",
   "metadata": {
    "vscode": {
     "languageId": "python"
    }
   },
   "outputs": [],
   "source": [
    "thetas2 = torch.FloatTensor(1, 21, 3).zero_()\n",
    "# thetas2[0, 0] = torch.tensor([-3.0, 0.0, 0.0])  # left foot forward (or back)\n",
    "# thetas2[0, 0] = torch.tensor([0.0, 0.0, 2.0])\n",
    "thetas2[0, 19] = torch.tensor([-1.0, 1.0, 1.0])\n",
    "thetas2[0, 18] = torch.tensor([-1.0, 1.0, 1.0])\n",
    "thetas2[0, 17] = torch.tensor([-1.0, 1.0, 1.0])\n",
    "thetas2[0, 16] = torch.tensor([-1.0, 1.0, 1.0])"
   ]
  },
  {
   "cell_type": "code",
   "execution_count": 50,
   "id": "2e583f83",
   "metadata": {
    "vscode": {
     "languageId": "python"
    }
   },
   "outputs": [],
   "source": [
    "draw_bodies(gender, betas, thetas2)"
   ]
  },
  {
   "cell_type": "code",
   "execution_count": 70,
   "id": "51130c6e",
   "metadata": {
    "vscode": {
     "languageId": "python"
    }
   },
   "outputs": [
    {
     "data": {
      "text/plain": [
       "SMPLXOutput(vertices=tensor([[[ 0.0600,  0.2760, -0.0089],\n",
       "         [ 0.0641,  0.2750, -0.0079],\n",
       "         [ 0.0647,  0.2765, -0.0078],\n",
       "         ...,\n",
       "         [-0.0386,  0.3091,  0.0519],\n",
       "         [-0.0365,  0.3095,  0.0507],\n",
       "         [-0.0342,  0.3099,  0.0499]]], grad_fn=<AsStridedBackward0>), joints=tensor([[[ 3.1233e-03, -3.5141e-01,  1.2037e-02],\n",
       "         [ 6.1313e-02, -4.4417e-01, -1.3965e-02],\n",
       "         [-6.0144e-02, -4.5532e-01, -9.2138e-03],\n",
       "         [ 3.6056e-04, -2.4152e-01, -1.5581e-02],\n",
       "         [ 1.1601e-01, -8.2292e-01, -2.3361e-02],\n",
       "         [-1.0435e-01, -8.1770e-01, -2.6038e-02],\n",
       "         [ 9.8083e-03, -1.0966e-01, -2.1521e-02],\n",
       "         [ 7.2555e-02, -1.2260e+00, -5.5237e-02],\n",
       "         [-8.8937e-02, -1.2284e+00, -4.6230e-02],\n",
       "         [-1.5222e-03, -5.7428e-02,  6.9258e-03],\n",
       "         [ 1.1981e-01, -1.2840e+00,  6.2980e-02],\n",
       "         [-1.2775e-01, -1.2868e+00,  7.2819e-02],\n",
       "         [-1.3687e-02,  1.0774e-01, -2.4690e-02],\n",
       "         [ 4.4842e-02,  2.7515e-02, -2.9465e-04],\n",
       "         [-4.9217e-02,  2.6910e-02, -6.4741e-03],\n",
       "         [ 1.1097e-02,  2.6819e-01, -3.9522e-03],\n",
       "         [ 1.6408e-01,  8.5243e-02, -1.5756e-02],\n",
       "         [-1.5179e-01,  8.0435e-02, -1.9143e-02],\n",
       "         [ 4.1820e-01,  1.3093e-02, -5.8214e-02],\n",
       "         [-4.2294e-01,  4.3942e-02, -4.5610e-02],\n",
       "         [ 6.7019e-01,  3.6314e-02, -6.0687e-02],\n",
       "         [-6.7221e-01,  3.9410e-02, -6.0935e-02],\n",
       "         [-4.6678e-03,  2.6767e-01, -9.5914e-03],\n",
       "         [ 3.1599e-02,  3.1083e-01,  6.2195e-02],\n",
       "         [-3.1600e-02,  3.1083e-01,  6.2194e-02],\n",
       "         [ 7.7209e-01,  2.7626e-02, -4.1335e-02],\n",
       "         [ 8.0224e-01,  1.6472e-02, -4.0185e-02],\n",
       "         [ 8.0875e-01, -5.1052e-03, -4.2618e-02],\n",
       "         [ 7.7959e-01,  2.9986e-02, -6.4667e-02],\n",
       "         [ 8.0606e-01,  1.4768e-02, -6.9308e-02],\n",
       "         [ 8.1108e-01, -8.5781e-03, -7.1220e-02],\n",
       "         [ 7.5424e-01,  2.1775e-02, -1.0444e-01],\n",
       "         [ 7.6636e-01,  7.3269e-03, -1.0981e-01],\n",
       "         [ 7.7016e-01, -1.1526e-02, -1.0964e-01],\n",
       "         [ 7.6763e-01,  2.7046e-02, -8.8031e-02],\n",
       "         [ 7.9120e-01,  1.0989e-02, -8.9926e-02],\n",
       "         [ 7.9545e-01, -1.2559e-02, -8.9112e-02],\n",
       "         [ 7.1083e-01,  1.8337e-02, -3.5076e-02],\n",
       "         [ 7.3246e-01,  6.9800e-04, -2.3452e-02],\n",
       "         [ 7.5646e-01, -7.6581e-03, -1.6904e-02],\n",
       "         [-7.7209e-01,  2.7627e-02, -4.1335e-02],\n",
       "         [-8.0224e-01,  1.6473e-02, -4.0184e-02],\n",
       "         [-8.0875e-01, -5.1046e-03, -4.2616e-02],\n",
       "         [-7.7959e-01,  2.9988e-02, -6.4669e-02],\n",
       "         [-8.0606e-01,  1.4770e-02, -6.9310e-02],\n",
       "         [-8.1108e-01, -8.5770e-03, -7.1221e-02],\n",
       "         [-7.5424e-01,  2.1775e-02, -1.0444e-01],\n",
       "         [-7.6636e-01,  7.3276e-03, -1.0981e-01],\n",
       "         [-7.7016e-01, -1.1525e-02, -1.0964e-01],\n",
       "         [-7.6764e-01,  2.7048e-02, -8.8034e-02],\n",
       "         [-7.9120e-01,  1.0991e-02, -8.9928e-02],\n",
       "         [-7.9545e-01, -1.2557e-02, -8.9113e-02],\n",
       "         [-7.1082e-01,  1.8335e-02, -3.5074e-02],\n",
       "         [-7.3246e-01,  6.9654e-04, -2.3450e-02],\n",
       "         [-7.5647e-01, -7.6567e-03, -1.6904e-02],\n",
       "         [ 8.1727e-07,  2.7588e-01,  1.1294e-01],\n",
       "         [-3.3018e-02,  3.1129e-01,  7.5301e-02],\n",
       "         [ 3.4586e-02,  3.1127e-01,  7.4859e-02],\n",
       "         [-7.1341e-02,  2.7677e-01, -1.4943e-02],\n",
       "         [ 7.2024e-02,  2.8323e-01, -1.4660e-02],\n",
       "         [ 8.7891e-02, -1.2863e+00,  1.3817e-01],\n",
       "         [ 1.5520e-01, -1.2939e+00,  9.0668e-02],\n",
       "         [ 9.6269e-02, -1.2658e+00, -1.1773e-01],\n",
       "         [-7.9235e-02, -1.2879e+00,  1.3619e-01],\n",
       "         [-1.5521e-01, -1.2939e+00,  9.0667e-02],\n",
       "         [-9.8138e-02, -1.2824e+00, -1.1574e-01],\n",
       "         [ 7.8187e-01, -2.8468e-02, -1.3414e-02],\n",
       "         [ 8.1442e-01, -2.9543e-02, -4.3518e-02],\n",
       "         [ 8.1413e-01, -3.6012e-02, -7.0888e-02],\n",
       "         [ 7.9637e-01, -3.7088e-02, -8.3112e-02],\n",
       "         [ 7.7425e-01, -3.3062e-02, -1.0473e-01],\n",
       "         [-7.8023e-01, -2.8799e-02, -9.9889e-03],\n",
       "         [-8.1442e-01, -2.9542e-02, -4.3515e-02],\n",
       "         [-8.1394e-01, -3.6286e-02, -7.0859e-02],\n",
       "         [-7.9624e-01, -3.7267e-02, -8.3044e-02],\n",
       "         [-7.7425e-01, -3.3059e-02, -1.0473e-01],\n",
       "         [-6.1207e-02,  3.1478e-01,  4.8969e-02],\n",
       "         [-5.2276e-02,  3.3204e-01,  6.3757e-02],\n",
       "         [-3.7966e-02,  3.3650e-01,  7.6953e-02],\n",
       "         [-2.2457e-02,  3.3535e-01,  8.4111e-02],\n",
       "         [-9.2774e-03,  3.3089e-01,  8.6310e-02],\n",
       "         [ 9.2767e-03,  3.3089e-01,  8.6311e-02],\n",
       "         [ 2.2456e-02,  3.3535e-01,  8.4114e-02],\n",
       "         [ 3.7965e-02,  3.3651e-01,  7.6956e-02],\n",
       "         [ 5.2274e-02,  3.3205e-01,  6.3760e-02],\n",
       "         [ 6.1205e-02,  3.1478e-01,  4.8973e-02],\n",
       "         [ 7.8541e-07,  3.1507e-01,  8.9552e-02],\n",
       "         [ 7.4400e-05,  3.0411e-01,  9.8290e-02],\n",
       "         [ 1.8244e-05,  2.9431e-01,  1.0655e-01],\n",
       "         [ 2.9447e-05,  2.8426e-01,  1.1401e-01],\n",
       "         [-1.2236e-02,  2.7020e-01,  9.3512e-02],\n",
       "         [-6.2909e-03,  2.6837e-01,  9.7300e-02],\n",
       "         [ 1.2929e-05,  2.6653e-01,  9.9285e-02],\n",
       "         [ 6.2914e-03,  2.6837e-01,  9.7301e-02],\n",
       "         [ 1.2236e-02,  2.7021e-01,  9.3513e-02],\n",
       "         [-4.5269e-02,  3.0985e-01,  6.5911e-02],\n",
       "         [-3.6538e-02,  3.1596e-01,  7.4935e-02],\n",
       "         [-2.6869e-02,  3.1550e-01,  7.5687e-02],\n",
       "         [-1.8548e-02,  3.0942e-01,  7.3419e-02],\n",
       "         [-2.6488e-02,  3.0691e-01,  7.4988e-02],\n",
       "         [-3.6002e-02,  3.0639e-01,  7.3990e-02],\n",
       "         [ 1.8547e-02,  3.0942e-01,  7.3422e-02],\n",
       "         [ 2.6868e-02,  3.1550e-01,  7.5691e-02],\n",
       "         [ 3.6537e-02,  3.1596e-01,  7.4939e-02],\n",
       "         [ 4.5268e-02,  3.0986e-01,  6.5914e-02],\n",
       "         [ 3.6001e-02,  3.0640e-01,  7.3993e-02],\n",
       "         [ 2.6487e-02,  3.0691e-01,  7.4992e-02],\n",
       "         [-2.3740e-02,  2.4298e-01,  8.4656e-02],\n",
       "         [-1.6264e-02,  2.4871e-01,  9.4408e-02],\n",
       "         [-6.3308e-03,  2.5140e-01,  9.9746e-02],\n",
       "         [ 2.5156e-06,  2.5072e-01,  1.0048e-01],\n",
       "         [ 6.3327e-03,  2.5140e-01,  9.9747e-02],\n",
       "         [ 1.6266e-02,  2.4871e-01,  9.4409e-02],\n",
       "         [ 2.3741e-02,  2.4298e-01,  8.4657e-02],\n",
       "         [ 1.6855e-02,  2.3921e-01,  9.2247e-02],\n",
       "         [ 6.6958e-03,  2.3801e-01,  9.8480e-02],\n",
       "         [ 1.8619e-06,  2.3774e-01,  9.9167e-02],\n",
       "         [-6.6934e-03,  2.3801e-01,  9.8479e-02],\n",
       "         [-1.6853e-02,  2.3921e-01,  9.2246e-02],\n",
       "         [-2.3127e-02,  2.4307e-01,  8.4205e-02],\n",
       "         [-6.3188e-03,  2.4484e-01,  9.4825e-02],\n",
       "         [ 9.8153e-07,  2.4475e-01,  9.5298e-02],\n",
       "         [ 6.3209e-03,  2.4484e-01,  9.4825e-02],\n",
       "         [ 2.3481e-02,  2.4305e-01,  8.4598e-02],\n",
       "         [ 6.8651e-03,  2.4460e-01,  9.4979e-02],\n",
       "         [ 7.6591e-07,  2.4477e-01,  9.5699e-02],\n",
       "         [-6.8633e-03,  2.4460e-01,  9.4978e-02]]], grad_fn=<AddBackward0>), full_pose=None, global_orient=Parameter containing:\n",
       "tensor([[0., 0., 0.]], requires_grad=True), transl=None, v_shaped=tensor([[[ 0.0600,  0.2760, -0.0089],\n",
       "         [ 0.0641,  0.2750, -0.0079],\n",
       "         [ 0.0647,  0.2765, -0.0078],\n",
       "         ...,\n",
       "         [-0.0386,  0.3091,  0.0519],\n",
       "         [-0.0365,  0.3095,  0.0507],\n",
       "         [-0.0342,  0.3099,  0.0499]]], grad_fn=<AddBackward0>), betas=Parameter containing:\n",
       "tensor([[0., 0., 0., 0., 0., 0., 0., 0., 0., 0.]], requires_grad=True), body_pose=Parameter containing:\n",
       "tensor([[0., 0., 0., 0., 0., 0., 0., 0., 0., 0., 0., 0., 0., 0., 0., 0., 0., 0., 0., 0., 0., 0., 0., 0.,\n",
       "         0., 0., 0., 0., 0., 0., 0., 0., 0., 0., 0., 0., 0., 0., 0., 0., 0., 0., 0., 0., 0., 0., 0., 0.,\n",
       "         0., 0., 0., 0., 0., 0., 0., 0., 0., 0., 0., 0., 0., 0., 0.]],\n",
       "       requires_grad=True), left_hand_pose=tensor([[0., 0., 0., 0., 0., 0., 0., 0., 0., 0., 0., 0., 0., 0., 0., 0., 0., 0., 0., 0., 0., 0., 0., 0.,\n",
       "         0., 0., 0., 0., 0., 0., 0., 0., 0., 0., 0., 0., 0., 0., 0., 0., 0., 0., 0., 0., 0.]],\n",
       "       grad_fn=<ViewBackward0>), right_hand_pose=tensor([[0., 0., 0., 0., 0., 0., 0., 0., 0., 0., 0., 0., 0., 0., 0., 0., 0., 0., 0., 0., 0., 0., 0., 0.,\n",
       "         0., 0., 0., 0., 0., 0., 0., 0., 0., 0., 0., 0., 0., 0., 0., 0., 0., 0., 0., 0., 0.]],\n",
       "       grad_fn=<ViewBackward0>), expression=Parameter containing:\n",
       "tensor([[0., 0., 0., 0., 0., 0., 0., 0., 0., 0.]], requires_grad=True), jaw_pose=Parameter containing:\n",
       "tensor([[0., 0., 0.]], requires_grad=True))"
      ]
     },
     "execution_count": 70,
     "metadata": {},
     "output_type": "execute_result"
    }
   ],
   "source": [
    "smplx_neutral()"
   ]
  },
  {
   "cell_type": "code",
   "execution_count": null,
   "id": "95805c7c",
   "metadata": {
    "vscode": {
     "languageId": "python"
    }
   },
   "outputs": [],
   "source": []
  }
 ],
 "metadata": {
  "kernelspec": {
   "display_name": "Python 3",
   "language": "python",
   "name": "python3"
  },
  "language_info": {
   "codemirror_mode": {
    "name": "ipython",
    "version": 3
   },
   "file_extension": ".py",
   "mimetype": "text/x-python",
   "name": "python",
   "nbconvert_exporter": "python",
   "pygments_lexer": "ipython3",
   "version": "3.9.12"
  }
 },
 "nbformat": 4,
 "nbformat_minor": 5
}
