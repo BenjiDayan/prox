{
 "cells": [
  {
   "cell_type": "code",
   "execution_count": 1,
   "metadata": {},
   "outputs": [
    {
     "name": "stdout",
     "output_type": "stream",
     "text": [
      "numpy: 1.21.5\n"
     ]
    }
   ],
   "source": [
    "\n",
    "import numpy as np # for data manipulation\n",
    "print('numpy: %s' % np.__version__) # print version\n",
    "import math # to help with data reshaping of the data\n",
    "\n",
    "import numpy as np\n",
    "import torch\n",
    "#import torchvision\n",
    "import torch.nn as nn\n",
    "import torch.nn.functional as F\n",
    "from torch.autograd import Variable\n",
    "\n",
    "# from sklearn.model_selection import train_test_split\n",
    "import tqdm\n",
    "import matplotlib.pyplot as plt\n",
    "import logging\n",
    "\n",
    "from IPython.core.interactiveshell import InteractiveShell\n",
    "InteractiveShell.ast_node_interactivity = \"all\""
   ]
  },
  {
   "cell_type": "code",
   "execution_count": 2,
   "metadata": {},
   "outputs": [
    {
     "data": {
      "text/plain": [
       "'1.10.0'"
      ]
     },
     "execution_count": 2,
     "metadata": {},
     "output_type": "execute_result"
    }
   ],
   "source": [
    "torch.__version__"
   ]
  },
  {
   "cell_type": "code",
   "execution_count": 3,
   "metadata": {},
   "outputs": [],
   "source": [
    "import os\n",
    "os.chdir('../')"
   ]
  },
  {
   "cell_type": "code",
   "execution_count": 4,
   "metadata": {},
   "outputs": [],
   "source": [
    "from benji_prox_dataloader import *\n",
    "root_dir = 'D:/prox_data/PROXD_attempt2/PROXD'\n",
    "in_frames = 10\n",
    "pred_frames = 5\n",
    "pd = proxDataset(root_dir, in_frames=in_frames, pred_frames=pred_frames, verbose=False)\n",
    "\n",
    "dataloader = DataLoader(pd, batch_size=4,\n",
    "                        shuffle=True, num_workers=0, collate_fn=my_collate)"
   ]
  },
  {
   "cell_type": "code",
   "execution_count": 5,
   "metadata": {},
   "outputs": [],
   "source": [
    "class MockupModel(nn.Module):\n",
    "    def __init__(self, input_size: int, hidden_size: int, num_layers: int, output_size: np.ndarray, seq_len):\n",
    "        super().__init__()\n",
    "\n",
    "        self.hidden_size = hidden_size\n",
    "        self.seq_len = seq_len\n",
    "        self.input_size = input_size\n",
    "        self.output_size=output_size\n",
    "\n",
    "        self.model = nn.ModuleDict({\n",
    "            'lstm': nn.LSTM(input_size=np.product(input_size), hidden_size=hidden_size, num_layers=num_layers, batch_first=True),\n",
    "            'linear': nn.Linear(in_features=hidden_size*seq_len, out_features=np.product(output_size))})  # is this correct?l\n",
    "\n",
    "    def forward(self, input):\n",
    "        # From [batches, seqs, seq len, features]\n",
    "        # to [seq len, batch data, features]\n",
    "        logging.debug(f'input: {input.shape}')\n",
    "        input = input.reshape(-1, self.seq_len, self.input_size)\n",
    "        logging.debug(f'input trans: {input.shape}')\n",
    "\n",
    "       \n",
    "        # Data is fed to the LSTM\n",
    "        out, (h_n, c_n) = self.model['lstm'](input)\n",
    "        logging.debug(f'h_n: {h_n.shape}; c_n: {c_n.shape}')\n",
    "        logging.debug(f'lstm out: {out.shape}')\n",
    "\n",
    "\n",
    "        # in_bs = input.shape[1]\n",
    "        out = out.reshape(-1, self.seq_len*self.hidden_size)\n",
    "        logging.debug(f'linear in: {out.shape}')\n",
    "        out = self.model['linear'](out)\n",
    "        logging.debug(f'linear out: {out.shape}')\n",
    "        return out.reshape((-1,) + self.output_size)\n"
   ]
  },
  {
   "cell_type": "code",
   "execution_count": 70,
   "metadata": {},
   "outputs": [
    {
     "data": {
      "text/plain": [
       "torch.Size([5, 3, 20])"
      ]
     },
     "execution_count": 70,
     "metadata": {},
     "output_type": "execute_result"
    }
   ],
   "source": [
    "rnn = nn.LSTM(10, 20, 2)\n",
    "input = torch.randn(5, 3, 10)\n",
    "h0 = torch.randn(2, 3, 20)\n",
    "c0 = torch.randn(2, 3, 20)\n",
    "output, (hn, cn) = rnn(input, (h0, c0))\n",
    "output.shape"
   ]
  },
  {
   "cell_type": "code",
   "execution_count": 73,
   "metadata": {},
   "outputs": [
    {
     "data": {
      "text/plain": [
       "torch.Size([2, 3, 20])"
      ]
     },
     "execution_count": 73,
     "metadata": {},
     "output_type": "execute_result"
    },
    {
     "data": {
      "text/plain": [
       "tensor([[ 0.0298,  0.0374, -0.1854,  0.0906,  0.1068,  0.0468, -0.0153,  0.1666,\n",
       "         -0.1042, -0.1513, -0.0256,  0.0872, -0.0668, -0.1188,  0.0823,  0.0799,\n",
       "         -0.0492, -0.1464,  0.0095, -0.0931],\n",
       "        [ 0.0502,  0.0263, -0.1283,  0.0511,  0.0896,  0.0584, -0.0352,  0.1302,\n",
       "         -0.1181, -0.1617, -0.0018,  0.0657, -0.0620, -0.0628,  0.0569,  0.0662,\n",
       "         -0.0397, -0.0959,  0.0386, -0.1260],\n",
       "        [ 0.0573,  0.0936, -0.1105,  0.0531,  0.0617,  0.0475,  0.0313,  0.2000,\n",
       "         -0.0554, -0.1514, -0.0164,  0.0675, -0.0273, -0.1004,  0.0694,  0.0559,\n",
       "          0.0004, -0.1030, -0.0433, -0.0180]], grad_fn=<SelectBackward0>)"
      ]
     },
     "execution_count": 73,
     "metadata": {},
     "output_type": "execute_result"
    },
    {
     "data": {
      "text/plain": [
       "tensor([[ 0.0298,  0.0374, -0.1854,  0.0906,  0.1068,  0.0468, -0.0153,  0.1666,\n",
       "         -0.1042, -0.1513, -0.0256,  0.0872, -0.0668, -0.1188,  0.0823,  0.0799,\n",
       "         -0.0492, -0.1464,  0.0095, -0.0931],\n",
       "        [ 0.0502,  0.0263, -0.1283,  0.0511,  0.0896,  0.0584, -0.0352,  0.1302,\n",
       "         -0.1181, -0.1617, -0.0018,  0.0657, -0.0620, -0.0628,  0.0569,  0.0662,\n",
       "         -0.0397, -0.0959,  0.0386, -0.1260],\n",
       "        [ 0.0573,  0.0936, -0.1105,  0.0531,  0.0617,  0.0475,  0.0313,  0.2000,\n",
       "         -0.0554, -0.1514, -0.0164,  0.0675, -0.0273, -0.1004,  0.0694,  0.0559,\n",
       "          0.0004, -0.1030, -0.0433, -0.0180]], grad_fn=<SelectBackward0>)"
      ]
     },
     "execution_count": 73,
     "metadata": {},
     "output_type": "execute_result"
    }
   ],
   "source": [
    "hn.shape\n",
    "hn[-1]\n",
    "output[-1]"
   ]
  },
  {
   "cell_type": "code",
   "execution_count": 39,
   "metadata": {},
   "outputs": [
    {
     "name": "stderr",
     "output_type": "stream",
     "text": [
      "1469it [13:12,  1.85it/s]\n"
     ]
    },
    {
     "data": {
      "text/plain": [
       "[<matplotlib.lines.Line2D at 0x1f3f3abb790>]"
      ]
     },
     "execution_count": 39,
     "metadata": {},
     "output_type": "execute_result"
    },
    {
     "name": "stdout",
     "output_type": "stream",
     "text": [
      "[0.2113913595676422, 0.12679673731327057, 0.1892542839050293, 0.08245917409658432]\n"
     ]
    },
    {
     "data": {
      "image/png": "[encoded data removed]",
      "text/plain": [
       "<Figure size 432x288 with 1 Axes>"
      ]
     },
     "metadata": {
      "needs_background": "light"
     },
     "output_type": "display_data"
    }
   ],
   "source": [
    "criterion = nn.MSELoss()\n",
    "learning_rate=0.00001\n",
    "losses = []\n",
    "losses_rep = []\n",
    "\n",
    "rnn = MockupModel(input_size=21*3, hidden_size=50, num_layers=2, output_size=(pred_frames, 21, 3), seq_len=in_frames)\n",
    "\n",
    "n_iter = 1\n",
    "bs = 30\n",
    "i = 0\n",
    "\n",
    "for i, (indices, in_skels, pred_skels) in tqdm.tqdm(enumerate(dataloader)):\n",
    "    output = rnn(in_skels)\n",
    "    loss = criterion(output, pred_skels)\n",
    "    loss.backward()\n",
    "    #repeat_pred = \n",
    "\n",
    "    rep_pred = in_skels[:, -1, :, :]\n",
    "    rep_pred = rep_pred.tile(pred_frames, 1, 1, 1).transpose(0, 1)\n",
    "    loss_rep = criterion(rep_pred, pred_skels)\n",
    "    losses_rep.append(loss_rep)\n",
    "\n",
    "    for p in rnn.parameters():\n",
    "        _ = p.data.add_(p.grad.data, alpha=-learning_rate)\n",
    "    losses.append(loss.item())\n",
    "    # print(i, loss)\n",
    "\n",
    "\n",
    "plt.plot(losses)\n",
    "print(losses[-4:])"
   ]
  },
  {
   "cell_type": "code",
   "execution_count": 74,
   "metadata": {},
   "outputs": [
    {
     "data": {
      "text/plain": [
       "torch.Size([4, 10, 21, 3])"
      ]
     },
     "execution_count": 74,
     "metadata": {},
     "output_type": "execute_result"
    }
   ],
   "source": [
    "in_skels.shape"
   ]
  },
  {
   "cell_type": "code",
   "execution_count": null,
   "metadata": {},
   "outputs": [],
   "source": [
    "losses_rep[-5:]"
   ]
  },
  {
   "cell_type": "code",
   "execution_count": 76,
   "metadata": {},
   "outputs": [
    {
     "ename": "AttributeError",
     "evalue": "'PoseGRU_inputFC' object has no attribute 'hidden'",
     "output_type": "error",
     "traceback": [
      "\u001b[1;31m---------------------------------------------------------------------------\u001b[0m",
      "\u001b[1;31mAttributeError\u001b[0m                            Traceback (most recent call last)",
      "\u001b[1;32m<ipython-input-76-d155cbc05dc7>\u001b[0m in \u001b[0;36m<module>\u001b[1;34m\u001b[0m\n\u001b[1;32m----> 1\u001b[1;33m \u001b[0mrnn_gru\u001b[0m\u001b[1;33m(\u001b[0m\u001b[0min_skels\u001b[0m\u001b[1;33m)\u001b[0m\u001b[1;33m\u001b[0m\u001b[1;33m\u001b[0m\u001b[0m\n\u001b[0m",
      "\u001b[1;32m~\\Anaconda3\\envs\\torch3d\\lib\\site-packages\\torch\\nn\\modules\\module.py\u001b[0m in \u001b[0;36m_call_impl\u001b[1;34m(self, *input, **kwargs)\u001b[0m\n\u001b[0;32m   1100\u001b[0m         if not (self._backward_hooks or self._forward_hooks or self._forward_pre_hooks or _global_backward_hooks\n\u001b[0;32m   1101\u001b[0m                 or _global_forward_hooks or _global_forward_pre_hooks):\n\u001b[1;32m-> 1102\u001b[1;33m             \u001b[1;32mreturn\u001b[0m \u001b[0mforward_call\u001b[0m\u001b[1;33m(\u001b[0m\u001b[1;33m*\u001b[0m\u001b[0minput\u001b[0m\u001b[1;33m,\u001b[0m \u001b[1;33m**\u001b[0m\u001b[0mkwargs\u001b[0m\u001b[1;33m)\u001b[0m\u001b[1;33m\u001b[0m\u001b[1;33m\u001b[0m\u001b[0m\n\u001b[0m\u001b[0;32m   1103\u001b[0m         \u001b[1;31m# Do not call functions when jit is used\u001b[0m\u001b[1;33m\u001b[0m\u001b[1;33m\u001b[0m\u001b[0m\n\u001b[0;32m   1104\u001b[0m         \u001b[0mfull_backward_hooks\u001b[0m\u001b[1;33m,\u001b[0m \u001b[0mnon_full_backward_hooks\u001b[0m \u001b[1;33m=\u001b[0m \u001b[1;33m[\u001b[0m\u001b[1;33m]\u001b[0m\u001b[1;33m,\u001b[0m \u001b[1;33m[\u001b[0m\u001b[1;33m]\u001b[0m\u001b[1;33m\u001b[0m\u001b[1;33m\u001b[0m\u001b[0m\n",
      "\u001b[1;32m~\\coding\\eth\\prox\\virtual_huams_resource\\pose_gru.py\u001b[0m in \u001b[0;36mforward\u001b[1;34m(self, input)\u001b[0m\n\u001b[0;32m     39\u001b[0m         \u001b[1;32mfor\u001b[0m \u001b[0mi\u001b[0m \u001b[1;32min\u001b[0m \u001b[0mrange\u001b[0m\u001b[1;33m(\u001b[0m\u001b[0mself\u001b[0m\u001b[1;33m.\u001b[0m\u001b[0mn_layers\u001b[0m\u001b[1;33m)\u001b[0m\u001b[1;33m:\u001b[0m\u001b[1;33m\u001b[0m\u001b[1;33m\u001b[0m\u001b[0m\n\u001b[0;32m     40\u001b[0m             \u001b[1;32mif\u001b[0m \u001b[0mi\u001b[0m \u001b[1;33m==\u001b[0m \u001b[1;36m0\u001b[0m\u001b[1;33m:\u001b[0m\u001b[1;33m\u001b[0m\u001b[1;33m\u001b[0m\u001b[0m\n\u001b[1;32m---> 41\u001b[1;33m                 \u001b[0mself\u001b[0m\u001b[1;33m.\u001b[0m\u001b[0mhidden\u001b[0m\u001b[1;33m[\u001b[0m\u001b[0mi\u001b[0m\u001b[1;33m]\u001b[0m \u001b[1;33m=\u001b[0m \u001b[0mself\u001b[0m\u001b[1;33m.\u001b[0m\u001b[0mGRUcell_list\u001b[0m\u001b[1;33m[\u001b[0m\u001b[0mi\u001b[0m\u001b[1;33m]\u001b[0m\u001b[1;33m(\u001b[0m\u001b[0minput_feat\u001b[0m\u001b[1;33m,\u001b[0m \u001b[0mself\u001b[0m\u001b[1;33m.\u001b[0m\u001b[0mhidden\u001b[0m\u001b[1;33m[\u001b[0m\u001b[0mi\u001b[0m\u001b[1;33m]\u001b[0m\u001b[1;33m)\u001b[0m  \u001b[1;31m# self.hidden[i]: h\u001b[0m\u001b[1;33m\u001b[0m\u001b[1;33m\u001b[0m\u001b[0m\n\u001b[0m\u001b[0;32m     42\u001b[0m             \u001b[1;32melse\u001b[0m\u001b[1;33m:\u001b[0m\u001b[1;33m\u001b[0m\u001b[1;33m\u001b[0m\u001b[0m\n\u001b[0;32m     43\u001b[0m                 \u001b[0mself\u001b[0m\u001b[1;33m.\u001b[0m\u001b[0mhidden\u001b[0m\u001b[1;33m[\u001b[0m\u001b[0mi\u001b[0m\u001b[1;33m]\u001b[0m \u001b[1;33m=\u001b[0m \u001b[0mself\u001b[0m\u001b[1;33m.\u001b[0m\u001b[0mGRUcell_list\u001b[0m\u001b[1;33m[\u001b[0m\u001b[0mi\u001b[0m\u001b[1;33m]\u001b[0m\u001b[1;33m(\u001b[0m\u001b[0mcur_state\u001b[0m\u001b[1;33m,\u001b[0m \u001b[0mself\u001b[0m\u001b[1;33m.\u001b[0m\u001b[0mhidden\u001b[0m\u001b[1;33m[\u001b[0m\u001b[0mi\u001b[0m\u001b[1;33m]\u001b[0m\u001b[1;33m)\u001b[0m  \u001b[1;31m# self.hidden[i]: h\u001b[0m\u001b[1;33m\u001b[0m\u001b[1;33m\u001b[0m\u001b[0m\n",
      "\u001b[1;32m~\\Anaconda3\\envs\\torch3d\\lib\\site-packages\\torch\\nn\\modules\\module.py\u001b[0m in \u001b[0;36m__getattr__\u001b[1;34m(self, name)\u001b[0m\n\u001b[0;32m   1175\u001b[0m             \u001b[1;32mif\u001b[0m \u001b[0mname\u001b[0m \u001b[1;32min\u001b[0m \u001b[0mmodules\u001b[0m\u001b[1;33m:\u001b[0m\u001b[1;33m\u001b[0m\u001b[1;33m\u001b[0m\u001b[0m\n\u001b[0;32m   1176\u001b[0m                 \u001b[1;32mreturn\u001b[0m \u001b[0mmodules\u001b[0m\u001b[1;33m[\u001b[0m\u001b[0mname\u001b[0m\u001b[1;33m]\u001b[0m\u001b[1;33m\u001b[0m\u001b[1;33m\u001b[0m\u001b[0m\n\u001b[1;32m-> 1177\u001b[1;33m         raise AttributeError(\"'{}' object has no attribute '{}'\".format(\n\u001b[0m\u001b[0;32m   1178\u001b[0m             type(self).__name__, name))\n\u001b[0;32m   1179\u001b[0m \u001b[1;33m\u001b[0m\u001b[0m\n",
      "\u001b[1;31mAttributeError\u001b[0m: 'PoseGRU_inputFC' object has no attribute 'hidden'"
     ]
    }
   ],
   "source": []
  },
  {
   "cell_type": "code",
   "execution_count": 48,
   "metadata": {},
   "outputs": [
    {
     "data": {
      "text/plain": [
       "[<matplotlib.lines.Line2D at 0x1f3ffe306a0>]"
      ]
     },
     "execution_count": 48,
     "metadata": {},
     "output_type": "execute_result"
    },
    {
     "data": {
      "image/png": "[encoded data removed]",
      "text/plain": [
       "<Figure size 432x288 with 1 Axes>"
      ]
     },
     "metadata": {
      "needs_background": "light"
     },
     "output_type": "display_data"
    }
   ],
   "source": [
    "plt.plot(gaussian_filter(losses, sigma=20))"
   ]
  },
  {
   "cell_type": "code",
   "execution_count": 51,
   "metadata": {},
   "outputs": [
    {
     "data": {
      "text/plain": [
       "[<matplotlib.lines.Line2D at 0x1f3ffee9610>]"
      ]
     },
     "execution_count": 51,
     "metadata": {},
     "output_type": "execute_result"
    },
    {
     "data": {
      "text/plain": [
       "[<matplotlib.lines.Line2D at 0x1f3ffee9d00>]"
      ]
     },
     "execution_count": 51,
     "metadata": {},
     "output_type": "execute_result"
    },
    {
     "data": {
      "image/png": "[encoded data removed]",
      "text/plain": [
       "<Figure size 432x288 with 1 Axes>"
      ]
     },
     "metadata": {
      "needs_background": "light"
     },
     "output_type": "display_data"
    }
   ],
   "source": [
    "plt.plot(np.log(gaussian_filter(losses, sigma=20)))\n",
    "plt.plot(np.log(gaussian_filter(losses_rep, sigma=20)), color='red')"
   ]
  },
  {
   "cell_type": "code",
   "execution_count": 55,
   "metadata": {},
   "outputs": [
    {
     "data": {
      "text/plain": [
       "tensor(-1.0774)"
      ]
     },
     "execution_count": 55,
     "metadata": {},
     "output_type": "execute_result"
    },
    {
     "data": {
      "text/plain": [
       "tensor(1.2864)"
      ]
     },
     "execution_count": 55,
     "metadata": {},
     "output_type": "execute_result"
    },
    {
     "data": {
      "text/plain": [
       "tensor(-1.2333)"
      ]
     },
     "execution_count": 55,
     "metadata": {},
     "output_type": "execute_result"
    },
    {
     "data": {
      "text/plain": [
       "tensor(1.4083)"
      ]
     },
     "execution_count": 55,
     "metadata": {},
     "output_type": "execute_result"
    }
   ],
   "source": [
    "torch.min(in_skels)\n",
    "torch.max(in_skels)\n",
    "torch.min(pred_skels)\n",
    "torch.max(pred_skels)"
   ]
  },
  {
   "cell_type": "code",
   "execution_count": 60,
   "metadata": {},
   "outputs": [
    {
     "data": {
      "text/plain": [
       "torch.Size([4, 10, 21, 3])"
      ]
     },
     "execution_count": 60,
     "metadata": {},
     "output_type": "execute_result"
    },
    {
     "data": {
      "text/plain": [
       "tensor([[ 0.3130,  0.0455, -0.0652],\n",
       "        [-0.5712,  0.0728,  0.0162],\n",
       "        [ 0.2158, -0.1059, -0.0386],\n",
       "        [-0.0323, -0.1706,  0.0347],\n",
       "        [ 0.4868, -0.0944, -0.0178],\n",
       "        [-0.0655, -0.0543,  0.0548]])"
      ]
     },
     "execution_count": 60,
     "metadata": {},
     "output_type": "execute_result"
    },
    {
     "data": {
      "text/plain": [
       "tensor([[ 0.3192,  0.0343, -0.0728],\n",
       "        [-0.5910,  0.0802,  0.0175],\n",
       "        [ 0.2021, -0.1082, -0.0371],\n",
       "        [ 0.0180, -0.1868,  0.0386],\n",
       "        [ 0.5461, -0.0984, -0.0153],\n",
       "        [-0.0772, -0.0501,  0.0588]])"
      ]
     },
     "execution_count": 60,
     "metadata": {},
     "output_type": "execute_result"
    },
    {
     "data": {
      "text/plain": [
       "tensor([[ 0.3029,  0.0263, -0.0564],\n",
       "        [-0.6359,  0.0879,  0.0205],\n",
       "        [ 0.2078, -0.1110, -0.0400],\n",
       "        [ 0.0894, -0.1865,  0.0362],\n",
       "        [ 0.6398, -0.0971, -0.0101],\n",
       "        [-0.0926, -0.0507,  0.0598]])"
      ]
     },
     "execution_count": 60,
     "metadata": {},
     "output_type": "execute_result"
    }
   ],
   "source": [
    "in_skels.shape\n",
    "in_skels[0, -2, :6]\n",
    "in_skels[0, -1, :6]\n",
    "pred_skels[0, 0, :6]"
   ]
  },
  {
   "cell_type": "code",
   "execution_count": 50,
   "metadata": {},
   "outputs": [],
   "source": [
    "xin = df2.MedTemp[:7].array\n",
    "def predict(xin):\n",
    "    # hidden = rnn.initHidden()\n",
    "    out = rnn(torch.tensor(xin).float().reshape(1, -1))\n",
    "    yout = out.detach().numpy()\n",
    "    return yout\n",
    "\n",
    "\n"
   ]
  },
  {
   "cell_type": "code",
   "execution_count": 51,
   "metadata": {},
   "outputs": [
    {
     "data": {
      "text/plain": [
       "<Figure size 432x288 with 0 Axes>"
      ]
     },
     "execution_count": 51,
     "metadata": {},
     "output_type": "execute_result"
    },
    {
     "data": {
      "text/plain": [
       "<Figure size 432x288 with 0 Axes>"
      ]
     },
     "execution_count": 51,
     "metadata": {},
     "output_type": "execute_result"
    },
    {
     "data": {
      "text/plain": [
       "<Figure size 432x288 with 0 Axes>"
      ]
     },
     "execution_count": 51,
     "metadata": {},
     "output_type": "execute_result"
    },
    {
     "data": {
      "text/plain": [
       "<Figure size 432x288 with 0 Axes>"
      ]
     },
     "execution_count": 51,
     "metadata": {},
     "output_type": "execute_result"
    },
    {
     "data": {
      "text/plain": [
       "<Figure size 432x288 with 0 Axes>"
      ]
     },
     "execution_count": 51,
     "metadata": {},
     "output_type": "execute_result"
    },
    {
     "data": {
      "image/png": "[encoded data removed]",
      "text/plain": [
       "<Figure size 432x288 with 1 Axes>"
      ]
     },
     "metadata": {
      "needs_background": "light"
     },
     "output_type": "display_data"
    },
    {
     "data": {
      "image/png": "[encoded data removed]",
      "text/plain": [
       "<Figure size 432x288 with 1 Axes>"
      ]
     },
     "metadata": {
      "needs_background": "light"
     },
     "output_type": "display_data"
    },
    {
     "data": {
      "image/png": "[encoded data removed]",
      "text/plain": [
       "<Figure size 432x288 with 1 Axes>"
      ]
     },
     "metadata": {
      "needs_background": "light"
     },
     "output_type": "display_data"
    },
    {
     "data": {
      "image/png": "[encoded data removed]",
      "text/plain": [
       "<Figure size 432x288 with 1 Axes>"
      ]
     },
     "metadata": {
      "needs_background": "light"
     },
     "output_type": "display_data"
    },
    {
     "data": {
      "image/png": "[encoded data removed]",
      "text/plain": [
       "<Figure size 432x288 with 1 Axes>"
      ]
     },
     "metadata": {
      "needs_background": "light"
     },
     "output_type": "display_data"
    }
   ],
   "source": [
    "def plot(xin, ypred, ytrue):\n",
    "    plt.plot(xin)\n",
    "    plt.scatter(len(xin), ypred, color='r', marker='x')\n",
    "    plt.scatter(len(xin), ytrue, color='g', marker='x')\n",
    "\n",
    "\n",
    "for i in range(10, 15):\n",
    "    xin = X_test[i]\n",
    "    ypred = predict(xin)\n",
    "    ytrue = Y_test[i]\n",
    "    plt.figure()\n",
    "    plot(xin, ypred, ytrue)\n"
   ]
  },
  {
   "cell_type": "code",
   "execution_count": 50,
   "metadata": {},
   "outputs": [
    {
     "data": {
      "text/plain": [
       "<PandasArray>\n",
       "[             16.15,              20.45, 18.549999999999997,\n",
       "               14.4, 11.850000000000001, 11.549999999999999,\n",
       " 12.149999999999999]\n",
       "Length: 7, dtype: float64"
      ]
     },
     "execution_count": 50,
     "metadata": {},
     "output_type": "execute_result"
    }
   ],
   "source": [
    "xin"
   ]
  },
  {
   "cell_type": "code",
   "execution_count": null,
   "metadata": {},
   "outputs": [],
   "source": [
    "3"
   ]
  }
 ],
 "metadata": {
  "interpreter": {
   "hash": "34763ccac23d8dfc8fdcddd5a9d5e6124e526227b9ab61d21d7596358b3ca4af"
  },
  "kernelspec": {
   "display_name": "Python 3",
   "language": "python",
   "name": "python3"
  },
  "language_info": {
   "codemirror_mode": {
    "name": "ipython",
    "version": 3
   },
   "file_extension": ".py",
   "mimetype": "text/x-python",
   "name": "python",
   "nbconvert_exporter": "python",
   "pygments_lexer": "ipython3",
   "version": "3.9.12"
  }
 },
 "nbformat": 4,
 "nbformat_minor": 2
}
