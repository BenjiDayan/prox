{
 "cells": [
  {
   "cell_type": "code",
   "execution_count": 135,
   "metadata": {},
   "outputs": [],
   "source": [
    "import os\n",
    "import argparse\n",
    "import glob\n",
    "import numpy as np\n",
    "import pickle\n",
    "import json\n",
    "import cv2\n",
    "import open3d as o3d\n",
    "import matplotlib.pyplot as plt\n",
    "from projection_utils import Projection\n",
    "from data_parser import read_keypoints\n",
    "\n",
    "from IPython.core.interactiveshell import InteractiveShell\n",
    "InteractiveShell.ast_node_interactivity = \"all\""
   ]
  },
  {
   "cell_type": "code",
   "execution_count": 136,
   "metadata": {},
   "outputs": [
    {
     "data": {
      "text/plain": [
       "1"
      ]
     },
     "execution_count": 136,
     "metadata": {},
     "output_type": "execute_result"
    }
   ],
   "source": [
    "# _____________ read frames _____________\n",
    "data_root = 'D:/prox_data/recordings'\n",
    "sequence_id = 'MPH8_00034_01'\n",
    "save_root = '../temp_data/'\n",
    "\n",
    "rgb_list = glob.glob(os.path.join(data_root, sequence_id, 'Color/*.jpg'))\n",
    "rgb_list.sort()\n",
    "# rgb_list[-1][-33:-30]\n",
    "n_frame = int(rgb_list[-1][-33:-30])  # total frame number\n",
    "# rgb_list\n",
    "n_frame\n",
    "# rgb_list[-1][-34:-4]"
   ]
  },
  {
   "cell_type": "code",
   "execution_count": 137,
   "metadata": {},
   "outputs": [],
   "source": [
    "# _____________ init _____________\n",
    "projection = Projection(\"D:/prox_data/calibration\")\n",
    "MAX_DEPTH = 20.0\n",
    "depth_scale = 1e3       # TODO: determine depth_scale\n",
    "point_cloud = o3d.geometry.PointCloud()\n",
    "vis = o3d.visualization.Visualizer()\n",
    "h = 1080\n",
    "w = 1920\n",
    "\n",
    "curr_frame = rgb_list[5]"
   ]
  },
  {
   "cell_type": "code",
   "execution_count": 138,
   "metadata": {},
   "outputs": [
    {
     "data": {
      "text/plain": [
       "{'c': [253.83829093644025, 211.1372060737881],\n",
       " 'f': [366.7400717166478, 366.74007078527524],\n",
       " 'k': [0.09025264727976191,\n",
       "  -0.26834827271526285,\n",
       "  -1.8336023396332128e-10,\n",
       "  2.304994910236695e-09,\n",
       "  0.09528330866851589],\n",
       " 'camera_mtx': [[366.7400717166478, 0.0, 253.83829093644025],\n",
       "  [0.0, 366.74007078527524, 211.1372060737881],\n",
       "  [0.0, 0.0, 1.0]],\n",
       " 'view_mtx': [[-1.0,\n",
       "   -1.547831979827037e-09,\n",
       "   -1.0299632133215585e-08,\n",
       "   4.4333090859474606e-10],\n",
       "  [1.5478319446937772e-09,\n",
       "   -1.0,\n",
       "   3.4111179395206166e-09,\n",
       "   -1.2372430425663552e-09],\n",
       "  [-1.0299632138495422e-08,\n",
       "   3.411117923578517e-09,\n",
       "   1.0,\n",
       "   -1.883818362618968e-08]],\n",
       " 'R': [1.6178624334311548e-08, -5.358171519782183e-09, -3.141592655137625],\n",
       " 'T': [4.4333090859474606e-10,\n",
       "  -1.2372430425663552e-09,\n",
       "  -1.883818362618968e-08]}"
      ]
     },
     "execution_count": 138,
     "metadata": {},
     "output_type": "execute_result"
    }
   ],
   "source": [
    "projection.depth_cam"
   ]
  },
  {
   "cell_type": "code",
   "execution_count": 139,
   "metadata": {},
   "outputs": [
    {
     "data": {
      "text/plain": [
       "'D:/prox_data/recordings\\\\MPH8_00034_01\\\\Depth/s001_frame_00006__00.00.00.177.png'"
      ]
     },
     "execution_count": 139,
     "metadata": {},
     "output_type": "execute_result"
    }
   ],
   "source": [
    "os.path.join(data_root, sequence_id, 'Depth/' + curr_frame[-34:-4] + '.png')"
   ]
  },
  {
   "cell_type": "code",
   "execution_count": 140,
   "metadata": {},
   "outputs": [
    {
     "data": {
      "text/plain": [
       "'D:/prox_data/recordings/MPH8_00168_01/Depth\\\\s001_frame_00006__00.00.00.174.png'"
      ]
     },
     "execution_count": 140,
     "metadata": {},
     "output_type": "execute_result"
    },
    {
     "data": {
      "text/plain": [
       "True"
      ]
     },
     "execution_count": 140,
     "metadata": {},
     "output_type": "execute_result"
    }
   ],
   "source": [
    "foo = os.path.join(r'D:/prox_data/recordings/MPH8_00168_01/Depth', 's001_frame_00006__00.00.00.174' + '.png')\n",
    "foo\n",
    "os.path.exists(foo)"
   ]
  },
  {
   "cell_type": "code",
   "execution_count": 167,
   "metadata": {},
   "outputs": [
    {
     "data": {
      "text/plain": [
       "'D:/prox_data/recordings/MPH8_00168_01/Depth\\\\s001_frame_00006__00.00.00.174.png'"
      ]
     },
     "execution_count": 167,
     "metadata": {},
     "output_type": "execute_result"
    },
    {
     "data": {
      "text/plain": [
       "True"
      ]
     },
     "execution_count": 167,
     "metadata": {},
     "output_type": "execute_result"
    }
   ],
   "source": [
    "# curr_frame[-34:-4] = 's001_frame_00006__00.00.00.186'\n",
    "foo = os.path.join(r'D:/prox_data/recordings/MPH8_00168_01/Depth', 's001_frame_00006__00.00.00.174' + '.png')\n",
    "foo\n",
    "os.path.exists(foo)\n",
    "\n",
    "depth_img = cv2.imread(foo, flags=-1).astype(float)\n",
    "\n",
    "depth_img = cv2.flip(depth_img, 1)\n",
    "\n",
    "depth_aligned = depth_img\n",
    "\n",
    "calib_dir = r'D:/prox_data/calibration'\n",
    "proj = Projection(calib_dir=calib_dir)\n",
    "\n",
    "# depth_raw = depth_img.copy()\n",
    "# # depth_img /= 8.0\n",
    "# # depth_img /= 1000.0\n",
    "\n",
    "\n",
    "# depth_img = cv2.flip(depth_img, 1)\n",
    "# depth_raw = cv2.flip(depth_raw, 1)\n",
    "\n",
    "# depth_aligned = projection.align_depth2color(depth_img, depth_raw)\n",
    "\n",
    "\n",
    "# depth_aligned = depth_aligned.astype(float)\n",
    "# min = np.min(depth_aligned[depth_aligned > 0])\n",
    "# depth_aligned = depth_aligned - min\n",
    "# MAX_DEPTH = np.max(depth_aligned)\n",
    "# depth_aligned[depth_aligned > MAX_DEPTH] = 0\n",
    "# # depth_aligned /= 8.0\n",
    "# # depth_aligned /= 1000.0\n",
    "# plt.imshow(depth_aligned, cmap='plasma')\n",
    "# plt.colorbar()\n",
    "# plt.figure()\n",
    "\n",
    "# plt.imshow(depth_img, cmap='plasma')\n",
    "# plt.colorbar()\n",
    "# plt.figure()\n",
    "\n",
    "# plt.hist(depth_img[depth_img > 0].flatten())\n",
    "# np.sum(depth_img == 0)\n",
    "# np.sum(depth_img != 0)\n",
    "# plt.figure()\n",
    "\n",
    "# plt.hist(depth_aligned[depth_aligned > 0].flatten())\n",
    "# plt.figure()\n",
    "# plt.hist(depth_aligned.flatten())\n",
    "# np.sum(depth_aligned == 0)\n",
    "# np.sum(depth_aligned != 0)"
   ]
  },
  {
   "cell_type": "code",
   "execution_count": 168,
   "metadata": {},
   "outputs": [
    {
     "data": {
      "text/plain": [
       "<matplotlib.image.AxesImage at 0x235b3d1a850>"
      ]
     },
     "execution_count": 168,
     "metadata": {},
     "output_type": "execute_result"
    },
    {
     "data": {
      "image/png": "[encoded data removed]",
      "text/plain": [
       "<Figure size 432x288 with 1 Axes>"
      ]
     },
     "metadata": {
      "needs_background": "light"
     },
     "output_type": "display_data"
    }
   ],
   "source": [
    "plt.imshow(depth_aligned)"
   ]
  },
  {
   "cell_type": "code",
   "execution_count": 143,
   "metadata": {},
   "outputs": [
    {
     "data": {
      "text/plain": [
       "(array([9.3060e+03, 9.4319e+04, 5.7313e+04, 1.8509e+04, 4.0920e+03,\n",
       "        6.4250e+03, 5.8960e+03, 1.9000e+01, 7.0000e+00, 3.0000e+00]),\n",
       " array([ 7216. , 12599.2, 17982.4, 23365.6, 28748.8, 34132. , 39515.2,\n",
       "        44898.4, 50281.6, 55664.8, 61048. ]),\n",
       " <BarContainer object of 10 artists>)"
      ]
     },
     "execution_count": 143,
     "metadata": {},
     "output_type": "execute_result"
    },
    {
     "data": {
      "image/png": "[encoded data removed]",
      "text/plain": [
       "<Figure size 432x288 with 1 Axes>"
      ]
     },
     "metadata": {
      "needs_background": "light"
     },
     "output_type": "display_data"
    }
   ],
   "source": [
    "plt.hist(depth_aligned[depth_aligned > 0].flatten())"
   ]
  },
  {
   "cell_type": "code",
   "execution_count": 144,
   "metadata": {},
   "outputs": [
    {
     "data": {
      "text/plain": [
       "{'camera_rotation': array([[[1., 0., 0.],\n",
       "         [0., 1., 0.],\n",
       "         [0., 0., 1.]]], dtype=float32),\n",
       " 'camera_translation': array([[0., 0., 0.]], dtype=float32),\n",
       " 'betas': array([[ 0.00374696, -2.1283567 ,  1.8193172 ,  0.25818276,  0.650099  ,\n",
       "         -0.42449552,  0.6370358 ,  0.3441074 , -0.13002175, -0.6517306 ]],\n",
       "       dtype=float32),\n",
       " 'global_orient': array([[ 3.4879785 ,  0.10604832, -0.4093588 ]], dtype=float32),\n",
       " 'transl': array([[0.267928  , 0.23929313, 1.9793904 ]], dtype=float32),\n",
       " 'left_hand_pose': array([[ 0.2687249 , -0.6134145 ,  0.03265722, -0.0969364 ,  0.4284292 ,\n",
       "          0.32945237,  0.11890141, -0.04197419, -0.10430387, -0.29033563,\n",
       "          0.78230435, -0.2795663 ]], dtype=float32),\n",
       " 'right_hand_pose': array([[ 0.33123404, -0.28775176,  0.6347041 ,  0.06891989,  0.618275  ,\n",
       "         -0.23382418, -0.06792508,  0.24559225, -0.19839887, -0.11311837,\n",
       "          0.28017527, -0.34219244]], dtype=float32),\n",
       " 'jaw_pose': array([[-0.04149484,  0.00358265,  0.00104884]], dtype=float32),\n",
       " 'leye_pose': array([[-0.21445556, -0.1627914 ,  0.05883525]], dtype=float32),\n",
       " 'reye_pose': array([[-0.39155   ,  0.37142548,  0.39337343]], dtype=float32),\n",
       " 'expression': array([[ 0.03063096,  0.360014  , -0.33031395, -0.9970557 , -0.33662537,\n",
       "         -0.1556639 ,  0.34404927,  0.46165013, -0.23812172, -0.07720575]],\n",
       "       dtype=float32),\n",
       " 'pose_embedding': array([[-0.26539147, -1.0375994 ,  0.50824773,  0.586576  ,  0.04288155,\n",
       "          0.13084236,  1.1707171 ,  0.56286615, -1.2291998 ,  0.5298173 ,\n",
       "         -1.114399  ,  0.35525885,  0.83310837, -0.08074911,  0.28621325,\n",
       "         -0.75909686,  0.07907196, -0.6807187 , -0.556873  , -1.6476152 ,\n",
       "          0.6489687 , -1.3949395 , -0.2040277 , -0.7660975 , -1.1704718 ,\n",
       "         -0.34477046, -0.23827562, -0.49833697, -0.38256726,  0.14257425,\n",
       "         -0.36510164,  0.532657  ]], dtype=float32),\n",
       " 'body_pose': array([[ 1.29255623e-01,  2.57069245e-02, -3.34093045e-03,\n",
       "          8.87096301e-02, -1.09152021e-02,  6.96264505e-02,\n",
       "          8.65244195e-02,  1.25237303e-02, -2.74007092e-03,\n",
       "         -8.79436582e-02, -1.17863834e-01,  2.47948617e-03,\n",
       "          6.65150443e-03,  8.70754719e-02, -1.80973690e-02,\n",
       "         -8.91184434e-02, -4.27166224e-02,  1.10450778e-02,\n",
       "         -3.20779741e-01,  2.61256367e-01,  1.24634996e-01,\n",
       "         -3.04217339e-01, -1.95081696e-01,  1.11635290e-02,\n",
       "          1.07000008e-01, -9.65200551e-03,  9.40065831e-03,\n",
       "         -1.09153641e-02,  1.00542149e-02, -1.45319030e-02,\n",
       "          5.13960491e-04,  7.08538224e-04,  1.47292148e-02,\n",
       "         -4.66337465e-02,  7.72327632e-02, -3.91813368e-02,\n",
       "          4.74564433e-02, -2.51264567e-03, -1.19992718e-01,\n",
       "         -2.15058327e-02,  6.62165955e-02,  1.21530212e-01,\n",
       "          1.14325285e-01,  5.54536209e-02, -1.01675261e-02,\n",
       "          1.85260996e-01, -2.34324604e-01, -8.96088064e-01,\n",
       "          2.19462648e-01,  1.88729629e-01,  8.50908339e-01,\n",
       "          1.17903717e-01, -4.26436037e-01, -1.68271333e-01,\n",
       "         -4.48813923e-02,  3.51596802e-01,  1.51998907e-01,\n",
       "         -4.13924396e-01, -2.30218977e-01,  5.04624963e-01,\n",
       "         -4.22921300e-01,  1.42149433e-01, -3.67882043e-01]], dtype=float32)}"
      ]
     },
     "execution_count": 144,
     "metadata": {},
     "output_type": "execute_result"
    }
   ],
   "source": [
    "# _____________ read keypoints and skeleton (pickle) _____________\n",
    "path = r'D:/prox_data/PROXD_fittings/MPH8_00168_01/results/s001_frame_00006__00.00.00.174/000.pkl'\n",
    "with open(path, 'rb') as file:\n",
    "    smpl = pickle.load(file, encoding='latin1')\n",
    "smpl"
   ]
  },
  {
   "cell_type": "code",
   "execution_count": null,
   "metadata": {},
   "outputs": [],
   "source": [
    "proj."
   ]
  },
  {
   "cell_type": "code",
   "execution_count": 145,
   "metadata": {},
   "outputs": [],
   "source": [
    "smplx_model_path='../models_smplx_v1_1/models/smplx/SMPLX_NEUTRAL.pkl'\n",
    "with open(smplx_model_path, 'rb') as file:\n",
    "    out = pickle.load(file, encoding='latin1')"
   ]
  },
  {
   "cell_type": "code",
   "execution_count": 146,
   "metadata": {},
   "outputs": [
    {
     "name": "stdout",
     "output_type": "stream",
     "text": [
      "-- pytorch version=1.10.0\n",
      "-- device=cpu\n"
     ]
    }
   ],
   "source": [
    "import torch\n",
    "\n",
    "# specify device\n",
    "device = torch.device('cuda') if torch.cuda.is_available() else torch.device('cpu')\n",
    "\n",
    "\n",
    "print('-- pytorch version={}'.format(torch.__version__))\n",
    "print('-- device={}'.format(device))\n",
    "\n",
    "smplx_model_path='../models_smplx_v1_1/models/'\n",
    "\n",
    "import smplx  # SMPL-X; pip install smplx\n",
    "\n",
    "def get_smplx_model(gender, device):\n",
    "    body_model_path = smplx_model_path\n",
    "    body_model = smplx.create(body_model_path, \n",
    "                          model_type='smplx',        ## smpl, smpl+h, or smplx?\n",
    "                          gender=gender, ext='npz',  ## file format \n",
    "                          num_pca_comps=12,          ## MANO hand pose pca component\n",
    "                          create_global_orient=True, \n",
    "                          create_body_pose=True,\n",
    "                          create_betas=True,\n",
    "                          create_left_hand_pose=True,\n",
    "                          create_right_hand_pose=True,\n",
    "                          create_expression=True, \n",
    "                          create_jaw_pose=True,\n",
    "                          create_leye_pose=True,\n",
    "                          create_reye_pose=True,\n",
    "                          create_transl=True,\n",
    "                          batch_size=1               ## how many bodies in a batch?\n",
    "                          )\n",
    "    body_model.eval()\n",
    "    return body_model\n",
    "\n",
    "smplx_neutral = get_smplx_model(gender='neutral', device=device)\n",
    "\n",
    "\n",
    "def draw_bodies(gender, betas, thetas):\n",
    "    bm = smplx_neutral\n",
    "\n",
    "\n",
    "    ## read verts and face from smplx model\n",
    "    params = {'betas': betas,\n",
    "              'body_pose': thetas\n",
    "              }\n",
    "\n",
    "\n",
    "    verts = bm(return_verts=True, **params).vertices.detach().cpu().numpy()[0]\n",
    "    faces = bm.faces\n",
    "\n",
    "    ## put verts and face into open3d, and compute surface normal\n",
    "    coord = o3d.geometry.TriangleMesh.create_coordinate_frame(size=0.5)\n",
    "    body = o3d.geometry.TriangleMesh()\n",
    "    body.vertices = o3d.utility.Vector3dVector(verts)\n",
    "    body.triangles = o3d.utility.Vector3iVector(faces)\n",
    "    body.vertex_normals = o3d.utility.Vector3dVector([])\n",
    "    body.triangle_normals = o3d.utility.Vector3dVector([])\n",
    "    body.compute_vertex_normals()\n",
    "    o3d.visualization.draw_geometries([body, coord])\n",
    "    \n",
    "    return None\n"
   ]
  },
  {
   "cell_type": "code",
   "execution_count": 147,
   "metadata": {},
   "outputs": [],
   "source": [
    "data = smpl\n",
    "betas = torch.Tensor(data['betas']).reshape(1, -1)\n",
    "body_pose = torch.Tensor(data['body_pose'])\n",
    "global_orient= torch.Tensor(data['global_orient'])\n",
    "transl=torch.Tensor(data['transl'])\n",
    "out = smplx_neutral(return_joints=True, betas=betas, body_pose=body_pose, global_orient=global_orient, transl=transl)\n",
    "joints = out.joints[:, :21].squeeze()\n",
    "joint_locations = joints.detach().cpu().numpy()\n",
    "body_joints_3d = (out.vertices.detach().cpu().numpy().squeeze())"
   ]
  },
  {
   "cell_type": "code",
   "execution_count": 148,
   "metadata": {},
   "outputs": [
    {
     "data": {
      "text/plain": [
       "(10475, 3)"
      ]
     },
     "execution_count": 148,
     "metadata": {},
     "output_type": "execute_result"
    }
   ],
   "source": [
    "body_joints_3d.shape"
   ]
  },
  {
   "cell_type": "code",
   "execution_count": 149,
   "metadata": {},
   "outputs": [],
   "source": [
    "with open('D:/prox_data/calibration/IR.json') as f:\n",
    "        camera_ir = json.load(f) \n",
    "with open('D:/prox_data/calibration/Color.json') as f:\n",
    "        camera_rgb = json.load(f) "
   ]
  },
  {
   "cell_type": "code",
   "execution_count": 150,
   "metadata": {},
   "outputs": [
    {
     "data": {
      "text/plain": [
       "(array([2.11990e+04, 7.77500e+03, 1.02371e+05, 5.60080e+04, 1.37350e+04,\n",
       "        5.67900e+03, 9.69700e+03, 6.09000e+02, 1.20000e+01, 3.00000e+00]),\n",
       " array([    0. ,  6104.8, 12209.6, 18314.4, 24419.2, 30524. , 36628.8,\n",
       "        42733.6, 48838.4, 54943.2, 61048. ]),\n",
       " <BarContainer object of 10 artists>)"
      ]
     },
     "execution_count": 150,
     "metadata": {},
     "output_type": "execute_result"
    },
    {
     "data": {
      "image/png": "[encoded data removed]",
      "text/plain": [
       "<Figure size 432x288 with 1 Axes>"
      ]
     },
     "metadata": {
      "needs_background": "light"
     },
     "output_type": "display_data"
    }
   ],
   "source": [
    "plt.hist(depth_aligned.flatten())"
   ]
  },
  {
   "cell_type": "code",
   "execution_count": 151,
   "metadata": {},
   "outputs": [
    {
     "data": {
      "text/plain": [
       "(195889, 3)"
      ]
     },
     "execution_count": 151,
     "metadata": {},
     "output_type": "execute_result"
    },
    {
     "data": {
      "text/plain": [
       "21199"
      ]
     },
     "execution_count": 151,
     "metadata": {},
     "output_type": "execute_result"
    },
    {
     "data": {
      "text/plain": [
       "(195889, 3)"
      ]
     },
     "execution_count": 151,
     "metadata": {},
     "output_type": "execute_result"
    },
    {
     "data": {
      "text/plain": [
       "195889"
      ]
     },
     "execution_count": 151,
     "metadata": {},
     "output_type": "execute_result"
    }
   ],
   "source": [
    "proj_points.shape \n",
    "np.sum(depth_aligned == 0)\n",
    "points.shape\n",
    "217088 - 21199"
   ]
  },
  {
   "cell_type": "code",
   "execution_count": 152,
   "metadata": {},
   "outputs": [
    {
     "data": {
      "text/plain": [
       "(array([0., 0., 0., 0., 0., 0., 0., 0., 0., 0.]),\n",
       " array([0. , 0.1, 0.2, 0.3, 0.4, 0.5, 0.6, 0.7, 0.8, 0.9, 1. ]),\n",
       " <BarContainer object of 10 artists>)"
      ]
     },
     "execution_count": 152,
     "metadata": {},
     "output_type": "execute_result"
    },
    {
     "data": {
      "image/png": "[encoded data removed]",
      "text/plain": [
       "<Figure size 432x288 with 1 Axes>"
      ]
     },
     "metadata": {
      "needs_background": "light"
     },
     "output_type": "display_data"
    }
   ],
   "source": [
    "norms = np.linalg.norm(proj_points, axis=1)\n",
    "plt.hist(norms[norms < 1.0])"
   ]
  },
  {
   "cell_type": "code",
   "execution_count": 153,
   "metadata": {},
   "outputs": [
    {
     "data": {
      "text/plain": [
       "<Figure size 432x288 with 0 Axes>"
      ]
     },
     "execution_count": 153,
     "metadata": {},
     "output_type": "execute_result"
    },
    {
     "data": {
      "image/png": "[encoded data removed]",
      "text/plain": [
       "<Figure size 432x288 with 1 Axes>"
      ]
     },
     "metadata": {
      "needs_background": "light"
     },
     "output_type": "display_data"
    },
    {
     "data": {
      "image/png": "[encoded data removed]",
      "text/plain": [
       "<Figure size 432x288 with 1 Axes>"
      ]
     },
     "metadata": {
      "needs_background": "light"
     },
     "output_type": "display_data"
    }
   ],
   "source": [
    "_ = plt.hist(proj_points.reshape(-1, 3))\n",
    "plt.figure()\n",
    "_ = plt.hist(points)"
   ]
  },
  {
   "cell_type": "code",
   "execution_count": 154,
   "metadata": {},
   "outputs": [
    {
     "data": {
      "text/plain": [
       "(217088, 3)"
      ]
     },
     "execution_count": 154,
     "metadata": {},
     "output_type": "execute_result"
    },
    {
     "data": {
      "text/plain": [
       "(195889, 3)"
      ]
     },
     "execution_count": 154,
     "metadata": {},
     "output_type": "execute_result"
    }
   ],
   "source": [
    "proj_points = proj.unproject_depth_image(depth_aligned, proj.depth_cam).reshape(-1, 3)\n",
    "proj_points.shape\n",
    "norms = np.linalg.norm(proj_points, axis=1)\n",
    "proj_points = proj_points[norms > 1.0]\n",
    "proj_points.shape\n",
    "dists = np.linalg.norm(proj_points - points, axis=1)\n"
   ]
  },
  {
   "cell_type": "code",
   "execution_count": 155,
   "metadata": {},
   "outputs": [
    {
     "data": {
      "text/plain": [
       "(195889, 3)"
      ]
     },
     "execution_count": 155,
     "metadata": {},
     "output_type": "execute_result"
    },
    {
     "data": {
      "text/plain": [
       "(195889, 3)"
      ]
     },
     "execution_count": 155,
     "metadata": {},
     "output_type": "execute_result"
    },
    {
     "data": {
      "text/plain": [
       "(587667,)"
      ]
     },
     "execution_count": 155,
     "metadata": {},
     "output_type": "execute_result"
    }
   ],
   "source": [
    "proj_points.shape\n",
    "points.shape\n",
    "proj_points[proj_points != np.array([0., 0., 0.])].shape\n",
    "# temp = points - proj_points.reshape((-1, 3))\n",
    "# temp_dists = np.linalg.norm(temp, axis=1)"
   ]
  },
  {
   "cell_type": "code",
   "execution_count": 156,
   "metadata": {},
   "outputs": [
    {
     "data": {
      "text/plain": [
       "(array([[1.60000e+01, 4.25500e+03, 1.17250e+04, 6.41070e+04, 9.45080e+04,\n",
       "         2.12780e+04, 0.00000e+00, 0.00000e+00, 0.00000e+00, 0.00000e+00],\n",
       "        [0.00000e+00, 0.00000e+00, 1.00000e+00, 8.80690e+04, 8.20420e+04,\n",
       "         2.55950e+04, 1.73000e+02, 9.00000e+00, 0.00000e+00, 0.00000e+00],\n",
       "        [0.00000e+00, 0.00000e+00, 0.00000e+00, 0.00000e+00, 1.45500e+03,\n",
       "         1.25082e+05, 5.31470e+04, 1.16980e+04, 4.49700e+03, 1.00000e+01]]),\n",
       " array([-43270.29989662, -32838.46995899, -22406.64002136, -11974.81008372,\n",
       "         -1542.98014609,   8888.84979154,  19320.67972918,  29752.50966681,\n",
       "         40184.33960444,  50616.16954207,  61047.99947971]),\n",
       " <a list of 3 BarContainer objects>)"
      ]
     },
     "execution_count": 156,
     "metadata": {},
     "output_type": "execute_result"
    },
    {
     "data": {
      "image/png": "[encoded data removed]",
      "text/plain": [
       "<Figure size 432x288 with 1 Axes>"
      ]
     },
     "metadata": {
      "needs_background": "light"
     },
     "output_type": "display_data"
    }
   ],
   "source": [
    "plt.hist(proj_points)"
   ]
  },
  {
   "cell_type": "code",
   "execution_count": 165,
   "metadata": {},
   "outputs": [],
   "source": [
    "with open('D:/prox_data/calibration/IR.json') as f:\n",
    "        camera_ir = json.load(f) \n",
    "\n",
    "scale= 8 * 1000.\n",
    "camera_ir['f'][0] *= scale\n",
    "camera_ir['f'][1] *= scale\n",
    "\n",
    "camera_ir['camera_mtx'][0][0] *= scale\n",
    "camera_ir['camera_mtx'][1][1] *= scale\n",
    "\n"
   ]
  },
  {
   "cell_type": "code",
   "execution_count": 164,
   "metadata": {},
   "outputs": [
    {
     "data": {
      "text/plain": [
       "{'c': [253.83829093644025, 211.1372060737881],\n",
       " 'f': [366.7400717166478, 366.74007078527524],\n",
       " 'k': [0.09025264727976191,\n",
       "  -0.26834827271526285,\n",
       "  -1.8336023396332128e-10,\n",
       "  2.304994910236695e-09,\n",
       "  0.09528330866851589],\n",
       " 'camera_mtx': [[366.7400717166478, 0.0, 253.83829093644025],\n",
       "  [0.0, 366.74007078527524, 211.1372060737881],\n",
       "  [0.0, 0.0, 1.0]],\n",
       " 'view_mtx': [[-1.0,\n",
       "   -1.547831979827037e-09,\n",
       "   -1.0299632133215585e-08,\n",
       "   4.4333090859474606e-10],\n",
       "  [1.5478319446937772e-09,\n",
       "   -1.0,\n",
       "   3.4111179395206166e-09,\n",
       "   -1.2372430425663552e-09],\n",
       "  [-1.0299632138495422e-08,\n",
       "   3.411117923578517e-09,\n",
       "   1.0,\n",
       "   -1.883818362618968e-08]],\n",
       " 'R': [1.6178624334311548e-08, -5.358171519782183e-09, -3.141592655137625],\n",
       " 'T': [4.4333090859474606e-10,\n",
       "  -1.2372430425663552e-09,\n",
       "  -1.883818362618968e-08]}"
      ]
     },
     "execution_count": 164,
     "metadata": {},
     "output_type": "execute_result"
    }
   ],
   "source": [
    "proj.depth_cam"
   ]
  },
  {
   "cell_type": "code",
   "execution_count": 163,
   "metadata": {},
   "outputs": [
    {
     "data": {
      "text/plain": [
       "[[366.7400717166478, 0.0, 253.83829093644025],\n",
       " [0.0, 366.74007078527524, 211.1372060737881],\n",
       " [0.0, 0.0, 1.0]]"
      ]
     },
     "execution_count": 163,
     "metadata": {},
     "output_type": "execute_result"
    }
   ],
   "source": [
    "proj.depth_cam['camera_mtx']"
   ]
  },
  {
   "cell_type": "code",
   "execution_count": 166,
   "metadata": {},
   "outputs": [],
   "source": [
    "proj_points = proj.unproject_depth_image(depth_aligned, camera_ir).reshape(-1, 3)\n",
    "norms = np.linalg.norm(proj_points, axis=1)\n",
    "eps = 1.0\n",
    "proj_points = proj_points[norms > eps]\n",
    "pcd = o3d.geometry.PointCloud()\n",
    "\n",
    "proj_points[:, 2] /= scale\n",
    "pcd.points = o3d.utility.Vector3dVector(proj_points)\n",
    "\n",
    "o3d.visualization.draw_geometries([skeleton, pcd])"
   ]
  },
  {
   "cell_type": "code",
   "execution_count": 170,
   "metadata": {},
   "outputs": [
    {
     "data": {
      "text/plain": [
       "(424, 512)"
      ]
     },
     "execution_count": 170,
     "metadata": {},
     "output_type": "execute_result"
    }
   ],
   "source": [
    "depth_img.shape"
   ]
  },
  {
   "cell_type": "code",
   "execution_count": 169,
   "metadata": {},
   "outputs": [],
   "source": [
    "# ################### get scene point could of cur_frame_N ###################\n",
    "# rgb_im = cv2.imread(curr_frame)\n",
    "# # rgb_im = rgb_im[:, :, ::-1]\n",
    "# depth_im = cv2.imread(os.path.join(data_root, sequence_id, 'Depth/' + curr_frame[-34:-4] + '.png'), flags=-1)\n",
    "# \n",
    "# rgbd_image = o3d.geometry.RGBDImage.create_from_color_and_depth(\n",
    "#     o3d.geometry.Image((np.asarray(rgb_im)).astype(np.uint8)),\n",
    "#     o3d.geometry.Image((np.asarray(depth_aligned)).astype(np.float32)),\n",
    "#     depth_trunc=MAX_DEPTH,\n",
    "#     convert_rgb_to_intensity=False,\n",
    "# )\n",
    "\n",
    "\n",
    "with open('D:/prox_data/calibration/IR.json') as f:\n",
    "        camera_ir = json.load(f) \n",
    "\n",
    "scale= 8 * 1000.\n",
    "camera_ir['f'][0] *= scale\n",
    "camera_ir['f'][1] *= scale\n",
    "\n",
    "o3d_depth_aligned = o3d.geometry.Image(depth_aligned.astype(np.float32))\n",
    "\n",
    "\n",
    "# TODO alternative method seems equivalent but doesn't actually work?\n",
    "# proj_points = proj.unproject_depth_image(depth_aligned, proj.depth_cam).reshape(-1, 3)\n",
    "# norms = np.linalg.norm(proj_points, axis=1)\n",
    "# eps = 1.0\n",
    "# proj_points = proj_points[norms > eps]\n",
    "# pcd = o3d.geometry.PointCloud()\n",
    "\n",
    "# TODO figure out if depth_scale, depth_trunc necessary\n",
    "pcd = o3d.geometry.PointCloud.create_from_depth_image(\n",
    "    o3d_depth_aligned,\n",
    "    o3d.camera.PinholeCameraIntrinsic(w, h, camera_ir['f'][0], camera_ir['f'][1], camera_ir['c'][0], camera_ir['c'][1]),\n",
    "    # depth_scale=1000.,\n",
    "    # o3d.camera.PinholeCameraIntrinsic(w, h),\n",
    ")  # cam coordinate\n",
    "\n",
    "points = np.asarray(pcd.points)\n",
    "\n",
    "\n",
    "points[:, 2] /= scale\n",
    "pcd.points = o3d.utility.Vector3dVector(points)\n",
    "\n",
    "\n",
    "\n",
    "from pytorch3d import transforms\n",
    "R1 = np.array(camera_ir['R'])\n",
    "# equivalent seems\n",
    "# R1 = np.array(transforms.euler_angles_to_matrix(torch.Tensor(R), convention='XYZ'))\n",
    "R1, _ = cv2.Rodrigues(R1)\n",
    "# same\n",
    "T1 = np.array(camera_ir['T'])\n",
    "\n",
    "R2 = np.array(camera_rgb['R'])\n",
    "# equivalent seems\n",
    "# R1 = np.array(transforms.euler_angles_to_matrix(torch.Tensor(R), convention='XYZ'))\n",
    "R2, _ = cv2.Rodrigues(R2)\n",
    "# same\n",
    "T2 = np.array(camera_rgb['T'])\n",
    "\n",
    "\n",
    "points_color_aligned = (R2 @ (R1.T @ (points - T1).T)).T + T2\n",
    "pcd_color_aligned = o3d.geometry.PointCloud()\n",
    "pcd_color_aligned.points = o3d.utility.Vector3dVector(points_color_aligned)\n",
    "\n",
    "# scene_verts = np.asarray(pcd.points)     # [h*w, 3], coordinate of each pixel in the depth map\n",
    "# scene_verts_aug = np.hstack([scene_verts, np.ones([scene_verts.shape[0], 1])])\n",
    "# with open('D:/prox_data/cam2world/MPH8.json') as f:\n",
    "#         camera_ext = json.load(f)\n",
    "# cam_extr_ref = np.linalg.inv(camera_ext)\n",
    "# scene_verts = scene_verts_aug.dot(cam_extr_ref)[:, :3]      # camera to world transformation\n",
    "\n",
    "# pcd.points = o3d.utility.Vector3dVector(scene_verts) # world coordinate\n",
    "\n",
    "\n",
    "skeleton = o3d.geometry.PointCloud()\n",
    "skeleton.points = o3d.utility.Vector3dVector(body_joints_3d)\n",
    "\n",
    "\n",
    "o3d.visualization.draw_geometries([skeleton, pcd])\n",
    "\n",
    "o3d.visualization.draw_geometries([skeleton, pcd_color_aligned])\n",
    "\n",
    "# camera_ir['f'][0], camera_ir['f'][1]\n",
    "# a, b = np.array(pcd.points), np.array(skeleton.points)\n",
    "# a.mean(), b.mean()\n",
    "# a.mean(axis=0)\n",
    "# # plt.hist(b)\n",
    "# # plt.figure()\n",
    "# plt.hist(a)"
   ]
  },
  {
   "cell_type": "code",
   "execution_count": 160,
   "metadata": {},
   "outputs": [
    {
     "data": {
      "text/plain": [
       "(array([[9.00000e+00, 7.80000e+01, 6.64500e+03, 1.10570e+04, 4.29070e+04,\n",
       "         6.89880e+04, 6.61730e+04, 3.20000e+01, 0.00000e+00, 0.00000e+00],\n",
       "        [0.00000e+00, 0.00000e+00, 0.00000e+00, 1.00000e+00, 6.46230e+04,\n",
       "         7.73460e+04, 4.47670e+04, 9.09600e+03, 4.60000e+01, 1.00000e+01],\n",
       "        [0.00000e+00, 0.00000e+00, 0.00000e+00, 0.00000e+00, 0.00000e+00,\n",
       "         1.95889e+05, 0.00000e+00, 0.00000e+00, 0.00000e+00, 0.00000e+00]]),\n",
       " array([-43369.18268123, -35369.57671836, -27369.9707555 , -19370.36479263,\n",
       "        -11370.75882977,  -3371.1528669 ,   4628.45309597,  12628.05905883,\n",
       "         20627.6650217 ,  28627.27098456,  36626.87694743]),\n",
       " <a list of 3 BarContainer objects>)"
      ]
     },
     "execution_count": 160,
     "metadata": {},
     "output_type": "execute_result"
    },
    {
     "data": {
      "image/png": "[encoded data removed]",
      "text/plain": [
       "<Figure size 432x288 with 1 Axes>"
      ]
     },
     "metadata": {
      "needs_background": "light"
     },
     "output_type": "display_data"
    }
   ],
   "source": [
    "plt.hist(points_color_aligned)"
   ]
  },
  {
   "cell_type": "code",
   "execution_count": 132,
   "metadata": {},
   "outputs": [
    {
     "data": {
      "text/plain": [
       "array([False,  True, False])"
      ]
     },
     "execution_count": 132,
     "metadata": {},
     "output_type": "execute_result"
    },
    {
     "data": {
      "text/plain": [
       "array([[ 0.1, -0.5,  1.8]])"
      ]
     },
     "execution_count": 132,
     "metadata": {},
     "output_type": "execute_result"
    },
    {
     "data": {
      "text/plain": [
       "array([False, False,  True])"
      ]
     },
     "execution_count": 132,
     "metadata": {},
     "output_type": "execute_result"
    }
   ],
   "source": [
    "a = np.min(skel_points, axis=0) - 0.1\n",
    "b = np.max(skel_points, axis=0) + 0.1\n",
    "\n",
    "temp = np.array([[0.1, -1.0, 1.6], [0.1, -0.5, 1.8], [-0.1, 0.8, 1.0]])\n",
    "mask = np.array([np.all(x) for x in temp > a])\n",
    "mask\n",
    "temp[mask]\n",
    "np.logical_and(np.array([False, True, True]), np.array([False, False, True]))"
   ]
  },
  {
   "cell_type": "code",
   "execution_count": 58,
   "metadata": {},
   "outputs": [
    {
     "data": {
      "text/plain": [
       "(87988, 3)"
      ]
     },
     "execution_count": 58,
     "metadata": {},
     "output_type": "execute_result"
    },
    {
     "data": {
      "text/plain": [
       "(195889, 3)"
      ]
     },
     "execution_count": 58,
     "metadata": {},
     "output_type": "execute_result"
    }
   ],
   "source": [
    "valid = np.logical_and(points > a, points < b)\n",
    "points_close = points[np.array([np.all(x) for x in points > a])]\n",
    "points_close.shape\n",
    "points.shape"
   ]
  },
  {
   "cell_type": "code",
   "execution_count": 59,
   "metadata": {},
   "outputs": [
    {
     "name": "stderr",
     "output_type": "stream",
     "text": [
      "  2%|▏         | 249/10475 [04:21<2:59:15,  1.05s/it]\n"
     ]
    },
    {
     "ename": "KeyboardInterrupt",
     "evalue": "",
     "output_type": "error",
     "traceback": [
      "\u001b[1;31m---------------------------------------------------------------------------\u001b[0m",
      "\u001b[1;31mKeyboardInterrupt\u001b[0m                         Traceback (most recent call last)",
      "\u001b[1;32mc:\\Users\\benja\\coding\\eth\\prox\\src\\explore_data_benji.ipynb Cell 23'\u001b[0m in \u001b[0;36m<cell line: 8>\u001b[1;34m()\u001b[0m\n\u001b[0;32m      <a href='vscode-notebook-cell:/c%3A/Users/benja/coding/eth/prox/src/explore_data_benji.ipynb#ch0000076?line=8'>9</a>\u001b[0m     out\u001b[39m.\u001b[39mappend([])\n\u001b[0;32m     <a href='vscode-notebook-cell:/c%3A/Users/benja/coding/eth/prox/src/explore_data_benji.ipynb#ch0000076?line=9'>10</a>\u001b[0m     \u001b[39mfor\u001b[39;00m p \u001b[39min\u001b[39;00m points_close:\n\u001b[1;32m---> <a href='vscode-notebook-cell:/c%3A/Users/benja/coding/eth/prox/src/explore_data_benji.ipynb#ch0000076?line=10'>11</a>\u001b[0m         out[\u001b[39m-\u001b[39m\u001b[39m1\u001b[39m]\u001b[39m.\u001b[39mappend(np\u001b[39m.\u001b[39;49mlinalg\u001b[39m.\u001b[39;49mnorm(p_skel\u001b[39m-\u001b[39;49m p))\n\u001b[0;32m     <a href='vscode-notebook-cell:/c%3A/Users/benja/coding/eth/prox/src/explore_data_benji.ipynb#ch0000076?line=11'>12</a>\u001b[0m distances_non_aligned \u001b[39m=\u001b[39m np\u001b[39m.\u001b[39marray(out)\n",
      "File \u001b[1;32m<__array_function__ internals>:5\u001b[0m, in \u001b[0;36mnorm\u001b[1;34m(*args, **kwargs)\u001b[0m\n",
      "File \u001b[1;32mc:\\Users\\benja\\Anaconda3\\envs\\torch3d\\lib\\site-packages\\numpy\\linalg\\linalg.py:2530\u001b[0m, in \u001b[0;36mnorm\u001b[1;34m(x, ord, axis, keepdims)\u001b[0m\n\u001b[0;32m   <a href='file:///c%3A/Users/benja/Anaconda3/envs/torch3d/lib/site-packages/numpy/linalg/linalg.py?line=2527'>2528</a>\u001b[0m     sqnorm \u001b[39m=\u001b[39m dot(x\u001b[39m.\u001b[39mreal, x\u001b[39m.\u001b[39mreal) \u001b[39m+\u001b[39m dot(x\u001b[39m.\u001b[39mimag, x\u001b[39m.\u001b[39mimag)\n\u001b[0;32m   <a href='file:///c%3A/Users/benja/Anaconda3/envs/torch3d/lib/site-packages/numpy/linalg/linalg.py?line=2528'>2529</a>\u001b[0m \u001b[39melse\u001b[39;00m:\n\u001b[1;32m-> <a href='file:///c%3A/Users/benja/Anaconda3/envs/torch3d/lib/site-packages/numpy/linalg/linalg.py?line=2529'>2530</a>\u001b[0m     sqnorm \u001b[39m=\u001b[39m dot(x, x)\n\u001b[0;32m   <a href='file:///c%3A/Users/benja/Anaconda3/envs/torch3d/lib/site-packages/numpy/linalg/linalg.py?line=2530'>2531</a>\u001b[0m ret \u001b[39m=\u001b[39m sqrt(sqnorm)\n\u001b[0;32m   <a href='file:///c%3A/Users/benja/Anaconda3/envs/torch3d/lib/site-packages/numpy/linalg/linalg.py?line=2531'>2532</a>\u001b[0m \u001b[39mif\u001b[39;00m keepdims:\n",
      "File \u001b[1;32m<__array_function__ internals>:5\u001b[0m, in \u001b[0;36mdot\u001b[1;34m(*args, **kwargs)\u001b[0m\n",
      "\u001b[1;31mKeyboardInterrupt\u001b[0m: "
     ]
    }
   ],
   "source": [
    "skel_points = np.asarray(skeleton.points)\n",
    "out = []\n",
    "import tqdm\n",
    "\n",
    "valid = np.logical_and(points > a, points < b)\n",
    "points_close = points[np.array([np.all(x) for x in points > a])]\n",
    "\n",
    "for p_skel in tqdm.tqdm(skel_points):\n",
    "    out.append([])\n",
    "    for p in points_close:\n",
    "        out[-1].append(np.linalg.norm(p_skel- p))\n",
    "distances_non_aligned = np.array(out)\n",
    "# distances_non_aligned = np.array([[np.linalg.norm(p_skel- p) for p in points] for p_skel in skel_points])"
   ]
  },
  {
   "cell_type": "code",
   "execution_count": 33,
   "metadata": {},
   "outputs": [],
   "source": [
    "o3d.visualization.draw_geometries([skeleton, pcd])"
   ]
  },
  {
   "cell_type": "code",
   "execution_count": 43,
   "metadata": {},
   "outputs": [
    {
     "data": {
      "text/plain": [
       "(array([2.11990e+04, 7.77500e+03, 1.02371e+05, 5.60080e+04, 1.37350e+04,\n",
       "        5.67900e+03, 9.69700e+03, 6.09000e+02, 1.20000e+01, 3.00000e+00]),\n",
       " array([ 0.    ,  6.1048, 12.2096, 18.3144, 24.4192, 30.524 , 36.6288,\n",
       "        42.7336, 48.8384, 54.9432, 61.048 ]),\n",
       " <BarContainer object of 10 artists>)"
      ]
     },
     "execution_count": 43,
     "metadata": {},
     "output_type": "execute_result"
    },
    {
     "data": {
      "image/png": "[encoded data removed]",
      "text/plain": [
       "<Figure size 432x288 with 1 Axes>"
      ]
     },
     "metadata": {
      "needs_background": "light"
     },
     "output_type": "display_data"
    }
   ],
   "source": [
    "plt.hist(depth_aligned.flatten()/scale)"
   ]
  },
  {
   "cell_type": "code",
   "execution_count": 54,
   "metadata": {},
   "outputs": [],
   "source": [
    "o3d.visualization.draw_geometries([skeleton, pcd])"
   ]
  },
  {
   "cell_type": "code",
   "execution_count": 39,
   "metadata": {},
   "outputs": [
    {
     "data": {
      "text/plain": [
       "'0.15.1'"
      ]
     },
     "execution_count": 39,
     "metadata": {},
     "output_type": "execute_result"
    }
   ],
   "source": [
    "o3d.__version__"
   ]
  },
  {
   "cell_type": "code",
   "execution_count": 28,
   "metadata": {},
   "outputs": [],
   "source": [
    "# o3d.visualization.draw([{'name': 'pcd', 'geometry': pcd, 'material': material}], show_skybox=False)\n"
   ]
  },
  {
   "cell_type": "code",
   "execution_count": 29,
   "metadata": {},
   "outputs": [
    {
     "data": {
      "text/plain": [
       "(6149.239511505066, 0.5780720040536439)"
      ]
     },
     "execution_count": 29,
     "metadata": {},
     "output_type": "execute_result"
    },
    {
     "data": {
      "text/plain": [
       "(array([[   0.,    0., 1550., 7764., 1161.,    0.,    0.,    0.,    0.,\n",
       "            0.],\n",
       "        [5282., 1717., 2380.,  447.,  649.,    0.,    0.,    0.,    0.,\n",
       "            0.],\n",
       "        [   0.,    0.,    0.,    0.,    0.,    0.,    0., 5842., 3585.,\n",
       "         1048.]]),\n",
       " array([-0.88381946, -0.54307534, -0.20233121,  0.13841292,  0.47915704,\n",
       "         0.81990117,  1.16064529,  1.50138942,  1.84213355,  2.18287767,\n",
       "         2.5236218 ]),\n",
       " <a list of 3 BarContainer objects>)"
      ]
     },
     "execution_count": 29,
     "metadata": {},
     "output_type": "execute_result"
    },
    {
     "data": {
      "text/plain": [
       "<Figure size 432x288 with 0 Axes>"
      ]
     },
     "execution_count": 29,
     "metadata": {},
     "output_type": "execute_result"
    },
    {
     "data": {
      "text/plain": [
       "(array([[1.70000e+01, 5.22000e+03, 1.47850e+04, 7.00000e+04, 9.15220e+04,\n",
       "         1.43450e+04, 0.00000e+00, 0.00000e+00, 0.00000e+00, 0.00000e+00],\n",
       "        [4.00000e+00, 4.90000e+01, 1.73890e+04, 7.43220e+04, 1.04124e+05,\n",
       "         1.00000e+00, 0.00000e+00, 0.00000e+00, 0.00000e+00, 0.00000e+00],\n",
       "        [0.00000e+00, 0.00000e+00, 0.00000e+00, 0.00000e+00, 6.90100e+03,\n",
       "         1.30741e+05, 4.22170e+04, 1.24990e+04, 3.52200e+03, 9.00000e+00]]),\n",
       " array([-40968.15090393, -30766.53581354, -20564.92072315, -10363.30563275,\n",
       "          -161.69054236,  10039.92454803,  20241.53963843,  30443.15472882,\n",
       "         40644.76981921,  50846.38490961,  61048.        ]),\n",
       " <a list of 3 BarContainer objects>)"
      ]
     },
     "execution_count": 29,
     "metadata": {},
     "output_type": "execute_result"
    },
    {
     "data": {
      "image/png": "[encoded data removed]",
      "text/plain": [
       "<Figure size 432x288 with 1 Axes>"
      ]
     },
     "metadata": {
      "needs_background": "light"
     },
     "output_type": "display_data"
    },
    {
     "data": {
      "image/png": "[encoded data removed]",
      "text/plain": [
       "<Figure size 432x288 with 1 Axes>"
      ]
     },
     "metadata": {
      "needs_background": "light"
     },
     "output_type": "display_data"
    }
   ],
   "source": [
    "a, b = np.array(pcd.points), np.array(skeleton.points)\n",
    "a.mean(), b.mean()\n",
    "# plt.hist(b)\n",
    "# plt.figure()\n",
    "plt.hist(a)"
   ]
  },
  {
   "cell_type": "code",
   "execution_count": 26,
   "metadata": {},
   "outputs": [
    {
     "data": {
      "text/plain": [
       "(6149.239511505066, 0.5780720040536439)"
      ]
     },
     "execution_count": 26,
     "metadata": {},
     "output_type": "execute_result"
    },
    {
     "data": {
      "text/plain": [
       "(array([[   0.,    0., 1550., 7764., 1161.,    0.,    0.,    0.,    0.,\n",
       "            0.],\n",
       "        [5282., 1717., 2380.,  447.,  649.,    0.,    0.,    0.,    0.,\n",
       "            0.],\n",
       "        [   0.,    0.,    0.,    0.,    0.,    0.,    0., 5842., 3585.,\n",
       "         1048.]]),\n",
       " array([-0.88381946, -0.54307534, -0.20233121,  0.13841292,  0.47915704,\n",
       "         0.81990117,  1.16064529,  1.50138942,  1.84213355,  2.18287767,\n",
       "         2.5236218 ]),\n",
       " <a list of 3 BarContainer objects>)"
      ]
     },
     "execution_count": 26,
     "metadata": {},
     "output_type": "execute_result"
    },
    {
     "data": {
      "text/plain": [
       "<Figure size 432x288 with 0 Axes>"
      ]
     },
     "execution_count": 26,
     "metadata": {},
     "output_type": "execute_result"
    },
    {
     "data": {
      "text/plain": [
       "(array([[1.70000e+01, 5.22000e+03, 1.47850e+04, 7.00000e+04, 9.15220e+04,\n",
       "         1.43450e+04, 0.00000e+00, 0.00000e+00, 0.00000e+00, 0.00000e+00],\n",
       "        [4.00000e+00, 4.90000e+01, 1.73890e+04, 7.43220e+04, 1.04124e+05,\n",
       "         1.00000e+00, 0.00000e+00, 0.00000e+00, 0.00000e+00, 0.00000e+00],\n",
       "        [0.00000e+00, 0.00000e+00, 0.00000e+00, 0.00000e+00, 6.90100e+03,\n",
       "         1.30741e+05, 4.22170e+04, 1.24990e+04, 3.52200e+03, 9.00000e+00]]),\n",
       " array([-40968.15090393, -30766.53581354, -20564.92072315, -10363.30563275,\n",
       "          -161.69054236,  10039.92454803,  20241.53963843,  30443.15472882,\n",
       "         40644.76981921,  50846.38490961,  61048.        ]),\n",
       " <a list of 3 BarContainer objects>)"
      ]
     },
     "execution_count": 26,
     "metadata": {},
     "output_type": "execute_result"
    },
    {
     "data": {
      "image/png": "[encoded data removed]",
      "text/plain": [
       "<Figure size 432x288 with 1 Axes>"
      ]
     },
     "metadata": {
      "needs_background": "light"
     },
     "output_type": "display_data"
    },
    {
     "data": {
      "image/png": "[encoded data removed]",
      "text/plain": [
       "<Figure size 432x288 with 1 Axes>"
      ]
     },
     "metadata": {
      "needs_background": "light"
     },
     "output_type": "display_data"
    }
   ],
   "source": [
    "a, b = np.array(pcd.points), np.array(skeleton.points)\n",
    "a.mean(), b.mean()\n",
    "plt.hist(b)\n",
    "plt.figure()\n",
    "plt.hist(a)"
   ]
  },
  {
   "cell_type": "code",
   "execution_count": null,
   "metadata": {},
   "outputs": [],
   "source": []
  },
  {
   "cell_type": "code",
   "execution_count": 24,
   "metadata": {},
   "outputs": [
    {
     "data": {
      "text/plain": [
       "(21, 3)"
      ]
     },
     "execution_count": 24,
     "metadata": {},
     "output_type": "execute_result"
    },
    {
     "data": {
      "text/plain": [
       "(array([[ 0.,  0.,  6., 14.,  1.,  0.,  0.,  0.,  0.,  0.],\n",
       "        [ 7.,  5.,  3.,  2.,  4.,  0.,  0.,  0.,  0.,  0.],\n",
       "        [ 0.,  0.,  0.,  0.,  0.,  0.,  0.,  4., 11.,  6.]]),\n",
       " array([-0.72725713, -0.40971577, -0.09217439,  0.22536698,  0.5429084 ,\n",
       "         0.86044973,  1.1779912 ,  1.4955325 ,  1.8130739 ,  2.1306152 ,\n",
       "         2.4481566 ], dtype=float32),\n",
       " <a list of 3 BarContainer objects>)"
      ]
     },
     "execution_count": 24,
     "metadata": {},
     "output_type": "execute_result"
    },
    {
     "data": {
      "image/png": "[encoded data removed]",
      "text/plain": [
       "<Figure size 432x288 with 1 Axes>"
      ]
     },
     "metadata": {
      "needs_background": "light"
     },
     "output_type": "display_data"
    }
   ],
   "source": [
    "joint_locations.shape\n",
    "plt.hist(joint_locations)"
   ]
  },
  {
   "cell_type": "code",
   "execution_count": 25,
   "metadata": {},
   "outputs": [],
   "source": [
    "joint_distances = []\n",
    "for j1 in joint_locations:\n",
    "    joint_distances.append([])\n",
    "    for j2 in joint_locations:\n",
    "        joint_distances[-1].append(np.linalg.norm(j1 - j2))\n",
    "\n",
    "joint_distances = np.array(joint_distances)"
   ]
  },
  {
   "cell_type": "code",
   "execution_count": 27,
   "metadata": {},
   "outputs": [
    {
     "data": {
      "text/plain": [
       "1.5715686"
      ]
     },
     "execution_count": 27,
     "metadata": {},
     "output_type": "execute_result"
    }
   ],
   "source": [
    "np.max(joint_distances)"
   ]
  },
  {
   "cell_type": "code",
   "execution_count": 18,
   "metadata": {},
   "outputs": [
    {
     "data": {
      "text/plain": [
       "(10475, 3)"
      ]
     },
     "execution_count": 18,
     "metadata": {},
     "output_type": "execute_result"
    }
   ],
   "source": [
    "distances = np.linalg.norm"
   ]
  },
  {
   "cell_type": "code",
   "execution_count": 19,
   "metadata": {},
   "outputs": [
    {
     "data": {
      "text/plain": [
       "{'c': [253.83829093644025, 211.1372060737881],\n",
       " 'f': [366.7400717166478, 366.74007078527524],\n",
       " 'k': [0.09025264727976191,\n",
       "  -0.26834827271526285,\n",
       "  -1.8336023396332128e-10,\n",
       "  2.304994910236695e-09,\n",
       "  0.09528330866851589],\n",
       " 'camera_mtx': [[366.7400717166478, 0.0, 253.83829093644025],\n",
       "  [0.0, 366.74007078527524, 211.1372060737881],\n",
       "  [0.0, 0.0, 1.0]],\n",
       " 'view_mtx': [[-1.0,\n",
       "   -1.547831979827037e-09,\n",
       "   -1.0299632133215585e-08,\n",
       "   4.4333090859474606e-10],\n",
       "  [1.5478319446937772e-09,\n",
       "   -1.0,\n",
       "   3.4111179395206166e-09,\n",
       "   -1.2372430425663552e-09],\n",
       "  [-1.0299632138495422e-08,\n",
       "   3.411117923578517e-09,\n",
       "   1.0,\n",
       "   -1.883818362618968e-08]],\n",
       " 'R': [1.6178624334311548e-08, -5.358171519782183e-09, -3.141592655137625],\n",
       " 'T': [4.4333090859474606e-10,\n",
       "  -1.2372430425663552e-09,\n",
       "  -1.883818362618968e-08]}"
      ]
     },
     "execution_count": 19,
     "metadata": {},
     "output_type": "execute_result"
    }
   ],
   "source": [
    "camera_ir"
   ]
  },
  {
   "cell_type": "code",
   "execution_count": 60,
   "metadata": {},
   "outputs": [],
   "source": [
    "LIMBS = [\n",
    "(0, 1),  # head_center -> neck\n",
    "(1, 2),  # neck -> right_clavicle\n",
    "(2, 3),  # right_clavicle -> right_shoulder\n",
    "(3, 4),  # right_shoulder -> right_elbow\n",
    "(4, 5),  # right_elbow -> right_wrist\n",
    "(1, 6),  # neck -> left_clavicle\n",
    "(6, 7),  # left_clavicle -> left_shoulder\n",
    "(7, 8),  # left_shoulder -> left_elbow\n",
    "(8, 9),  # left_elbow -> left_wrist\n",
    "(1, 10),  # neck -> spine0\n",
    "(10, 11),  # spine0 -> spine1\n",
    "(11, 12),  # spine1 -> spine2\n",
    "(12, 13),  # spine2 -> spine3\n",
    "(13, 14),  # spine3 -> spine4\n",
    "(14, 15),  # spine4 -> right_hip\n",
    "(15, 16),  # right_hip -> right_knee\n",
    "(16, 17),  # right_knee -> right_ankle\n",
    "(14, 18),  # spine4 -> left_hip\n",
    "(18, 19),  # left_hip -> left_knee\n",
    "(19, 20),  # left_knee -> left_ankle\n",
    "]"
   ]
  },
  {
   "cell_type": "code",
   "execution_count": 62,
   "metadata": {},
   "outputs": [
    {
     "data": {
      "text/plain": [
       "(21, 3)"
      ]
     },
     "execution_count": 62,
     "metadata": {},
     "output_type": "execute_result"
    }
   ],
   "source": [
    "joint_locations.shape"
   ]
  },
  {
   "cell_type": "code",
   "execution_count": 72,
   "metadata": {},
   "outputs": [
    {
     "data": {
      "text/plain": [
       "(array([[0.0000e+00, 0.0000e+00, 4.8127e+04, 9.0476e+04, 4.3982e+04,\n",
       "         9.9270e+03, 3.3640e+03, 1.3000e+01, 0.0000e+00, 0.0000e+00],\n",
       "        [2.0000e+01, 2.6600e+03, 3.9330e+04, 8.9159e+04, 6.4720e+04,\n",
       "         0.0000e+00, 0.0000e+00, 0.0000e+00, 0.0000e+00, 0.0000e+00],\n",
       "        [0.0000e+00, 0.0000e+00, 0.0000e+00, 0.0000e+00, 1.1014e+04,\n",
       "         1.4538e+05, 2.5283e+04, 1.2637e+04, 1.5660e+03, 9.0000e+00]]),\n",
       " array([-4.39289013, -3.19053034, -1.98817055, -0.78581076,  0.41654903,\n",
       "         1.61890883,  2.82126862,  4.02362841,  5.2259882 ,  6.428348  ,\n",
       "         7.63070779]),\n",
       " <a list of 3 BarContainer objects>)"
      ]
     },
     "execution_count": 72,
     "metadata": {},
     "output_type": "execute_result"
    },
    {
     "data": {
      "image/png": "[encoded data removed]",
      "text/plain": [
       "<Figure size 432x288 with 1 Axes>"
      ]
     },
     "metadata": {
      "needs_background": "light"
     },
     "output_type": "display_data"
    }
   ],
   "source": [
    "plt.hist(points_color_aligned)"
   ]
  },
  {
   "cell_type": "code",
   "execution_count": 63,
   "metadata": {},
   "outputs": [
    {
     "data": {
      "text/plain": [
       "(195889,)"
      ]
     },
     "execution_count": 63,
     "metadata": {},
     "output_type": "execute_result"
    }
   ],
   "source": [
    "# A = body_joints_3d[np.asarray(LIMBS)[:, 0]]  # [n_limb, 3]\n",
    "# B = body_joints_3d[np.asarray(LIMBS)[:, 1]]  # [n_limb, 3]\n",
    "\n",
    "A = joint_locations[np.asarray(LIMBS)[:, 0]]  # [n_limb, 3]\n",
    "B = joint_locations[np.asarray(LIMBS)[:, 1]]  # [n_limb, 3]\n",
    "n_pt = np.asarray(pcd_color_aligned.points).shape[0]\n",
    "n_limb = A.shape[0]\n",
    "\n",
    "A = np.tile(A, (n_pt, 1)).reshape(n_pt*n_limb, 3)  # [n_pt, n_limb, 3], n_pt=n_bps=scene_verts.shape[0]\n",
    "B = np.tile(B, (n_pt, 1)).reshape(n_pt*n_limb, 3)\n",
    "P = np.tile(np.asarray(pcd_color_aligned.points), n_limb).reshape(n_pt*n_limb, 3)\n",
    "\n",
    "AB = B - A\n",
    "AP = P - A\n",
    "BP = P - B\n",
    "\n",
    "temp_1 = np.multiply(AB, AP).sum(axis=-1)  # [n_pt, n_limb]\n",
    "temp_2 = np.multiply(-AB, BP).sum(axis=-1)  # [n_pt, n_limb]\n",
    "mask_1 = np.where(temp_1 <= 0)[0]   # angle between AB and AP >= 90\n",
    "mask_2 = np.where((temp_1 > 0) * (temp_2 <= 0))[0]  # angle between AB and AP < 90 and angle between BA and BP >= 90\n",
    "mask_3 = np.where((temp_1 > 0) * (temp_2 > 0))[0]   # angle between AB and AP < 90 and angle between BA and BP < 90\n",
    "if len(mask_1) + len(mask_2) + len(mask_3) != n_pt*n_limb:\n",
    "    print('[distance calculation] num of verts does not match!')\n",
    "\n",
    "dist_1 = np.sqrt(np.sum((P[mask_1]-A[mask_1])**2, axis=-1))  # [n_mask_1]\n",
    "dist_2 = np.sqrt(np.sum((P[mask_2]-B[mask_2])**2, axis=-1))  # [n_mask_2]\n",
    "\n",
    "x = np.multiply(AB[mask_3], AP[mask_3]).sum(axis=-1) / np.multiply(AB[mask_3], AB[mask_3]).sum(axis=-1)  # [n_mask_3]\n",
    "x = x.repeat(3).reshape(-1,3)\n",
    "C = x * AB[mask_3] + A[mask_3]  # C: [n_mask_3, 3], the projected point of P on line segment AB\n",
    "dist_3 = np.sqrt(np.sum((P[mask_3]-C)**2, axis=-1))  # n_mask_3\n",
    "\n",
    "dist = np.zeros(n_pt*n_limb)\n",
    "dist[mask_1] = dist_1\n",
    "dist[mask_2] = dist_2\n",
    "dist[mask_3] = dist_3\n",
    "dist = dist.reshape(n_pt, n_limb)  # [n_pt, n_limb], distance from each point in scene verts to each limb\n",
    "body_bps = np.min(dist, axis=-1)   # [n_pt]\n",
    "body_bps.shape"
   ]
  },
  {
   "cell_type": "code",
   "execution_count": 73,
   "metadata": {},
   "outputs": [
    {
     "data": {
      "text/plain": [
       "(array([7.6586e+04, 9.8694e+04, 5.0340e+03, 5.8310e+03, 4.0130e+03,\n",
       "        5.6990e+03, 1.0000e+01, 1.5000e+01, 5.0000e+00, 2.0000e+00]),\n",
       " array([1.72811831e-04, 8.10542559e-01, 1.62091231e+00, 2.43128205e+00,\n",
       "        3.24165180e+00, 4.05202155e+00, 4.86239129e+00, 5.67276104e+00,\n",
       "        6.48313079e+00, 7.29350053e+00, 8.10387028e+00]),\n",
       " <BarContainer object of 10 artists>)"
      ]
     },
     "execution_count": 73,
     "metadata": {},
     "output_type": "execute_result"
    },
    {
     "data": {
      "image/png": "[encoded data removed]",
      "text/plain": [
       "<Figure size 432x288 with 1 Axes>"
      ]
     },
     "metadata": {
      "needs_background": "light"
     },
     "output_type": "display_data"
    }
   ],
   "source": [
    "plt.hist(body_bps)"
   ]
  },
  {
   "cell_type": "code",
   "execution_count": 67,
   "metadata": {},
   "outputs": [
    {
     "data": {
      "text/plain": [
       "(1080, 1920, 3)"
      ]
     },
     "execution_count": 67,
     "metadata": {},
     "output_type": "execute_result"
    }
   ],
   "source": [
    "body_mask_fn = os.path.join(r'D:/prox_data/recordings/MPH8_00168_01/BodyIndexColor', 's001_frame_00006__00.00.00.174' + '.png')\n",
    "body_mask = cv2.imread(body_mask_fn)\n",
    "body_mask.shape"
   ]
  },
  {
   "cell_type": "code",
   "execution_count": 68,
   "metadata": {},
   "outputs": [
    {
     "data": {
      "text/plain": [
       "(424, 512)"
      ]
     },
     "execution_count": 68,
     "metadata": {},
     "output_type": "execute_result"
    }
   ],
   "source": [
    "depth_aligned.shape"
   ]
  },
  {
   "cell_type": "code",
   "execution_count": 70,
   "metadata": {},
   "outputs": [
    {
     "data": {
      "text/plain": [
       "21199"
      ]
     },
     "execution_count": 70,
     "metadata": {},
     "output_type": "execute_result"
    },
    {
     "data": {
      "text/plain": [
       "217088"
      ]
     },
     "execution_count": 70,
     "metadata": {},
     "output_type": "execute_result"
    }
   ],
   "source": [
    "a = depth_aligned.flatten()\n",
    "np.sum(a == 0)\n",
    "len(a)"
   ]
  },
  {
   "cell_type": "code",
   "execution_count": 77,
   "metadata": {},
   "outputs": [
    {
     "data": {
      "text/plain": [
       "(21199,)"
      ]
     },
     "execution_count": 77,
     "metadata": {},
     "output_type": "execute_result"
    },
    {
     "data": {
      "text/plain": [
       "(195889,)"
      ]
     },
     "execution_count": 77,
     "metadata": {},
     "output_type": "execute_result"
    },
    {
     "data": {
      "text/plain": [
       "217088"
      ]
     },
     "execution_count": 77,
     "metadata": {},
     "output_type": "execute_result"
    },
    {
     "data": {
      "text/plain": [
       "(195889,)"
      ]
     },
     "execution_count": 77,
     "metadata": {},
     "output_type": "execute_result"
    }
   ],
   "source": [
    "\n",
    "# human_mask = cv2.imread(os.path.join(data_root, sequence_id, 'BodyIndexColor/' + curr_frame[-34:-4] + '.png'), cv2.IMREAD_GRAYSCALE)\n",
    "# h = human_mask.shape[0]\n",
    "# w = human_mask.shape[1]\n",
    "# human_mask =np.flip(human_mask, axis=1)\n",
    "# human_mask = human_mask.reshape(h*w)\n",
    "# human_mask_ind = np.where(human_mask == 0)[0]\n",
    "\n",
    "depth_mask_ind = np.where(depth_aligned.flatten() == 0.)[0]\n",
    "# where we have points in the point cloud\n",
    "depth_nomask_ind = np.asarray(list(set(range(h*w))-set(depth_mask_ind)))  # indices of nonmasked pixels\n",
    "# TODO set sky mask where depth_aligned > MAX_DEPTH.\n",
    "# depth_mask_sky_ind = ((depth_aligned.flatten() == 0) * (human_mask==False)).reshape(h*w)  # indices of sky\n",
    "\n",
    "depth_mask_ind.shape\n",
    "depth_nomask_ind.shape\n",
    "h*w\n",
    "body_bps.shape"
   ]
  },
  {
   "cell_type": "code",
   "execution_count": 78,
   "metadata": {},
   "outputs": [
    {
     "data": {
      "text/plain": [
       "(195889,)"
      ]
     },
     "execution_count": 78,
     "metadata": {},
     "output_type": "execute_result"
    },
    {
     "data": {
      "text/plain": [
       "(195889,)"
      ]
     },
     "execution_count": 78,
     "metadata": {},
     "output_type": "execute_result"
    },
    {
     "data": {
      "text/plain": [
       "(217088,)"
      ]
     },
     "execution_count": 78,
     "metadata": {},
     "output_type": "execute_result"
    }
   ],
   "source": [
    "h = depth_aligned.shape[0]\n",
    "w = depth_aligned.shape[1]\n",
    "\n",
    "\n",
    "body_bps_full = np.zeros([h * w])\n",
    "# body_bps_full[nomask_ind]\n",
    "# body_bps_full\n",
    "body_bps.shape\n",
    "depth_nomask_ind.shape\n",
    "body_bps_full.shape"
   ]
  },
  {
   "cell_type": "code",
   "execution_count": 79,
   "metadata": {},
   "outputs": [
    {
     "data": {
      "text/plain": [
       "<matplotlib.image.AxesImage at 0x23613130f40>"
      ]
     },
     "execution_count": 79,
     "metadata": {},
     "output_type": "execute_result"
    },
    {
     "data": {
      "text/plain": [
       "<matplotlib.colorbar.Colorbar at 0x23610d90d90>"
      ]
     },
     "execution_count": 79,
     "metadata": {},
     "output_type": "execute_result"
    },
    {
     "data": {
      "image/png": "[encoded data removed]",
      "text/plain": [
       "<Figure size 432x288 with 2 Axes>"
      ]
     },
     "metadata": {
      "needs_background": "light"
     },
     "output_type": "display_data"
    }
   ],
   "source": [
    "########### back to image plane, visualize bps feature map ###########\n",
    "# print(cur_frame, cur_frame_N)\n",
    "body_bps_full[depth_nomask_ind] = body_bps\n",
    "body_bps_full[depth_mask_ind] = 1.8         # set masked pixels to 0\n",
    "# body_bps_full[human_mask_ind] = 0.0\n",
    "body_bps_full = body_bps_full.reshape((h, w))  # body bps feature map, [h, w]\n",
    "body_bps_full = body_bps_full.astype(np.float32)\n",
    "# np.save('{}/seq_{:04d}_fr_{:05d}.npy'.format(save_root, '/proximity/', curr_frame[-34:-4]), body_bps_full)\n",
    "# np.save(save_root + '/first.png', body_bps_full)\n",
    "\n",
    "plt.imshow(body_bps_full, cmap='plasma')\n",
    "plt.colorbar()\n",
    "plt.show()\n",
    "\n",
    "# body_bps_full[body_bps_full>10] = 10\n",
    "# fig = plt.imshow(body_bps_full, cmap='plasma', vmin=0, vmax=5)\n",
    "# plt.axis('off')\n",
    "# fig.axes.get_xaxis().set_visible(False)\n",
    "# fig.axes.get_yaxis().set_visible(False)\n",
    "# plt.imsave(save_root + '/first.png', body_bps_full, cmap='plasma')\n",
    "# # plt.show()"
   ]
  },
  {
   "cell_type": "code",
   "execution_count": 71,
   "metadata": {},
   "outputs": [
    {
     "data": {
      "text/plain": [
       "(195889,)"
      ]
     },
     "execution_count": 71,
     "metadata": {},
     "output_type": "execute_result"
    }
   ],
   "source": [
    "body_bps.shape"
   ]
  },
  {
   "cell_type": "code",
   "execution_count": 80,
   "metadata": {},
   "outputs": [
    {
     "data": {
      "text/plain": [
       "(array([2.11990e+04, 3.14880e+04, 1.20904e+05, 2.70740e+04, 5.31100e+03,\n",
       "        5.32600e+03, 5.75500e+03, 1.90000e+01, 9.00000e+00, 3.00000e+00]),\n",
       " array([1.8000000e+00, 7.9168066e+03, 1.5831813e+04, 2.3746820e+04,\n",
       "        3.1661826e+04, 3.9576832e+04, 4.7491840e+04, 5.5406848e+04,\n",
       "        6.3321855e+04, 7.1236859e+04, 7.9151867e+04], dtype=float32),\n",
       " <BarContainer object of 10 artists>)"
      ]
     },
     "execution_count": 80,
     "metadata": {},
     "output_type": "execute_result"
    },
    {
     "data": {
      "image/png": "[encoded data removed]",
      "text/plain": [
       "<Figure size 432x288 with 1 Axes>"
      ]
     },
     "metadata": {
      "needs_background": "light"
     },
     "output_type": "display_data"
    }
   ],
   "source": [
    "plt.hist(body_bps_full.flatten())"
   ]
  },
  {
   "cell_type": "code",
   "execution_count": null,
   "metadata": {},
   "outputs": [],
   "source": []
  },
  {
   "cell_type": "code",
   "execution_count": null,
   "metadata": {},
   "outputs": [],
   "source": []
  },
  {
   "cell_type": "code",
   "execution_count": null,
   "metadata": {},
   "outputs": [],
   "source": []
  }
 ],
 "metadata": {
  "interpreter": {
   "hash": "88c31a842fa80a77ccc81ce265e01cfd5a4d78cf9fcb2f7dda6ceaee78083af1"
  },
  "kernelspec": {
   "display_name": "Python 3.9.12 ('torch3d')",
   "language": "python",
   "name": "python3"
  },
  "language_info": {
   "codemirror_mode": {
    "name": "ipython",
    "version": 3
   },
   "file_extension": ".py",
   "mimetype": "text/x-python",
   "name": "python",
   "nbconvert_exporter": "python",
   "pygments_lexer": "ipython3",
   "version": "3.9.12"
  }
 },
 "nbformat": 4,
 "nbformat_minor": 2
}
