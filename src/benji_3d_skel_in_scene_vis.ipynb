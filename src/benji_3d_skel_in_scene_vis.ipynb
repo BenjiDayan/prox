{
 "cells": [
  {
   "cell_type": "code",
   "execution_count": 3,
   "metadata": {},
   "outputs": [
    {
     "name": "stdout",
     "output_type": "stream",
     "text": [
      "numpy: 1.21.5\n"
     ]
    }
   ],
   "source": [
    "import os\n",
    "\n",
    "import sys\n",
    "import glob\n",
    "import numpy as np\n",
    "import pickle\n",
    "import cv2\n",
    "import open3d as o3d\n",
    "import matplotlib.pyplot as plt\n",
    "from projection_utils import Projection\n",
    "from data_parser import read_keypoints\n",
    "import time\n",
    "import torch\n",
    "\n",
    "from IPython.core.interactiveshell import InteractiveShell\n",
    "InteractiveShell.ast_node_interactivity = \"all\"\n",
    "\n",
    "device = torch.device('cpu')\n",
    "\n",
    "sys.path.insert(1, '../')\n",
    "from virtual_huams_resource.utils import get_smplx_body_model\n",
    "\n",
    "from virtual_huams_resource.benji_prox_dataloader import *\n",
    "from virtual_huams_resource.utils import *\n",
    "from virtual_huams_resource.visualisation import *\n",
    "from virtual_huams_resource.simple_transformer import PoseTransformer\n",
    "import torch\n",
    "\n",
    "sys.path.insert(0, \"../virtual_huams_resource\")\n",
    "from virtual_huams_resource.benji_prox_dataloader import DatasetBase, proxDatasetSkeleton, get_start_idx\n",
    "from virtual_huams_resource.pose_gru import PoseGRU_inputFC2"
   ]
  },
  {
   "cell_type": "code",
   "execution_count": 2,
   "metadata": {},
   "outputs": [
    {
     "data": {
      "text/plain": [
       "<All keys matched successfully>"
      ]
     },
     "execution_count": 2,
     "metadata": {},
     "output_type": "execute_result"
    }
   ],
   "source": [
    "import wandb\n",
    "run_path = \"vh-motion-pred/rnn/19ugvg0b\"  # grossly overfit training\n",
    "# run_path = \"vh-motion-pred/rnn/3injxdum\"   # best (but not great) validation score\n",
    "api = wandb.Api()\n",
    "run = api.run(run_path)\n",
    "\n",
    "# save_path = 'saves/GRU_joints_15_30_3fps_24_05_1854_epoch199_bn39.pt'\n",
    "save_path = 'GRU_joints_15_30_3fps_3layers512_big_29_05_1151_epoch64_bn499.pt'  # grossly overfit training\n",
    "# save_path = 'saves/GRU_joints_15_30_3fps_3layers512_28_05_1945_epoch140_bn39.pt'  # best (but not great) validation score\n",
    "wandb.restore(save_path, run_path=run_path)\n",
    "\n",
    "gru = PoseGRU_inputFC2(input_size=(25,3), n_layers=3)\n",
    "restore_dict = torch.load(save_path, map_location=device)\n",
    "gru.load_state_dict(restore_dict['model_state_dict'])"
   ]
  },
  {
   "cell_type": "code",
   "execution_count": 1,
   "metadata": {},
   "outputs": [
    {
     "ename": "NameError",
     "evalue": "name 'PoseGRU_inputFC2' is not defined",
     "output_type": "error",
     "traceback": [
      "\u001b[1;31m---------------------------------------------------------------------------\u001b[0m",
      "\u001b[1;31mNameError\u001b[0m                                 Traceback (most recent call last)",
      "Input \u001b[1;32mIn [1]\u001b[0m, in \u001b[0;36m<cell line: 12>\u001b[1;34m()\u001b[0m\n\u001b[0;32m      9\u001b[0m save_path \u001b[38;5;241m=\u001b[39m \u001b[38;5;124m'\u001b[39m\u001b[38;5;124msaves/GRU_joints_15_30_3fps_3layers512_28_05_1945_epoch140_bn39.pt\u001b[39m\u001b[38;5;124m'\u001b[39m  \u001b[38;5;66;03m# best (but not great) validation score\u001b[39;00m\n\u001b[0;32m     10\u001b[0m wandb\u001b[38;5;241m.\u001b[39mrestore(save_path, run_path\u001b[38;5;241m=\u001b[39mrun_path)\n\u001b[1;32m---> 12\u001b[0m gru2 \u001b[38;5;241m=\u001b[39m \u001b[43mPoseGRU_inputFC2\u001b[49m(input_size\u001b[38;5;241m=\u001b[39m(\u001b[38;5;241m25\u001b[39m,\u001b[38;5;241m3\u001b[39m), n_layers\u001b[38;5;241m=\u001b[39m\u001b[38;5;241m3\u001b[39m)\n\u001b[0;32m     13\u001b[0m restore_dict \u001b[38;5;241m=\u001b[39m torch\u001b[38;5;241m.\u001b[39mload(save_path, map_location\u001b[38;5;241m=\u001b[39mdevice)\n\u001b[0;32m     14\u001b[0m gru2\u001b[38;5;241m.\u001b[39mload_state_dict(restore_dict[\u001b[38;5;124m'\u001b[39m\u001b[38;5;124mmodel_state_dict\u001b[39m\u001b[38;5;124m'\u001b[39m])\n",
      "\u001b[1;31mNameError\u001b[0m: name 'PoseGRU_inputFC2' is not defined"
     ]
    }
   ],
   "source": [
    "import wandb\n",
    "# run_path = \"vh-motion-pred/rnn/19ugvg0b\"  # grossly overfit training\n",
    "run_path = \"vh-motion-pred/rnn/3injxdum\"   # best (but not great) validation score\n",
    "api = wandb.Api()\n",
    "run = api.run(run_path)\n",
    "\n",
    "# save_path = 'saves/GRU_joints_15_30_3fps_24_05_1854_epoch199_bn39.pt'\n",
    "# save_path = 'GRU_joints_15_30_3fps_3layers512_big_29_05_1151_epoch64_bn499.pt'  # grossly overfit training\n",
    "save_path = 'saves/GRU_joints_15_30_3fps_3layers512_28_05_1945_epoch140_bn39.pt'  # best (but not great) validation score\n",
    "wandb.restore(save_path, run_path=run_path)\n",
    "\n",
    "gru2 = PoseGRU_inputFC2(input_size=(25,3), n_layers=3)\n",
    "restore_dict = torch.load(save_path, map_location=device)\n",
    "gru2.load_state_dict(restore_dict['model_state_dict'])"
   ]
  },
  {
   "cell_type": "code",
   "execution_count": 4,
   "metadata": {},
   "outputs": [
    {
     "data": {
      "text/plain": [
       "<_io.TextIOWrapper name='C:\\\\Users\\\\benja\\\\coding\\\\eth\\\\prox\\\\src\\\\GRU_joints_15_30_3fps_3layers512_short_30_05_2210_epoch77_bn499.pt' mode='r' encoding='cp1252'>"
      ]
     },
     "execution_count": 4,
     "metadata": {},
     "output_type": "execute_result"
    },
    {
     "data": {
      "text/plain": [
       "<All keys matched successfully>"
      ]
     },
     "execution_count": 4,
     "metadata": {},
     "output_type": "execute_result"
    }
   ],
   "source": [
    "run_path = \"vh-motion-pred/rnn/12f8x1vr\"   # short sequence RNN\n",
    "api = wandb.Api()\n",
    "run = api.run(run_path)\n",
    "\n",
    "save_path = 'GRU_joints_15_30_3fps_3layers512_short_30_05_2210_epoch77_bn499.pt'\n",
    "wandb.restore(save_path, run_path=run_path)\n",
    "\n",
    "gru = PoseGRU_inputFC2(input_size=(25,3), n_layers=2)\n",
    "restore_dict = torch.load(save_path, map_location=device)\n",
    "gru.load_state_dict(restore_dict['model_state_dict'])\n"
   ]
  },
  {
   "cell_type": "code",
   "execution_count": null,
   "metadata": {},
   "outputs": [],
   "source": [
    "run_path = \"vh-motion-pred/rnn/1s3wl3lw'\n",
    "api = wandb.Api()\n",
    "run = api.run(run_path)\n",
    "\n",
    "save_path = 'GRU_joints_15_30_3fps_3layers512_short_30_05_2210_epoch77_bn499.pt'\n",
    "wandb.restore(save_path, run_path=run_path)\n",
    "\n",
    "gru = PoseGRU_inputFC2(input_size=(25,3), n_layers=2)\n",
    "restore_dict = torch.load(save_path, map_location=device)\n",
    "gru.load_state_dict(restore_dict['model_state_dict'])\n"
   ]
  },
  {
   "cell_type": "code",
   "execution_count": 5,
   "metadata": {},
   "outputs": [
    {
     "ename": "FileNotFoundError",
     "evalue": "[Errno 2] No such file or directory: 'transformer_best_model_30_05_1139.pt'",
     "output_type": "error",
     "traceback": [
      "\u001b[1;31m---------------------------------------------------------------------------\u001b[0m",
      "\u001b[1;31mFileNotFoundError\u001b[0m                         Traceback (most recent call last)",
      "Input \u001b[1;32mIn [5]\u001b[0m, in \u001b[0;36m<cell line: 4>\u001b[1;34m()\u001b[0m\n\u001b[0;32m      2\u001b[0m trans_run_path\u001b[38;5;241m=\u001b[39m\u001b[38;5;124m\"\u001b[39m\u001b[38;5;124mvh-motion-pred/transformer_viz/3m5f6cyd\u001b[39m\u001b[38;5;124m\"\u001b[39m\n\u001b[0;32m      3\u001b[0m model \u001b[38;5;241m=\u001b[39m PoseTransformer(num_tokens\u001b[38;5;241m=\u001b[39m\u001b[38;5;241m25\u001b[39m\u001b[38;5;241m*\u001b[39m\u001b[38;5;241m3\u001b[39m)\u001b[38;5;241m.\u001b[39mto(device)\n\u001b[1;32m----> 4\u001b[0m restore_dict \u001b[38;5;241m=\u001b[39m \u001b[43mtorch\u001b[49m\u001b[38;5;241;43m.\u001b[39;49m\u001b[43mload\u001b[49m\u001b[43m(\u001b[49m\u001b[43mtrans_save_path\u001b[49m\u001b[43m,\u001b[49m\u001b[43m \u001b[49m\u001b[43mmap_location\u001b[49m\u001b[38;5;241;43m=\u001b[39;49m\u001b[43mdevice\u001b[49m\u001b[43m)\u001b[49m\n\u001b[0;32m      5\u001b[0m model\u001b[38;5;241m.\u001b[39mload_state_dict(restore_dict[\u001b[38;5;124m'\u001b[39m\u001b[38;5;124mmodel_state_dict\u001b[39m\u001b[38;5;124m'\u001b[39m])\n",
      "File \u001b[1;32m~\\Anaconda3\\envs\\torch3d\\lib\\site-packages\\torch\\serialization.py:594\u001b[0m, in \u001b[0;36mload\u001b[1;34m(f, map_location, pickle_module, **pickle_load_args)\u001b[0m\n\u001b[0;32m    591\u001b[0m \u001b[38;5;28;01mif\u001b[39;00m \u001b[38;5;124m'\u001b[39m\u001b[38;5;124mencoding\u001b[39m\u001b[38;5;124m'\u001b[39m \u001b[38;5;129;01mnot\u001b[39;00m \u001b[38;5;129;01min\u001b[39;00m pickle_load_args\u001b[38;5;241m.\u001b[39mkeys():\n\u001b[0;32m    592\u001b[0m     pickle_load_args[\u001b[38;5;124m'\u001b[39m\u001b[38;5;124mencoding\u001b[39m\u001b[38;5;124m'\u001b[39m] \u001b[38;5;241m=\u001b[39m \u001b[38;5;124m'\u001b[39m\u001b[38;5;124mutf-8\u001b[39m\u001b[38;5;124m'\u001b[39m\n\u001b[1;32m--> 594\u001b[0m \u001b[38;5;28;01mwith\u001b[39;00m \u001b[43m_open_file_like\u001b[49m\u001b[43m(\u001b[49m\u001b[43mf\u001b[49m\u001b[43m,\u001b[49m\u001b[43m \u001b[49m\u001b[38;5;124;43m'\u001b[39;49m\u001b[38;5;124;43mrb\u001b[39;49m\u001b[38;5;124;43m'\u001b[39;49m\u001b[43m)\u001b[49m \u001b[38;5;28;01mas\u001b[39;00m opened_file:\n\u001b[0;32m    595\u001b[0m     \u001b[38;5;28;01mif\u001b[39;00m _is_zipfile(opened_file):\n\u001b[0;32m    596\u001b[0m         \u001b[38;5;66;03m# The zipfile reader is going to advance the current file position.\u001b[39;00m\n\u001b[0;32m    597\u001b[0m         \u001b[38;5;66;03m# If we want to actually tail call to torch.jit.load, we need to\u001b[39;00m\n\u001b[0;32m    598\u001b[0m         \u001b[38;5;66;03m# reset back to the original position.\u001b[39;00m\n\u001b[0;32m    599\u001b[0m         orig_position \u001b[38;5;241m=\u001b[39m opened_file\u001b[38;5;241m.\u001b[39mtell()\n",
      "File \u001b[1;32m~\\Anaconda3\\envs\\torch3d\\lib\\site-packages\\torch\\serialization.py:230\u001b[0m, in \u001b[0;36m_open_file_like\u001b[1;34m(name_or_buffer, mode)\u001b[0m\n\u001b[0;32m    228\u001b[0m \u001b[38;5;28;01mdef\u001b[39;00m \u001b[38;5;21m_open_file_like\u001b[39m(name_or_buffer, mode):\n\u001b[0;32m    229\u001b[0m     \u001b[38;5;28;01mif\u001b[39;00m _is_path(name_or_buffer):\n\u001b[1;32m--> 230\u001b[0m         \u001b[38;5;28;01mreturn\u001b[39;00m \u001b[43m_open_file\u001b[49m\u001b[43m(\u001b[49m\u001b[43mname_or_buffer\u001b[49m\u001b[43m,\u001b[49m\u001b[43m \u001b[49m\u001b[43mmode\u001b[49m\u001b[43m)\u001b[49m\n\u001b[0;32m    231\u001b[0m     \u001b[38;5;28;01melse\u001b[39;00m:\n\u001b[0;32m    232\u001b[0m         \u001b[38;5;28;01mif\u001b[39;00m \u001b[38;5;124m'\u001b[39m\u001b[38;5;124mw\u001b[39m\u001b[38;5;124m'\u001b[39m \u001b[38;5;129;01min\u001b[39;00m mode:\n",
      "File \u001b[1;32m~\\Anaconda3\\envs\\torch3d\\lib\\site-packages\\torch\\serialization.py:211\u001b[0m, in \u001b[0;36m_open_file.__init__\u001b[1;34m(self, name, mode)\u001b[0m\n\u001b[0;32m    210\u001b[0m \u001b[38;5;28;01mdef\u001b[39;00m \u001b[38;5;21m__init__\u001b[39m(\u001b[38;5;28mself\u001b[39m, name, mode):\n\u001b[1;32m--> 211\u001b[0m     \u001b[38;5;28msuper\u001b[39m(_open_file, \u001b[38;5;28mself\u001b[39m)\u001b[38;5;241m.\u001b[39m\u001b[38;5;21m__init__\u001b[39m(\u001b[38;5;28;43mopen\u001b[39;49m\u001b[43m(\u001b[49m\u001b[43mname\u001b[49m\u001b[43m,\u001b[49m\u001b[43m \u001b[49m\u001b[43mmode\u001b[49m\u001b[43m)\u001b[49m)\n",
      "\u001b[1;31mFileNotFoundError\u001b[0m: [Errno 2] No such file or directory: 'transformer_best_model_30_05_1139.pt'"
     ]
    }
   ],
   "source": [
    "trans_save_path = 'transformer_best_model_30_05_1139.pt'\n",
    "trans_run_path=\"vh-motion-pred/transformer_viz/3m5f6cyd\"\n",
    "model = PoseTransformer(num_tokens=25*3).to(device)\n",
    "restore_dict = torch.load(trans_save_path, map_location=device)\n",
    "model.load_state_dict(restore_dict['model_state_dict'])"
   ]
  },
  {
   "cell_type": "code",
   "execution_count": null,
   "metadata": {},
   "outputs": [],
   "source": [
    "\n",
    "root_dir = \"D:/prox_data\"\n",
    "# root_dir = \"/cluster/scratch/bdayan/prox_data\"\n",
    "\n",
    "smplx_model_path='../models_smplx_v1_1/models/'\n",
    "in_frames=15\n",
    "pred_frames=30\n",
    "frame_jump=10\n",
    "window_overlap_factor=8\n",
    "lr = 0.0001\n",
    "n_iter = 100\n",
    "\n",
    "\n",
    "\n",
    "val_areas =['BasementSittingBooth', 'N3OpenArea']\n",
    "\n",
    "pd_train = proxDatasetSkeleton(root_dir=root_dir + '/PROXD_attempt2/PROXD', in_frames=in_frames, pred_frames=pred_frames, \\\n",
    "                       output_type='raw_pkls', smplx_model_path=smplx_model_path, frame_jump=frame_jump, window_overlap_factor=window_overlap_factor, extra_prefix='joints_worldnorm.pkl')\n",
    "\n",
    "# pdc_train = DatasetBase(root_dir=root_dir + '/recordings', in_frames=in_frames, pred_frames=pred_frames,\n",
    "#                                              search_prefix='Color', extra_prefix='', frame_jump=frame_jump,\n",
    "#                   window_overlap_factor=window_overlap_factor)\n",
    "\n",
    "\n",
    "pd_val = proxDatasetSkeleton(root_dir=root_dir + '/PROXD_attempt2/PROXD', in_frames=in_frames, pred_frames=pred_frames, \\\n",
    "                       output_type='raw_pkls', smplx_model_path=smplx_model_path, frame_jump=frame_jump, window_overlap_factor=window_overlap_factor, extra_prefix='joints_worldnorm.pkl')\n",
    "\n",
    "pd_train.sequences = [seq for seq in pd_train.sequences if not any([area in seq[0] for area in val_areas])]\n",
    "pd_val.sequences = [seq for seq in pd_val.sequences if any([area in seq[0] for area in val_areas])]\n",
    "\n",
    "# pdc_val = DatasetBase(root_dir=root_dir + '/recordings', in_frames=in_frames, pred_frames=pred_frames,\n",
    "#                                              search_prefix='Color', extra_prefix='', frame_jump=frame_jump,\n",
    "#                   window_overlap_factor=window_overlap~_factor)\n",
    "\n",
    "print(f'length pd_train: {len(pd_train)}; length pd_val: {len(pd_val)}')\n",
    "\n",
    "# print(f'length pdc_train, pd_train: {len(pdc_train)}, {len(pd_train)}')\n",
    "# pdc_train.align(pd_train)\n",
    "# pd_train.align(pdc_train)\n",
    "# print(f'length pdc_train, pd_train: {len(pdc_train)}, {len(pd_train)}')\n",
    "\n",
    "# print(f'length pdc_val, pd_val: {len(pdc_val)}, {len(pd_val)}')\n",
    "# pdc_val.align(pd_val)\n",
    "# pd_val.align(pdc_val)\n",
    "# print(f'length pdc, pd_val: {len(pdc_val)}, {len(pd_val)}')\n",
    "\n",
    "\n",
    "# dataloader = DataLoader(pd, batch_size=batch_size,\n",
    "#                         shuffle=True, num_workers=0, collate_fn=my_collate)"
   ]
  },
  {
   "cell_type": "code",
   "execution_count": null,
   "metadata": {},
   "outputs": [],
   "source": [
    "LIMBS = [(23, 15),\n",
    "         (24, 15),\n",
    "         (15, 22),\n",
    "         (22, 12),\n",
    "         # left arm\n",
    "         (12, 13),\n",
    "         (13, 16),\n",
    "         (16, 18),\n",
    "         (18, 20),\n",
    "         # right arm\n",
    "         (12, 14),\n",
    "         (14, 17),\n",
    "         (17, 19),\n",
    "         (19, 21),\n",
    "         # spline\n",
    "         (12, 9),\n",
    "         (9, 6),\n",
    "         (6, 3),\n",
    "         (3, 0),\n",
    "         # left leg\n",
    "         (0, 1),\n",
    "         (1, 4),\n",
    "         (4, 7),\n",
    "         (7, 10),\n",
    "         # right leg\n",
    "         (0, 2),\n",
    "         (2, 5),\n",
    "         (5, 8),\n",
    "         (8, 11)]"
   ]
  },
  {
   "cell_type": "code",
   "execution_count": null,
   "metadata": {},
   "outputs": [],
   "source": [
    "pd_val.sequences[1][0]"
   ]
  },
  {
   "cell_type": "code",
   "execution_count": null,
   "metadata": {},
   "outputs": [],
   "source": [
    "a, b = get_start_idx(31, pd_val.bounds, pd_val.start_jump)\n",
    "a,b"
   ]
  },
  {
   "cell_type": "code",
   "execution_count": null,
   "metadata": {},
   "outputs": [],
   "source": [
    "\n",
    "idx = 150\n",
    "pd = pd_train\n",
    "\n",
    "_, (a, in_skels), (b, fut_skels) = pd.__getitem__(idx)\n",
    "\n",
    "start, seq_idx = get_start_idx(idx, pd.bounds, pd.start_jump)\n",
    "scene_name = pd.sequences[seq_idx][0]\n",
    "scene_name = scene_name[:scene_name.index('_')]\n",
    "print(scene_name)\n",
    "# ______________ read point cloud ______________\n",
    "scene_point_cloud = o3d.io.read_point_cloud(os.path.join(root_dir, \"scenes\", scene_name + \".ply\"))"
   ]
  },
  {
   "cell_type": "code",
   "execution_count": 32,
   "metadata": {},
   "outputs": [
    {
     "name": "stdout",
     "output_type": "stream",
     "text": [
      "torch.Size([15, 25, 3])\n",
      "torch.Size([3])\n",
      "torch.Size([1, 30, 25, 3])\n"
     ]
    }
   ],
   "source": [
    "# noise = 0.07 * np.random.random(size=((len(fut_skels),) + fut_skels[0].shape))\n",
    "# noise_cumsum = np.cumsum(noise, axis=0)\n",
    "# pred_skels = [torch.Tensor(noise) + fut_skel for noise, fut_skel in zip(noise_cumsum, fut_skels)]\n",
    "# pred_skels = [None] * len(in_skels) + pred_skels\n",
    "\n",
    "in_skels_tensor = torch.cat(in_skels)\n",
    "print(in_skels_tensor.shape)\n",
    "pelvis = in_skels_tensor[0, 0, :]\n",
    "print(pelvis.shape)\n",
    "in_skels_world_norm = in_skels_tensor - pelvis\n",
    "cur_state, pred_skels_world = gru2.forward_prediction(in_skels_world_norm.unsqueeze(0), pred_len=30)\n",
    "pred_skels_world = pred_skels_world + pelvis\n",
    "print(pred_skels_world.shape)\n",
    "pred_skels_world = pred_skels_world.squeeze()  # (30, 25, 3)\n",
    "pred_skels = [None] * len(in_skels) + [pred_skel for pred_skel in pred_skels_world]\n",
    "\n",
    "\n",
    "gt_skels = in_skels + fut_skels\n",
    "\n",
    "\n",
    "\n",
    "# gt_skels = in_skels\n",
    "# pred_skels = [None] * len(in_skels)"
   ]
  },
  {
   "cell_type": "code",
   "execution_count": 33,
   "metadata": {},
   "outputs": [],
   "source": [
    "\n",
    "i = -1\n",
    "green = np.array([0.3, 1.0, 0.3])\n",
    "red = np.array([1.0, 0.3, 0.3])\n",
    "\n",
    "# If no pred skels set pred_skels to [None]\n",
    "\n",
    "def forward(vis):\n",
    "    # skeleton = next(skeleton_iter)          # render first frame\n",
    "    global i\n",
    "    i += 1\n",
    "    if i == len(gt_skels):\n",
    "        i = 0\n",
    "    skeleton_gt = gt_skels[i]\n",
    "    skeleton_pred = pred_skels[i]\n",
    "    vis.clear_geometries()\n",
    "    update(vis, skeleton_gt, color=green)\n",
    "    if skeleton_pred is not None:\n",
    "        update(vis, skeleton_pred, color=red)\n",
    "\n",
    "    vis.poll_events()\n",
    "    vis.update_renderer()\n",
    "    vis.run()\n",
    "\n",
    "def backward(vis):\n",
    "    # skeleton = next(skeleton_iter)          # render first frame\n",
    "    global i\n",
    "    i -= 1\n",
    "    if i == -1:\n",
    "        i = len(gt_skels)-1\n",
    "    skeleton_gt = gt_skels[i]\n",
    "    skeleton_pred = pred_skels[i]\n",
    "    vis.clear_geometries()\n",
    "    update(vis, skeleton_gt, color=green)\n",
    "    if skeleton_pred is not None:\n",
    "        update(vis, skeleton_pred, color=red)\n",
    "\n",
    "    vis.poll_events()\n",
    "    vis.update_renderer()\n",
    "    vis.run()\n",
    "\n",
    "def update(vis, skeleton, color=None):\n",
    "    skeleton = skeleton.detach().numpy()\n",
    "    skeleton = skeleton.astype(np.float64)\n",
    "    skeleton = skeleton.squeeze()\n",
    "    # print(skeleton)\n",
    "    skeleton_input = o3d.geometry.LineSet(\n",
    "            o3d.utility.Vector3dVector(skeleton),\n",
    "            o3d.utility.Vector2iVector(LIMBS))\n",
    "    if color is not None:\n",
    "        skeleton_input.paint_uniform_color(color)\n",
    "    ctrl = vis.get_view_control()\n",
    "    cam_param = ctrl.convert_to_pinhole_camera_parameters()\n",
    "\n",
    "    vis.add_geometry(scene_point_cloud)\n",
    "    vis.add_geometry(skeleton_input)\n",
    "    ctrl.convert_from_pinhole_camera_parameters(cam_param)\n",
    "\n",
    "    \n",
    "# ______________ animate skeleton in point cloud ______________\n",
    "vis = o3d.visualization.VisualizerWithKeyCallback()\n",
    "vis.create_window()\n",
    "vis.register_key_callback(65, forward)       # press A\n",
    "vis.register_key_callback(66, backward)       # press B?\n",
    "\n",
    "# Don't press C! instead close window with mouse to avoid kernel die.\n",
    "vis.register_key_callback(67, lambda vis: vis.destroy_window())\n",
    "vis.add_geometry(scene_point_cloud)\n",
    "\n",
    "# render first frame\n",
    "forward(vis)\n",
    "\n",
    "# skeleton = in_skels[0].detach().numpy()          # render first frame\n",
    "# skeleton = skeleton.astype(np.float64)\n",
    "# skeleton = skeleton.squeeze()\n",
    "# skeleton_input = o3d.geometry.LineSet(\n",
    "#             o3d.utility.Vector3dVector(skeleton),\n",
    "#             o3d.utility.Vector2iVector(LIMBS))\n",
    "# vis.add_geometry(skeleton_input)\n",
    "# vis.run()\n",
    "vis.destroy_window()"
   ]
  },
  {
   "cell_type": "code",
   "execution_count": null,
   "metadata": {},
   "outputs": [],
   "source": []
  }
 ],
 "metadata": {
  "interpreter": {
   "hash": "88c31a842fa80a77ccc81ce265e01cfd5a4d78cf9fcb2f7dda6ceaee78083af1"
  },
  "kernelspec": {
   "display_name": "PyCharm (prox)",
   "language": "python",
   "name": "pycharm-c015e8a4"
  },
  "language_info": {
   "codemirror_mode": {
    "name": "ipython",
    "version": 3
   },
   "file_extension": ".py",
   "mimetype": "text/x-python",
   "name": "python",
   "nbconvert_exporter": "python",
   "pygments_lexer": "ipython3",
   "version": "3.9.12"
  }
 },
 "nbformat": 4,
 "nbformat_minor": 2
}
