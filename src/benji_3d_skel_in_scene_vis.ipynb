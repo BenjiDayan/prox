{
 "cells": [
  {
   "cell_type": "code",
   "execution_count": 12,
   "metadata": {},
   "outputs": [],
   "source": [
    "import os\n",
    "import sys\n",
    "import glob\n",
    "import numpy as np\n",
    "import pickle\n",
    "import cv2\n",
    "import open3d as o3d\n",
    "import matplotlib.pyplot as plt\n",
    "from projection_utils import Projection\n",
    "from data_parser import read_keypoints\n",
    "import time\n",
    "import torch\n",
    "device = torch.device('cpu')\n",
    "\n",
    "sys.path.insert(1, '../')\n",
    "from virtual_huams_resource.utils import get_smplx_body_model\n",
    "\n",
    "sys.path.insert(0, \"../virtual_huams_resource\")\n",
    "from virtual_huams_resource.benji_prox_dataloader import DatasetBase, proxDatasetSkeleton, get_start_idx\n",
    "from virtual_huams_resource.pose_gru import PoseGRU_inputFC2"
   ]
  },
  {
   "cell_type": "code",
   "execution_count": 54,
   "metadata": {},
   "outputs": [
    {
     "data": {
      "text/plain": [
       "<All keys matched successfully>"
      ]
     },
     "execution_count": 54,
     "metadata": {},
     "output_type": "execute_result"
    }
   ],
   "source": [
    "import wandb\n",
    "# run_path = \"vh-motion-pred/rnn/19ugvg0b\"  # grossly overfit training\n",
    "run_path = \"vh-motion-pred/rnn/3injxdum\"   # best (but not great) validation score\n",
    "api = wandb.Api()\n",
    "run = api.run(run_path)\n",
    "\n",
    "# save_path = 'saves/GRU_joints_15_30_3fps_24_05_1854_epoch199_bn39.pt'\n",
    "# save_path = 'GRU_joints_15_30_3fps_3layers512_big_29_05_1151_epoch64_bn499.pt'  # grossly overfit training\n",
    "save_path = 'saves/GRU_joints_15_30_3fps_3layers512_28_05_1945_epoch140_bn39.pt'  # best (but not great) validation score\n",
    "wandb.restore(save_path, run_path=run_path)\n",
    "\n",
    "gru = PoseGRU_inputFC2(input_size=(25,3), n_layers=3)\n",
    "restore_dict = torch.load(save_path, map_location=device)\n",
    "gru.load_state_dict(restore_dict['model_state_dict'])"
   ]
  },
  {
   "cell_type": "code",
   "execution_count": 3,
   "metadata": {},
   "outputs": [
    {
     "name": "stdout",
     "output_type": "stream",
     "text": [
      "length pd_train: 979; length pd_val: 171\n"
     ]
    }
   ],
   "source": [
    "\n",
    "root_dir = \"D:/prox_data\"\n",
    "# root_dir = \"/cluster/scratch/bdayan/prox_data\"\n",
    "\n",
    "smplx_model_path='../models_smplx_v1_1/models/'\n",
    "in_frames=15\n",
    "pred_frames=30\n",
    "frame_jump=10\n",
    "window_overlap_factor=8\n",
    "lr = 0.0001\n",
    "n_iter = 100\n",
    "\n",
    "\n",
    "\n",
    "val_areas =['BasementSittingBooth', 'N3OpenArea']\n",
    "\n",
    "pd_train = proxDatasetSkeleton(root_dir=root_dir + '/PROXD_attempt2/PROXD', in_frames=in_frames, pred_frames=pred_frames, \\\n",
    "                       output_type='raw_pkls', smplx_model_path=smplx_model_path, frame_jump=frame_jump, window_overlap_factor=window_overlap_factor, extra_prefix='joints_worldnorm.pkl')\n",
    "\n",
    "# pdc_train = DatasetBase(root_dir=root_dir + '/recordings', in_frames=in_frames, pred_frames=pred_frames,\n",
    "#                                              search_prefix='Color', extra_prefix='', frame_jump=frame_jump,\n",
    "#                   window_overlap_factor=window_overlap_factor)\n",
    "\n",
    "\n",
    "pd_val = proxDatasetSkeleton(root_dir=root_dir + '/PROXD_attempt2/PROXD', in_frames=in_frames, pred_frames=pred_frames, \\\n",
    "                       output_type='raw_pkls', smplx_model_path=smplx_model_path, frame_jump=frame_jump, window_overlap_factor=window_overlap_factor, extra_prefix='joints_worldnorm.pkl')\n",
    "\n",
    "pd_train.sequences = [seq for seq in pd_train.sequences if not any([area in seq[0] for area in val_areas])]\n",
    "pd_val.sequences = [seq for seq in pd_val.sequences if any([area in seq[0] for area in val_areas])]\n",
    "\n",
    "# pdc_val = DatasetBase(root_dir=root_dir + '/recordings', in_frames=in_frames, pred_frames=pred_frames,\n",
    "#                                              search_prefix='Color', extra_prefix='', frame_jump=frame_jump,\n",
    "#                   window_overlap_factor=window_overlap~_factor)\n",
    "\n",
    "print(f'length pd_train: {len(pd_train)}; length pd_val: {len(pd_val)}')\n",
    "\n",
    "# print(f'length pdc_train, pd_train: {len(pdc_train)}, {len(pd_train)}')\n",
    "# pdc_train.align(pd_train)\n",
    "# pd_train.align(pdc_train)\n",
    "# print(f'length pdc_train, pd_train: {len(pdc_train)}, {len(pd_train)}')\n",
    "\n",
    "# print(f'length pdc_val, pd_val: {len(pdc_val)}, {len(pd_val)}')\n",
    "# pdc_val.align(pd_val)\n",
    "# pd_val.align(pdc_val)\n",
    "# print(f'length pdc, pd_val: {len(pdc_val)}, {len(pd_val)}')\n",
    "\n",
    "\n",
    "# dataloader = DataLoader(pd, batch_size=batch_size,\n",
    "#                         shuffle=True, num_workers=0, collate_fn=my_collate)"
   ]
  },
  {
   "cell_type": "code",
   "execution_count": null,
   "metadata": {},
   "outputs": [],
   "source": [
    "LIMBS = [(23, 15),\n",
    "         (24, 15),\n",
    "         (15, 22),\n",
    "         (22, 12),\n",
    "         # left arm\n",
    "         (12, 13),\n",
    "         (13, 16),\n",
    "         (16, 18),\n",
    "         (18, 20),\n",
    "         # right arm\n",
    "         (12, 14),\n",
    "         (14, 17),\n",
    "         (17, 19),\n",
    "         (19, 21),\n",
    "         # spline\n",
    "         (12, 9),\n",
    "         (9, 6),\n",
    "         (6, 3),\n",
    "         (3, 0),\n",
    "         # left leg\n",
    "         (0, 1),\n",
    "         (1, 4),\n",
    "         (4, 7),\n",
    "         (7, 10),\n",
    "         # right leg\n",
    "         (0, 2),\n",
    "         (2, 5),\n",
    "         (5, 8),\n",
    "         (8, 11)]"
   ]
  },
  {
   "cell_type": "code",
   "execution_count": 4,
   "metadata": {},
   "outputs": [],
   "source": [
    "# data_root = 'D:/prox_data'\n",
    "# # sequence_id = 'vicon_03301_01'\n",
    "# # save_root = '../quantitative/3d_visualization'\n",
    "\n",
    "# smplx_model_path='../models_smplx_v1_1/models/'"
   ]
  },
  {
   "cell_type": "code",
   "execution_count": 5,
   "metadata": {},
   "outputs": [],
   "source": [
    "# vis = o3d.visualization.VisualizerWithKeyCallback()"
   ]
  },
  {
   "cell_type": "code",
   "execution_count": 6,
   "metadata": {},
   "outputs": [],
   "source": [
    "# # ______________ read skeletons ______________\n",
    "# pd2 = proxDatasetSkeleton(root_dir=data_root + '/PROXD_attempt2/PROXD', in_frames=45, pred_frames=0, output_type='raw_pkls',\n",
    "#                         search_prefix='results', extra_prefix='joints_worldnorm.pkl', frame_jump=10, window_overlap_factor=8)\n",
    "# idx, (a, in_skels), (b, fut_skels) = pd2.__getitem__(0)\n",
    "# sk = in_skels[0].detach().numpy()\n",
    "# sk.shape"
   ]
  },
  {
   "cell_type": "code",
   "execution_count": 57,
   "metadata": {},
   "outputs": [
    {
     "name": "stdout",
     "output_type": "stream",
     "text": [
      "N0Sofa\n"
     ]
    }
   ],
   "source": [
    "\n",
    "idx = 550\n",
    "pd = pd_train\n",
    "\n",
    "_, (a, in_skels), (b, fut_skels) = pd.__getitem__(idx)\n",
    "\n",
    "start, seq_idx = get_start_idx(idx, pd.bounds, pd.start_jump)\n",
    "scene_name = pd.sequences[seq_idx][0]\n",
    "scene_name = scene_name[:scene_name.index('_')]\n",
    "print(scene_name)\n",
    "# ______________ read point cloud ______________\n",
    "scene_point_cloud = o3d.io.read_point_cloud(os.path.join(root_dir, \"scenes\", scene_name + \".ply\"))"
   ]
  },
  {
   "cell_type": "code",
   "execution_count": 58,
   "metadata": {},
   "outputs": [
    {
     "name": "stdout",
     "output_type": "stream",
     "text": [
      "torch.Size([15, 25, 3])\n",
      "torch.Size([3])\n",
      "torch.Size([1, 30, 25, 3])\n"
     ]
    }
   ],
   "source": [
    "# noise = 0.07 * np.random.random(size=((len(fut_skels),) + fut_skels[0].shape))\n",
    "# noise_cumsum = np.cumsum(noise, axis=0)\n",
    "# pred_skels = [torch.Tensor(noise) + fut_skel for noise, fut_skel in zip(noise_cumsum, fut_skels)]\n",
    "# pred_skels = [None] * len(in_skels) + pred_skels\n",
    "\n",
    "in_skels_tensor = torch.cat(in_skels)\n",
    "print(in_skels_tensor.shape)\n",
    "pelvis = in_skels_tensor[0, 0, :]\n",
    "print(pelvis.shape)\n",
    "in_skels_world_norm = in_skels_tensor - pelvis\n",
    "cur_state, pred_skels_world = gru.forward_prediction(in_skels_world_norm.unsqueeze(0), pred_len=30)\n",
    "pred_skels_world = pred_skels_world + pelvis\n",
    "print(pred_skels_world.shape)\n",
    "pred_skels_world = pred_skels_world.squeeze()  # (30, 25, 3)\n",
    "pred_skels = [None] * len(in_skels) + [pred_skel for pred_skel in pred_skels_world]\n",
    "\n",
    "\n",
    "gt_skels = in_skels + fut_skels\n",
    "\n",
    "\n",
    "\n",
    "# gt_skels = in_skels\n",
    "# pred_skels = [None] * len(in_skels)"
   ]
  },
  {
   "cell_type": "code",
   "execution_count": 59,
   "metadata": {},
   "outputs": [
    {
     "name": "stdout",
     "output_type": "stream",
     "text": [
      "[Open3D WARNING] [ViewControl] SetViewPoint() failed because window height and width are not set.\n"
     ]
    },
    {
     "ename": "KeyboardInterrupt",
     "evalue": "",
     "output_type": "error",
     "traceback": [
      "\u001b[1;31m---------------------------------------------------------------------------\u001b[0m",
      "\u001b[1;31mKeyboardInterrupt\u001b[0m                         Traceback (most recent call last)",
      "\u001b[1;32mc:\\Users\\benja\\coding\\eth\\prox\\src\\3d_visualization_animated.ipynb Cell 10'\u001b[0m in \u001b[0;36m<cell line: 70>\u001b[1;34m()\u001b[0m\n\u001b[0;32m     <a href='vscode-notebook-cell:/c%3A/Users/benja/coding/eth/prox/src/3d_visualization_animated.ipynb#ch0000006?line=66'>67</a>\u001b[0m vis\u001b[39m.\u001b[39madd_geometry(scene_point_cloud)\n\u001b[0;32m     <a href='vscode-notebook-cell:/c%3A/Users/benja/coding/eth/prox/src/3d_visualization_animated.ipynb#ch0000006?line=68'>69</a>\u001b[0m \u001b[39m# render first frame\u001b[39;00m\n\u001b[1;32m---> <a href='vscode-notebook-cell:/c%3A/Users/benja/coding/eth/prox/src/3d_visualization_animated.ipynb#ch0000006?line=69'>70</a>\u001b[0m forward(vis)\n\u001b[0;32m     <a href='vscode-notebook-cell:/c%3A/Users/benja/coding/eth/prox/src/3d_visualization_animated.ipynb#ch0000006?line=71'>72</a>\u001b[0m \u001b[39m# skeleton = in_skels[0].detach().numpy()          # render first frame\u001b[39;00m\n\u001b[0;32m     <a href='vscode-notebook-cell:/c%3A/Users/benja/coding/eth/prox/src/3d_visualization_animated.ipynb#ch0000006?line=72'>73</a>\u001b[0m \u001b[39m# skeleton = skeleton.astype(np.float64)\u001b[39;00m\n\u001b[0;32m     <a href='vscode-notebook-cell:/c%3A/Users/benja/coding/eth/prox/src/3d_visualization_animated.ipynb#ch0000006?line=73'>74</a>\u001b[0m \u001b[39m# skeleton = skeleton.squeeze()\u001b[39;00m\n\u001b[1;32m   (...)\u001b[0m\n\u001b[0;32m     <a href='vscode-notebook-cell:/c%3A/Users/benja/coding/eth/prox/src/3d_visualization_animated.ipynb#ch0000006?line=77'>78</a>\u001b[0m \u001b[39m# vis.add_geometry(skeleton_input)\u001b[39;00m\n\u001b[0;32m     <a href='vscode-notebook-cell:/c%3A/Users/benja/coding/eth/prox/src/3d_visualization_animated.ipynb#ch0000006?line=78'>79</a>\u001b[0m \u001b[39m# vis.run()\u001b[39;00m\n\u001b[0;32m     <a href='vscode-notebook-cell:/c%3A/Users/benja/coding/eth/prox/src/3d_visualization_animated.ipynb#ch0000006?line=79'>80</a>\u001b[0m vis\u001b[39m.\u001b[39mdestroy_window()\n",
      "\u001b[1;32mc:\\Users\\benja\\coding\\eth\\prox\\src\\3d_visualization_animated.ipynb Cell 10'\u001b[0m in \u001b[0;36mforward\u001b[1;34m(vis)\u001b[0m\n\u001b[0;32m     <a href='vscode-notebook-cell:/c%3A/Users/benja/coding/eth/prox/src/3d_visualization_animated.ipynb#ch0000006?line=19'>20</a>\u001b[0m vis\u001b[39m.\u001b[39mpoll_events()\n\u001b[0;32m     <a href='vscode-notebook-cell:/c%3A/Users/benja/coding/eth/prox/src/3d_visualization_animated.ipynb#ch0000006?line=20'>21</a>\u001b[0m vis\u001b[39m.\u001b[39mupdate_renderer()\n\u001b[1;32m---> <a href='vscode-notebook-cell:/c%3A/Users/benja/coding/eth/prox/src/3d_visualization_animated.ipynb#ch0000006?line=21'>22</a>\u001b[0m vis\u001b[39m.\u001b[39;49mrun()\n",
      "\u001b[1;32mc:\\Users\\benja\\coding\\eth\\prox\\src\\3d_visualization_animated.ipynb Cell 10'\u001b[0m in \u001b[0;36mforward\u001b[1;34m(vis)\u001b[0m\n\u001b[0;32m     <a href='vscode-notebook-cell:/c%3A/Users/benja/coding/eth/prox/src/3d_visualization_animated.ipynb#ch0000006?line=19'>20</a>\u001b[0m vis\u001b[39m.\u001b[39mpoll_events()\n\u001b[0;32m     <a href='vscode-notebook-cell:/c%3A/Users/benja/coding/eth/prox/src/3d_visualization_animated.ipynb#ch0000006?line=20'>21</a>\u001b[0m vis\u001b[39m.\u001b[39mupdate_renderer()\n\u001b[1;32m---> <a href='vscode-notebook-cell:/c%3A/Users/benja/coding/eth/prox/src/3d_visualization_animated.ipynb#ch0000006?line=21'>22</a>\u001b[0m vis\u001b[39m.\u001b[39;49mrun()\n",
      "    \u001b[1;31m[... skipping similar frames: forward at line 22 (44 times)]\u001b[0m\n",
      "\u001b[1;32mc:\\Users\\benja\\coding\\eth\\prox\\src\\3d_visualization_animated.ipynb Cell 10'\u001b[0m in \u001b[0;36mforward\u001b[1;34m(vis)\u001b[0m\n\u001b[0;32m     <a href='vscode-notebook-cell:/c%3A/Users/benja/coding/eth/prox/src/3d_visualization_animated.ipynb#ch0000006?line=19'>20</a>\u001b[0m vis\u001b[39m.\u001b[39mpoll_events()\n\u001b[0;32m     <a href='vscode-notebook-cell:/c%3A/Users/benja/coding/eth/prox/src/3d_visualization_animated.ipynb#ch0000006?line=20'>21</a>\u001b[0m vis\u001b[39m.\u001b[39mupdate_renderer()\n\u001b[1;32m---> <a href='vscode-notebook-cell:/c%3A/Users/benja/coding/eth/prox/src/3d_visualization_animated.ipynb#ch0000006?line=21'>22</a>\u001b[0m vis\u001b[39m.\u001b[39;49mrun()\n",
      "\u001b[1;32mc:\\Users\\benja\\coding\\eth\\prox\\src\\3d_visualization_animated.ipynb Cell 10'\u001b[0m in \u001b[0;36mbackward\u001b[1;34m(vis)\u001b[0m\n\u001b[0;32m     <a href='vscode-notebook-cell:/c%3A/Users/benja/coding/eth/prox/src/3d_visualization_animated.ipynb#ch0000006?line=36'>37</a>\u001b[0m vis\u001b[39m.\u001b[39mpoll_events()\n\u001b[0;32m     <a href='vscode-notebook-cell:/c%3A/Users/benja/coding/eth/prox/src/3d_visualization_animated.ipynb#ch0000006?line=37'>38</a>\u001b[0m vis\u001b[39m.\u001b[39mupdate_renderer()\n\u001b[1;32m---> <a href='vscode-notebook-cell:/c%3A/Users/benja/coding/eth/prox/src/3d_visualization_animated.ipynb#ch0000006?line=38'>39</a>\u001b[0m vis\u001b[39m.\u001b[39;49mrun()\n",
      "\u001b[1;32mc:\\Users\\benja\\coding\\eth\\prox\\src\\3d_visualization_animated.ipynb Cell 10'\u001b[0m in \u001b[0;36mbackward\u001b[1;34m(vis)\u001b[0m\n\u001b[0;32m     <a href='vscode-notebook-cell:/c%3A/Users/benja/coding/eth/prox/src/3d_visualization_animated.ipynb#ch0000006?line=36'>37</a>\u001b[0m vis\u001b[39m.\u001b[39mpoll_events()\n\u001b[0;32m     <a href='vscode-notebook-cell:/c%3A/Users/benja/coding/eth/prox/src/3d_visualization_animated.ipynb#ch0000006?line=37'>38</a>\u001b[0m vis\u001b[39m.\u001b[39mupdate_renderer()\n\u001b[1;32m---> <a href='vscode-notebook-cell:/c%3A/Users/benja/coding/eth/prox/src/3d_visualization_animated.ipynb#ch0000006?line=38'>39</a>\u001b[0m vis\u001b[39m.\u001b[39;49mrun()\n",
      "\u001b[1;32mc:\\Users\\benja\\coding\\eth\\prox\\src\\3d_visualization_animated.ipynb Cell 10'\u001b[0m in \u001b[0;36mbackward\u001b[1;34m(vis)\u001b[0m\n\u001b[0;32m     <a href='vscode-notebook-cell:/c%3A/Users/benja/coding/eth/prox/src/3d_visualization_animated.ipynb#ch0000006?line=36'>37</a>\u001b[0m vis\u001b[39m.\u001b[39mpoll_events()\n\u001b[0;32m     <a href='vscode-notebook-cell:/c%3A/Users/benja/coding/eth/prox/src/3d_visualization_animated.ipynb#ch0000006?line=37'>38</a>\u001b[0m vis\u001b[39m.\u001b[39mupdate_renderer()\n\u001b[1;32m---> <a href='vscode-notebook-cell:/c%3A/Users/benja/coding/eth/prox/src/3d_visualization_animated.ipynb#ch0000006?line=38'>39</a>\u001b[0m vis\u001b[39m.\u001b[39;49mrun()\n",
      "\u001b[1;32mc:\\Users\\benja\\coding\\eth\\prox\\src\\3d_visualization_animated.ipynb Cell 10'\u001b[0m in \u001b[0;36mforward\u001b[1;34m(vis)\u001b[0m\n\u001b[0;32m     <a href='vscode-notebook-cell:/c%3A/Users/benja/coding/eth/prox/src/3d_visualization_animated.ipynb#ch0000006?line=19'>20</a>\u001b[0m vis\u001b[39m.\u001b[39mpoll_events()\n\u001b[0;32m     <a href='vscode-notebook-cell:/c%3A/Users/benja/coding/eth/prox/src/3d_visualization_animated.ipynb#ch0000006?line=20'>21</a>\u001b[0m vis\u001b[39m.\u001b[39mupdate_renderer()\n\u001b[1;32m---> <a href='vscode-notebook-cell:/c%3A/Users/benja/coding/eth/prox/src/3d_visualization_animated.ipynb#ch0000006?line=21'>22</a>\u001b[0m vis\u001b[39m.\u001b[39;49mrun()\n",
      "\u001b[1;32mc:\\Users\\benja\\coding\\eth\\prox\\src\\3d_visualization_animated.ipynb Cell 10'\u001b[0m in \u001b[0;36mforward\u001b[1;34m(vis)\u001b[0m\n\u001b[0;32m     <a href='vscode-notebook-cell:/c%3A/Users/benja/coding/eth/prox/src/3d_visualization_animated.ipynb#ch0000006?line=19'>20</a>\u001b[0m vis\u001b[39m.\u001b[39mpoll_events()\n\u001b[0;32m     <a href='vscode-notebook-cell:/c%3A/Users/benja/coding/eth/prox/src/3d_visualization_animated.ipynb#ch0000006?line=20'>21</a>\u001b[0m vis\u001b[39m.\u001b[39mupdate_renderer()\n\u001b[1;32m---> <a href='vscode-notebook-cell:/c%3A/Users/benja/coding/eth/prox/src/3d_visualization_animated.ipynb#ch0000006?line=21'>22</a>\u001b[0m vis\u001b[39m.\u001b[39;49mrun()\n",
      "    \u001b[1;31m[... skipping similar frames: forward at line 22 (39 times)]\u001b[0m\n",
      "\u001b[1;32mc:\\Users\\benja\\coding\\eth\\prox\\src\\3d_visualization_animated.ipynb Cell 10'\u001b[0m in \u001b[0;36mforward\u001b[1;34m(vis)\u001b[0m\n\u001b[0;32m     <a href='vscode-notebook-cell:/c%3A/Users/benja/coding/eth/prox/src/3d_visualization_animated.ipynb#ch0000006?line=19'>20</a>\u001b[0m vis\u001b[39m.\u001b[39mpoll_events()\n\u001b[0;32m     <a href='vscode-notebook-cell:/c%3A/Users/benja/coding/eth/prox/src/3d_visualization_animated.ipynb#ch0000006?line=20'>21</a>\u001b[0m vis\u001b[39m.\u001b[39mupdate_renderer()\n\u001b[1;32m---> <a href='vscode-notebook-cell:/c%3A/Users/benja/coding/eth/prox/src/3d_visualization_animated.ipynb#ch0000006?line=21'>22</a>\u001b[0m vis\u001b[39m.\u001b[39;49mrun()\n",
      "\u001b[1;32mc:\\Users\\benja\\coding\\eth\\prox\\src\\3d_visualization_animated.ipynb Cell 10'\u001b[0m in \u001b[0;36mforward\u001b[1;34m(vis)\u001b[0m\n\u001b[0;32m     <a href='vscode-notebook-cell:/c%3A/Users/benja/coding/eth/prox/src/3d_visualization_animated.ipynb#ch0000006?line=16'>17</a>\u001b[0m \u001b[39mif\u001b[39;00m skeleton_pred \u001b[39mis\u001b[39;00m \u001b[39mnot\u001b[39;00m \u001b[39mNone\u001b[39;00m:\n\u001b[0;32m     <a href='vscode-notebook-cell:/c%3A/Users/benja/coding/eth/prox/src/3d_visualization_animated.ipynb#ch0000006?line=17'>18</a>\u001b[0m     update(vis, skeleton_pred, color\u001b[39m=\u001b[39mred)\n\u001b[1;32m---> <a href='vscode-notebook-cell:/c%3A/Users/benja/coding/eth/prox/src/3d_visualization_animated.ipynb#ch0000006?line=19'>20</a>\u001b[0m vis\u001b[39m.\u001b[39;49mpoll_events()\n\u001b[0;32m     <a href='vscode-notebook-cell:/c%3A/Users/benja/coding/eth/prox/src/3d_visualization_animated.ipynb#ch0000006?line=20'>21</a>\u001b[0m vis\u001b[39m.\u001b[39mupdate_renderer()\n\u001b[0;32m     <a href='vscode-notebook-cell:/c%3A/Users/benja/coding/eth/prox/src/3d_visualization_animated.ipynb#ch0000006?line=21'>22</a>\u001b[0m vis\u001b[39m.\u001b[39mrun()\n",
      "\u001b[1;31mKeyboardInterrupt\u001b[0m: "
     ]
    },
    {
     "ename": "",
     "evalue": "",
     "output_type": "error",
     "traceback": [
      "\u001b[1;31mThe Kernel crashed while executing code in the the current cell or a previous cell. Please review the code in the cell(s) to identify a possible cause of the failure. Click <a href='https://aka.ms/vscodeJupyterKernelCrash'>here</a> for more info. View Jupyter <a href='command:jupyter.viewOutput'>log</a> for further details."
     ]
    }
   ],
   "source": [
    "\n",
    "i = -1\n",
    "green = np.array([0.3, 1.0, 0.3])\n",
    "red = np.array([1.0, 0.3, 0.3])\n",
    "\n",
    "# If no pred skels set pred_skels to [None]\n",
    "\n",
    "def forward(vis):\n",
    "    # skeleton = next(skeleton_iter)          # render first frame\n",
    "    global i\n",
    "    i += 1\n",
    "    if i == len(gt_skels):\n",
    "        i = 0\n",
    "    skeleton_gt = gt_skels[i]\n",
    "    skeleton_pred = pred_skels[i]\n",
    "    vis.clear_geometries()\n",
    "    update(vis, skeleton_gt, color=green)\n",
    "    if skeleton_pred is not None:\n",
    "        update(vis, skeleton_pred, color=red)\n",
    "\n",
    "    vis.poll_events()\n",
    "    vis.update_renderer()\n",
    "    vis.run()\n",
    "\n",
    "def backward(vis):\n",
    "    # skeleton = next(skeleton_iter)          # render first frame\n",
    "    global i\n",
    "    i -= 1\n",
    "    if i == -1:\n",
    "        i = len(gt_skels)-1\n",
    "    skeleton_gt = gt_skels[i]\n",
    "    skeleton_pred = pred_skels[i]\n",
    "    vis.clear_geometries()\n",
    "    update(vis, skeleton_gt, color=green)\n",
    "    if skeleton_pred is not None:\n",
    "        update(vis, skeleton_pred, color=red)\n",
    "\n",
    "    vis.poll_events()\n",
    "    vis.update_renderer()\n",
    "    vis.run()\n",
    "\n",
    "def update(vis, skeleton, color=None):\n",
    "    skeleton = skeleton.detach().numpy()\n",
    "    skeleton = skeleton.astype(np.float64)\n",
    "    skeleton = skeleton.squeeze()\n",
    "    # print(skeleton)\n",
    "    skeleton_input = o3d.geometry.LineSet(\n",
    "            o3d.utility.Vector3dVector(skeleton),\n",
    "            o3d.utility.Vector2iVector(LIMBS))\n",
    "    if color is not None:\n",
    "        skeleton_input.paint_uniform_color(color)\n",
    "    ctrl = vis.get_view_control()\n",
    "    cam_param = ctrl.convert_to_pinhole_camera_parameters()\n",
    "\n",
    "    vis.add_geometry(scene_point_cloud)\n",
    "    vis.add_geometry(skeleton_input)\n",
    "    ctrl.convert_from_pinhole_camera_parameters(cam_param)\n",
    "\n",
    "    \n",
    "# ______________ animate skeleton in point cloud ______________\n",
    "vis = o3d.visualization.VisualizerWithKeyCallback()\n",
    "vis.create_window()\n",
    "vis.register_key_callback(65, forward)       # press A\n",
    "vis.register_key_callback(66, backward)       # press B?\n",
    "\n",
    "# Don't press C! instead close window with mouse to avoid kernel die.\n",
    "vis.register_key_callback(67, lambda vis: vis.destroy_window())\n",
    "vis.add_geometry(scene_point_cloud)\n",
    "\n",
    "# render first frame\n",
    "forward(vis)\n",
    "\n",
    "# skeleton = in_skels[0].detach().numpy()          # render first frame\n",
    "# skeleton = skeleton.astype(np.float64)\n",
    "# skeleton = skeleton.squeeze()\n",
    "# skeleton_input = o3d.geometry.LineSet(\n",
    "#             o3d.utility.Vector3dVector(skeleton),\n",
    "#             o3d.utility.Vector2iVector(LIMBS))\n",
    "# vis.add_geometry(skeleton_input)\n",
    "# vis.run()\n",
    "vis.destroy_window()"
   ]
  },
  {
   "cell_type": "code",
   "execution_count": null,
   "metadata": {},
   "outputs": [],
   "source": []
  }
 ],
 "metadata": {
  "interpreter": {
   "hash": "88c31a842fa80a77ccc81ce265e01cfd5a4d78cf9fcb2f7dda6ceaee78083af1"
  },
  "kernelspec": {
   "display_name": "Python 3.9.12 ('torch3d')",
   "language": "python",
   "name": "python3"
  },
  "language_info": {
   "codemirror_mode": {
    "name": "ipython",
    "version": 3
   },
   "file_extension": ".py",
   "mimetype": "text/x-python",
   "name": "python",
   "nbconvert_exporter": "python",
   "pygments_lexer": "ipython3",
   "version": "3.9.12"
  },
  "orig_nbformat": 4
 },
 "nbformat": 4,
 "nbformat_minor": 2
}
