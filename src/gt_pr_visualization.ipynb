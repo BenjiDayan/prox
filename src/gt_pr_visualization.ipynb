{
 "cells": [
  {
   "cell_type": "code",
   "execution_count": 1,
   "metadata": {},
   "outputs": [
    {
     "name": "stderr",
     "output_type": "stream",
     "text": [
      "INFO - 2022-05-30 10:00:12,056 - acceleratesupport - No OpenGL_accelerate module loaded: No module named 'OpenGL_accelerate'\n"
     ]
    }
   ],
   "source": [
    "import os\n",
    "import sys\n",
    "import argparse\n",
    "import glob\n",
    "import numpy as np\n",
    "import pickle\n",
    "import json\n",
    "import cv2\n",
    "import open3d as o3d\n",
    "import matplotlib.pyplot as plt\n",
    "from projection_utils import Projection\n",
    "from data_parser import read_keypoints\n",
    "\n",
    "sys.path.insert(1, '../')\n",
    "from virtual_huams_resource.utils import get_smplx_body_model\n",
    "\n",
    "sys.path.insert(0, \"../virtual_huams_resource\")\n",
    "from virtual_huams_resource.benji_prox_dataloader import DatasetBase, proxDatasetSkeleton"
   ]
  },
  {
   "cell_type": "code",
   "execution_count": 2,
   "metadata": {},
   "outputs": [],
   "source": [
    "data_root = '../N3OpenArea_00157_01/seq_0'\n",
    "scene_dir = os.path.join(\"../quantitative\", \"scenes\", \"N3OpenArea.ply\")"
   ]
  },
  {
   "cell_type": "code",
   "execution_count": 3,
   "metadata": {},
   "outputs": [],
   "source": [
    "# define limbs\n",
    "LIMBS = [(23, 15),\n",
    "         (24, 15),\n",
    "         (15, 22),\n",
    "         (22, 12),\n",
    "         # left arm\n",
    "         (12, 13),\n",
    "         (13, 16),\n",
    "         (16, 18),\n",
    "         (18, 20),\n",
    "         # right arm\n",
    "         (12, 14),\n",
    "         (14, 17),\n",
    "         (17, 19),\n",
    "         (19, 21),\n",
    "         # spline\n",
    "         (12, 9),\n",
    "         (9, 6),\n",
    "         (6, 3),\n",
    "         (3, 0),\n",
    "         # left leg\n",
    "         (0, 1),\n",
    "         (1, 4),\n",
    "         (4, 7),\n",
    "         (7, 10),\n",
    "         # right leg\n",
    "         (0, 2),\n",
    "         (2, 5),\n",
    "         (5, 8),\n",
    "         (8, 11)]\n",
    "# define visualizer\n",
    "vis = o3d.visualization.VisualizerWithKeyCallback()\n",
    "# load point cloud\n",
    "scene_point_cloud = o3d.io.read_point_cloud(os.path.join(\"../quantitative\", \"scenes\", \"N3OpenArea.ply\"))"
   ]
  },
  {
   "cell_type": "code",
   "execution_count": 4,
   "metadata": {},
   "outputs": [],
   "source": [
    "# get list of directories of the skeletons\n",
    "ground_truth_path = \"joints_worldnorm.pkl\"\n",
    "prediction_path = \"transformer_predicted_joints_worldnorm.pkl\"\n",
    "ground_truth_dir_list = glob.glob(os.path.join(data_root, \"s001_frame_00*\", ground_truth_path))\n",
    "ground_truth_dir_list.sort()\n",
    "prediction_dir_list = glob.glob(os.path.join(data_root, \"s001_frame_00*\", prediction_path))\n",
    "prediction_dir_list.sort()"
   ]
  },
  {
   "cell_type": "code",
   "execution_count": 5,
   "metadata": {},
   "outputs": [],
   "source": [
    "import torch\n",
    "import io\n",
    "\n",
    "class CPU_Unpickler(pickle.Unpickler):\n",
    "    def find_class(self, module, name):\n",
    "        if module == 'torch.storage' and name == '_load_from_bytes':\n",
    "            return lambda b: torch.load(io.BytesIO(b), map_location='cpu')\n",
    "        else:\n",
    "            return super().find_class(module, name)\n",
    "\n",
    "# get list of skeletons for ground truth and prediction\n",
    "ground_truth_list = []      # list of skeletons of ground truth (dtype: numpy)\n",
    "for dir in ground_truth_dir_list:\n",
    "    with open(dir, 'rb') as f:\n",
    "        data = pickle.load(f)\n",
    "    data = data.detach().numpy()\n",
    "    data = data.squeeze()\n",
    "    data = data.astype(np.float64)\n",
    "    ground_truth_list.append(data)\n",
    "\n",
    "prediction_list = []      # list of skeletons of prediction (dtype: numpy)\n",
    "for dir in prediction_dir_list:\n",
    "    with open(dir, 'rb') as f:\n",
    "        data = CPU_Unpickler(f).load()\n",
    "    # data = torch.load(dir, map_location=torch.device('cpu'))\n",
    "    data = data.detach().numpy()\n",
    "    data = data.squeeze()\n",
    "    data = data.astype(np.float64)\n",
    "    prediction_list.append(data)"
   ]
  },
  {
   "cell_type": "code",
   "execution_count": 6,
   "metadata": {},
   "outputs": [
    {
     "name": "stdout",
     "output_type": "stream",
     "text": [
      "\u001b[1;33m[Open3D WARNING] GLFW Error: Cocoa: Failed to find service port for display\u001b[0;m\n",
      "\u001b[1;33m[Open3D WARNING] invalid color in PaintUniformColor, clipping to [0, 1]\u001b[0;m\n",
      "\u001b[1;33m[Open3D WARNING] GLFW Error: Cocoa: Failed to find service port for display\u001b[0;m\n",
      "\u001b[1;33m[Open3D WARNING] invalid color in PaintUniformColor, clipping to [0, 1]\u001b[0;m\n",
      "\u001b[1;33m[Open3D WARNING] invalid color in PaintUniformColor, clipping to [0, 1]\u001b[0;m\n",
      "\u001b[1;33m[Open3D WARNING] invalid color in PaintUniformColor, clipping to [0, 1]\u001b[0;m\n",
      "\u001b[1;33m[Open3D WARNING] invalid color in PaintUniformColor, clipping to [0, 1]\u001b[0;m\n",
      "\u001b[1;33m[Open3D WARNING] invalid color in PaintUniformColor, clipping to [0, 1]\u001b[0;m\n",
      "\u001b[1;33m[Open3D WARNING] invalid color in PaintUniformColor, clipping to [0, 1]\u001b[0;m\n",
      "\u001b[1;33m[Open3D WARNING] invalid color in PaintUniformColor, clipping to [0, 1]\u001b[0;m\n",
      "\u001b[1;33m[Open3D WARNING] invalid color in PaintUniformColor, clipping to [0, 1]\u001b[0;m\n",
      "\u001b[1;33m[Open3D WARNING] invalid color in PaintUniformColor, clipping to [0, 1]\u001b[0;m\n",
      "\u001b[1;33m[Open3D WARNING] invalid color in PaintUniformColor, clipping to [0, 1]\u001b[0;m\n",
      "\u001b[1;33m[Open3D WARNING] invalid color in PaintUniformColor, clipping to [0, 1]\u001b[0;m\n",
      "\u001b[1;33m[Open3D WARNING] invalid color in PaintUniformColor, clipping to [0, 1]\u001b[0;m\n",
      "\u001b[1;33m[Open3D WARNING] invalid color in PaintUniformColor, clipping to [0, 1]\u001b[0;m\n",
      "\u001b[1;33m[Open3D WARNING] invalid color in PaintUniformColor, clipping to [0, 1]\u001b[0;m\n",
      "\u001b[1;33m[Open3D WARNING] invalid color in PaintUniformColor, clipping to [0, 1]\u001b[0;m\n",
      "\u001b[1;33m[Open3D WARNING] invalid color in PaintUniformColor, clipping to [0, 1]\u001b[0;m\n",
      "\u001b[1;33m[Open3D WARNING] invalid color in PaintUniformColor, clipping to [0, 1]\u001b[0;m\n",
      "\u001b[1;33m[Open3D WARNING] invalid color in PaintUniformColor, clipping to [0, 1]\u001b[0;m\n",
      "\u001b[1;33m[Open3D WARNING] invalid color in PaintUniformColor, clipping to [0, 1]\u001b[0;m\n",
      "\u001b[1;33m[Open3D WARNING] invalid color in PaintUniformColor, clipping to [0, 1]\u001b[0;m\n",
      "\u001b[1;33m[Open3D WARNING] invalid color in PaintUniformColor, clipping to [0, 1]\u001b[0;m\n",
      "\u001b[1;33m[Open3D WARNING] invalid color in PaintUniformColor, clipping to [0, 1]\u001b[0;m\n",
      "\u001b[1;33m[Open3D WARNING] invalid color in PaintUniformColor, clipping to [0, 1]\u001b[0;m\n",
      "\u001b[1;33m[Open3D WARNING] invalid color in PaintUniformColor, clipping to [0, 1]\u001b[0;m\n",
      "\u001b[1;33m[Open3D WARNING] invalid color in PaintUniformColor, clipping to [0, 1]\u001b[0;m\n",
      "\u001b[1;33m[Open3D WARNING] invalid color in PaintUniformColor, clipping to [0, 1]\u001b[0;m\n",
      "\u001b[1;33m[Open3D WARNING] invalid color in PaintUniformColor, clipping to [0, 1]\u001b[0;m\n",
      "\u001b[1;33m[Open3D WARNING] invalid color in PaintUniformColor, clipping to [0, 1]\u001b[0;m\n",
      "\u001b[1;33m[Open3D WARNING] invalid color in PaintUniformColor, clipping to [0, 1]\u001b[0;m\n",
      "\u001b[1;33m[Open3D WARNING] invalid color in PaintUniformColor, clipping to [0, 1]\u001b[0;m\n"
     ]
    },
    {
     "ename": "StopIteration",
     "evalue": "",
     "output_type": "error",
     "traceback": [
      "\u001b[0;31m---------------------------------------------------------------------------\u001b[0m",
      "\u001b[0;31mStopIteration\u001b[0m                             Traceback (most recent call last)",
      "\u001b[1;32m/Users/guangzhu/Desktop/ETHz/S2/Virtual_Human/project/prox/src/gt_pr_visualization.ipynb Cell 6'\u001b[0m in \u001b[0;36m<cell line: 41>\u001b[0;34m()\u001b[0m\n\u001b[1;32m     <a href='vscode-notebook-cell:/Users/guangzhu/Desktop/ETHz/S2/Virtual_Human/project/prox/src/gt_pr_visualization.ipynb#ch0000008?line=38'>39</a>\u001b[0m vis\u001b[39m.\u001b[39madd_geometry(pr_skeleton_input)\n\u001b[1;32m     <a href='vscode-notebook-cell:/Users/guangzhu/Desktop/ETHz/S2/Virtual_Human/project/prox/src/gt_pr_visualization.ipynb#ch0000008?line=39'>40</a>\u001b[0m vis\u001b[39m.\u001b[39mget_render_option()\u001b[39m.\u001b[39mline_width \u001b[39m=\u001b[39m \u001b[39m1000\u001b[39m\n\u001b[0;32m---> <a href='vscode-notebook-cell:/Users/guangzhu/Desktop/ETHz/S2/Virtual_Human/project/prox/src/gt_pr_visualization.ipynb#ch0000008?line=40'>41</a>\u001b[0m vis\u001b[39m.\u001b[39;49mrun()\n\u001b[1;32m     <a href='vscode-notebook-cell:/Users/guangzhu/Desktop/ETHz/S2/Virtual_Human/project/prox/src/gt_pr_visualization.ipynb#ch0000008?line=41'>42</a>\u001b[0m vis\u001b[39m.\u001b[39mdestroy_window()\n",
      "\u001b[1;32m/Users/guangzhu/Desktop/ETHz/S2/Virtual_Human/project/prox/src/gt_pr_visualization.ipynb Cell 6'\u001b[0m in \u001b[0;36mupdate\u001b[0;34m(vis)\u001b[0m\n\u001b[1;32m     <a href='vscode-notebook-cell:/Users/guangzhu/Desktop/ETHz/S2/Virtual_Human/project/prox/src/gt_pr_visualization.ipynb#ch0000008?line=19'>20</a>\u001b[0m vis\u001b[39m.\u001b[39mpoll_events()\n\u001b[1;32m     <a href='vscode-notebook-cell:/Users/guangzhu/Desktop/ETHz/S2/Virtual_Human/project/prox/src/gt_pr_visualization.ipynb#ch0000008?line=20'>21</a>\u001b[0m vis\u001b[39m.\u001b[39mupdate_renderer()\n\u001b[0;32m---> <a href='vscode-notebook-cell:/Users/guangzhu/Desktop/ETHz/S2/Virtual_Human/project/prox/src/gt_pr_visualization.ipynb#ch0000008?line=21'>22</a>\u001b[0m vis\u001b[39m.\u001b[39;49mrun()\n",
      "\u001b[1;32m/Users/guangzhu/Desktop/ETHz/S2/Virtual_Human/project/prox/src/gt_pr_visualization.ipynb Cell 6'\u001b[0m in \u001b[0;36mupdate\u001b[0;34m(vis)\u001b[0m\n\u001b[1;32m     <a href='vscode-notebook-cell:/Users/guangzhu/Desktop/ETHz/S2/Virtual_Human/project/prox/src/gt_pr_visualization.ipynb#ch0000008?line=19'>20</a>\u001b[0m vis\u001b[39m.\u001b[39mpoll_events()\n\u001b[1;32m     <a href='vscode-notebook-cell:/Users/guangzhu/Desktop/ETHz/S2/Virtual_Human/project/prox/src/gt_pr_visualization.ipynb#ch0000008?line=20'>21</a>\u001b[0m vis\u001b[39m.\u001b[39mupdate_renderer()\n\u001b[0;32m---> <a href='vscode-notebook-cell:/Users/guangzhu/Desktop/ETHz/S2/Virtual_Human/project/prox/src/gt_pr_visualization.ipynb#ch0000008?line=21'>22</a>\u001b[0m vis\u001b[39m.\u001b[39;49mrun()\n",
      "    \u001b[0;31m[... skipping similar frames: update at line 22 (27 times)]\u001b[0m\n",
      "\u001b[1;32m/Users/guangzhu/Desktop/ETHz/S2/Virtual_Human/project/prox/src/gt_pr_visualization.ipynb Cell 6'\u001b[0m in \u001b[0;36mupdate\u001b[0;34m(vis)\u001b[0m\n\u001b[1;32m     <a href='vscode-notebook-cell:/Users/guangzhu/Desktop/ETHz/S2/Virtual_Human/project/prox/src/gt_pr_visualization.ipynb#ch0000008?line=19'>20</a>\u001b[0m vis\u001b[39m.\u001b[39mpoll_events()\n\u001b[1;32m     <a href='vscode-notebook-cell:/Users/guangzhu/Desktop/ETHz/S2/Virtual_Human/project/prox/src/gt_pr_visualization.ipynb#ch0000008?line=20'>21</a>\u001b[0m vis\u001b[39m.\u001b[39mupdate_renderer()\n\u001b[0;32m---> <a href='vscode-notebook-cell:/Users/guangzhu/Desktop/ETHz/S2/Virtual_Human/project/prox/src/gt_pr_visualization.ipynb#ch0000008?line=21'>22</a>\u001b[0m vis\u001b[39m.\u001b[39;49mrun()\n",
      "\u001b[1;32m/Users/guangzhu/Desktop/ETHz/S2/Virtual_Human/project/prox/src/gt_pr_visualization.ipynb Cell 6'\u001b[0m in \u001b[0;36mupdate\u001b[0;34m(vis)\u001b[0m\n\u001b[1;32m      <a href='vscode-notebook-cell:/Users/guangzhu/Desktop/ETHz/S2/Virtual_Human/project/prox/src/gt_pr_visualization.ipynb#ch0000008?line=2'>3</a>\u001b[0m \u001b[39mdef\u001b[39;00m \u001b[39mupdate\u001b[39m(vis):\n\u001b[0;32m----> <a href='vscode-notebook-cell:/Users/guangzhu/Desktop/ETHz/S2/Virtual_Human/project/prox/src/gt_pr_visualization.ipynb#ch0000008?line=3'>4</a>\u001b[0m     gt_skeleton \u001b[39m=\u001b[39m \u001b[39mnext\u001b[39;49m(ground_truth_iter)          \u001b[39m# render first frame\u001b[39;00m\n\u001b[1;32m      <a href='vscode-notebook-cell:/Users/guangzhu/Desktop/ETHz/S2/Virtual_Human/project/prox/src/gt_pr_visualization.ipynb#ch0000008?line=4'>5</a>\u001b[0m     pr_skeleton \u001b[39m=\u001b[39m \u001b[39mnext\u001b[39m(prediction_iter)          \u001b[39m# render first frame\u001b[39;00m\n\u001b[1;32m      <a href='vscode-notebook-cell:/Users/guangzhu/Desktop/ETHz/S2/Virtual_Human/project/prox/src/gt_pr_visualization.ipynb#ch0000008?line=5'>6</a>\u001b[0m     gt_skeleton_input \u001b[39m=\u001b[39m o3d\u001b[39m.\u001b[39mgeometry\u001b[39m.\u001b[39mLineSet(\n\u001b[1;32m      <a href='vscode-notebook-cell:/Users/guangzhu/Desktop/ETHz/S2/Virtual_Human/project/prox/src/gt_pr_visualization.ipynb#ch0000008?line=6'>7</a>\u001b[0m             o3d\u001b[39m.\u001b[39mutility\u001b[39m.\u001b[39mVector3dVector(gt_skeleton),\n\u001b[1;32m      <a href='vscode-notebook-cell:/Users/guangzhu/Desktop/ETHz/S2/Virtual_Human/project/prox/src/gt_pr_visualization.ipynb#ch0000008?line=7'>8</a>\u001b[0m             o3d\u001b[39m.\u001b[39mutility\u001b[39m.\u001b[39mVector2iVector(LIMBS))\n",
      "\u001b[0;31mStopIteration\u001b[0m: "
     ]
    },
    {
     "ename": "",
     "evalue": "",
     "output_type": "error",
     "traceback": [
      "\u001b[1;31mThe Kernel crashed while executing code in the the current cell or a previous cell. Please review the code in the cell(s) to identify a possible cause of the failure. Click <a href='https://aka.ms/vscodeJupyterKernelCrash'>here</a> for more info. View Jupyter <a href='command:jupyter.viewOutput'>log</a> for further details."
     ]
    }
   ],
   "source": [
    "ground_truth_iter = iter(ground_truth_list)\n",
    "prediction_iter = iter(prediction_list)\n",
    "def update(vis):\n",
    "    gt_skeleton = next(ground_truth_iter)          # render first frame\n",
    "    pr_skeleton = next(prediction_iter)          # render first frame\n",
    "    gt_skeleton_input = o3d.geometry.LineSet(\n",
    "            o3d.utility.Vector3dVector(gt_skeleton),\n",
    "            o3d.utility.Vector2iVector(LIMBS))\n",
    "    gt_skeleton_input = gt_skeleton_input.paint_uniform_color([[0], [255], [0]])\n",
    "    pr_skeleton_input = o3d.geometry.LineSet(\n",
    "            o3d.utility.Vector3dVector(pr_skeleton),\n",
    "            o3d.utility.Vector2iVector(LIMBS))\n",
    "    pr_skeleton_input = pr_skeleton_input.paint_uniform_color([[255], [0], [0]])\n",
    "    ctrl = vis.get_view_control()\n",
    "    cam_param = ctrl.convert_to_pinhole_camera_parameters()\n",
    "    vis.clear_geometries()\n",
    "    vis.add_geometry(scene_point_cloud)\n",
    "    vis.add_geometry(gt_skeleton_input)\n",
    "    vis.add_geometry(pr_skeleton_input)\n",
    "    ctrl.convert_from_pinhole_camera_parameters(cam_param)\n",
    "    vis.poll_events()\n",
    "    vis.update_renderer()\n",
    "    vis.run()\n",
    "    \n",
    "# ______________ animate skeleton in point cloud ______________\n",
    "vis.create_window()\n",
    "vis.register_key_callback(65, update)       # press A\n",
    "vis.add_geometry(scene_point_cloud)\n",
    "\n",
    "gt_skeleton = ground_truth_list[0]\n",
    "gt_skeleton_input = o3d.geometry.LineSet(\n",
    "            o3d.utility.Vector3dVector(gt_skeleton),\n",
    "            o3d.utility.Vector2iVector(LIMBS))\n",
    "gt_skeleton_input = gt_skeleton_input.paint_uniform_color([[0], [255], [0]])\n",
    "pr_skeleton = prediction_list[0]\n",
    "pr_skeleton_input = o3d.geometry.LineSet(\n",
    "            o3d.utility.Vector3dVector(pr_skeleton),\n",
    "            o3d.utility.Vector2iVector(LIMBS))\n",
    "pr_skeleton_input = pr_skeleton_input.paint_uniform_color([[255], [0], [0]])\n",
    "vis.add_geometry(gt_skeleton_input)\n",
    "vis.add_geometry(pr_skeleton_input)\n",
    "vis.get_render_option().line_width = 1000\n",
    "vis.run()\n",
    "vis.destroy_window()"
   ]
  },
  {
   "cell_type": "code",
   "execution_count": null,
   "metadata": {},
   "outputs": [],
   "source": []
  }
 ],
 "metadata": {
  "interpreter": {
   "hash": "ef0bfd5a0a44da5bab5ff7f08d2a6c1e67915635db3105f67f5f1f3a2b92236c"
  },
  "kernelspec": {
   "display_name": "Python 3.9.12 ('VH')",
   "language": "python",
   "name": "python3"
  },
  "language_info": {
   "codemirror_mode": {
    "name": "ipython",
    "version": 3
   },
   "file_extension": ".py",
   "mimetype": "text/x-python",
   "name": "python",
   "nbconvert_exporter": "python",
   "pygments_lexer": "ipython3",
   "version": "3.9.12"
  },
  "orig_nbformat": 4
 },
 "nbformat": 4,
 "nbformat_minor": 2
}
